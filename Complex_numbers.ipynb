{
  "cells": [
    {
      "cell_type": "markdown",
      "metadata": {
        "deletable": false,
        "editable": false,
        "nbgrader": {
          "cell_type": "markdown",
          "checksum": "17d1923da829ddbda425198b0b60da9c",
          "grade": false,
          "grade_id": "cell-915e71252a10ea6c",
          "locked": true,
          "schema_version": 3,
          "solution": false
        },
        "id": "_KcT6bTUbpJ8"
      },
      "source": [
        "## Complex Numbers"
      ]
    },
    {
      "cell_type": "code",
      "execution_count": 3,
      "metadata": {
        "deletable": false,
        "editable": false,
        "nbgrader": {
          "cell_type": "code",
          "checksum": "6f8aab5ee405e7c1295662f656c0d80a",
          "grade": false,
          "grade_id": "cell-b83acba8e4664c9c",
          "locked": true,
          "schema_version": 3,
          "solution": false
        },
        "id": "G-oIByndbpJ8"
      },
      "outputs": [],
      "source": [
        "import math\n",
        "\n",
        "class Complex(object):\n",
        "\n",
        "    def __init__(self, r, i):\n",
        "        self.r = r # Real part\n",
        "        self.i = i # Imaginary part\n",
        "\n",
        "    def __add__(self, other):\n",
        "        return Complex(self.r + other.r, self.i + other.i)\n",
        "\n",
        "    def __sub__(self, other):\n",
        "        return Complex(self.r - other.r, self.i - other.i)\n",
        "\n",
        "    def __mul__(self, other):\n",
        "        return Complex((self.r * other.r - self.i * other.i),\n",
        "                       (self.r * other.i + self.i * other.r))\n",
        "\n",
        "    @property\n",
        "    def modulus_square(self):\n",
        "        return self.r * self.r + self.i * self.i\n",
        "\n",
        "    @property\n",
        "    def modulus(self):\n",
        "        return math.sqrt(self.modulus_square)\n",
        "\n",
        "    def inverse(self):\n",
        "        m = self.modulus_square # to cache it\n",
        "        return Complex(self.r / m, - self.i / m)\n",
        "\n",
        "    def __truediv__(self, other):\n",
        "        return self * other.inverse()\n",
        "\n",
        "    def __repr__(self):\n",
        "        \"\"\"This defines how to print a complex number.\"\"\"\n",
        "        if self.i < 0:\n",
        "            return \"{}-{}i\".format(self.r, -self.i)\n",
        "        return \"{}+{}i\".format(self.r, self.i)\n",
        "\n",
        "    def __eq__(self, other):\n",
        "        \"\"\"We even define equality\"\"\"\n",
        "        return self.r == other.r and self.i == other.i\n"
      ]
    },
    {
      "cell_type": "markdown",
      "metadata": {
        "deletable": false,
        "editable": false,
        "nbgrader": {
          "cell_type": "markdown",
          "checksum": "6ffe3a4ba0a6cc593cb3221c4107ba0a",
          "grade": false,
          "grade_id": "cell-3fb46cc8311fbee4",
          "locked": true,
          "schema_version": 3,
          "solution": false
        },
        "id": "kXTnVWfgbpJ-"
      },
      "source": [
        "There are several ideas above:\n",
        "\n",
        "* To implement the mathematical operations `+`, `-`, `*`, `/`, between complex numbers, we implement the methods `__add__`, `__sub__`, `__mul__`, `__truediv__`.  You can find more information in the documentation for the [Python data model](https://docs.python.org/3/reference/datamodel.html).\n",
        "* Similarly, to define equality we define `__eq__`, and to define `<` we define `__lt__`.\n",
        "\n",
        "We will now do something similar to define fractions."
      ]
    },
    {
      "cell_type": "markdown",
      "metadata": {
        "deletable": false,
        "editable": false,
        "nbgrader": {
          "cell_type": "markdown",
          "checksum": "7b046bb8f97379d61cc4ae8351d09b8d",
          "grade": false,
          "grade_id": "cell-fd30bd3dee160a0b",
          "locked": true,
          "schema_version": 3,
          "solution": false
        },
        "id": "jpCYlLOmbpJ_"
      },
      "source": [
        "## Implement Fractions\n",
        "\n",
        "We want to define a class `Fraction` to represent a fraction, with integers as numerator and denominator.  \n",
        "Similarly to the `Complex` class above, you need to implement the methods necessary to define `+`, `-`, `*`, `/` among fractions, as well as equality.\n",
        "\n",
        "Represent fractions in _normal form_, such that:\n",
        "* numerator and denumerator which do not have common factors (common divisors), except for 1 (of course),\n",
        "* the denominator is positive.\n",
        "\n",
        "For example, when you create a fraction via:\n",
        "\n",
        "    r = Fraction(8, 6)\n",
        "\n",
        "and then ask for the denominator,\n",
        "\n",
        "    r.numerator\n",
        "\n",
        "the result will be 4, and\n",
        "\n",
        "    r.denominator\n",
        "\n",
        "will be 3.\n"
      ]
    },
    {
      "cell_type": "code",
      "execution_count": 4,
      "metadata": {
        "deletable": false,
        "nbgrader": {
          "cell_type": "code",
          "checksum": "3738119080a009c61104046ab8274031",
          "grade": false,
          "grade_id": "cell-53a4d9a66f1a4a61",
          "locked": false,
          "schema_version": 3,
          "solution": true
        },
        "id": "KYtf4grobpKB"
      },
      "outputs": [],
      "source": [
        "# Definition of Fraction class\n",
        "\n",
        "def gcd(m, n):\n",
        "    m, n = (m, n) if m > n else (n, m)\n",
        "    m, n = abs(m), abs(n)\n",
        "    return m if n == 0 else gcd(m % n, n)\n",
        "\n",
        "class Fraction(object):\n",
        "\n",
        "    def __init__(self, numerator, denominator):\n",
        "        assert isinstance(numerator, int)\n",
        "        assert isinstance(denominator, int)\n",
        "        assert denominator != 0\n",
        "        greatest = gcd(numerator, denominator)\n",
        "        self.numerator = int(numerator / greatest)\n",
        "        self.denominator = int(denominator / greatest)\n",
        "        if self.denominator < 0:\n",
        "          self.numerator *= -1\n",
        "          self.denominator *= -1\n",
        "\n",
        "    def __repr__(self):\n",
        "        return \"{}/{}\".format(self.numerator, self.denominator)\n",
        "\n",
        "    def __add__(self,other):\n",
        "      numer = (self.numerator * other.denominator) + (other.numerator * self.denominator)\n",
        "      deno = self.denominator * other.denominator\n",
        "      return Fraction(numer,deno)\n",
        "\n",
        "    def __sub__(self,other):\n",
        "      numer = (self.numerator*other.denominator) - (other.numerator*self.denominator)\n",
        "      deno = self.denominator * other.denominator\n",
        "      return Fraction(numer,deno)\n",
        "\n",
        "    def __mul__(self,other):\n",
        "      numer = self.numerator * other.numerator\n",
        "      deno = self.denominator * other.denominator\n",
        "      return Fraction(numer,deno)\n",
        "\n",
        "    def __truediv__(self,other):\n",
        "      numer = self.numerator * other.denominator\n",
        "      deno = self.denominator * other.numerator\n",
        "      return Fraction(numer,deno)\n",
        "\n",
        "    def __eq__(self,other):\n",
        "      return(self.denominator * other.numerator) == (self.numerator * other.denominator)\n",
        "\n",
        "\n",
        "    def __lt__(self,other):\n",
        "      return(self.numerator / self.denominator) < (other.numerator / other.denominator)\n",
        "\n"
      ]
    },
    {
      "cell_type": "code",
      "execution_count": 5,
      "metadata": {
        "deletable": false,
        "editable": false,
        "nbgrader": {
          "cell_type": "code",
          "checksum": "c83d2fdc78add6270bad05ea9c49865e",
          "grade": false,
          "grade_id": "cell-1d98c047bde90fe7",
          "locked": true,
          "schema_version": 3,
          "solution": false
        },
        "colab": {
          "base_uri": "https://localhost:8080/"
        },
        "id": "Ud9Tx9j7bpKC",
        "outputId": "c7b75a87-6eb2-440a-879e-3757507afd0f"
      },
      "outputs": [
        {
          "output_type": "stream",
          "name": "stdout",
          "text": [
            "4/3\n",
            "5/4\n"
          ]
        }
      ],
      "source": [
        "## Testing\n",
        "f = Fraction(8, 6)\n",
        "x = Fraction(25, 20)\n",
        "print(f)\n",
        "print(x)"
      ]
    },
    {
      "cell_type": "markdown",
      "metadata": {
        "deletable": false,
        "editable": false,
        "nbgrader": {
          "cell_type": "markdown",
          "checksum": "b2379b84c153b41dc0940f3658fb40e2",
          "grade": false,
          "grade_id": "cell-d658e70c11681a03",
          "locked": true,
          "schema_version": 3,
          "solution": false
        },
        "id": "Yd-7OF1LbpKD"
      },
      "source": [
        "Here are some tests."
      ]
    },
    {
      "cell_type": "code",
      "execution_count": 6,
      "metadata": {
        "deletable": false,
        "editable": false,
        "nbgrader": {
          "cell_type": "code",
          "checksum": "3245315c3201f214bcecc0dcd5fad0c1",
          "grade": false,
          "grade_id": "cell-318331eb053e2ce",
          "locked": true,
          "schema_version": 3,
          "solution": false
        },
        "id": "R9jn2SSBbpKE",
        "collapsed": true
      },
      "outputs": [],
      "source": [
        "## Tests for creating a fraction.\n",
        "\n",
        "## First, let us check that the fraction is in normal form,\n",
        "## without common factor between numerator and denominator, and with a\n",
        "## positive denominator.\n",
        "\n",
        "f = Fraction(8, 6)\n",
        "assert f.numerator == 4 and f.denominator == 3\n",
        "\n",
        "f = Fraction(-8, 6)\n",
        "assert f.numerator == -4 and f.denominator == 3\n",
        "\n",
        "f = Fraction(8, -6)\n",
        "assert f.numerator == -4 and f.denominator == 3\n",
        "\n",
        "f = Fraction(-8, -6)\n",
        "assert f.numerator == 4 and f.denominator == 3\n",
        "\n",
        "f = Fraction(0, 10)\n",
        "assert f.numerator == 0 and f.denominator == 1\n"
      ]
    },
    {
      "cell_type": "code",
      "execution_count": 7,
      "metadata": {
        "deletable": false,
        "editable": false,
        "nbgrader": {
          "cell_type": "code",
          "checksum": "652708a593933f8755fb6d4e28a285b7",
          "grade": false,
          "grade_id": "cell-e3aa6ab5172963b5",
          "locked": true,
          "schema_version": 3,
          "solution": false
        },
        "id": "0rCv3X-abpKF"
      },
      "outputs": [],
      "source": [
        "## tests for fraction operations.\n",
        "\n",
        "f = Fraction(8, 6) + Fraction(25, 20)\n",
        "assert f.numerator == 31 and f.denominator == 12\n",
        "assert f == Fraction(31, 12)\n",
        "assert f == Fraction(62, 24)\n",
        "\n",
        "assert Fraction(6, 4) + Fraction(-8, 6) == Fraction(6, 4) - Fraction(8, 6)\n",
        "assert not (Fraction(6, 4) + Fraction(-8, 6) == Fraction(6, 5) - Fraction(8, 6))\n"
      ]
    },
    {
      "cell_type": "code",
      "execution_count": 8,
      "metadata": {
        "deletable": false,
        "editable": false,
        "nbgrader": {
          "cell_type": "code",
          "checksum": "2e0d0a7ea161cdd30e6b260bef7395ec",
          "grade": false,
          "grade_id": "cell-f003f4cb663d41a0",
          "locked": true,
          "schema_version": 3,
          "solution": false
        },
        "id": "Qz2dYO0tbpKG"
      },
      "outputs": [],
      "source": [
        "## more tests for fractions operations.\n",
        "\n",
        "assert Fraction(3, 2) * Fraction(2, 3) == Fraction(1, 1)\n",
        "assert Fraction(3, 2) / Fraction(2, 3) == Fraction(9, 4)\n",
        "assert Fraction(3, 2) / Fraction(6, 4) == Fraction(1, 1)\n",
        "assert Fraction(32, 16) == Fraction(2, 1)\n",
        "assert not Fraction(33, 16) == Fraction(4, 2)\n"
      ]
    },
    {
      "cell_type": "code",
      "execution_count": 9,
      "metadata": {
        "deletable": false,
        "editable": false,
        "nbgrader": {
          "cell_type": "code",
          "checksum": "db97b158bb169455134d45fe059b852c",
          "grade": false,
          "grade_id": "cell-59d0661474672859",
          "locked": true,
          "schema_version": 3,
          "solution": false
        },
        "id": "Zm6dbmb3bpKH"
      },
      "outputs": [],
      "source": [
        "## tests for fraction comparison.\n",
        "\n",
        "assert Fraction(5, 7) < Fraction(5, 6)\n",
        "assert Fraction(-3, 2) < Fraction(0, 3)\n"
      ]
    },
    {
      "cell_type": "code",
      "execution_count": 10,
      "metadata": {
        "deletable": false,
        "editable": false,
        "nbgrader": {
          "cell_type": "code",
          "checksum": "405601d5b331ff2aae09f65457e53494",
          "grade": false,
          "grade_id": "cell-97a4befe9cca9d8e",
          "locked": true,
          "schema_version": 3,
          "solution": false
        },
        "id": "lRNBj4ERbpKI"
      },
      "outputs": [],
      "source": [
        "## Let's check you leave things unchanged.\n",
        "\n",
        "a = Fraction(7, 8)\n",
        "b = Fraction(-4, 5)\n",
        "a + b\n",
        "a / b\n",
        "a < b\n",
        "a * b\n",
        "assert a == Fraction(7, 8)\n",
        "assert b == Fraction(-4, 5)\n"
      ]
    },
    {
      "cell_type": "code",
      "execution_count": 11,
      "metadata": {
        "deletable": false,
        "editable": false,
        "nbgrader": {
          "cell_type": "code",
          "checksum": "c9868965f72dd8340e9e9c6643e46472",
          "grade": false,
          "grade_id": "cell-8c0dd78029403338",
          "locked": true,
          "schema_version": 3,
          "solution": false
        },
        "id": "3h1fDPw4bpKJ"
      },
      "outputs": [],
      "source": [
        "## And finally, some random tests.\n",
        "\n",
        "import random\n",
        "for _ in range(1000):\n",
        "    a = Fraction(random.randint(-200, 200), random.randint(1, 100))\n",
        "    b = Fraction(random.randint(-200, 200), random.randint(1, 100))\n",
        "    c = Fraction(random.randint(-200, 200), random.randint(1, 100))\n",
        "    assert Fraction(-1, 1000) < (a - b) * (a - b)\n",
        "    assert (a - b) * (a + b) == a * a - b * b\n",
        "    z = Fraction(0, 1) # Zero, as a fraction.\n",
        "    if not ((a == z) or (b == z) or (c == z)):\n",
        "        assert (a / b) * b == (a / c) * c\n",
        "        assert (a / b) * (a / c) == (a * a) / (b * c)\n",
        "        assert (a / b) / (b / c) == (a * c) / (b * b)\n",
        "        assert (a * a * b * c) / (a * c) == a * b\n"
      ]
    },
    {
      "cell_type": "markdown",
      "metadata": {
        "deletable": false,
        "editable": false,
        "nbgrader": {
          "cell_type": "markdown",
          "checksum": "0c4b43679d2e17381ab331c63690d6c6",
          "grade": false,
          "grade_id": "cell-40375580b0857b97",
          "locked": true,
          "schema_version": 3,
          "solution": false
        },
        "id": "3SyPHX_lbpKJ"
      },
      "source": [
        "## An Int class\n",
        "\n",
        "To define the value 7, you can write `Fraction(14, 2)` or `Fraction(7, 1)` (it's the same), but this is a bit inconvenient.  "
      ]
    },
    {
      "cell_type": "code",
      "execution_count": 12,
      "metadata": {
        "deletable": false,
        "nbgrader": {
          "cell_type": "code",
          "checksum": "b618f2989b81d5378e6a112b35bd7c1e",
          "grade": false,
          "grade_id": "cell-cbd809fe5efe13b2",
          "locked": false,
          "schema_version": 3,
          "solution": true
        },
        "id": "B7YhJXVebpKK"
      },
      "outputs": [],
      "source": [
        "class Int(Fraction):\n",
        "    def __init__(self,num):\n",
        "      assert isinstance(num, int)\n",
        "      self.numerator = num\n",
        "      self.denominator = 1\n",
        "\n",
        "    def __repr__(self):\n",
        "      return '{}'.format(self.numerator)\n"
      ]
    },
    {
      "cell_type": "markdown",
      "metadata": {
        "deletable": false,
        "editable": false,
        "nbgrader": {
          "cell_type": "markdown",
          "checksum": "8ede5ff12d4c9311cd5bf21c158ce84f",
          "grade": false,
          "grade_id": "cell-5099d901bc355731",
          "locked": true,
          "schema_version": 3,
          "solution": false
        },
        "id": "VDOKKYXbbpKL"
      },
      "source": [
        "And now for some tests."
      ]
    },
    {
      "cell_type": "code",
      "execution_count": 13,
      "metadata": {
        "deletable": false,
        "editable": false,
        "nbgrader": {
          "cell_type": "code",
          "checksum": "9efdaa65e484dcce16efa03d2a4bde88",
          "grade": false,
          "grade_id": "cell-6dfd9a9b8308a761",
          "locked": true,
          "schema_version": 3,
          "solution": false
        },
        "id": "s-i8AwFgbpKL"
      },
      "outputs": [],
      "source": [
        "## tests for the int class.\n",
        "\n",
        "assert Int(3) / Int(2) == Fraction(3, 2)\n",
        "assert Int(3) * Int(4) / (Int(5) + Int(2)) == Fraction(12, 7)\n",
        "assert Int(3) * Int(4) / (Int(5) + Int(1)) == Fraction(2, 1)\n"
      ]
    }
  ],
  "metadata": {
    "colab": {
      "provenance": []
    },
    "kernelspec": {
      "display_name": "Python 3",
      "language": "python",
      "name": "python3"
    },
    "language_info": {
      "codemirror_mode": {
        "name": "ipython",
        "version": 3
      },
      "file_extension": ".py",
      "mimetype": "text/x-python",
      "name": "python",
      "nbconvert_exporter": "python",
      "pygments_lexer": "ipython3",
      "version": "3.8.10"
    },
    "test_info": {
      "id": "a1e5ff072b903dd2203722c756f2a73ebd3a102b"
    }
  },
  "nbformat": 4,
  "nbformat_minor": 0
}