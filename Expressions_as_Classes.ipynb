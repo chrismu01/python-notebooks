{
  "cells": [
    {
      "cell_type": "markdown",
      "metadata": {
        "deletable": false,
        "editable": false,
        "nbgrader": {
          "cell_type": "markdown",
          "checksum": "658710bd5637ffe1b9614c65befc20ce",
          "grade": false,
          "grade_id": "cell-9c91c78b07b61353",
          "locked": true,
          "schema_version": 3,
          "solution": false
        },
        "id": "g4fvC2RdM27L"
      },
      "source": [
        "# Expressions as Classes"
      ]
    },
    {
      "cell_type": "markdown",
      "metadata": {
        "deletable": false,
        "editable": false,
        "nbgrader": {
          "cell_type": "markdown",
          "checksum": "8433b9793252dec6f46e5d46d9338e5d",
          "grade": false,
          "grade_id": "cell-d47d2a34c4c8c899",
          "locked": true,
          "schema_version": 3,
          "solution": false
        },
        "id": "k1Ov78hnM27N"
      },
      "source": [
        "We will now describe a more sophisticated representation for an expression, based on a hierarchy of classes.  The class **Expr** is the generic class denoting an expression.  It is an _abstract_ class: only its subclasses will be instantiated.  For every operator, such as `+`, there will be a subclass, such as `Plus`.  Variables will correspond to a special subclass, called `V`.  Numerical constants will be just represented by numbers, and not by subclasses of `Expr`.\n",
        "\n",
        "## The `Expr` class\n",
        "\n",
        "The `Expr` class implements the various [methods used to emulate numerical types](https://docs.python.org/3/reference/datamodel.html?#emulating-numeric-types), such as `__add__`, `__sub__`, and so forth.  In this way, we can build an expression simply by writing\n",
        "\n",
        "    x = V()\n",
        "    x * 3 / 2\n",
        "\n",
        "In the above, `V()` creates a variable (an object of class `V`), and assigns it to `x`.  Then,\n",
        "\n",
        "    x * 3\n",
        "\n",
        "will also be an expression, composed of a multiplication node, with children the variable in `x`, and `3`.\n",
        "The multiplication node is implemented via a subclass `Multiply` of `Expr`.\n",
        "To make this work, we will define the [`__mul__`](https://docs.python.org/3/reference/datamodel.html#object.__mul__) method of `Expr` so that it produces a `Multiply` object, with as children the two operands being multiplied.\n",
        "\n",
        "Similarly,\n",
        "\n",
        "    x * 3 / 2\n",
        "\n",
        "will create an object of class `Divide`, with as left child the `Multiply` node for `x * 3`, and as right child, the number 2.  Thus, the [`__truediv__`](https://docs.python.org/3/reference/datamodel.html#object.__truediv__) method of `Expr` will create a `Divide` node.\n",
        "\n",
        "Expressions can be evaluated.  You can assign a value to variables either when you create them:\n",
        "\n",
        "    x = V(value=2)\n",
        "    e = x * 3 / 2\n",
        "    e.eval()\n",
        "\n",
        "which yields `3`.  Or you can assign a value to a variable later:\n",
        "\n",
        "    x = V()\n",
        "    e = x * 3 / 2\n",
        "\n",
        "    x.assign(3)\n",
        "    e.eval()\n",
        "\n",
        "which again yields `3`.\n",
        "\n",
        "    \n"
      ]
    },
    {
      "cell_type": "markdown",
      "metadata": {
        "deletable": false,
        "editable": false,
        "nbgrader": {
          "cell_type": "markdown",
          "checksum": "bc2f3a8a0cbcc1d2b3a11412d47ba97f",
          "grade": false,
          "grade_id": "cell-e94f5052768f6ba",
          "locked": true,
          "schema_version": 3,
          "solution": false
        },
        "id": "bZryMRTqM27O"
      },
      "source": [
        "## Benefits of class-based representation\n",
        "\n",
        "Compared with the representation of expressions seen in the previous chapter, this class-based representation offers several advantages.  \n",
        "\n",
        "First, we can build expressions in a natural way as shown above, via the over-riding of the usual arithmetic operators.  \n",
        "\n",
        "Second, if we introduce a new operator, all we need is provide the implementation of the new operator: we do not need to modify the shared code that traverses the tree, and add one more case to a long case-analysis.  In other words, the code is far more modular.  This may seem a small point, but if one were to extend the representation of expressions to involve tensors (matrices) and operations on tensors, as is done in the symbolic representation of expressions used in machine-learning, the number of operators could easily grow to a hundred or more, making a modular approach the only reasonable one.\n",
        "\n",
        "Third, it becomes possible to attach methods to the expression objects, and as we will see in the next chapter, this can be very useful to implement machine learning frameworks.  But later about that."
      ]
    },
    {
      "cell_type": "markdown",
      "metadata": {
        "deletable": false,
        "editable": false,
        "nbgrader": {
          "cell_type": "markdown",
          "checksum": "1d2ffddd2428ccf0bde1049b88e79266",
          "grade": false,
          "grade_id": "cell-ec710f0743743ea1",
          "locked": true,
          "schema_version": 3,
          "solution": false
        },
        "id": "nwM7PpywM27P"
      },
      "source": [
        "## Defining an expression class\n",
        "\n",
        "We define an abstract class `Expr`, representing a generic expression.  This generic class has as subclasses the classes that represent the various operators, such as `Plus`, `Minus`, `Multiply`, as well as the variable class `V`.  Here is our basic implementation.  "
      ]
    },
    {
      "cell_type": "code",
      "execution_count": null,
      "metadata": {
        "deletable": false,
        "editable": false,
        "nbgrader": {
          "cell_type": "code",
          "checksum": "c537dc42e88d21db7e204767aca5af41",
          "grade": false,
          "grade_id": "cell-f4736f6d3643bc38",
          "locked": true,
          "schema_version": 3,
          "solution": false
        },
        "id": "HemDKGCAM27R"
      },
      "outputs": [],
      "source": [
        "class Expr(object):\n",
        "    \"\"\"Abstract class representing expressions\"\"\"\n",
        "\n",
        "    name = \"expr\" # Not used, but just to define it.\n",
        "\n",
        "    def __init__(self, *args):\n",
        "        \"\"\"An object is created by passing to the constructor the children\"\"\"\n",
        "        self.children = args\n",
        "        self.value = None # The value of the expression\n",
        "        self.child_values = None # The values of the children; useful to have\n",
        "\n",
        "    def eval(self):\n",
        "        \"\"\"Evaluates the expression.\"\"\"\n",
        "        # First, we evaluate the children.\n",
        "        self.child_values = [c.eval() if isinstance(c, Expr) else c\n",
        "                             for c in self.children]\n",
        "        # Then, we evaluate the expression itself.\n",
        "        self.value = self.op(*self.child_values)\n",
        "        return self.value\n",
        "\n",
        "    def op(self):\n",
        "        \"\"\"This operator must be implemented in subclasses; it should\n",
        "        compute self.value from self.values, thus implementing the\n",
        "        operator at the expression node.\"\"\"\n",
        "        raise NotImplementedError()\n",
        "\n",
        "    def __repr__(self):\n",
        "        \"\"\"Represents the expression in a somewhat readable way.\"\"\"\n",
        "        if len(self.children) == 1:\n",
        "            # Unary operators\n",
        "            return \"({}{})\".format(self.__class__.name, self.children[0])\n",
        "        elif len(self.children) == 2:\n",
        "            return \"({} {} {})\".format(\n",
        "                self.children[0], self.__class__.name, self.children[1]\n",
        "            )\n",
        "        # Catch-all.\n",
        "        return \"{}({})\".format(self.__class__.__name__,\n",
        "                                ', '.join(repr(c) for c in self.children))\n",
        "\n",
        "    # Expression constructors\n",
        "\n",
        "    def __add__(self, other):\n",
        "        return Plus(self, other)\n",
        "\n",
        "    def __radd__(self, other):\n",
        "        return Plus(self, other)\n",
        "\n",
        "    def __sub__(self, other):\n",
        "        return Minus(self, other)\n",
        "\n",
        "    def __rsub__(self, other):\n",
        "        return Minus(other, self)\n",
        "\n",
        "    def __mul__(self, other):\n",
        "        return Multiply(self, other)\n",
        "\n",
        "    def __rmul__(self, other):\n",
        "        return Multiply(other, self)\n",
        "\n",
        "    def __truediv__(self, other):\n",
        "        return Divide(self, other)\n",
        "\n",
        "    def __rtruediv__(self, other):\n",
        "        return Divide(other, self)\n",
        "\n",
        "    def __neg__(self):\n",
        "        return Negative(self)\n"
      ]
    },
    {
      "cell_type": "markdown",
      "metadata": {
        "deletable": false,
        "editable": false,
        "nbgrader": {
          "cell_type": "markdown",
          "checksum": "b3d5fb71c3db43cd5b0b9817c1f6ac83",
          "grade": false,
          "grade_id": "cell-6c2b4a6ee7d6942c",
          "locked": true,
          "schema_version": 3,
          "solution": false
        },
        "id": "JoEKrnOaM27S"
      },
      "source": [
        "Variables are created specifying a name, and an initial value.  If nothing is specified, variables have random initial values.  You can assign a value to a variable using the `assign` method.  The `eval` method of a variable simply returns its value."
      ]
    },
    {
      "cell_type": "code",
      "execution_count": null,
      "metadata": {
        "deletable": false,
        "editable": false,
        "nbgrader": {
          "cell_type": "code",
          "checksum": "3ba28a0ae70110bb996b665e0d2e3c59",
          "grade": false,
          "grade_id": "cell-3881a25d956d7a17",
          "locked": true,
          "schema_version": 3,
          "solution": false
        },
        "id": "FIPhXagEM27U"
      },
      "outputs": [],
      "source": [
        "import random\n",
        "import string\n",
        "\n",
        "class V(Expr):\n",
        "    \"\"\"Variable.\"\"\"\n",
        "\n",
        "    def __init__(self, value=None):\n",
        "        super().__init__()\n",
        "        self.children = []\n",
        "        self.value = random.gauss(0, 1) if value is None else value\n",
        "        self.name = ''.join(\n",
        "            random.choices(string.ascii_letters + string.digits, k=3))\n",
        "\n",
        "    def eval(self):\n",
        "        return self.value\n",
        "\n",
        "    def assign(self, value):\n",
        "        self.value = value\n",
        "\n",
        "    def __repr__(self):\n",
        "        return \"V({}, value={})\".format(self.name, self.value)\n"
      ]
    },
    {
      "cell_type": "markdown",
      "metadata": {
        "deletable": false,
        "editable": false,
        "nbgrader": {
          "cell_type": "markdown",
          "checksum": "8242a4dce9142035606a88a8c606dc6c",
          "grade": false,
          "grade_id": "cell-657319c7a719507c",
          "locked": true,
          "schema_version": 3,
          "solution": false
        },
        "id": "_ASwkCS0M27V"
      },
      "source": [
        "Here are the constructors for the other operators; for them, we just need to provide an implementation for `op`, since all the rest is inherited from `Expr`.  We actually also define a name, as a class attribute, that we use in the representation method."
      ]
    },
    {
      "cell_type": "code",
      "execution_count": null,
      "metadata": {
        "deletable": false,
        "editable": false,
        "nbgrader": {
          "cell_type": "code",
          "checksum": "a8bb89d19bfe44dfdfab0eb72e4f3363",
          "grade": false,
          "grade_id": "cell-e254ec8293698e12",
          "locked": true,
          "schema_version": 3,
          "solution": false
        },
        "id": "DU7vsBV-M27V"
      },
      "outputs": [],
      "source": [
        "class Plus(Expr):\n",
        "    name = \"+\"\n",
        "    def op(self, x, y):\n",
        "        return x + y\n",
        "\n",
        "class Minus(Expr):\n",
        "    name = \"-\"\n",
        "    def op(self, x, y):\n",
        "        return x - y\n",
        "\n",
        "class Multiply(Expr):\n",
        "    name = \"*\"\n",
        "    def op(self, x, y):\n",
        "        return x * y\n",
        "\n",
        "class Divide(Expr):\n",
        "    name = \"/\"\n",
        "    def op(self, x, y):\n",
        "        return x / y\n",
        "\n",
        "class Negative(Expr):\n",
        "    name = \"-\"\n",
        "    def op(self, x):\n",
        "        return -x\n"
      ]
    },
    {
      "cell_type": "markdown",
      "metadata": {
        "deletable": false,
        "editable": false,
        "nbgrader": {
          "cell_type": "markdown",
          "checksum": "ff4cfe63640c574f974a1f3e9af4faa0",
          "grade": false,
          "grade_id": "cell-9ea47f6bb98bb9f9",
          "locked": true,
          "schema_version": 3,
          "solution": false
        },
        "id": "z7hAEggKM27W"
      },
      "source": [
        "We can build and evaluate expressions quite simply."
      ]
    },
    {
      "cell_type": "code",
      "execution_count": null,
      "metadata": {
        "deletable": false,
        "editable": false,
        "nbgrader": {
          "cell_type": "code",
          "checksum": "b0db4c6f46b5931f939aadae3f737484",
          "grade": false,
          "grade_id": "cell-52e760975b75c7a3",
          "locked": true,
          "schema_version": 3,
          "solution": false
        },
        "colab": {
          "base_uri": "https://localhost:8080/"
        },
        "id": "cMFlEv2ZM27W",
        "outputId": "c81b10a4-4051-420a-ea5c-05023d078803"
      },
      "outputs": [
        {
          "output_type": "stream",
          "name": "stdout",
          "text": [
            "(V(POc, value=2) + 3)\n",
            "5\n"
          ]
        }
      ],
      "source": [
        "e = V(2) + 3\n",
        "print(e)\n",
        "print(e.eval())\n"
      ]
    },
    {
      "cell_type": "code",
      "execution_count": null,
      "metadata": {
        "deletable": false,
        "editable": false,
        "nbgrader": {
          "cell_type": "code",
          "checksum": "0382dd7553743ce563ffb0828e702838",
          "grade": false,
          "grade_id": "cell-8d318bfcc6c0301f",
          "locked": true,
          "schema_version": 3,
          "solution": false
        },
        "colab": {
          "base_uri": "https://localhost:8080/"
        },
        "id": "c-TWy1vnM27W",
        "outputId": "bb9eda20-d868-45cf-8cd7-62d84d06c90e"
      },
      "outputs": [
        {
          "output_type": "stream",
          "name": "stdout",
          "text": [
            "((V(TPH, value=-0.1898044720388242) + V(VcY, value=2)) * (V(7rk, value=1) + 2))\n",
            "5.430586583883528\n"
          ]
        }
      ],
      "source": [
        "e = (V() + V(2)) * (2 + V(1))\n",
        "print(e)\n",
        "print(e.eval())\n"
      ]
    },
    {
      "cell_type": "markdown",
      "metadata": {
        "deletable": false,
        "editable": false,
        "nbgrader": {
          "cell_type": "markdown",
          "checksum": "511f07c9ad260e63056a675534388ad2",
          "grade": false,
          "grade_id": "cell-e830c7e0e5ae3199",
          "locked": true,
          "schema_version": 3,
          "solution": false
        },
        "id": "KjMgyGEGM27X"
      },
      "source": [
        "If we want to be able to assign values to variables, or refer to them in our code later, we need to assign our variable objects to Python variables:"
      ]
    },
    {
      "cell_type": "code",
      "execution_count": null,
      "metadata": {
        "deletable": false,
        "editable": false,
        "nbgrader": {
          "cell_type": "code",
          "checksum": "bc41416189d3221cddb504fe92db0453",
          "grade": false,
          "grade_id": "cell-69b5e9328ff457e6",
          "locked": true,
          "schema_version": 3,
          "solution": false
        },
        "colab": {
          "base_uri": "https://localhost:8080/"
        },
        "id": "B5C2PPrIM27X",
        "outputId": "f13b61a0-3d57-4367-a623-bdd3dc55f5be"
      },
      "outputs": [
        {
          "output_type": "stream",
          "name": "stdout",
          "text": [
            "0.29129907074976624\n",
            "5\n"
          ]
        }
      ],
      "source": [
        "x = V()\n",
        "y = V()\n",
        "e = x + y\n",
        "\n",
        "print(e.eval()) # This uses the initial random values.\n",
        "\n",
        "x.assign(2)\n",
        "y.assign(3)\n",
        "print(e.eval())\n"
      ]
    },
    {
      "cell_type": "markdown",
      "metadata": {
        "deletable": false,
        "editable": false,
        "nbgrader": {
          "cell_type": "markdown",
          "checksum": "2afc893e5ed8613d284f033bae64dcc3",
          "grade": false,
          "grade_id": "cell-1eecc109503e6a84",
          "locked": true,
          "schema_version": 3,
          "solution": false
        },
        "id": "PIOjpqXTM27Y"
      },
      "source": [
        "### Defining Expression Equality"
      ]
    },
    {
      "cell_type": "markdown",
      "metadata": {
        "deletable": false,
        "editable": false,
        "nbgrader": {
          "cell_type": "markdown",
          "checksum": "54b99f7bc3309cea8f4a16752e35b472",
          "grade": false,
          "grade_id": "cell-bf9cc20abf841b59",
          "locked": true,
          "schema_version": 3,
          "solution": false
        },
        "id": "ZZHdbp8eM27Y"
      },
      "source": [
        "If we test equality between expressions, we are in for a surprise."
      ]
    },
    {
      "cell_type": "code",
      "execution_count": null,
      "metadata": {
        "deletable": false,
        "editable": false,
        "nbgrader": {
          "cell_type": "code",
          "checksum": "3ef31b243297ff6ccf2910d81a254407",
          "grade": false,
          "grade_id": "cell-3c675a2c1e311686",
          "locked": true,
          "schema_version": 3,
          "solution": false
        },
        "colab": {
          "base_uri": "https://localhost:8080/"
        },
        "id": "Ff615z0iM27Y",
        "outputId": "2e4c8615-3492-4f3a-96fa-60e0637a39b4"
      },
      "outputs": [
        {
          "output_type": "execute_result",
          "data": {
            "text/plain": [
              "False"
            ]
          },
          "metadata": {},
          "execution_count": 194
        }
      ],
      "source": [
        "x = V()\n",
        "e1 = x + 4\n",
        "e2 = x + 4\n",
        "e1 == e2\n"
      ]
    },
    {
      "cell_type": "markdown",
      "metadata": {
        "deletable": false,
        "editable": false,
        "nbgrader": {
          "cell_type": "markdown",
          "checksum": "28f25b8f2181ae717303502e5fbaea25",
          "grade": false,
          "grade_id": "cell-68968d465055c88",
          "locked": true,
          "schema_version": 3,
          "solution": false
        },
        "id": "sHVXIiLhM27Z"
      },
      "source": [
        "Why is the result False?\n",
        "\n",
        "Python knows how to compare objects that belong to its own types.  So you can do comparisons between strings, numbers, tuples, and more, and it all works as expected.  This is why we could check equality of expressions represented as trees: those expression trees are composed entirely of standard Python types, namely, strings, numbers, and tuples.\n",
        "\n",
        "However, `Expr`, `V`, etc, are classes we defined, and Python has no idea of what it means for objects of user-defined classes to be equal.  \n",
        "In this case, Python defaults to considering equal two objects if they are the _same_ object.\n",
        "The two expressions _e1_ and _e2_ above are not the same object: they are two distinct objects, which just happen to represent the same expression.\n",
        "\n",
        "If we want to have a notion of expression equality that represents our idea that \"two expression objects are equal if they represent the same expression\", we need to define equality ourselves.\n",
        "This can be easily done, by defining an _ _ eq _ _ method.  This method [has the form](https://docs.python.org/3/reference/datamodel.html#object.__eq__):\n",
        "\n",
        "    def __eq__(self, other):\n",
        "        ...\n",
        "        return <True/False>\n",
        "        \n",
        "Here, self is the object on which the method is called, and other is another object -- any other object.  Our job is to define when the object self is equal to the object other.  This can be easily done; using again our way of adding methods to existing classes, we write:"
      ]
    },
    {
      "cell_type": "code",
      "execution_count": null,
      "metadata": {
        "deletable": false,
        "editable": false,
        "nbgrader": {
          "cell_type": "code",
          "checksum": "72abceafbd27fba74d0c9f15cd9cb6b5",
          "grade": false,
          "grade_id": "cell-907a39ca005b387b",
          "locked": true,
          "schema_version": 3,
          "solution": false
        },
        "id": "htvPwhhVM27Z"
      },
      "outputs": [],
      "source": [
        "def expr_eq(self, other):\n",
        "    if isinstance(other, Expr):\n",
        "        # The operators have to be the same\n",
        "        if self.__class__ != other.__class__:\n",
        "            return False\n",
        "        # and their corresponding children need to be equal\n",
        "        if len(self.children) != len(other.children):\n",
        "            return False\n",
        "        for c1, c2 in zip(self.children, other.children):\n",
        "            if c1 != c2: return False\n",
        "        return True\n",
        "    else:\n",
        "        return False\n",
        "\n",
        "Expr.__eq__ = expr_eq\n"
      ]
    },
    {
      "cell_type": "markdown",
      "metadata": {
        "deletable": false,
        "editable": false,
        "nbgrader": {
          "cell_type": "markdown",
          "checksum": "106a85e1c7498a2c0c82563c8b8187e7",
          "grade": false,
          "grade_id": "cell-a5c57b454cdcd3f1",
          "locked": true,
          "schema_version": 3,
          "solution": false
        },
        "id": "MremiJIBM27a"
      },
      "source": [
        "If we did not define equality for variables, two variables would be considered equal according to `Expr.__eq__`, since `V` is a subclass of `Expr`.  This would yield non-intended consequences (all variables would be considered equal).\n",
        "\n",
        "Thus, we define equality for variables to be the basic equality for objects: two variables are equal iff they are the same object.  In the definition below, `object.__eq__` is this primitive notion of equality, defined over the class `object` of Python, which is the base class for all classes.\n"
      ]
    },
    {
      "cell_type": "code",
      "execution_count": null,
      "metadata": {
        "deletable": false,
        "editable": false,
        "nbgrader": {
          "cell_type": "code",
          "checksum": "a445e0c8d0f75c265182e7f1cdd4287c",
          "grade": false,
          "grade_id": "cell-4d50cd7cc9a23770",
          "locked": true,
          "schema_version": 3,
          "solution": false
        },
        "id": "jm7_XZ-3M27a"
      },
      "outputs": [],
      "source": [
        "V.__eq__  = object.__eq__\n"
      ]
    },
    {
      "cell_type": "code",
      "execution_count": null,
      "metadata": {
        "deletable": false,
        "editable": false,
        "nbgrader": {
          "cell_type": "code",
          "checksum": "3ab501ee4e84b647fc75c9c4a9d63dcd",
          "grade": false,
          "grade_id": "cell-41f1869efd599ab2",
          "locked": true,
          "schema_version": 3,
          "solution": false
        },
        "colab": {
          "base_uri": "https://localhost:8080/"
        },
        "id": "-hm94KQyM27a",
        "outputId": "87c464b5-a1e3-49a4-e57a-f18206d4191c"
      },
      "outputs": [
        {
          "output_type": "stream",
          "name": "stdout",
          "text": [
            "False\n",
            "True\n"
          ]
        }
      ],
      "source": [
        "x = V()\n",
        "y = V()\n",
        "z = x\n",
        "print(x == y)\n",
        "print(x == z)\n"
      ]
    },
    {
      "cell_type": "markdown",
      "metadata": {
        "deletable": false,
        "editable": false,
        "nbgrader": {
          "cell_type": "markdown",
          "checksum": "c9ad923cc8964bdd24448b341877ef5e",
          "grade": false,
          "grade_id": "cell-2b9a7b2ac1bd6793",
          "locked": true,
          "schema_version": 3,
          "solution": false
        },
        "id": "_ozm8yydM27b"
      },
      "source": [
        "Once expression equality is thus defined, we get the expected result when we compare expressions:"
      ]
    },
    {
      "cell_type": "code",
      "execution_count": null,
      "metadata": {
        "deletable": false,
        "editable": false,
        "nbgrader": {
          "cell_type": "code",
          "checksum": "c688c0fb1a8bcadf99e9258c5388d494",
          "grade": false,
          "grade_id": "cell-116ceb06c2f45edd",
          "locked": true,
          "schema_version": 3,
          "solution": false
        },
        "colab": {
          "base_uri": "https://localhost:8080/"
        },
        "id": "ubGgTOA4M27b",
        "outputId": "e3cbb0a3-fe39-4cdd-ffec-06d4a3b909b5"
      },
      "outputs": [
        {
          "output_type": "execute_result",
          "data": {
            "text/plain": [
              "True"
            ]
          },
          "metadata": {},
          "execution_count": 198
        }
      ],
      "source": [
        "x = V()\n",
        "e1 = x + 4\n",
        "e2 = x + 4\n",
        "e1 == e2\n"
      ]
    },
    {
      "cell_type": "markdown",
      "metadata": {
        "deletable": false,
        "editable": false,
        "nbgrader": {
          "cell_type": "markdown",
          "checksum": "5b91b3c703e5303c98bb45f80cf5c2e7",
          "grade": false,
          "grade_id": "cell-15b43d7480a225d6",
          "locked": true,
          "schema_version": 3,
          "solution": false
        },
        "id": "1bRYMMCFM27b"
      },
      "source": [
        "Having to define equality \"by hand\" is very pedantic, but it does give us the flexibility of defining precisely what it means for two expressions to be equal."
      ]
    },
    {
      "cell_type": "markdown",
      "metadata": {
        "deletable": false,
        "editable": false,
        "nbgrader": {
          "cell_type": "markdown",
          "checksum": "856047d65ca575bced448bd1c37deef3",
          "grade": false,
          "grade_id": "cell-aab58658982686df",
          "locked": true,
          "schema_version": 3,
          "solution": false
        },
        "id": "cyde7BvTM27c"
      },
      "source": [
        "## Variable Occurrence\n",
        "\n",
        "Now that we have expressions, let us play with them.  First, as a warm-up exercise, let us write an `occurs` method for expressions, which checks if a given variable occurs in the expression.  First we define it for a variable: of course, a variable occurs in itself only if the variable is the same as the one whose occurrence we are checking."
      ]
    },
    {
      "cell_type": "markdown",
      "metadata": {
        "deletable": false,
        "editable": false,
        "nbgrader": {
          "cell_type": "markdown",
          "checksum": "9866363afb749059f22e32be0f7713ed",
          "grade": false,
          "grade_id": "cell-c4e41efab1ede73e",
          "locked": true,
          "schema_version": 3,
          "solution": false
        },
        "id": "ON_kj9NXM27c"
      },
      "source": [
        "## Question 1: Variable occurrence in variables"
      ]
    },
    {
      "cell_type": "code",
      "execution_count": null,
      "metadata": {
        "deletable": false,
        "nbgrader": {
          "cell_type": "code",
          "checksum": "93f4f2cb7dfed43b58058525675f63d3",
          "grade": false,
          "grade_id": "cell-62559f2f854a1397",
          "locked": false,
          "schema_version": 3,
          "solution": true
        },
        "id": "BbKZGVqtM27c"
      },
      "outputs": [],
      "source": [
        "### Variable occurrence in a variable\n",
        "\n",
        "def v_contains(self, var):\n",
        "    \"\"\"Returns True of var is the same as self, and False otherwise.\"\"\"\n",
        "    return self == var\n",
        "\n",
        "\n",
        "V.__contains__ = v_contains\n"
      ]
    },
    {
      "cell_type": "code",
      "execution_count": null,
      "metadata": {
        "deletable": false,
        "editable": false,
        "nbgrader": {
          "cell_type": "code",
          "checksum": "86b3726fc421c2dfd1d8fc52ae3aa428",
          "grade": true,
          "grade_id": "cell-9c0bf54cd3d7e72e",
          "locked": true,
          "points": 10,
          "schema_version": 3,
          "solution": false
        },
        "id": "YKNLGd5uM27c"
      },
      "outputs": [],
      "source": [
        "### Tests for variable occurrence\n",
        "\n",
        "x = V()\n",
        "y = V()\n",
        "assert x in x\n",
        "assert not x in y\n",
        "z = x\n",
        "assert x in z\n",
        "\n"
      ]
    },
    {
      "cell_type": "markdown",
      "metadata": {
        "deletable": false,
        "editable": false,
        "nbgrader": {
          "cell_type": "markdown",
          "checksum": "a421da34d6e621c7090b7bd66f83178a",
          "grade": false,
          "grade_id": "cell-5d10dda76316e1c2",
          "locked": true,
          "schema_version": 3,
          "solution": false
        },
        "id": "e3H2FeOYM27d"
      },
      "source": [
        "## Occurrence of a variable in an expression\n",
        "\n",
        "Once we define occurrence of a variable in a variable, we can define occurrence in a variable in a general expression. Of course, a variable appears in an expression if it appears in some of its children.  "
      ]
    },
    {
      "cell_type": "code",
      "execution_count": null,
      "metadata": {
        "deletable": false,
        "nbgrader": {
          "cell_type": "code",
          "checksum": "99b765a5a4d66f4265642149a5a788bb",
          "grade": false,
          "grade_id": "cell-37ccac46505ab82",
          "locked": false,
          "schema_version": 3,
          "solution": true
        },
        "id": "LBABKckTM27d"
      },
      "outputs": [],
      "source": [
        "### Occurrence of a variable in an expression\n",
        "\n",
        "def expr_contains(self, var):\n",
        "    return any([var in c for c in self.children if isinstance(c, Expr)])\n",
        "\n",
        "Expr.__contains__ = expr_contains\n"
      ]
    },
    {
      "cell_type": "code",
      "execution_count": null,
      "metadata": {
        "deletable": false,
        "editable": false,
        "nbgrader": {
          "cell_type": "code",
          "checksum": "7e34e8816ff1def182eadc5e6ecb0c5d",
          "grade": false,
          "grade_id": "cell-49068706b706a3bc",
          "locked": true,
          "schema_version": 3,
          "solution": false
        },
        "colab": {
          "base_uri": "https://localhost:8080/"
        },
        "id": "KIdm7Y97M27d",
        "outputId": "115937bb-ba42-4ee9-cb25-9ed85fc25540"
      },
      "outputs": [
        {
          "output_type": "stream",
          "name": "stdout",
          "text": [
            "True\n",
            "True\n",
            "False\n"
          ]
        }
      ],
      "source": [
        "x = V()\n",
        "y = V()\n",
        "z = V()\n",
        "e = x + (2 * y)\n",
        "\n",
        "print(x in e) #true\n",
        "print(y in e) #true\n",
        "print(z in e) #false\n"
      ]
    },
    {
      "cell_type": "code",
      "execution_count": null,
      "metadata": {
        "deletable": false,
        "editable": false,
        "nbgrader": {
          "cell_type": "code",
          "checksum": "e0c495b5bc08cd023812b74a1855c2a7",
          "grade": true,
          "grade_id": "cell-ae99714b2a72486",
          "locked": true,
          "points": 5,
          "schema_version": 3,
          "solution": false
        },
        "id": "ZjPd-4mhM27d"
      },
      "outputs": [],
      "source": [
        "## Tests for occurrence\n",
        "\n",
        "x = V()\n",
        "y = V()\n",
        "z = V()\n",
        "e = x + (2 * y)\n",
        "\n",
        "assert x in e\n",
        "assert y in e\n",
        "assert z not in e\n",
        "\n"
      ]
    },
    {
      "cell_type": "markdown",
      "metadata": {
        "deletable": false,
        "editable": false,
        "nbgrader": {
          "cell_type": "markdown",
          "checksum": "a0dce0613eb63afd93a10bfe158e4829",
          "grade": false,
          "grade_id": "cell-3c2f14e126a04e2c",
          "locked": true,
          "schema_version": 3,
          "solution": false
        },
        "id": "ZIf2YmSkM27e"
      },
      "source": [
        "## Variable Substitution\n",
        "\n",
        "Another fun thing we can do is substitute a variable with an expression.  Suppose you define an expression:\n",
        "\n",
        "    x = V()\n",
        "    y = V()\n",
        "    e = (x + 1) * (y + 1)\n",
        "\n",
        "Suppose you also have another expression:\n",
        "\n",
        "    z = V()\n",
        "    f = y + z\n",
        "\n",
        "Then, you can replace all occurrences of variable `x` in `e` with expression `f`:\n",
        "\n",
        "    new_e = e.replace(x, f)\n",
        "\n",
        "and `new_e` should be then equal to:\n",
        "\n",
        "    ((x + z) + 1) * (y + 1)\n",
        "\n",
        "Let us implement variable substitution.  Let us begin by defining variable substitution for variables."
      ]
    },
    {
      "cell_type": "markdown",
      "metadata": {
        "deletable": false,
        "editable": false,
        "nbgrader": {
          "cell_type": "markdown",
          "checksum": "66c03628fde435cb847b83b6cf7f4c43",
          "grade": false,
          "grade_id": "cell-9fb69eb7a50a6e61",
          "locked": true,
          "schema_version": 3,
          "solution": false
        },
        "id": "K-NldIfOM27e"
      },
      "source": [
        "## Variable replacement for variables"
      ]
    },
    {
      "cell_type": "code",
      "execution_count": null,
      "metadata": {
        "deletable": false,
        "nbgrader": {
          "cell_type": "code",
          "checksum": "59a06436fb3af5234bdf4b5739d84b33",
          "grade": false,
          "grade_id": "cell-d4542e5dbdaad79f",
          "locked": false,
          "schema_version": 3,
          "solution": true
        },
        "id": "544JCrXUM27e"
      },
      "outputs": [],
      "source": [
        "### Variable replacement in variables\n",
        "\n",
        "def v_replace(self, x, e):\n",
        "    \"\"\"If self is x, replaces all occurrences of x with e.\"\"\"\n",
        "    if self==x:\n",
        "      self=e\n",
        "    return self\n",
        "\n",
        "\n",
        "\n",
        "V.replace = v_replace\n"
      ]
    },
    {
      "cell_type": "code",
      "execution_count": null,
      "metadata": {
        "deletable": false,
        "editable": false,
        "nbgrader": {
          "cell_type": "code",
          "checksum": "9f251b8d8a8a06566a17ca9a07114c06",
          "grade": true,
          "grade_id": "cell-43fcedb4038f97de",
          "locked": true,
          "points": 10,
          "schema_version": 3,
          "solution": false
        },
        "id": "puk-g8e6M27f"
      },
      "outputs": [],
      "source": [
        "## Tests for variable replacement in variables.\n",
        "x = V()\n",
        "y = V()\n",
        "z = V()\n",
        "assert x == x.replace(x, x)\n",
        "assert y == x.replace(x, y)\n",
        "assert x == x.replace(y, z)\n",
        "assert x.replace(x, y).replace(y, z) == z\n",
        "\n"
      ]
    },
    {
      "cell_type": "code",
      "execution_count": null,
      "metadata": {
        "deletable": false,
        "editable": false,
        "nbgrader": {
          "cell_type": "code",
          "checksum": "77a9ba1694c9740911fdf90509d24851",
          "grade": true,
          "grade_id": "cell-c4a2480efe23483a",
          "locked": true,
          "points": 10,
          "schema_version": 3,
          "solution": false
        },
        "id": "DNAjNMDfM27f"
      },
      "outputs": [],
      "source": [
        "## Other tests for variable replacement.\n",
        "\n",
        "x = V()\n",
        "y = V()\n",
        "\n",
        "e = x.replace(x, y + 3 * x)\n",
        "\n",
        "x.assign(2)\n",
        "y.assign(3)\n",
        "assert e.eval() == 9\n",
        "\n"
      ]
    },
    {
      "cell_type": "markdown",
      "metadata": {
        "deletable": false,
        "editable": false,
        "nbgrader": {
          "cell_type": "markdown",
          "checksum": "a84238d9c060bf4eb4d10fb0132bf8f5",
          "grade": false,
          "grade_id": "cell-385f77c49433d118",
          "locked": true,
          "schema_version": 3,
          "solution": false
        },
        "id": "1mHydPuPM27g"
      },
      "source": [
        "We now define variable replacement for expressions. Consider a simple expression:"
      ]
    },
    {
      "cell_type": "code",
      "execution_count": null,
      "metadata": {
        "deletable": false,
        "editable": false,
        "nbgrader": {
          "cell_type": "code",
          "checksum": "7715b3af8cc4f4e566be201fe36c4b73",
          "grade": false,
          "grade_id": "cell-6778ce4e9edbc181",
          "locked": true,
          "schema_version": 3,
          "solution": false
        },
        "id": "prVklgE7M27g"
      },
      "outputs": [],
      "source": [
        "x = V()\n",
        "y = V()\n",
        "z = V()\n",
        "e = x + y\n"
      ]
    },
    {
      "cell_type": "markdown",
      "metadata": {
        "deletable": false,
        "editable": false,
        "nbgrader": {
          "cell_type": "markdown",
          "checksum": "f027104e4d5b02c3e41546a5b7e65da2",
          "grade": false,
          "grade_id": "cell-58d2d25d2b13aa20",
          "locked": true,
          "schema_version": 3,
          "solution": false
        },
        "id": "V4toifiUM27g"
      },
      "source": [
        "Suppose we want to return `e.replace(x, z)`.  The idea is:\n",
        "\n",
        "* carry out the replacement for each child (via a recursive call, as usual),  \n",
        "* then return an expression built out of the replacements.\n",
        "\n",
        "For instance, consider `e = x + y`.  To compute\n",
        "\n",
        "    e.replace(x, z)\n",
        "\n",
        "we first replace `x` with `z`, and then we return `Plus(z, y)`.\n",
        "\n",
        "The problem is exactly in the last sentence.  A `Plus` object, after carrying out the replacement in the children, should return a `Plus` object with the new children.  Similarly, a `Minus` object should return a `Minus` object, a `Multiply` object should return a `Multiply` object, and so forth.  If we implement this in the straightforward way, we need to add a `replace` method to all of these classes, so that they can return an object of the appropriate type.   This is a lot of work.\n",
        "\n",
        "Is there a better way?  It turns out, yes.  In an object,\n",
        "\n",
        "    self.__class__\n",
        "\n",
        "is the class of the object.  So if you want to return a new object of the same class, created say with arguments `x` and `y`, all you need to do is:\n",
        "\n",
        "    self.__class__(x, y)\n",
        "\n",
        "In this way, if you are in a `Plus` object, `self.__class__` is `Plus`, and everything works.\n",
        "Using this idea, we, that is, you, can implement the replacement method directly for the `Expr` class.\n",
        "\n"
      ]
    },
    {
      "cell_type": "markdown",
      "metadata": {
        "deletable": false,
        "editable": false,
        "nbgrader": {
          "cell_type": "markdown",
          "checksum": "9ef0f66f8743e7d2379d140a6efd8bec",
          "grade": false,
          "grade_id": "cell-fe596d9dbd4753b",
          "locked": true,
          "schema_version": 3,
          "solution": false
        },
        "id": "sa4q4cA_M27g"
      },
      "source": [
        "## Replacement for expressions"
      ]
    },
    {
      "cell_type": "code",
      "execution_count": null,
      "metadata": {
        "deletable": false,
        "nbgrader": {
          "cell_type": "code",
          "checksum": "c6952c56e6ad06e041e74702f508db24",
          "grade": false,
          "grade_id": "cell-bd9f08b659665756",
          "locked": false,
          "schema_version": 3,
          "solution": true
        },
        "id": "vR43c4LuM27h"
      },
      "outputs": [],
      "source": [
        "### Replacement for expressions\n",
        "\n",
        "def expr_replace(self, x, e):\n",
        "    l , r = self.children\n",
        "\n",
        "    if isinstance(l, Expr):\n",
        "      x.replace(x,e)\n",
        "      l = l.replace(x,e)\n",
        "\n",
        "    if isinstance(r, Expr):\n",
        "      x.replace(x,e)\n",
        "      r = r.replace(x,e)\n",
        "\n",
        "\n",
        "\n",
        "    return self.__class__(l,r)\n",
        "\n",
        "Expr.replace = expr_replace\n"
      ]
    },
    {
      "cell_type": "code",
      "execution_count": null,
      "metadata": {
        "deletable": false,
        "editable": false,
        "nbgrader": {
          "cell_type": "code",
          "checksum": "2fe6d994a3dec5890c8e04ac2730d3ac",
          "grade": true,
          "grade_id": "cell-39c3cad98d24408",
          "locked": true,
          "points": 10,
          "schema_version": 3,
          "solution": false
        },
        "id": "Vi41vBaXM27h"
      },
      "outputs": [],
      "source": [
        "### Tests for expression replacement.\n",
        "\n",
        "x = V()\n",
        "y = V()\n",
        "z = V()\n",
        "\n",
        "e = (1 + x) * (1 + y)\n",
        "f = e.replace(x, x + z)\n",
        "assert f == (1 + (x + z)) * (1 + y)\n",
        "\n",
        "x.assign(1)\n",
        "y.assign(2)\n",
        "z.assign(3)\n",
        "assert e.eval() == 6\n",
        "assert f.eval() == 15\n",
        "\n",
        "e = (x + y) / (x - y)\n",
        "f = e.replace(x, 2 * x).replace(y, 3 * y)\n",
        "assert f.eval() == (2 + 6) / (2 - 6)\n",
        "\n"
      ]
    },
    {
      "cell_type": "markdown",
      "metadata": {
        "deletable": false,
        "editable": false,
        "nbgrader": {
          "cell_type": "markdown",
          "checksum": "345b448bed94ef361eafc4d672d92c65",
          "grade": false,
          "grade_id": "cell-47da8e1c85228e75",
          "locked": true,
          "schema_version": 3,
          "solution": false
        },
        "id": "d6n9vLGdM27h"
      },
      "source": [
        "\n",
        "## Expression Derivation\n",
        "\n",
        "We will develop here a method `derivate` such that, for an expression `e`, the method call `e.derivate(x)` returns the derivative of the expression with respect to the variable `x`.  As in the previous chapter, we use the following derivation formulas:\n",
        "\n",
        "* For a constant $c$, $\\partial c / \\partial x = 0$.\n",
        "* For a variable $y \\neq x$,  $\\partial y / \\partial x = 0$.\n",
        "* $\\partial x / \\partial x = 1$.\n",
        "\n",
        "For operators, we can use:\n",
        "\n",
        "$$\n",
        " \\begin{align*}\n",
        " \\frac{\\partial}{\\partial x}(f \\pm g) & = \\frac{\\partial f}{\\partial x} \\pm \\frac  {\\partial g}{\\partial x}, \\\\[1ex]\n",
        " \\frac{\\partial}{\\partial x}(f \\cdot g) & = \\frac{\\partial f}{\\partial x} \\cdot g + f \\cdot \\frac{\\partial g}{\\partial x}, \\\\[1ex]\n",
        " \\frac{\\partial}{\\partial x}\\left(\\frac{f}{g}\\right) & = \\frac{\\frac\n",
        "  {\\partial f}{\\partial x} \\cdot g - f \\cdot \\frac{\\partial g}{\\partial x}}{g^2}.\n",
        "\\end{align*}\n",
        "$$\n",
        "\n",
        "Let us begin with implementing derivation for variables.\n"
      ]
    },
    {
      "cell_type": "markdown",
      "metadata": {
        "deletable": false,
        "editable": false,
        "nbgrader": {
          "cell_type": "markdown",
          "checksum": "56438a5182cd5e669d143b743f6a1a95",
          "grade": false,
          "grade_id": "cell-30c5969f3f4dc093",
          "locked": true,
          "schema_version": 3,
          "solution": false
        },
        "id": "neDymg4dM27i"
      },
      "source": [
        "## Derivation for a variable"
      ]
    },
    {
      "cell_type": "code",
      "execution_count": null,
      "metadata": {
        "deletable": false,
        "nbgrader": {
          "cell_type": "code",
          "checksum": "9274be3ccea9a80fe06bad835571fdc9",
          "grade": false,
          "grade_id": "cell-8692d59283b174ce",
          "locked": false,
          "schema_version": 3,
          "solution": true
        },
        "id": "k-vLjfdhM27i"
      },
      "outputs": [],
      "source": [
        "### Derivation of variables\n",
        "\n",
        "def v_derivate(self, x):\n",
        "  return 1 if self == x else 0\n",
        "\n",
        "V.derivate = v_derivate\n"
      ]
    },
    {
      "cell_type": "code",
      "execution_count": null,
      "metadata": {
        "deletable": false,
        "editable": false,
        "nbgrader": {
          "cell_type": "code",
          "checksum": "d06f6939419856164ac368ac2e43261c",
          "grade": true,
          "grade_id": "cell-140288029edfe51a",
          "locked": true,
          "points": 10,
          "schema_version": 3,
          "solution": false
        },
        "id": "_vmiPGhiM27i"
      },
      "outputs": [],
      "source": [
        "## Tests for variable derivation\n",
        "\n",
        "x = V()\n",
        "y = V()\n",
        "assert x.derivate(x) == 1\n",
        "assert x.derivate(y) == 0\n",
        "\n"
      ]
    },
    {
      "cell_type": "markdown",
      "metadata": {
        "deletable": false,
        "editable": false,
        "nbgrader": {
          "cell_type": "markdown",
          "checksum": "487ac3704aadcd5153abd2d95c9e4727",
          "grade": false,
          "grade_id": "cell-a055f5901bfe21b1",
          "locked": true,
          "schema_version": 3,
          "solution": false
        },
        "id": "CAOrcuHSM27j"
      },
      "source": [
        "### Derivation for expressions\n",
        "\n",
        "This time, there is no clever trick to implement `derivate` as a method of `Expr`, because the derivative behaves in a different way for the different operators.  Hence, we will need to implement `derivate` for each individual operator.  We let you do it.  There are two things to be careful about:\n",
        "\n",
        "* Children of an operator may not be expressions; they can also be constants such as 2.3 or 4.1.\n",
        "* If the _new_ children of an expression are all numbers, return the numerical result of the expression rather than a symbolic expression.  For example, do not return `Plus(1, 0)`; rather, just return `1`.  Note that, if you put the derivatives of the two children in, say, `df` and `dg`, you can simplify automatically by returning `df + dg`, which will return an expression if one of `df` or `dg` is an expression, and a number otherwise.\n",
        "\n",
        "We give you the solution for `Plus`, mainly because it might be difficult to believe that the solution is this simple."
      ]
    },
    {
      "cell_type": "code",
      "execution_count": null,
      "metadata": {
        "deletable": false,
        "editable": false,
        "nbgrader": {
          "cell_type": "code",
          "checksum": "3709ebe9c63780022109e4cbd3a34a9f",
          "grade": false,
          "grade_id": "cell-5379cede6fcfa042",
          "locked": true,
          "schema_version": 3,
          "solution": false
        },
        "id": "SgejJa4hM27j"
      },
      "outputs": [],
      "source": [
        "def plus_derivate(self, x):\n",
        "    f, g = self.children\n",
        "    df = f.derivate(x) if isinstance(f, Expr) else 0\n",
        "    dg = g.derivate(x) if isinstance(g, Expr) else 0\n",
        "    return df + dg\n",
        "\n",
        "Plus.derivate = plus_derivate\n"
      ]
    },
    {
      "cell_type": "markdown",
      "metadata": {
        "deletable": false,
        "editable": false,
        "nbgrader": {
          "cell_type": "markdown",
          "checksum": "444f5abef0f1a045c89839cea1d044c3",
          "grade": false,
          "grade_id": "cell-3242ac45c7e295c5",
          "locked": true,
          "schema_version": 3,
          "solution": false
        },
        "id": "MR5RCdi4M27j"
      },
      "source": [
        "## Derivation for Minus\n",
        "\n",
        "You can now work out the case for Minus, which is very similar."
      ]
    },
    {
      "cell_type": "code",
      "execution_count": null,
      "metadata": {
        "deletable": false,
        "nbgrader": {
          "cell_type": "code",
          "checksum": "7c601eb6844bf0190fa0e6e2bf2b20d9",
          "grade": false,
          "grade_id": "cell-a6d3bb3c9491ad95",
          "locked": false,
          "schema_version": 3,
          "solution": true
        },
        "id": "x4j0KTciM27j"
      },
      "outputs": [],
      "source": [
        "### Derivative of Minus\n",
        "\n",
        "def minus_derivate(self, x):\n",
        "    ll, rr = self.children\n",
        "    if isinstance(ll, Expr):\n",
        "      a1 = ll.derivate(x)\n",
        "    else:\n",
        "      a1 = 0\n",
        "    if isinstance(rr, Expr):\n",
        "      b1 = rr.derivate(x)\n",
        "    else:\n",
        "      b1 = 0\n",
        "\n",
        "    return a1-b1\n",
        "\n",
        "Minus.derivate = minus_derivate\n"
      ]
    },
    {
      "cell_type": "code",
      "execution_count": null,
      "metadata": {
        "deletable": false,
        "editable": false,
        "nbgrader": {
          "cell_type": "code",
          "checksum": "5d0053216a72027b9038d8c4f7074d54",
          "grade": true,
          "grade_id": "cell-ff2815e11003d354",
          "locked": true,
          "points": 10,
          "schema_version": 3,
          "solution": false
        },
        "id": "ogRTRXvvM27k"
      },
      "outputs": [],
      "source": [
        "### Tests for derivatives of Plus and Minus.\n",
        "\n",
        "x = V()\n",
        "y = V()\n",
        "z = V()\n",
        "\n",
        "e = x + y\n",
        "assert e.derivate(x) == 1\n",
        "f = x - y\n",
        "assert f.derivate(x) == 1\n",
        "assert f.derivate(y) == -1\n",
        "\n",
        "h = e + f\n",
        "assert h.derivate(x) == 2\n",
        "\n",
        "u = x + 4\n",
        "assert u.derivate(x) == 1\n",
        "v = 3 - y\n",
        "assert v.derivate(x) == 0\n",
        "assert v.derivate(y) == -1\n",
        "\n"
      ]
    },
    {
      "cell_type": "markdown",
      "metadata": {
        "deletable": false,
        "editable": false,
        "nbgrader": {
          "cell_type": "markdown",
          "checksum": "873fb6fad45c79448a05b415a25887b3",
          "grade": false,
          "grade_id": "cell-c45feb09b09abad4",
          "locked": true,
          "schema_version": 3,
          "solution": false
        },
        "id": "UUKIqhCAM27k"
      },
      "source": [
        "## Derivative of Negative\n",
        "\n",
        "Since we are at it, let us take care of unary minus, or `Negative`."
      ]
    },
    {
      "cell_type": "code",
      "execution_count": null,
      "metadata": {
        "deletable": false,
        "nbgrader": {
          "cell_type": "code",
          "checksum": "a79833c868e0ba2638425cdd6b238a85",
          "grade": false,
          "grade_id": "cell-ac5224f2c761c43a",
          "locked": false,
          "schema_version": 3,
          "solution": true
        },
        "id": "c3yoAsJ0M27k"
      },
      "outputs": [],
      "source": [
        "### Derivative of Negative\n",
        "\n",
        "def negative_derivate(self, x):\n",
        "    x = -(x)\n",
        "\n",
        "    return -1 if self == x else 0\n",
        "\n",
        "Negative.derivate = negative_derivate\n"
      ]
    },
    {
      "cell_type": "code",
      "execution_count": null,
      "metadata": {
        "deletable": false,
        "editable": false,
        "nbgrader": {
          "cell_type": "code",
          "checksum": "9b8a0a29485a08ece2441c9570be3dd6",
          "grade": false,
          "grade_id": "cell-6d34a94f5b982e64",
          "locked": true,
          "schema_version": 3,
          "solution": false
        },
        "id": "Y_bwpVH2M27l"
      },
      "outputs": [],
      "source": [
        "### Tests for negative.\n",
        "\n",
        "x = V()\n",
        "y = V()\n",
        "e = -x\n",
        "assert e.derivate(x) == -1\n",
        "assert e.derivate(y) == 0\n"
      ]
    },
    {
      "cell_type": "markdown",
      "metadata": {
        "deletable": false,
        "editable": false,
        "nbgrader": {
          "cell_type": "markdown",
          "checksum": "7169d6f4ee6e133c58a4fbfb385a91db",
          "grade": false,
          "grade_id": "cell-7980f451950a673f",
          "locked": true,
          "schema_version": 3,
          "solution": false
        },
        "id": "BwcYlb9QM27l"
      },
      "source": [
        "Now for multiplication and divisions.  Be careful to use the formulas exactly as given, otherwise the result may not match.  E.g. use\n",
        "\n",
        "$$\n",
        "\\frac{\\partial}{\\partial x}(f \\cdot g) = \\frac{\\partial f}{\\partial x} \\cdot g + f \\cdot \\frac{\\partial g}{\\partial x}\n",
        "$$\n",
        "\n",
        "and _not_, for instance, $\\frac{\\partial}{\\partial x}(f \\cdot g) = g \\cdot \\frac{\\partial f}{\\partial x} + f \\cdot \\frac{\\partial g}{\\partial x}$ (note the swap of the factors in the first term).\n",
        "\n",
        "We would like you to return simplified expressions.  You can again use the trick that, if you have two expressions `df` and `g` (or similar), then `df * g` will be an expression if one of `df` and `g` are expressions, and a number if both `df` and `g` are numbers."
      ]
    },
    {
      "cell_type": "markdown",
      "metadata": {
        "deletable": false,
        "editable": false,
        "nbgrader": {
          "cell_type": "markdown",
          "checksum": "22bb94a9d962ba4834f6052094e8c0cf",
          "grade": false,
          "grade_id": "cell-f82c9d688f33b63a",
          "locked": true,
          "schema_version": 3,
          "solution": false
        },
        "id": "CM9lj4w5M27l"
      },
      "source": [
        "## Derivation of multiplication"
      ]
    },
    {
      "cell_type": "code",
      "execution_count": null,
      "metadata": {
        "deletable": false,
        "nbgrader": {
          "cell_type": "code",
          "checksum": "ea445c48cb3c70c7b139efbbcb59bc5c",
          "grade": false,
          "grade_id": "cell-81b476274b9fae71",
          "locked": false,
          "schema_version": 3,
          "solution": true
        },
        "id": "7APxDlwMM27m"
      },
      "outputs": [],
      "source": [
        "### Derivative of multiplication.\n",
        "\n",
        "def multiply_derivate(self, x):\n",
        "    l3, r3 = self.children\n",
        "\n",
        "    if isinstance(l3, Expr):\n",
        "      a1 = l3.derivate(x)\n",
        "    else:\n",
        "      a1 = 0\n",
        "\n",
        "    if isinstance(r3, Expr):\n",
        "      b1 = r3.derivate(x)\n",
        "    else:\n",
        "      b1 = 0\n",
        "    r1 = (a1 * r3)\n",
        "    r2 = (l3 * b1)\n",
        "    return r1 + r2\n",
        "\n",
        "Multiply.derivate = multiply_derivate\n"
      ]
    },
    {
      "cell_type": "code",
      "execution_count": null,
      "metadata": {
        "deletable": false,
        "editable": false,
        "nbgrader": {
          "cell_type": "code",
          "checksum": "aebac1a58b50b8b2b64cd8a421d513c9",
          "grade": false,
          "grade_id": "cell-3d6c1e108acfe033",
          "locked": true,
          "schema_version": 3,
          "solution": false
        },
        "id": "yrLgCJbdM27m"
      },
      "outputs": [],
      "source": [
        "## Tests for derivative of multiplication.\n",
        "\n",
        "x = V()\n",
        "y = V(value=2)\n",
        "\n",
        "e = x * y\n",
        "# This is ugly.  It is.  We have not implemented 0, 1 simplifications.\n",
        "assert e.derivate(x) == 1 * y + x * 0\n",
        "\n",
        "# To remedy ugliness, we now test numerically.\n",
        "f = x * x\n",
        "x.assign(3)\n",
        "assert f.derivate(x).eval() == 6, f.derivate(x).eval()\n",
        "x.assign(4)\n",
        "assert f.derivate(x).eval() == 8, f.derivate(x).eval()\n",
        "\n",
        "h = 3 * x\n",
        "assert h.derivate(x).eval() == 3\n",
        "u = x * 3\n",
        "assert u.derivate(x).eval() == 3\n"
      ]
    },
    {
      "cell_type": "markdown",
      "metadata": {
        "deletable": false,
        "editable": false,
        "nbgrader": {
          "cell_type": "markdown",
          "checksum": "b1a5651a8461b12a111d8edb89f38eca",
          "grade": false,
          "grade_id": "cell-97c266d6bb9d5190",
          "locked": true,
          "schema_version": 3,
          "solution": false
        },
        "id": "eaXM4EGBM27m"
      },
      "source": [
        "## Derivative of division\n",
        "\n",
        "For division, the expression is:\n",
        "\n",
        "$$\n",
        " \\frac{\\partial}{\\partial x}\\left(\\frac{f}{g}\\right) = \\frac{\\frac\n",
        "  {\\partial f}{\\partial x} \\cdot g - f \\cdot \\frac{\\partial g}{\\partial x}}{g^2}.\n",
        "$$\n",
        "\n",
        "Note that you can obtain the denominator just by doing `g * g`, if `g` is the second child.  Again, the correct solution is quite short."
      ]
    },
    {
      "cell_type": "code",
      "execution_count": null,
      "metadata": {
        "deletable": false,
        "nbgrader": {
          "cell_type": "code",
          "checksum": "c893627dbb11d073448f53cfe3cfae70",
          "grade": false,
          "grade_id": "cell-50b072693e205683",
          "locked": false,
          "schema_version": 3,
          "solution": true
        },
        "id": "sQXpa55gM27n"
      },
      "outputs": [],
      "source": [
        "### Derivative of division\n",
        "\n",
        "def divide_derivate(self, x):\n",
        "    llll, rrrr = self.children\n",
        "\n",
        "    if isinstance(llll, Expr):\n",
        "      a1 = llll.derivate(x)\n",
        "    else:\n",
        "      a1 = 0\n",
        "\n",
        "    if isinstance(rrrr, Expr):\n",
        "      b1 = rrrr.derivate(x)\n",
        "    else:\n",
        "      b1 = 0\n",
        "\n",
        "    a2 = a1 * rrrr\n",
        "    b2 = b1 * llll\n",
        "\n",
        "    return((a2-b2)/(rrrr * rrrr))\n",
        "\n",
        "Divide.derivate = divide_derivate\n"
      ]
    },
    {
      "cell_type": "code",
      "execution_count": null,
      "metadata": {
        "deletable": false,
        "editable": false,
        "nbgrader": {
          "cell_type": "code",
          "checksum": "642e6763830c065623fd4ea21b510beb",
          "grade": true,
          "grade_id": "cell-433195ea29bae724",
          "locked": true,
          "points": 10,
          "schema_version": 3,
          "solution": false
        },
        "id": "w_cTO49zM27n"
      },
      "outputs": [],
      "source": [
        "### Tests for derivative of division.\n",
        "\n",
        "x = V()\n",
        "y = V()\n",
        "e = x / 2\n",
        "f = e.derivate(x)\n",
        "x.assign(3)\n",
        "assert f.eval() == 1/2\n",
        "\n",
        "g = 1 / x\n",
        "assert g.derivate(x).eval() == - 1 / 9\n",
        "assert g.derivate(y).eval() == 0\n",
        "\n"
      ]
    },
    {
      "cell_type": "code",
      "execution_count": null,
      "metadata": {
        "deletable": false,
        "editable": false,
        "nbgrader": {
          "cell_type": "code",
          "checksum": "9712fca9e7bc4f5664b004ecf8ee6df8",
          "grade": true,
          "grade_id": "cell-e474bff551de8294",
          "locked": true,
          "points": 10,
          "schema_version": 3,
          "solution": false
        },
        "id": "lJi5s_AOM27n"
      },
      "outputs": [],
      "source": [
        "## Miscellaneous tests.\n",
        "\n",
        "x = V(value=2)\n",
        "y = V(value=3)\n",
        "\n",
        "f = (x + 1) * (y + 1) / (x - 1) * (y - 1)\n",
        "df = f.derivate(x)\n",
        "\n",
        "assert df.eval() == -16\n",
        "\n",
        "x.assign(0.5)\n",
        "y.assign(0.5)\n",
        "assert df.eval() == 6\n",
        "\n"
      ]
    },
    {
      "cell_type": "code",
      "execution_count": null,
      "metadata": {
        "deletable": false,
        "editable": false,
        "nbgrader": {
          "cell_type": "code",
          "checksum": "7eaf4bd3f171e74fb31c13795c73bb21",
          "grade": true,
          "grade_id": "cell-1c7592d62b5c2dc3",
          "locked": true,
          "points": 10,
          "schema_version": 3,
          "solution": false
        },
        "id": "DpfXpvDyM27n"
      },
      "outputs": [],
      "source": [
        "## Miscellaneous tests.\n",
        "\n",
        "x = V(value=0)\n",
        "\n",
        "f = (3 * x * x + 2 * x + 4) / (5 * x * x - 7 * x + 12)\n",
        "\n",
        "df = f.derivate(x)\n",
        "assert abs(df.eval() - 0.3611) < 0.01\n",
        "x.assign(1)\n",
        "assert df.eval() == 0.53\n",
        "x.assign(1000)\n",
        "assert abs(df.eval()) < 0.001\n",
        "x.assign(-0.5)\n",
        "assert abs(df.eval() - 0.1) < 0.01\n",
        "\n"
      ]
    }
  ],
  "metadata": {
    "colab": {
      "provenance": []
    },
    "kernelspec": {
      "display_name": "Python 3",
      "language": "python",
      "name": "python3"
    },
    "language_info": {
      "codemirror_mode": {
        "name": "ipython",
        "version": 3
      },
      "file_extension": ".py",
      "mimetype": "text/x-python",
      "name": "python",
      "nbconvert_exporter": "python",
      "pygments_lexer": "ipython3",
      "version": "3.8.10"
    },
    "test_info": {
      "id": "a1e5ff072b903dd2203722c756f2a73ebd3a102b"
    }
  },
  "nbformat": 4,
  "nbformat_minor": 0
}