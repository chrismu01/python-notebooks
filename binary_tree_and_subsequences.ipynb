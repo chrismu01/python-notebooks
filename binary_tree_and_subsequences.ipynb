{
  "cells": [
    {
      "cell_type": "code",
      "execution_count": null,
      "metadata": {
        "deletable": false,
        "editable": false,
        "nbgrader": {
          "cell_type": "code",
          "checksum": "2db7d15336ed2d0aec37ce515e22ddba",
          "grade": false,
          "grade_id": "cell-d3ddd065dea6a750",
          "locked": true,
          "schema_version": 3,
          "solution": false
        },
        "id": "UcJxC36NGL8G"
      },
      "outputs": [],
      "source": [
        "# Function used for testing\n",
        "\n",
        "def check_equal(x, y, msg=None):\n",
        "    if x == y:\n",
        "        if msg is None:\n",
        "            print(\"Success\")\n",
        "        else:\n",
        "            print(msg, \": Success\")\n",
        "    else:\n",
        "        if msg is None:\n",
        "            print(\"Error:\")\n",
        "        else:\n",
        "            print(\"Error in\", msg, \":\")\n",
        "        print(\"    Your answer was:\", x)\n",
        "        print(\"    Correct answer: \", y)\n",
        "    assert x == y, \"%r and %r are different\" % (x, y)\n"
      ]
    },
    {
      "cell_type": "markdown",
      "metadata": {
        "deletable": false,
        "editable": false,
        "nbgrader": {
          "cell_type": "markdown",
          "checksum": "5626dbfe386d78670993af0ec0410324",
          "grade": false,
          "grade_id": "cell-76d2dcc759e8cb13",
          "locked": true,
          "schema_version": 3,
          "solution": false
        },
        "id": "a_u7PqOxGL8H"
      },
      "source": [
        "## Task 1: Sum of Leaves\n",
        "\n",
        "Consider a binary tree, where a node can be either a number (an integer or floating-point number), or a tuple consisting of a left subtree, and a right subtree.  Examples of trees are:\n",
        "\n",
        "    4.5\n",
        "    (3, 5)\n",
        "    (3, (5, 7))\n",
        "    ((3, 4), ((4, 2), 9))\n",
        "    "
      ]
    },
    {
      "cell_type": "code",
      "execution_count": null,
      "metadata": {
        "deletable": false,
        "nbgrader": {
          "cell_type": "code",
          "checksum": "e7c8dd6ab3208e372ac809989f7f9f71",
          "grade": false,
          "grade_id": "cell-1e86f34103ec77b",
          "locked": false,
          "schema_version": 3,
          "solution": true
        },
        "id": "4wH60F0pGL8I"
      },
      "outputs": [],
      "source": [
        "def total(t):\n",
        "    if type(t) == float:\n",
        "      return t\n",
        "    elif type(t) == int:\n",
        "      return t\n",
        "    else:\n",
        "      return(total(t[0]) + total(t[1]))\n",
        "\n",
        "\n",
        "\n"
      ]
    },
    {
      "cell_type": "markdown",
      "metadata": {
        "deletable": false,
        "editable": false,
        "nbgrader": {
          "cell_type": "markdown",
          "checksum": "daf0653393d87c700c4bbd2dc290da42",
          "grade": false,
          "grade_id": "cell-31305d34c0252ef3",
          "locked": true,
          "schema_version": 3,
          "solution": false
        },
        "id": "Lh9w-ST5GL8J"
      },
      "source": [
        "Here are some tests."
      ]
    },
    {
      "cell_type": "code",
      "execution_count": null,
      "metadata": {
        "deletable": false,
        "editable": false,
        "nbgrader": {
          "cell_type": "code",
          "checksum": "9f3e9a09f944ed8d65f95ea63be775c4",
          "grade": true,
          "grade_id": "cell-f5de3c2179453789",
          "locked": true,
          "points": 10,
          "schema_version": 3,
          "solution": false
        },
        "id": "8OwEslcgGL8J",
        "colab": {
          "base_uri": "https://localhost:8080/"
        },
        "outputId": "7d43c290-139a-4e36-a0c1-1c5b2b9615fa"
      },
      "outputs": [
        {
          "output_type": "stream",
          "name": "stdout",
          "text": [
            "Success\n",
            "Success\n"
          ]
        }
      ],
      "source": [
        "### Simple tests.\n",
        "\n",
        "check_equal(total(5.4), 5.4)\n",
        "check_equal(total((4, 6)), 10)\n",
        "\n"
      ]
    },
    {
      "cell_type": "code",
      "execution_count": null,
      "metadata": {
        "deletable": false,
        "editable": false,
        "nbgrader": {
          "cell_type": "code",
          "checksum": "bbb1dc7e219a0a321f85bebde2c5ace3",
          "grade": true,
          "grade_id": "cell-2d7f0d0adaed0a72",
          "locked": true,
          "points": 10,
          "schema_version": 3,
          "solution": false
        },
        "id": "z1G1ANlfGL8K",
        "colab": {
          "base_uri": "https://localhost:8080/"
        },
        "outputId": "51754e43-1b89-423b-fb12-cab09dd8247c"
      },
      "outputs": [
        {
          "output_type": "stream",
          "name": "stdout",
          "text": [
            "Success\n",
            "Success\n"
          ]
        }
      ],
      "source": [
        "### Tests on trees.\n",
        "\n",
        "check_equal(total((3, (4, (5, 6)))), 18)\n",
        "check_equal(total((((3, 4), 5), ((4, 3), (2, 1)))), 22)\n",
        "\n"
      ]
    },
    {
      "cell_type": "markdown",
      "metadata": {
        "deletable": false,
        "editable": false,
        "nbgrader": {
          "cell_type": "markdown",
          "checksum": "588501cfdcfcaa8d2aadc7a6a4a1655e",
          "grade": false,
          "grade_id": "cell-d534c831582c6408",
          "locked": true,
          "schema_version": 3,
          "solution": false
        },
        "id": "m1tksWVZGL8K"
      },
      "source": [
        "## Task 2: Largest Subtree Total\n",
        "\n",
        "For a tree $t = (t_1, t_2)$, the subtrees of $t$ consist of $t$, and of the subtrees of $t_1$ and $t_2$.\n",
        "That is, in formulas,\n",
        "\n",
        "$$\n",
        "\\mbox{subtrees}(t) = \\{ t \\} \\cup \\mbox{subtrees}(t_1) \\cup \\mbox{subtrees}(t_2) .\n",
        "$$\n",
        "\n",
        "To give a concrete example, the subtrees of $t = (3, (4, 5))$ are:\n",
        "\n",
        "* $(3, (4, 5))$\n",
        "* $3$\n",
        "* $(4, 5)$\n",
        "* $4$\n",
        "* $5$\n",
        "\n",
        "Given a tree `t`, write a function `max_subtree_total(t)` that computes the largest total of any subtree in `t`.\n",
        "\n",
        "Of course, if the numbers in the tree are all non-negative, then the largest total corresponds to the complete tree, but this is not the case if there are leaves with value smaller than 0.  For instance, for the tree\n",
        "\n",
        "    (-2, (3, 4))\n",
        "    \n",
        "the largest total corresponds to the subtree `(3, 4)`, which has total 7.\n",
        "\n"
      ]
    },
    {
      "cell_type": "code",
      "execution_count": null,
      "metadata": {
        "deletable": false,
        "nbgrader": {
          "cell_type": "code",
          "checksum": "9ea7a71c526f7e315fa9ebd71938c2c5",
          "grade": false,
          "grade_id": "cell-832253a53f96122c",
          "locked": false,
          "schema_version": 3,
          "solution": true
        },
        "id": "yqmKs59IGL8K"
      },
      "outputs": [],
      "source": [
        "def max_subtree_total(t):\n",
        "  if type(t) == int:\n",
        "    return t\n",
        "  elif type(t) == int:\n",
        "    return t\n",
        "  else:\n",
        "    left_t = total(t[0])\n",
        "    right_t = total(t[1])\n",
        "    total_t = left_t + right_t\n",
        "\n",
        "\n",
        "\n",
        "    if (left_t > right_t) and (left_t > total_t):\n",
        "      max = left_t\n",
        "\n",
        "    elif (right_t > left_t) and (right_t > total_t):\n",
        "      max = right_t\n",
        "\n",
        "    else:\n",
        "      max = total_t\n",
        "\n",
        "    return max\n"
      ]
    },
    {
      "cell_type": "code",
      "execution_count": null,
      "metadata": {
        "deletable": false,
        "editable": false,
        "nbgrader": {
          "cell_type": "code",
          "checksum": "d6cd156b79bc43545325369d4a535146",
          "grade": false,
          "grade_id": "cell-bcadc5b94be84807",
          "locked": true,
          "schema_version": 3,
          "solution": false
        },
        "id": "LQRp3bLXGL8L",
        "colab": {
          "base_uri": "https://localhost:8080/"
        },
        "outputId": "682bc60b-8391-470f-cfbc-657461dc5ee3"
      },
      "outputs": [
        {
          "output_type": "stream",
          "name": "stdout",
          "text": [
            "Success\n",
            "Success\n"
          ]
        }
      ],
      "source": [
        "### Some simple cases first.\n",
        "\n",
        "check_equal(max_subtree_total(3), 3)\n",
        "check_equal(max_subtree_total((4, 5)), 9)\n"
      ]
    },
    {
      "cell_type": "code",
      "execution_count": null,
      "metadata": {
        "deletable": false,
        "editable": false,
        "nbgrader": {
          "cell_type": "code",
          "checksum": "5c6e5cc2b1d3a1ab547227a687118327",
          "grade": true,
          "grade_id": "cell-6f5736f79908ba09",
          "locked": true,
          "points": 10,
          "schema_version": 3,
          "solution": false
        },
        "id": "hqxsFuDiGL8L",
        "colab": {
          "base_uri": "https://localhost:8080/"
        },
        "outputId": "66afdc6f-0103-44ff-e4bd-96cb91b921a8"
      },
      "outputs": [
        {
          "output_type": "stream",
          "name": "stdout",
          "text": [
            "Success\n",
            "Success\n",
            "Success\n",
            "Success\n"
          ]
        }
      ],
      "source": [
        "### More complex cases.\n",
        "\n",
        "check_equal(max_subtree_total((-3, 4)), 4)\n",
        "check_equal(max_subtree_total((-3, -4)), -3)\n",
        "check_equal(max_subtree_total(((-3, 5), (2, 1))), 5)\n",
        "check_equal(max_subtree_total((((4, 5), -3), (12, (3, 4)))), 25)\n",
        "\n"
      ]
    },
    {
      "cell_type": "markdown",
      "metadata": {
        "deletable": false,
        "editable": false,
        "nbgrader": {
          "cell_type": "markdown",
          "checksum": "89d1bd6d1a0b97265e35891331993716",
          "grade": false,
          "grade_id": "cell-b51e5a5d8d7cd723",
          "locked": true,
          "schema_version": 3,
          "solution": false
        },
        "id": "kdY-FR8IGL8M"
      },
      "source": [
        "## Task 3\n",
        "\n",
        "Consider a list, for instance, `[3, 4, 5, 3, 2, 5, 6, 4]`.\n",
        "A _subsequence_ or _sublist_ of a list is a list you obtain by removing zero or more elements from the original list.  For example, subsequences of the above list are:\n",
        "\n",
        "    []\n",
        "    [4, 5, 6]\n",
        "    [3, 4, 5, 5, 6]\n",
        "    [3, 5, 2]\n",
        "    \n",
        "A _nondecreasing_ subsequence is a sequence in which a value is not smaller than any of the previous ones.  In the examples above, the first three subsequences are nondecreasing; the last one is not, as the last `2` is smaller than `3` and `5`.\n",
        "\n",
        "The task is to write a function `nondecsub(l)` which, given a list `l`, returns a list consisting of _all_ the nondecreasing subsequences of `l`.\n"
      ]
    },
    {
      "cell_type": "code",
      "execution_count": null,
      "metadata": {
        "deletable": false,
        "nbgrader": {
          "cell_type": "code",
          "checksum": "ba4e754b1d1849bdb83dc324cd1f5e65",
          "grade": false,
          "grade_id": "cell-5c331dadc7c52afc",
          "locked": false,
          "schema_version": 3,
          "solution": true
        },
        "id": "4l4F8okQGL8M"
      },
      "outputs": [],
      "source": [
        "def nondecsub(l, threshold=None):\n",
        "    subseq = []\n",
        "    def subsequence(i):\n",
        "      nonlocal subseq\n",
        "      len_sub = 2 ** len(i)\n",
        "      for j in range(1,(int)(len_sub)):\n",
        "        unsort_sub = []\n",
        "        for r in range(0,len(i)):\n",
        "          if (j & (1 << r)):\n",
        "            unsort_sub.append(i[r])\n",
        "        subseq.append(unsort_sub)\n",
        "    subsequence(l)\n",
        "\n",
        "    return_sub = []\n",
        "    for a in subseq:\n",
        "      correct = True\n",
        "      for index in range(0,len(a)-1):\n",
        "        if a[index] > a[index + 1]:\n",
        "          correct = False\n",
        "          break\n",
        "      if correct:\n",
        "        return_sub.append(a)\n",
        "    return_sub.append([])\n",
        "    return return_sub\n",
        "\n",
        "def normalize(ll):\n",
        "    s = set()\n",
        "    for l in ll:\n",
        "        s.add(tuple(l))\n",
        "    return s\n",
        "\n",
        "def n(l):\n",
        "    return normalize(nondecsub(l, threshold=None))\n"
      ]
    },
    {
      "cell_type": "code",
      "execution_count": null,
      "metadata": {
        "deletable": false,
        "editable": false,
        "nbgrader": {
          "cell_type": "code",
          "checksum": "7a2bc557ac36b50518f04e802db11ff2",
          "grade": true,
          "grade_id": "cell-b86a7b2a438fa914",
          "locked": true,
          "points": 10,
          "schema_version": 3,
          "solution": false
        },
        "id": "1RqgDq3fGL8N",
        "colab": {
          "base_uri": "https://localhost:8080/"
        },
        "outputId": "535799d7-6e0e-438f-c0ab-1794f0d058bd"
      },
      "outputs": [
        {
          "output_type": "stream",
          "name": "stdout",
          "text": [
            "Success\n",
            "Success\n",
            "Success\n",
            "Success\n"
          ]
        }
      ],
      "source": [
        "### Simple tests\n",
        "\n",
        "check_equal(n([4]), normalize([[], [4]]))\n",
        "\n",
        "check_equal(n([]), normalize([[]]))\n",
        "\n",
        "check_equal(n([3, 4]), normalize([\n",
        "    [], [3], [4], [3, 4]\n",
        "]))\n",
        "\n",
        "check_equal(n([4, 3]), normalize([\n",
        "    [], [3], [4]\n",
        "]))\n",
        "\n"
      ]
    },
    {
      "cell_type": "code",
      "execution_count": null,
      "metadata": {
        "deletable": false,
        "editable": false,
        "nbgrader": {
          "cell_type": "code",
          "checksum": "5feb71539af99f179859314e6e9685bd",
          "grade": true,
          "grade_id": "cell-416c65a4401514ba",
          "locked": true,
          "points": 10,
          "schema_version": 3,
          "solution": false
        },
        "id": "fuKcv4_JGL8N",
        "colab": {
          "base_uri": "https://localhost:8080/"
        },
        "outputId": "00d1ac7a-a087-462c-f816-0b4af27f04bc"
      },
      "outputs": [
        {
          "output_type": "stream",
          "name": "stdout",
          "text": [
            "Success\n"
          ]
        }
      ],
      "source": [
        "### More complicated tests\n",
        "\n",
        "check_equal(n([-1, 0, 3, 4, 3, 5]), normalize([\n",
        "    (3, 4, 5), (0, 4, 5), (-1, 0), (-1, 0, 3, 3, 5), (-1, 0, 3, 4),\n",
        "    (-1,), (-1, 5), (0, 3), (3, 3), (-1, 3, 3), (3,), (-1, 3, 4),\n",
        "    (3, 3, 5), (-1, 4, 5), (-1, 0, 3, 4, 5), (-1, 0, 3, 5),\n",
        "    (-1, 3, 3, 5), (-1, 3, 5), (0, 4), (5,), (-1, 0, 3, 3),\n",
        "    (-1, 0, 3), (0, 3, 3), (0, 3, 3, 5), (-1, 0, 4, 5), (4, 5), (-1, 0, 5),\n",
        "    (0, 5), (-1, 0, 4), (3, 5), (0,), (0, 3, 4), (-1, 3), (0, 3, 5), (4,),\n",
        "    (), (0, 3, 4, 5), (-1, 3, 4, 5), (-1, 4), (3, 4)\n",
        "]))\n",
        "\n"
      ]
    }
  ],
  "metadata": {
    "kernelspec": {
      "display_name": "Python 3",
      "language": "python",
      "name": "python3"
    },
    "language_info": {
      "codemirror_mode": {
        "name": "ipython",
        "version": 3
      },
      "file_extension": ".py",
      "mimetype": "text/x-python",
      "name": "python",
      "nbconvert_exporter": "python",
      "pygments_lexer": "ipython3",
      "version": "3.8.10"
    },
    "test_info": {
      "id": "a1e5ff072b903dd2203722c756f2a73ebd3a102b"
    },
    "colab": {
      "provenance": []
    }
  },
  "nbformat": 4,
  "nbformat_minor": 0
}