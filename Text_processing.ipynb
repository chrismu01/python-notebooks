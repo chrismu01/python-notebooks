{
  "nbformat": 4,
  "nbformat_minor": 0,
  "metadata": {
    "colab": {
      "provenance": []
    },
    "kernelspec": {
      "name": "python3",
      "display_name": "Python 3"
    },
    "language_info": {
      "name": "python"
    }
  },
  "cells": [
    {
      "cell_type": "markdown",
      "source": [
        "## Task 1: Encoding and Decoding Text\n",
        "\n",
        "We will write simple functions to encode and decode text.  \n",
        "\n",
        "### The decoding function\n",
        "\n",
        "The decoding function takes as input a list of $n$ words $[w_0, w_1, \\ldots, w_{n-1}]$, and a list of $m$ integers $[k_0, k_1, \\ldots, k_{m-1}]$, where each integer is in the range $[0, \\ldots, n-1]$.\n",
        "\n",
        "The function must output the string $w_{k_0} \\; w_{k_1} \\; w_{k_2} \\; \\ldots w_{k_m}$, where each number has been replaced with the word in the corresponding position in the list, and words are joined by spaces.\n",
        "\n",
        "For example, assume the function is called with:\n",
        "\n",
        "    textdecode([\"a\", \"bird\", \"seed\", \"eats\"], [0, 1, 3, 0, 2])\n",
        "    \n",
        "Then the output should be\n",
        "\n",
        "    \"a bird eats a seed\"\n",
        "    \n",
        "because word 0 in the list is \"a\", word 1 is \"bird\", word 3 is \"eats\", word 0 is \"a\", and word 2 is \"seed\".\n",
        "\n",
        "Here, we remind you that if you have a list of word, you can join them using spaces to form a string like this:\n",
        "\n",
        "    \" \".join([\"coffee\", \"is\", \"good\"])\n",
        "    \n",
        "which produces\n",
        "\n",
        "    \"coffee is good\"\n"
      ],
      "metadata": {
        "id": "KMj4u6_lpu-v"
      }
    },
    {
      "cell_type": "code",
      "source": [
        "def textdecode(words, indices):\n",
        "    \"\"\"Decodes, producing a sentence in which each index is replaced\n",
        "    by the word in the corresponding position in words, and the words\n",
        "    are joined via spaces.\"\"\"\n",
        "    sentance = []\n",
        "    for i in indices:\n",
        "      sentance.append(words[i])\n",
        "\n",
        "    k = \" \".join(sentance)\n",
        "\n",
        "    return k"
      ],
      "metadata": {
        "id": "HEowzOE9ppd1"
      },
      "execution_count": null,
      "outputs": []
    },
    {
      "cell_type": "code",
      "source": [
        "# Cell for testing code\n",
        "'''\n",
        "def textdecode(words, indices):\n",
        "  sentance = []\n",
        "  for i in indices:\n",
        "    sentance.append(words[i])\n",
        "  for x in sentance:\n",
        "    \" \".join(sentance)\n",
        "  for y in sentance:\n",
        "    print(y, end=' ')\n",
        "\n",
        "'''"
      ],
      "metadata": {
        "id": "ICOl7K31qKKH"
      },
      "execution_count": null,
      "outputs": []
    },
    {
      "cell_type": "code",
      "source": [
        "# Test cases\n",
        "\n",
        "assert textdecode([\"a\", \"bird\", \"seed\", \"eats\"], [0, 1, 3, 0, 2]) == \"a bird eats a seed\"\n",
        "assert textdecode([\"ha\"], [0, 0, 0]) == \"ha ha ha\"\n",
        "assert textdecode([\"be\", \"to\", \"not\", \"or\"], [1, 0, 3, 2, 1, 0]) == \"to be or not to be\""
      ],
      "metadata": {
        "id": "ISwEKuOpqQ8K"
      },
      "execution_count": null,
      "outputs": []
    },
    {
      "cell_type": "markdown",
      "metadata": {
        "deletable": false,
        "editable": false,
        "nbgrader": {
          "cell_type": "markdown",
          "checksum": "a4d037cc973ff89ead760c56ea4d3d83",
          "grade": false,
          "grade_id": "cell-b193ca2d59c492bf",
          "locked": true,
          "schema_version": 3,
          "solution": false
        },
        "id": "cbae8ee1"
      },
      "source": [
        "### Encoding function\n",
        "\n",
        "The encoding function works in the opposite way.  Given a sentence `s`, it first splits `s` according to spaces, via `s.split()`, obtaining a list of words.  It then removes duplicates from this list of words, and returns:\n",
        "\n",
        "* The list of words, with duplicates removed;\n",
        "* A list obtained by replacing each word with the index of the word in the above list.\n",
        "\n",
        "For instance, if the input is:\n",
        "\n",
        "    \"i need a coffee\"\n",
        "    \n",
        "then the words are `\"i\"`, `\"need\"`, `\"a\"`, `\"coffee\"`, and there are no duplicates.  The output will then be:\n",
        "\n",
        "    [\"i\", \"need\", \"a\", \"coffee\"], [0, 1, 2, 3]\n",
        "    \n",
        "If the [input is](https://www.youtube.com/watch?v=98luuj8ymoQ)\n",
        "\n",
        "    \"yo ho ho and a bottle of rum\"\n",
        "    \n",
        "the output can be\n",
        "\n",
        "    [\"yo\", \"ho\", \"and\", \"a\", \"bottle\", \"of\", \"rum\"], [0, 1, 1, 2, 3, 4, 5, 6]\n",
        "    \n",
        "or if you prefer,\n",
        "\n",
        "    [\"a\", \"bottle\", \"of\", \"rum\", \"and\", \"yo\", \"ho\"], [5, 6, 6, 4, 1, 2, 3]\n",
        "    "
      ]
    },
    {
      "cell_type": "code",
      "execution_count": null,
      "metadata": {
        "deletable": false,
        "nbgrader": {
          "cell_type": "code",
          "checksum": "99c26f2d112eaf7a3d5f26ec6d57bd21",
          "grade": false,
          "grade_id": "cell-c475a252851c0241",
          "locked": false,
          "schema_version": 3,
          "solution": true
        },
        "id": "5cdadea4"
      },
      "outputs": [],
      "source": [
        "def textencode(s):\n",
        "    \"\"\"Encode the string s, dividing it into words, and returning a list\n",
        "    of unique words, and the list of indices of each word of s in the word list,\n",
        "    in order.\"\"\"\n",
        "    list_of_words = s.split( )\n",
        "\n",
        "\n",
        "\n",
        "    no_repeat = []\n",
        "    for i in list_of_words:\n",
        "      if i not in no_repeat:\n",
        "        no_repeat.append(i)\n",
        "\n",
        "\n",
        "\n",
        "    index_of_sentance = []\n",
        "\n",
        "    for x in list_of_words:\n",
        "      k = no_repeat.index(x)\n",
        "\n",
        "      index_of_sentance.append(k)\n",
        "\n",
        "\n",
        "\n",
        "    return no_repeat, index_of_sentance\n",
        "\n"
      ]
    },
    {
      "cell_type": "code",
      "execution_count": null,
      "metadata": {
        "deletable": false,
        "editable": false,
        "nbgrader": {
          "cell_type": "code",
          "checksum": "5c9667c16d0bbb21ce83f4b32270eacf",
          "grade": false,
          "grade_id": "cell-62b52f04a0fe1c3",
          "locked": true,
          "schema_version": 3,
          "solution": false
        },
        "id": "b6255f07"
      },
      "outputs": [],
      "source": [
        "# some simple tests\n",
        "\n",
        "assert textencode(\"a\") == ([\"a\"], [0])\n",
        "assert textencode(\"ho ho ho\") == ([\"ho\"], [0, 0, 0])\n"
      ]
    },
    {
      "cell_type": "code",
      "execution_count": null,
      "metadata": {
        "deletable": false,
        "editable": false,
        "nbgrader": {
          "cell_type": "code",
          "checksum": "74938edb031c1184319ba8d1e63049d0",
          "grade": true,
          "grade_id": "cell-c5512e5a9a318fbd",
          "locked": true,
          "points": 10,
          "schema_version": 3,
          "solution": false
        },
        "id": "b287c1eb"
      },
      "outputs": [],
      "source": [
        "# Encoding / decoding tests\n",
        "\n",
        "import random\n",
        "\n",
        "words = [\"a\", \"bi\", \"ci\", \"di\", \"e\", \"effe\", \"gi\"]\n",
        "for _ in range(1000):\n",
        "    k = random.randint(0, 10)\n",
        "    s = \" \".join(random.choices(words, k=k))\n",
        "    ws, ix = textencode(s)\n",
        "    assert len(set(ws)) == len(set(ix))\n",
        "    t = textdecode(ws, ix)\n",
        "    assert s == t\n",
        "\n"
      ]
    },
    {
      "cell_type": "markdown",
      "metadata": {
        "deletable": false,
        "editable": false,
        "nbgrader": {
          "cell_type": "markdown",
          "checksum": "5e85ee035e3f368220d3fcd276493beb",
          "grade": false,
          "grade_id": "cell-da1b555e8759379",
          "locked": true,
          "schema_version": 3,
          "solution": false
        },
        "id": "79c3a64f"
      },
      "source": [
        "## Task 2: Numerical Dictionaries\n",
        "\n",
        "This task considers _numerical dictionaries_, which map keys to integers (rather than to arbitrary values).  These dictionaries can be used to count occurrences; for instance, the dictionary {'a': 1, 'b': 3} indicates that 'a' occurred once, and 'b' three times.\n",
        "\n",
        "Write a function `add_dicts` that, given two numerical dictionaries, computes the numerical dictionary resulting from their sum.  For instance, `add_dict({'a': 1, 'b': 3}, {'b': 2, 'c': 3})` should give `{'a': 1, 'b': 5, 'c': 3}` as result."
      ]
    },
    {
      "cell_type": "code",
      "execution_count": null,
      "metadata": {
        "deletable": false,
        "nbgrader": {
          "cell_type": "code",
          "checksum": "0ca75a97ee42bfd7dad864393b80fb21",
          "grade": false,
          "grade_id": "cell-ea9265bbf770b82a",
          "locked": false,
          "schema_version": 3,
          "solution": true
        },
        "id": "c95e7bbb"
      },
      "outputs": [],
      "source": [
        "def add_dicts(d1, d2):\n",
        "  d3 = {}\n",
        "  for c,d in d1.items():\n",
        "    d3[c] = d\n",
        "\n",
        "\n",
        "  for a, b in d3.items():\n",
        "    for x, y in d2.items():\n",
        "      if a == x:\n",
        "        d3[a] = (b+y)\n",
        "      #else:\n",
        "        #d3[x] = y\n",
        "  return d3"
      ]
    },
    {
      "cell_type": "code",
      "execution_count": null,
      "metadata": {
        "deletable": false,
        "editable": false,
        "nbgrader": {
          "cell_type": "code",
          "checksum": "73ff7591a140b47928f651a0adb86e2a",
          "grade": true,
          "grade_id": "cell-3cafd3159a927abc",
          "locked": true,
          "points": 10,
          "schema_version": 3,
          "solution": false
        },
        "id": "be93822e"
      },
      "outputs": [],
      "source": [
        "# Test for when the keys are the same.\n",
        "\n",
        "assert add_dicts({'a': 1, 'b': 2}, {'a': 3, 'b': 1}) == {'a': 4, 'b': 3}\n",
        "# And empty.\n",
        "assert add_dicts({}, {}) == {}\n",
        "\n"
      ]
    },
    {
      "cell_type": "code",
      "execution_count": null,
      "metadata": {
        "deletable": false,
        "editable": false,
        "nbgrader": {
          "cell_type": "code",
          "checksum": "619f13b9ff825ad50d2550495ada265a",
          "grade": true,
          "grade_id": "cell-1fc7a9ffa701cef9",
          "locked": true,
          "points": 10,
          "schema_version": 3,
          "solution": false
        },
        "id": "bca479bf"
      },
      "outputs": [],
      "source": [
        "# Test for when the keys are different.\n",
        "\n",
        "assert add_dicts({'a': 1, 'c': 2}, {'a': 3, 'b': 1}), {'a': 4, 'b': 1, 'c': 2}\n",
        "assert add_dicts({'a': 3, 'b': 1}, {'a': 1, 'c': 2}), {'a': 4, 'b': 1, 'c': 2}\n",
        "\n"
      ]
    },
    {
      "cell_type": "markdown",
      "metadata": {
        "deletable": false,
        "editable": false,
        "nbgrader": {
          "cell_type": "markdown",
          "checksum": "f7464c33f946e0865f777af4c09da520",
          "grade": false,
          "grade_id": "cell-f2e585b54e14a9d8",
          "locked": true,
          "schema_version": 3,
          "solution": false
        },
        "id": "56446f9d"
      },
      "source": [
        "## Task 3\n",
        "\n",
        "Implement a function `ordered_substring` that takes as input two strings, s and t.\n",
        "The function returns True if and only if the characters of s can be found, in the order in which they are in s, as characters of t. In other words, the function returns True if and only if it is possible to remove some characters from t, so that the remaining ones  form the string s.\n",
        "\n",
        "For example:\n",
        "\n",
        "* `ordered_substring(\"abc\", \"a123b4b523bc\")` should return True, because `\"a123b4b523bc\"` contains the characters `\"abc\"` in that order, taking its 1st, 5th, and last character.\n",
        "* Instead, `ordered_substring(\"abc\", \"a123c4b523b\")` should return False, because `\"a123c4b523b\"` does not contain a \"c\" after a \"b\".\n",
        "* `ordered_substring(\"abb\", \"a123c4b523f\")` should also return False, because there is no `\"b\"` after the first `\"b\"` in `\"a123c4b523f\"`.\n"
      ]
    },
    {
      "cell_type": "code",
      "execution_count": null,
      "metadata": {
        "deletable": false,
        "nbgrader": {
          "cell_type": "code",
          "checksum": "52c03fbe4fcd532a1ddc664e881600f2",
          "grade": false,
          "grade_id": "cell-de576dac776780ee",
          "locked": false,
          "schema_version": 3,
          "solution": true
        },
        "colab": {
          "base_uri": "https://localhost:8080/"
        },
        "id": "eb3f133c",
        "outputId": "a519ef5a-13b0-4d47-b654-f77625a3971b"
      },
      "outputs": [
        {
          "output_type": "execute_result",
          "data": {
            "text/plain": [
              "False"
            ]
          },
          "metadata": {},
          "execution_count": 120
        }
      ],
      "source": [
        "def ordered_substring(s, t):\n",
        "    \"\"\"Returns True if s is an ordered substring of t, and False otherwise.\"\"\"\n",
        "    letters_check = []\n",
        "    for i in s:\n",
        "      letters_check.append(i)\n",
        "    '''\n",
        "    letters_total = []\n",
        "    for a in t:\n",
        "      letters_total.append(a)\n",
        "  '''\n",
        "\n",
        "    j = 0\n",
        "    for x in letters_check:\n",
        "      letter_index = t.find(x,j)\n",
        "      if letter_index == -1:\n",
        "        return False\n",
        "      j = letter_index + 1\n",
        "    return True\n",
        "\n",
        "\n",
        "\n",
        "ordered_substring('auu', 'cabd')"
      ]
    },
    {
      "cell_type": "code",
      "execution_count": null,
      "metadata": {
        "deletable": false,
        "editable": false,
        "nbgrader": {
          "cell_type": "code",
          "checksum": "150fdcd1b8e4338a1f6d35ddc45c3b6e",
          "grade": true,
          "grade_id": "cell-7730e72d0b13dc13",
          "locked": true,
          "points": 10,
          "schema_version": 3,
          "solution": false
        },
        "id": "f4cacead"
      },
      "outputs": [],
      "source": [
        "# Test that the code works for empty and one-character strings s.\n",
        "\n",
        "assert ordered_substring('', 'abc')\n",
        "assert ordered_substring('a', 'cabd')\n",
        "assert ordered_substring('d', 'cabd')\n",
        "assert not ordered_substring('f', 'cabd')\n",
        "assert not ordered_substring('a', '')\n",
        "assert ordered_substring('', '')\n",
        "\n"
      ]
    },
    {
      "cell_type": "code",
      "execution_count": null,
      "metadata": {
        "deletable": false,
        "editable": false,
        "nbgrader": {
          "cell_type": "code",
          "checksum": "bc92b0591b329d748387c4713e753188",
          "grade": true,
          "grade_id": "cell-b6dc190dc3e32776",
          "locked": true,
          "points": 10,
          "schema_version": 3,
          "solution": false
        },
        "id": "5b5ba304"
      },
      "outputs": [],
      "source": [
        "# Some simple cases.\n",
        "\n",
        "assert ordered_substring('ab', 'abcd')\n",
        "assert ordered_substring('ac', 'abcd')\n",
        "assert ordered_substring('bd', 'abcd')\n",
        "assert not ordered_substring('ba', 'abcd')\n",
        "assert not ordered_substring('af', 'abcd')\n",
        "assert ordered_substring('123', '12345')\n",
        "\n"
      ]
    },
    {
      "cell_type": "code",
      "execution_count": null,
      "metadata": {
        "deletable": false,
        "editable": false,
        "nbgrader": {
          "cell_type": "code",
          "checksum": "372942863054cefba66b5ebe6a1cc147",
          "grade": true,
          "grade_id": "cell-7757e7c597c838f2",
          "locked": true,
          "points": 10,
          "schema_version": 3,
          "solution": false
        },
        "id": "7606dfa6"
      },
      "outputs": [],
      "source": [
        "# General cases.\n",
        "\n",
        "assert ordered_substring('abc', 'abbbeec')\n",
        "assert not ordered_substring('abbc', 'abc')\n",
        "assert ordered_substring('aa', 'bacad')\n",
        "assert ordered_substring('aaba', 'ababa')\n",
        "\n"
      ]
    },
    {
      "cell_type": "markdown",
      "metadata": {
        "deletable": false,
        "editable": false,
        "nbgrader": {
          "cell_type": "markdown",
          "checksum": "fe9cc4dd6011de26e24ebeb2edc72bff",
          "grade": false,
          "grade_id": "cell-30ea526f20a3985",
          "locked": true,
          "schema_version": 3,
          "solution": false
        },
        "id": "47d902f5"
      },
      "source": [
        "## Task 4: Elections\n",
        "\n",
        "Write an `Election` class, used to record votes.  The class has the following methods:\n",
        "\n",
        "* `vote(c)`: records a vote for candidate `c`.\n",
        "* `total_votes()`: returns the total number of votes.\n",
        "* `winner()`: returns the set of candidates with maximal votes.  Normally there is only one, but there could be a tie, in which case you return the set of tied candidates.  Return `None` if no votes have been cast.\n",
        "* `margin()`: returns the margin of victory, that is, the number of votes separating the fist from the second candidate.  This can be 0, in case of a tie.  If there is only one candidate, you can answer with the number of votes for the candidate.  If no votes have been cast, return `None`.\n",
        "\n"
      ]
    },
    {
      "cell_type": "code",
      "execution_count": null,
      "metadata": {
        "deletable": false,
        "nbgrader": {
          "cell_type": "code",
          "checksum": "413d2b39e40cdefc34b2a2ff08edc29e",
          "grade": false,
          "grade_id": "cell-b4a77cb854779176",
          "locked": false,
          "schema_version": 3,
          "solution": true
        },
        "id": "34ddecdc"
      },
      "outputs": [],
      "source": [
        "class Election(object):\n",
        "    \"\"\"Implements the election class.\"\"\"\n",
        "\n",
        "    def __init__(self):\n",
        "        # Dictionary mapping voters to the number of votes received.\n",
        "        self.votes = {}\n",
        "\n",
        "    def vote(self, c):\n",
        "        \"\"\"Records a vote for candidate c.\"\"\"\n",
        "        new_vote = self.votes.get(c,0)\n",
        "        self.votes[c] = new_vote + 1\n",
        "\n",
        "    def total_votes(self):\n",
        "        \"\"\"Returns the total number of votes cast.\"\"\"\n",
        "        total = 0\n",
        "        for v in self.votes.values():\n",
        "          total += v\n",
        "        return total\n",
        "\n",
        "    def winner(self):\n",
        "        \"\"\"Returns the list of winners of the election.\"\"\"\n",
        "        max = 0\n",
        "        total_winners = []\n",
        "        if len(self.votes) == 0:\n",
        "          return None\n",
        "        else:\n",
        "           for i, j in self.votes.items():\n",
        "            if j >= max:\n",
        "              max = j\n",
        "              winner_vote = i\n",
        "              total_winners.append(winner_vote)\n",
        "        print(\"total_winners: \", total_winners)\n",
        "\n",
        "\n",
        "        return total_winners\n",
        "\n",
        "\n",
        "    def margin(self):\n",
        "        \"\"\"Returns the margin of victory of the winner.\"\"\"\n",
        "        runner_up = 0\n",
        "        top = 0\n",
        "        if len(self.votes) == 0:\n",
        "          return None\n",
        "        else:\n",
        "          for p in self.votes.values():\n",
        "            print(p)\n",
        "            if p > top:\n",
        "              runner_up = top\n",
        "              top = p\n",
        "            elif p > runner_up:\n",
        "              runner_up = p\n",
        "\n",
        "\n",
        "        return top - runner_up"
      ]
    },
    {
      "cell_type": "code",
      "execution_count": null,
      "metadata": {
        "deletable": false,
        "editable": false,
        "nbgrader": {
          "cell_type": "code",
          "checksum": "3a67d81838d8813b4c805d365b78c801",
          "grade": true,
          "grade_id": "cell-51d556dc9c8d51e4",
          "locked": true,
          "points": 10,
          "schema_version": 3,
          "solution": false
        },
        "colab": {
          "base_uri": "https://localhost:8080/"
        },
        "outputId": "c5f8d2eb-7aa0-40c4-983d-fe8134b292cf",
        "id": "4fuW7VWFk7wZ"
      },
      "outputs": [
        {
          "output_type": "stream",
          "name": "stdout",
          "text": [
            "2\n",
            "1\n",
            "2\n",
            "2\n",
            "1\n"
          ]
        }
      ],
      "source": [
        "# Tests for margin method.\n",
        "\n",
        "e = Election()\n",
        "assert e.margin() == None\n",
        "\n",
        "e.vote('a')\n",
        "e.vote('b')\n",
        "e.vote('a')\n",
        "assert e.margin() == 1\n",
        "\n",
        "e.vote('c')\n",
        "e.vote('b')\n",
        "assert e.margin() == 0\n",
        "\n"
      ]
    },
    {
      "cell_type": "code",
      "execution_count": null,
      "metadata": {
        "deletable": false,
        "editable": false,
        "nbgrader": {
          "cell_type": "code",
          "checksum": "1dff2e118fef6faa257683dd48cf7f3f",
          "grade": true,
          "grade_id": "cell-f41fa91bb1842bbb",
          "locked": true,
          "points": 10,
          "schema_version": 3,
          "solution": false
        },
        "id": "df1fc34c"
      },
      "outputs": [],
      "source": [
        "# Tests for total_votes method.\n",
        "\n",
        "e = Election()\n",
        "assert e.total_votes() == 0\n",
        "\n",
        "e.vote('a')\n",
        "e.vote('b')\n",
        "e.vote('a')\n",
        "assert e.total_votes() == 3\n",
        "\n",
        "e.vote('c')\n",
        "e.vote('b')\n",
        "assert e.total_votes(), 5\n",
        "\n"
      ]
    },
    {
      "cell_type": "code",
      "execution_count": null,
      "metadata": {
        "deletable": false,
        "editable": false,
        "nbgrader": {
          "cell_type": "code",
          "checksum": "c50d39f21e76978c676dff078f0d8356",
          "grade": true,
          "grade_id": "cell-bfe4cd563a6bd6e6",
          "locked": true,
          "points": 10,
          "schema_version": 3,
          "solution": false
        },
        "colab": {
          "base_uri": "https://localhost:8080/"
        },
        "outputId": "059a93c0-8ded-4ef8-b30b-cd0153f72297",
        "id": "VqEUXEaxsda3"
      },
      "outputs": [
        {
          "output_type": "stream",
          "name": "stdout",
          "text": [
            "total_winners:  ['a']\n",
            "total_winners:  ['a', 'b']\n"
          ]
        }
      ],
      "source": [
        "# Tests for winner method.\n",
        "\n",
        "e = Election()\n",
        "assert e.winner() == None\n",
        "\n",
        "e.vote('a')\n",
        "e.vote('b')\n",
        "e.vote('a')\n",
        "assert set(e.winner()) == {'a'}\n",
        "\n",
        "e.vote('c')\n",
        "e.vote('b')\n",
        "assert set(e.winner()) == {'a', 'b'}\n",
        "\n"
      ]
    }
  ]
}
