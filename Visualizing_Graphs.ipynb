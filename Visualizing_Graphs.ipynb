{
  "cells": [
    {
      "cell_type": "markdown",
      "source": [
        "## Visualizing Graphs"
      ],
      "metadata": {
        "id": "VPKxOlnfzKHf"
      }
    },
    {
      "cell_type": "markdown",
      "metadata": {
        "deletable": false,
        "editable": false,
        "nbgrader": {
          "cell_type": "markdown",
          "checksum": "0e00ee8243a084ad9e1db441d15ff245",
          "grade": false,
          "grade_id": "cell-f2ca59ac9fa307fd",
          "locked": true,
          "schema_version": 3,
          "solution": false
        },
        "id": "FJQYOWF1DudD"
      },
      "source": [
        "A (directed) graph $G = (V, E)$ consists of a set of vertices (or nodes) $V$, and a set of edges $E \\subseteq V \\times V$."
      ]
    },
    {
      "cell_type": "markdown",
      "metadata": {
        "deletable": false,
        "editable": false,
        "nbgrader": {
          "cell_type": "markdown",
          "checksum": "ecb7da0a46f62298d4ede83c71363cae",
          "grade": false,
          "grade_id": "cell-70b26c9402c296b6",
          "locked": true,
          "schema_version": 3,
          "solution": false
        },
        "id": "0lLmY1njDudE"
      },
      "source": [
        "![graph1.png](data:image/png;base64,iVBORw0KGgoAAAANSUhEUgAAAREAAADFCAIAAAD8LlFUAAAAAXNSR0IArs4c6QAAAAlwSFlzAAALEwAACxMBAJqcGAAAAdVpVFh0WE1MOmNvbS5hZG9iZS54bXAAAAAAADx4OnhtcG1ldGEgeG1sbnM6eD0iYWRvYmU6bnM6bWV0YS8iIHg6eG1wdGs9IlhNUCBDb3JlIDUuNC4wIj4KICAgPHJkZjpSREYgeG1sbnM6cmRmPSJodHRwOi8vd3d3LnczLm9yZy8xOTk5LzAyLzIyLXJkZi1zeW50YXgtbnMjIj4KICAgICAgPHJkZjpEZXNjcmlwdGlvbiByZGY6YWJvdXQ9IiIKICAgICAgICAgICAgeG1sbnM6dGlmZj0iaHR0cDovL25zLmFkb2JlLmNvbS90aWZmLzEuMC8iPgogICAgICAgICA8dGlmZjpDb21wcmVzc2lvbj41PC90aWZmOkNvbXByZXNzaW9uPgogICAgICAgICA8dGlmZjpQaG90b21ldHJpY0ludGVycHJldGF0aW9uPjI8L3RpZmY6UGhvdG9tZXRyaWNJbnRlcnByZXRhdGlvbj4KICAgICAgICAgPHRpZmY6T3JpZW50YXRpb24+MTwvdGlmZjpPcmllbnRhdGlvbj4KICAgICAgPC9yZGY6RGVzY3JpcHRpb24+CiAgIDwvcmRmOlJERj4KPC94OnhtcG1ldGE+CrDjMt0AADN7SURBVHgB7Z0FdBXH18BL8ARPIAJBgkMbijsUgkOBooVCkeKFP9IiLU5xaXEvTnEJULRYcCjuUJwSEpxACNrvl285y7K7b9++5AWS9+adnJzZO3dmd+7s3Zm5Gu+///77xPQP5MOHD587dy44ODhevHheXl65cuUqWLAgZdN9CEQ7UODBgwfbt28PDQ29ffs2s5AuXbpy5cqlTp3aDl2LLqxRIJ5JnmF6+g8avHTZsqSpPNxz+Cfx8P7kv/8i7t2+d+FE+IM7DRs0GNivDzNn7XaiPloUePny5YYNGwYMGX729KnsJQISpk6X1MP72d3glw9CL+7dmjvvpwN696patWrChAmjdRvR2JACpnhm2PCRQ4cP/7Re68/qt0mdMauqw4c3Lp9YOu3U8hk/9+r1U68eqlpxaS8KXLlypVbd+nfDX5TsOiJj0XIJEidR9vzqecT1A9v3/NbTwzVR4IplWbJkUdaKsh0pYIVn3rx5U79Rk8MXr1YdvSSFt6/BjR8H39jwY8MG1SqOHDzQAE1URY0CR44cKV+pSsluI/PWbmawE2bXcHr13D2/9rh84VyaNGmidi/RypgCCYyrK1Sueun+03qztydIlNgYE46qO3v7qM+TgibYxphWttZevHiRQ2O9aRv8Slcxbgs7ffpVc1cPLy+f9KdPnsiePbsxvqiNAgVcDNoMHTbi8IlT9WZttcowUiegdTv2bOn6LezlDLoVVTZR4O7du2UDKlbqP9Uqw8jdglllyBxa0VYGioK9KGBxb8ahP2uOXE1WHjfekmmfg03agjr5Ll04J0QCWuJEAdL5h+57bz0t32+ysu21/duWtAzosPNWsrTeSriyvG1QhxI+buPGjFICRTn6FLC4ziAl49BvK8PwQDShIc2j/3CiB2T6s2bNKtZpUBRIQSva0kMU2oomBhTQ5xmOkoiVkZIZtDSo8m/QdsnSpSal2Ab9OEPV6NGjZ8yYER4erjvY1YFr/EpXdU3toVtrDKSVX5lqq1YHGqOJWlspoM8zSGmSpHLXipXp/fnTsC2DO03+IsNo/0RTAjLtmzpEe8tUvn6uqdOi/dRWCYiKAr/88kvXrl3d3d2bNGmyf/9+Ve2KNesyl6ulAsqXYbdvLmtTdVyxNL9/mXfX+H7/vXkjV0mFLOVq0YMKKC6jSQF9uRmafo8c/rpdb+zb6tq+rYW+7eyRLe/VvVt2je/jmaeAX5mqKmT0nqtWrVq/fr2LLb/48ePbgu4SQ/h0qxpOzF1yr8ePH9P/okWLVq9ejS6/U6dOzZs3l06D58+dq9Ipn6W7r/y+ZpbSVSv2mRh6/vj+GcPCQm5WGzJLiZw2Z76/x51TQkQ5+hTQ5xk2wUncdQ6Xr1+8uLJrY7E2PxVr3Yt756hY58KWlSFnjmh5Jom71/3799OmTYuGx/zv9evX5pHBjDl8Rgf3xhBPyt8F+n/27Jk0iwzn6f//BgwY0LNnT4TLf//9953bnPJ9LE1ztnI1Kw+cRm2eGo1TeGf8a8j/in7Xw90vl4zvltbrXuht+VIU7EIBfZ6x1HX8RIm6HHok1T6+df3K3s3hD+6+fvlCBz9ePD8/v+7du+tUxQUQh7EY5Unp0wDP7969W0kPiUszZMhQrVo1JVy37F+/tQz3r/vd1mFdru3fquSZeJ9YlIvKDUXBVgro84y3t3fEziO6fQWfOLhv+tDrB3e8efnCM2/BxMlT6qJF3A329v5ctypOAFEO8vryi+mnlZX6yZMn515NmzZt1apV/vz5pfum9fJ5cudWGrccuo+RMn1mGY4pjZu75+Nb12QIhSd3gj08dfYLShxRtpUC+jIArJXvXjih7Yu1ZXHLgIRJXJsu3t/18JNvFuxKmsr9Ez2jZmw36UTbg4CoKPDkyZMECRLUqFFjyZIlWCtPmjRJZhgwc+bKFXruuKqJfBnx6L5cpvA87GGSlO/Zy9w5f5welDiiHH0K6PNMgQIFIh7ee3D9kuoGNw7vehn+pHyv39gAxHNxeRnx7Oldne0yDZ89vMuOXNVcXGopcObMGQ5+a9euxR5Zu6zVrVnj6naLwuJLO97JxG4e3v3y2dO070turmwPpAftTQUkOhTQ5xk2DJj3n1waeb5U/pKkSM3lxW2BL5+F37t0dk23hi/Dnz67f+fNq1dKtJPLpjeoX1/edSirRFlFgdy5c0u7MhVcuqxdq+blXRs4NOrW7pk08NyGpRGPHrBh3tDnO/eseZTCGFpdDlr/VW2LomrdPgXQKgUsnhF1bWcQVP3Zs+nZ9Ys/+eS/RK7JS3zfnw30kYUTaoz6I0/1RtLN7l0+v7hxscsXzwvbGavUN4NgYDtTsd+UPZMGhN8L+SSei2+hMjVGzE/ulUHuU9jOyKSwb8Eiz3AbbDRnLF9TZ9Y2lY3ms4f3Xzx9nMInk7SSoFlL5pleKr968Xx6QCZv95R7du9G0GzfZ3XO3rCz9C9QqFDnEbmrNdRSAOnew5tX3Dy8Erm6KWuPLZl2ctawE0f+9vCIig2BsitRVlHAiGdArdOg0fGbd2pP+VPFNqpepEsYZvl3Fcr458rk4/n777/Pnz+/QoUKupgCaBMFjh07VrBgoa8mBWYtW91Mw8u7Ni5vW/XChQvCF8AMuWzF0T/PyL0sX7wwo6vLzEp+WCvLQN0CCCtbli/ol2HuzGmDBw9Gq92sWTN0c7jj6uILoHkKfP7556dOnVzRvsaJ5TONrfioPbV67pafv8VwSTCMeQrbhGmFZ9BYb/9rc88u/8O8P2h0D60kjZsBDBrTE4TW9WquXLqIJgC/+OKLEydOIBQqUaLEpUtq+ZtNjyiQoQCigsuXL/+7aip0vhy0AU9mFVmAAKf2xrIJRw8dQPKpQhCXdqMAXyarv82bN4eEhLTv+L806bx8cuT1r9GoSLNu/FHgEmC77zuBoNvPhAkT2FIvWLBAt1YAbaLAixcvAgMD8xcpnsQt+acVahVo0Ma3cFn+UwYCnFpw1q1bZ1O3AtkmClg5z8CavXr1GjFixKtXr9Ae0DUmz1KsJgoBAQFsG/ikGYuVWXAaNGhQuHDhKVOmJEuWzG7s7sQdybGa2rdvD1URUcqxmjZu3IiqZ86cOeyNnZhCMTl0Yw7jQJI0aVIU1Vo07Gv+/fdfLVwXgn9ImzZtsEDD7lAXQQCjRgFeDVXDPXv2JEqUiFmDbVRV4tIuFFBTXNkpDOPq6sqsEMFECZfKnp6emD9r4QaQ5cuXs08bNWoUFooGaKLKPAW0PHP27FlJSSrYxjwZbcK0yDM9evSQGIZZyZw5s7ZT1C+WzjBaZBly7do1pAIVK1YkAKQMFIUoU0DLMxAWbgHOT7BNlAlr0FBfbsYKM3HiRNnhVjeoKZ0aH2OkaVP9z5gxY1BQUPHixTkIsfNW1YrL6FOATUFExFupGs45HHjYpEW/W9HDOwpo+QnTWnmFkfBQTWrRmBtU1Fq4ScjOnTt9fX27dev2/Plzk00EmpYCTJAWyHnm3QR/8gmhaPGa1qIJSNQooLPOTJ06lfOGpGaRSK9rBaPCUU6SmXKZMmVQb6NzKFasGDHvzDQROCYp4Ob2zo4GQSVTyYbNZFuBZpUCOjxz4MABZC+lSpVCXCZFyybyvLajaPIMHbJSETMAeRpbtblz52pvISBRo0CKFCloCLdwniFGx6NHjypXrhy1rkQrLQV0eAZCo3KB7iNHjmzRogVtSpcurW0ZfZ6R+mzXrh37NO7VuHHjsLAw7Y0ExFYKFCpUCLuBhQsXNmrUCMVa4sSJkyRJYmsnAt8iBXS3dDgCpEyZEhdCalGf6eJw5pEQdGttBUqnVQR0rHK2tnVmfOZVO3wC2UhActTky5dPiyAg0aGAzjrDNPCJql27trQtTpUqlS7D2WudkTrnQzh58uTffvsNL9/hw4czJN2bCqAZCshObGXLlr13796pU6fMtBI4JimgzzPz5s379ttvjbuwL89I94JRMckhKhqSOhE01Zj+ZmpRBhCUg9k0gyxwTFJAh2f4LN25cwf7JeMuWAqioJ8x7pNawhTt2LGDDyQKHJjHKr5AMKYA3z4MZPnAGaOJWvMU0OEZRFgQ2io/xMQ6Iz03stF+/fohUkM80KVLFwx1zY9HYKooQPQfHx+fbdu2qeDiMsoUUPMMUeo4zFjdmHG/mOMZaTCY2GAQffPmTQyiz58/H+URioYYODOngg52o4BKgIBmBkGzCqh7yRPowu0OnD59OiHAZ86MdFEUPxUFzMzCjRs3UIXxjVO1FZdRo4B6ncFdCe8LqxzJBFjdvFntxCRC69atd+3aNW7cuIYNG6KeM9lKoMkU4IiI48ahQ4dkiChEhwJqnuHYbSZScExvzFRDQkPHlONZ5e/vv2/fPlWtuLRKAb6DJEm3iiYQTFFAuTxxeGAR50ijBOqWMazErEa3KkaBxJuEc4jRYeYhY/RJYknnzLGZJ9m6dWvRokXNYAocqxR4b51hkalSpYrSOtMS233gdUZ+DDSeR48e/euvv8qXL3/r1i0ZLgrGFMD6iXgm6DeN0UStGQqoecbMxox+4cUPdp5RDQPJKV/NSpUqocBh2VHViktdCrAp4CuzadMm3VoBtIkC73gGNQjvohkBADf4WOuMNDZWwp9//nnNmjWkBOvYsaPsYmXTyJ0NmR2EcPKzy6S/4xncJz/99FPOM2b6/bg8Iz0hjjfHjx/H761IkSI4wZt5bGfGYQeBGIANgjMTwS5jf5eziUNC9eqmQpty49jAMzwGxteLFy8mozfePsOGDcMVxy5EcchO8CrHR504WwghHXKAJgf18OFD1tsDhw7fCL5NLsYMPj5ZM/nWrPklBhNmTvLc5d06QxQl88EXYwnPSGRq2bIlAmjMouvWrQtFTNLOCdHIBuXMybRPnz5dq16D9BkzD5y+8JiL5zP/ikkrNruSJufqs7dLV6yaOXvOhX8sMhMq+V1MQL7ZBIk1GUYeCUyOHDlilRyG8xihP1asWEGo6JIlSzoJSyCJMb/dIkoWIenGjh3rJMSRhwmJ+vYfOHHK1M+/7VqwaWfyKMpVcuHW8f1Bw7ukcHm1ad0a5EwyXFt4u878888/+MmYZBh6iVXrjDQqAkfgfkMwgzp16gwaNAgFjna0Tg4h85xzrjM1vqq7YN2W5n+eL9qqpy7D8GL45Cv29aL93tVbFCxawvg9ecszbMxwiDVGVdbGQp6RHo+TLoIBnKXxZcDOSvnMogzPoN1i7pyKFLXrNTh68Vq9OTss5UtWUiN/4+8zlK/j7ZvZQPsXRZ75iPoZ5Qh1y0T8kOQZfAVwKNDFcU4g22+I41RG4uPGT/j79IVGC/fET5hQd9LJrKjKbFm+16+fNe9euUZNS2ebtzzDkm1TythYu85IdGGXz9kGjecPP/xAUDyCDejSywmBfEfYUzjJwAlqOXDwkIpD5+rux+5cPDWnboHxxdMc0+SNZbV5/CbB0mXLdQkVyTMsGtARNxVdDF1gLOcZ6ZnR27BPI6AEL4rwiZdo4lRHmvETJmYuXTVdrny67/CxRVPIrNh2y5W8NZtqEcr0GvtT3366+9hIniGJHFH/dAPMavuSIHGCZ3hUokngbsWaQw4pck5YGo7zwPkyEnHBSca7LHBt1soNLQ327qUzXp8WSpk+c+JkkeHgVD9EAk8jXqDOUsG5jOQZvsFI7rV1BpC4wjPSEHA7JfjqjBkziNFx//59g3E5fBUKTSexmWCiL5w5nbm4TkZXsibPq1845PThf7YGUrj7zxndec9ese6aNToGjZE8c+XKlUyZMuk2swSMWzzDKLJly0bkNP4T7wsrIUvjcng4GVCISof+2+FHiiYqRToflwTvLF3kISdM6pa13JdJUrmn8M5IIXEK/WhkydJnuXRNR/QayTNXr14lGJ/co5lCnOMZBoVt7+jRo/GRxt+TGB1Oq8DJmjWrM2Q4RVic0ttX92VOkjJ1yQ792JWly5OfQvJ0+hpMOOqmnr/J23UmS5Ysur1bAsZFnpHGQuRiYquz5uBScv36dUsDdGA4c83OwoEHKA2NiJYRTx5HZ5jPnzxSRouXu3rLM3x7ZJCZQmzWz1h9fvYnWOlhnIYQidRrVvEdDIENKjsLBxuUdjhoosLvh2rh5iHh90J9vXWi+0fyDOb05q1mpFvG3XVGen4UOKhu4Bwy7BKjQ85OZZ6gcReTID7EfIy7z2/yyVlOnz64FxYadWfe24d3Fi1cUHu7SJ5BwmDSbUZuH9d5RhoI6wz7NIw7KRBLTR6dYxf4PvKVdOwxMjrSjFeqUvVyUBRDsb56HnH971046mkJ5UL0IzZtpJrR1hlAHINnGCBJWogb2qdPH1x/J0yYYDBkh6lCF+cM6wzz1aF1y6OzRqpMY0zO4+H54ypUqqQb4N8lCosMd3UYnpEo+M033xw8eHD+/PlffvllrHJwMDnBNqE5yToDTbDT9fNNfzpwnk30Afl52KNj834bOrC/bkMXTEtssgCQenEwnmFQfn5+xBDNkyfPZ599RtoWXWI5BpBvJ5PuGGMxHgV+l7OmTd47ttfNI3u0mI3mbq/6y0wt/PXLl+OKpurYvl3evHm1tUBcoqamcDyegRYocEaMGMFqw7LTu3dvMoTpkiyuA3E0cp6oI9g9LJgz+48mpW4cCjIzcRxjVrSq0Pr7/w0eNMASfiTPcFqyVG0J7pA8Iw02ICAAy06Msogx4JAyWXjGqVIt1KhR/eDBQ8taVTy5Ypbx2Sb03PEVzb8okSfr1PG/WXrzgUeRZ+K0fsaAHFIVp2RCtHz99dcYRBOjwyp+3EIgvSZhUOPWM0fzaQsXLnTi+LEHm+fPq5nn+PKZKgE0jHR518ZNPzVd3KRk+8Z1F86ZZRxMIwHrjCqdvJnnc+B1Rh4+qW+whsbQZvPmzYjUdFXCMnIcKpCG0anWGWlq2KTt2bGVk+rkGbPmj+nhltrdNU26JMlSPAq+8Tj0Vo48eb+u9eWN9Cnu3bWuuUpAKtkoZEt2Bp6B1oTqZJNG5EHsvpcuXcplHOINS48qxdq2VOvAcF5a3N1nTplITnKsh27fjozVRLiM9OnTS/pJbKmYYhQPUrJ4i6QgegYiI/ZaNv1IbkFsF5uaxGlkdmioz4nREdtGwbza+kgXL17EVMrWVnEdH4YpU6YM5EK0YzCWJk2aSCmQDXBc8BGPQlIXJ1ln5C8NOzRcWeEcYvPGdYUgQjO2Z/LQnKTA6sEMcgwx3lX16NGDWFbGe1fBM2bfGdwldu/eTdhEPHAIbG22WezDIzpC0qRJY99zxeAT/fnnn+wRsCrE3sWYZ9DOsQ83znTtglICQYqtRorOts5I8wnFhwwZgrM0CcTxl7YUlyQGJ98eXcMzDiPPMEMPnIXYJkhxVFCrGPMMHWK2axw2MdJGEwtQ9rhmbi/jOCfPSMPHIuPkyZOkc+FEd/nyZZkmcaVAZi5SBcaVp43mc7IYVKxYUWIYukKIjJuqcZ8ce/ga7t271xLaW56x1QmJE9LHyj9jaSQfEo48gEBQrDaEtmHZ+ZC3jv69goODnYdnGjduzHj5xMt0s7rOgNm2bdtp06bJTVSFSJ5Bbmbr99KZ1xmZgsigt23bRqJCYnRY/XrJrT56wXl4hsApgYGBSoLzrTfDM2SHp6GlePmRPIPk8dq1a8qurZYFz0gkIicu4RQRQyHXjyuhkHGUN47hbXX24woCGYpQyAwYMIA8IpzbUUWy6TLDM+wjyCtjSRIQyTOkarJ1vgXPyO8NMzF9+nSE+vgnjRkzhi+ZXBU7C3wfbQ2ZEjsHYuapyPOOtIZVgSRFRFAhgXGJElZCmEvdksuIadW/hbRaIUhBJk3Z5I+8fKSDNYnsJGi8i8WLFyfRJwrmDzZkJtWme/GxY67RyNnUKk4jo4+SjF1sHUX27NmxAtG2ilxn8FXkSGOTc69YZ7RfIDYAmEeQUpx9WqzN9gpj4y5lxTZEO7a4DEECxhaal9zWQdSvX1/XQjeSZ/gx04Qvkspm/gue0aUS4n9S3yxZsqRVq1Y//vhjLFTgEDOVrbjuwzsqELtM1ANRGB1aHaZS2/Atz7DJQ8mtrbYEETxjiTLAEfDjgYMhH18i/htgfvgq8uMJnjFJdlYnpDs4vavw3/IMhxPsC4zNbJQt2eQ5s35GSQrdMnayq1evJgoUohtL4hfdhjEN3LFjh8lDcEw/yYfpH52m5D4YtdvpLjVveQYvK8yoSHVksmuxzpghFKlveEfxl8ZZ2oyI00yf0cHBpJfdBE5B0ekkbrUlxgN65yjb1zFxy5YtUw35Lc8AJWY+n0ZVteoSeUvz5s1xYJw4cSLbD1Q/XDpV3iwVQaxeshHCnJYzN58k7SpvtbklhEmTJmG1zg8EqUDaakvIMpwnQeoahZApcg9xrsApHZ6J8mOTaBlTaEyl3utBFqVhcoZJBQuIDNEWYA/VloweMZ/WYgqIigIrV65EOYAax5jCqlaWLnWVkpaQZfiwYcM6d+4sXzpDgZWAc3x0Rvr999+PHDlS2cN70v2yZcvijais1pZz5cql5Dl4BlsMLZqAaCmAGyBxOQg+GH2KYdmOzkGeCMq//vqr9o4qCLdGsaYCOvYlCgAWg+iMEcNC6Kbs4T2eYeuGzEdZrS3jGa+cLdhMiyMglihA9IWBAwey4CBxsYRjBo7fGx4cMs9QBmLckHws7MpwbDZGc6RaaMKuOJojwpIQ3Q7/5X7e4xn0CSz67N7kam2BUL/ybJF5jy2HFkdAjCnAQdzX15cYHdF5gytUeJfBi7LxHallaWrRooVVNEdCQLOMwCP6I2KdYbWR+3knA+CjhU9Vhw4dOF/KHzBtAfM1NhgSnF4I1qrFERBjCuB4g9UFWzWOp1GWoGBVzTeLG/G/Y8eOxneklm09klOraI6EgBUl0eujPyIsCTFgf9ePzD1SgeUM3QKaOBVcecnawjzBYEyVEi7KtlIAJw2+Qb///rutDcFnUyDZgzAXVm0FMZlBnUCTKNwo7japV68e3k3Rf/6dO3einpb7eW9vJkGHDh3KzWQMbYEdBQJvTv8olbW1AmITBfD3xAedFQBvDRpiTsv3DKm0mU7YFDALaIGsInft2rV79+5W0RwMAQdkEi9Hf1AoRnnhsfWUutLhGTCI+IS/jsHNpCXPAEFUmacAnrcINEkDjL26pH1D6A/Qag/wGwxm9ctFRHPimuNJYrVDR0LgNUZYZa8R8cKjHpV60+EZKmbPnu1U4cvsRdno9DNnzhwWDWnTDOdwXIlOb8q2iKFRQyshzlDmU5IzZ057jZRjCO43Um/6qZrwdJ8yZQq7bRyj3x19PvkEeeW6detOnDl381Yw8Aw+3v55cmGrxrqkRBNlWynAZKDIR90pNWSRIb80hhtso7VdUcsuYNPmLf+G3JEcldN7pq1cqSK2bdIypWyCdHvcuHFaAxAljkOWcdfHw8VeQ0PuJadefU9uJt8Am/YFCxaQT0KW6uAZUrBYyZx5P5u6ad/ZJL5vitbijwKXAKkCQW4uCrZSgPMGkjRl9g4YA/8Njo7KrkJCQn7u08/TO33zLj33Pk0amqlwyprt+E8ZCHBqwVE2wUKUbX3hwoWVQGco25dnyEWDG4VEt3h84SxRcOrUqXztkLI1+671rv0HS3QZnqtK/Xguajb7782bcxuXkRmnZtUqUyaMlbU3lroVcC0FEABgvEeoQYIJwSeSgTnbcc73bAkk/C1btjRs3CRj6WoluwxNllYn2NKTO8F7xv58fdf6JX8sIEARrdDE4WyI/pRQhtqbOjYEKyFcuPkY2WWYiByRT3IyZP9sxDPcrHLlyoePHvctUyOg35T4CRMa3J7sUFsHtc+S+NXKhXMM0ESVAQX4fmG4ThqPFStWsB3n68NLjwyNVeKPRUva/6/zV9M2eua2Emc95OyxVW2rHDl4IGuWTH379kXKHKucEQyGb98qNId4/tWqVcte3ZIDDx0XQk4jnuFrx7QV+qZT+d7jTd54bt0CGVK67t25TT7Ommwo0FQUgFtwMIR5OFKGhN75qnatNpsupfI1tUF/eOPy9MpZZ8z8vUf3H9nyEUdC1bkzXLKbwjOZV9xeg0UBw24ZrYARzzRp1uJKfPdS3d/uDUzee0ufluWye40ZPtQkvkAzpsDZs2eLly5be/pmqyuMsp+7F08vaVpy9swZTLMS7jxlXCzJr6y0jYzm2PFal8wF1YcTuV+UQWvWrivcvp8MMVko02vsjOkzaG4SX6AZU6D3gF/yfdPZKsNc2b1pZJ544fffphzyyJ63YPPui5avMu7cUWsJ/YNBqh0ZBkJxOpJCZ1rkmZ69+xbt0D9xshS2kpUmxb4fQHNbGwp8LQWQ1ewMCirU8kdtlVUIrWgrS3us4jsSAsJDjMftOyLMatEL06c+zyAl2LplS84qDaJ2Vxr+tXkznUStuWglU2DtuvVZytVKkOid2b9cZbVAK7/ytdes/dMqpuMhIIfE9MG+47LCMyhbvHP5u7nrcypZPOc1LPpbwWQzquY4OCtSOap6ONc0aX1y5wsKClLBuSSxAbkKcPa0NXKntitngKxcuy5rhTq6I414/HB975ZTymccWzjln72+ffbovhbNL+CrVWvXaeEOD8EJn2Rk9h0mohR0+rzt+nYAmKm7+WTRveWB30ftHNMjX4O2Bb/pdPPI7h1jer5+8bx4u94q5GTp/ehEBhJBAg/Q8ePHX7hwAW03wXPxTbeLnbZ8C4cs3Lx+vYCerIxUw380LRN+L6RIy+5JU3ucWbfwr8GdtBRInTHrjRvvZkGL4KiQmFhnECqwdmH4r88z8JOrl6+WoM+fPN4/fWihZt3K9xxDbd6aTV48eXx0yVQtzyT1zEAsbRTb2FHjkLN+/Xr4BPmp1Kd9D2fa53QMCJ+0e3dCkqfTsUs6u37x3Ysnmy4+4O1f5P8noiksdOvYXtXAk6X1uX8nlH5UURxUaI53GRPrDFTCccMiz+CY8fLJeyYYElmDTx56HvbQv05LmcrVhs19FREuX8qFl0/D3Nw8ML3BhRDdNmuL0gwEzU+7///J+KJgiQIvwp8kTZRGVXv90A73rHkkhqHKJX58/7rfaXnm5bOniRIldjaGgSAxsc7QrZR81kU1GdKlp6fny4c6idIf34pMuZHCJ5PcCuOAxMl1No4vH4TSCYal2IMQ+wPdqDIfHRpPDHP4/omfMQUyZcsZ/kBnIsKCbyhngelImT6zPCly4en9UA9PL/nSeQoxtM4Y8UyhQoWuHtyhJbHEHi/Cw+Sq50/D7l05/+b1axkiFWiOxQe+nPhSo8xmReMwQ/BvNoUwjGzAq2olLlUUYCJu6E2Eq3u6iEcPlMgRj9+7lKpuHNrpnIfGj7DOZMuWLXWqVCFnjipnhbJHtrz8v7p3iwwP+vWnRU3LqAw3MXlKlTIlncho2Le1bNny6NGjmFH98MMPuLzxNsi1omCJAnVrVr+5Z4O21jN3/pAzh8NCb8lVl3bqyJT/3bOBHmQc5ynE0DrDeQZu1N+bQdzWLZr/PXOYisrufrn8ylTfMar71X1bUTmfXDn71Oo5n33VQrVj/nvG0DYtW6jaSpe4NOA7zYbEOb9/ujQxAGJoeOvYvjsXT6lw/Ou1SuSWPLBzvTsXToY/uHt4/vgzaxeocGj179G9NWvWVMGd4RJPiigkz7BKGfZNHMst8kynjh1Cju1hxVB1VH34PN8iXyxvW3ViqXQb+7XOXb1xqU6DlDg0uX10N82VQFGOGgWY+J4//nhwotqCCWOLxvOCXr2ImF0738SSaY/8Malcj0hJpvJHK9rGxKujvEvsLLP/h23s/mysDXzujWw0V68ObNm+49eLDyRP56O6/esXL8JCbibzTK9SUbNbmPJF+lWrVteuXUvVRFxGjQLIGIuWLONWuHLJTgO1PaDZfP3yhVb7vKpjbbfHtw/sCXJOA3N8uZE88V9LsehAunXrhmZTXz8j9ct7f/T4iVFf5m0eeDK513v25PETJdLapT8OvjG/XoFhI0YJhonOxKja8tJvWLvaL1t2vnCl/vfekg5mkhQ6FiIHpg+7uC1QcpBS9eYklygDY8J0S9KaGPEM9B3Yvy8i495fF6kw6He/MlUNKH45aMOmn7/1SZum+beRwerFz44U8PLyCr0dnC1n7peP7xXrOChpKndLnT97eO/iugXBWxYTJwC5iyU0h4fzoZF8Xe07Us4zfLksnmfkm3Vo12bJ/DlHfv1h5XcBZ9cvQbgsV1HgEiBVICz7Y8H3HTqgxJT1/UpMUY4OBTiWXLpwLleiiFlVs++fOlh7zgQCnFqPf48fObAXNovO7eJ62xjiGZZu1IxG5xkl4dCoEFVj7qKl+3fvSp7WK3m6SH/0sNDgsDu3i5Uq3axRA7KgsHIBRL+PyTTxbaVLZSeiHH0KXL16ddjI0es3bgqPiHBLky5FOu/HocHoLl2TJKlWpfJPPX7EzSP6d4nrPRAMAAkt/+07EGI2oG80yzPyvRFH4GLO0g+E0HVEslPFB8LGrGrVqniWjh07Vm4lCnanALOAphjnKpYU4soyEXa/RdztkATAkIX/9h0C7s3IFaycZ7S3hENIQaPKQqNEY89HJCgCc2Edw5qjrBJlO1IAJhF8YomeMbQ3e/r0KXszm3nG0lMq4ZjlEDyFEHVkopOCBilrRVlQIKYpgH2jMlicvW734MEDDw8P6zKAqN2POHSkD2jcuDEhIKLWg2glKBBlCuDoQqKkKDe31JB4ACROiyme4a5EfCZPULVq1WLi6S2NSsAFBaAAhxlOevYlBSd5XCcJMxCDPMMTI0wj6DBx2WJCWG5fiojeHIkCMcEzCF1YZDCfiVmeYRp++eUX8g1+9913jjQlYiyxnAIxwTP46sMzDDzGeQa+nD9/PuHOBg8eHMsJLR7PYSiA8QqCePsOh3VGElTGOM/w3PiZoeKcPn26E2Z0sO+0id5MUkAK1HTv3j2T+GbQPijP8ECslUSnJ8o9EbvNPJ/AERSIJgVy5MhBkKNodqJs/uH2ZvJdiTY9d+5c5AFSMEIZLgqCAjFBAZKIXLx40Y49895+oPOM8qGrV6/es2dPpM/CiFNJFlGOCQrYl2fQkB46dEhyLv4Q5xklRbp06VKiRAmMdkQYDSVZRNnuFIBnCNpqr25JSYLxa4oUkeHLPzTPcEtCBBJDg0ga9hqP6EdQQEsBghyxMmjhUYPs27evePHiUtuPwDMYcRK9icia5LiN2gBEK0EBqxTAjBjrewLQWMU0g0DSX+wnJcyPwDPcWDLi7N+/PzkizTyxwBEUsJUCuG/lz5/fXqH0P/I6Iw0elyBWG2HEaeurIPDNU4AYeoTSN49vCRODSTSkuXPnlhA+zjoj3Rsjzl9//RVhmjDitDRbAh4dCiDmIgxldHqQ2rLIsDHDokW6/Jg8wxM0bdqUpUYYcUZ/XkUPWgqUK1eOzT9RL7RVNkFIx1S6dGm5yUfmGZ4DI058pElLLT+TKAgK2IUC6dOnx0Xs+PHj0ext1apVNWrUkDv5+DwjGXHimjZkyBD5sURBUMAuFAgICCAzRXS6Ih8MnjNIruVOPj7P8CjEGMCIE9GzMOKUJ0YU7EKB6PMMShGiZr/3MOz2YsmPNZSV9MCBA7HkecRjOAAF7t+/j40zLo9RHguChL/++kvZPFasMxIT+/v7z5kzRxhxvvdJExfRo0Dq1KkLFCiATb1N3dy8eZPwL9u2bcMymjyZyBKUzWMRz/BYyJ179OjBf2HEqZwkUY4OBerXr2/rnp+TAqxCGpJSpUqhEZGlzNJjxC6e4Zm6du2KYY8w4ozOWyLaKilQp04d1hllOldlrW6Z+Bts54hmhipz06ZNuGeOGzdOxox1PMOTCSNOeXpEIfoUIFIMUq/Nmzeb74q9GQcYCZ8tD2tOnz595OaxkWeEEac8PaJgFwqwPVu6dKn5rmASGTl+/PhwHU6aMuQTpUAgVpVxfuBZJT1urHow8TBxjgIkwcT1hY2WySfPly+fxCF8vlGMSsuO3DY2rjPS40pGnI0aNSJmzTsWFyVBAdspgB193bp1Z82aZbKpFHyDxE8wDJbR/Fc2tDkvgLLxBygT56lfv35Yp5Iy9wPcTtzCUSmA3o/wlEQIQAj2zz//4I4WEhLCKZ/ge3j5lylTBg6Rx062H9Kk+fr60kr74sV2nmEYvXv33rlzJ8Jygr3LoxIFQQFbKfDpp58WLVp8a9Cuh48eZS7yRcLU6RK6JX8WcvPJv5dvnT1eoVKlEUN+wVMNr3vOMDlz5sTPTIr5pLpRHOAZ9pGc4VxdXefNm6d6enEpKGCSAiRUbtG6TZoc+Ur/MNIz9zvjMal5+P075zcu3T9pQOs2rQf374vj/YgRIywlV4wDPMOoMJJj9SQTL2uOSRoJNEEBmQIDBg0eP2VazUlrtdwi41B4/uRx0PAuLrcu/L1vtxKuKscNnuGhUTMVKVJkzJgxrDmqMYhLQQEDCsxfuKhN+/Yt1p5Jns7HAE2umlu3QIn8/otmTSOJjQxUFuIMz/DQGHGS4BY708KFCyvHIMqCApYogBb/q/oNmweeSu6VwRKOFr65b6v8aRLOmj5FWwUkLvEMj7tu3bo2bdogzUCmoTseARQUkCnAaT577k8LdBvjV6aqDDRTeP3y5ZzqOVb9MU/pnik3jL36GfkRlQXc5Ugsyn9hxKkkiyjrUoBM4y7u3rYyDF3FT5iwRJfhXbr30u02jq0z0hhYaghdFRgYKNKp606qAEoUCKhaw61C09zVGkaBIP+9eTO5pMf50ydVCk26imPrjDT4yZMnh4eH2z2TdRQoK5rEWgoga92/e5df2Wq6Txh88tCK9l+OL+4+t27BSzv/XP9zi+PLZyox47m4ZC9fk7OAEiiVYyRvs/Y29oVIRpykU0cDxZpj385Fb45BAdLFJE/rldgtuXY4IWePLWkR4PVZ4fK9fnsSeguGwewyZYYsKszU2f1PnNGx24qTPMPYUNCSTh1PG8zSEKapRisuBQXYvSdP561LhwMzh6fwyVR/+kbOLSCkzpgtsKuOAsMtrffNAzrpkuLk3kwiBNyyfPlywqMJI07dN0MALVHg8s71uas3khgGnOwVvkqQxNUSshYeh3mGwSAKHD16NAlt7JsFTksmAYlzFCBoXlhosPaxUfa/CA9LptBvusSP75omrRbz6Z3gDD46K1Xc5hnG+e233+IIjVmNSKeunXVnhuCQHHbn9vOnYSoiJHJN5pIw0bOH71Jtvnn9OvxeqAqNywcXT/jnyaWFx3meYUgEE8Q7rXXr1trhCYjTUoCgecVKlWYbpqIAArF0uT6/vPNPGX5514ZXz5/Jl1IBWfPFbWuU4TNlBEfgGTwi0F6dPn166NCh8sBEQVCgWaMGZ1dM19KhWKue1w9u3z6q+50LJy9sWbl5YPskKdOo0M5tXJYzV26tcgY0R+AZhsFHBVH6lClTkAqoBi8unZYCTZo0eXMv+HLQBhUFclSsU334/H+2rZldO9/2kT8G9PotWVqfBImSyGjYzuwd22vsqOEyRFlwEJ5hSKRTh21Ipy5nhGPZIXWocrSi7FQUwExkyoSxf/Vv9Tj4hnLgEY8eZAuo1XrD+W7HnrXdctmvTLVH/15JmT6zjLO8VcXSxYroGpuB4zg8w2AIfYDPN5E4cV7lP842RBiUCSEKTkiBSpUq9fqh2/x6BcJCb8nDDxrXe37DonBOgkSJ8WjcNb5vPJf4GYuVlxC2D+967dDOxQvmyfiqQlzVaaqGIV8SjvrKlSuEG8WfG+DcuXNxuVHFQZSRRcEZKNCz+w8YOP9SM2+D2dsln7Pi7foEnzg4pbyvR/bPHt+69vrl82pDZ7um9kAMfWrxpOen9mABbMl5BorFSRtNg5mGYXBNIzaPtCvDPZU4omXLljVoIqqcgQL4Nrdu38Hz85KFWv3kmSc/Qw49d/zRv1fdPDzds+V9FfEM3+YDkwfW/LLG79OnGjAMDR2NZ1RLCpcYCiBVc4bXQozRmAJhYWETJk6eMXvOg4cPI2NopEqbMFmK8Ns3nt66EnzuREDFilIMDeNOqHU0nmnbti2hNlhkpHWGESJSe/DggfGXwyqZBIIjUYDjLtG/iNXEHgxpMrGaOO4rYzUZD9bReIbREvWwc+fOWHBGRERwwmN7RooOAl0bE0LUCgqYpIAD8ow0csIfYhlA/hDivlWsWFEZ4ppovEilMfO+eSvSHgmbIkwk0PjqKrBM0lGgOQ8FHJZnpClcvXp1u3btWIWRChCAlAS8OKyeP3cWdyK8IzD2Bg1TPCyLMJRA74say5JU3nneCTFSYwo4OM8weITO5HZDdPZNsxa79h/EzztXlfoYHanogn0R5hJof2tWrYIiTJx/VPQRlzIFHJ9nGCoHm/yFiyXJWSig3xTZa0ImgbKA0cTWQe2zJH61cuEcJVyUBQVkCjg+z+AjwKJR6JtO5XuPl4dtXCAqXIaUrnt3igjRxnRy0lrH55kmzVpcie9eqvtom2Z4S5+W5bJ7jRkuDKVtIptTIDs4z+D2XKRE6ZabLiVOlsKm+cSMYlblrAf37iJMh00NBbLDU8DBeaZW3frhucsW+KZjFCby6B+Tkp7ZEbhiWRTaiiYOTAFH5hkkZqnd0zZff8HNPV0UppD8CrOqZHt4/655DXEU7iKaxDkKqEWucW4ABg+MNsY7l78lhjm3Yem8hkXHFkm1tFVlrVsS3RJXwSd3vqCgIINbiConpIAj8wy5dt181IHepDk+tmTaul5NMxULqDxgKryxqtNX1w/u0E5/svR+7yXs1WIIiPNRwNH8Z5QziI2Mq5dO+gBikQSN7V2u++iCTTqBn7va10Qe2Tt5UMYiXyibU07qmeHWrXe+SqpacemcFHBknonMJPokRDuvIWeORDy6lzpT9tunD0u1XnkL7hjdI+LxwyQpUinxXz4Nc3PzUEJEWVDAkXnG09Pz5cP92jl+eP0SwOVt1TlJMDxT88yDUE/PYtoeBMSZKeDIPFOoUKGr/+uqnV1c8wC2Wn8+cfL3VpWkmoA9Vw/uKDz2F20PAuLMFHBkGUC2bNlSp0oVcuaoaoLT5cxHzIT7V84jUpP+bhzcsWPUj/Hix1diEj0+VcqUdKIEirKggCPzDLPbukXzv2cOU00zqRXz1Gi85Zfvr+7dwhmG/1uHdfHJV1zlF/33jKFtWrZQtRWXggKOrNNkdnEB98uRq/qkP1VJrl+EP906rPOZtQtfv4hI7uWbrXwtAsO5JHi3U2WRWdeh2pWL5y0liRevjtNSwMF5hnkl4EjL9h2/XnxAm+oaETMpe1J4q+XRxMKa8kX6VatW165dy2nfDDFwSxRw8L0Zw+a979SuzZwv84bdvqmiAkkUtAxDzMV5X+UbNmKUYBgVucSlRAHH5xnGObB/39EjRyz6uoiujYzyVQBhyTfF+/7Uq1ePH5VwURYUkCng+HszeaiE0WjfqQvJr3PXbUNqUmWmRSwDSLpADHlCYk8e/1vlypXlVqIgKKCigBPxDCMnBinxAecuWkpGXxKUSvkWyYZFch9ylZB6gUjyIn+66hURlyoKOBfPyIMnETZ5fUlTCoQkcuTEInSgXCsKggIGFPg/QLIruK7/gcgAAAAASUVORK5CYII=)"
      ]
    },
    {
      "cell_type": "markdown",
      "metadata": {
        "deletable": false,
        "editable": false,
        "nbgrader": {
          "cell_type": "markdown",
          "checksum": "b343d3e95347755cf8f3f18a4a53a726",
          "grade": false,
          "grade_id": "cell-66b9d6577419537f",
          "locked": true,
          "schema_version": 3,
          "solution": false
        },
        "id": "7Ol4q8OvDudH"
      },
      "source": [
        "An example of a graph with $V = \\{a, b, c, d, e, f, g\\}$ and $E = \\{(a, b), (a, c), (a,d), (b,d), (c,a), (c, e), (d, b), (d, c), (f, g), (g, f)\\}$."
      ]
    },
    {
      "cell_type": "markdown",
      "metadata": {
        "deletable": false,
        "editable": false,
        "nbgrader": {
          "cell_type": "markdown",
          "checksum": "a439a1aaf55988c47afbea5f6aa053ec",
          "grade": false,
          "grade_id": "cell-150c20821b677a45",
          "locked": true,
          "schema_version": 3,
          "solution": false
        },
        "id": "n7hI4gl7DudK"
      },
      "source": [
        "How should we represent a graph?  A general principle of software development -- really, of life -- is: failing special reasons, always go for the simplest solution.\n",
        "So our first attempt consists in storing a graph exactly according to its definition: as a set of vertices and a set of edges."
      ]
    },
    {
      "cell_type": "code",
      "execution_count": null,
      "metadata": {
        "deletable": false,
        "editable": false,
        "nbgrader": {
          "cell_type": "code",
          "checksum": "96134cf8342e607345aba52440c09de6",
          "grade": false,
          "grade_id": "cell-758e8d6e839612a2",
          "locked": true,
          "schema_version": 3,
          "solution": false
        },
        "id": "LHwzL-nXDudL"
      },
      "outputs": [],
      "source": [
        "class Graph(object):\n",
        "\n",
        "    def __init__(self, vertices=None, edges=None):\n",
        "        # We use set below, just in case somebody passes a list to the initializer.\n",
        "        self.vertices = set(vertices or [])\n",
        "        self.edges = set(edges or [])\n"
      ]
    },
    {
      "cell_type": "code",
      "execution_count": null,
      "metadata": {
        "deletable": false,
        "editable": false,
        "nbgrader": {
          "cell_type": "code",
          "checksum": "4edb736e7fe8ac2a48ef3a6957c84ce5",
          "grade": false,
          "grade_id": "cell-fc0b81c7873ae891",
          "locked": true,
          "schema_version": 3,
          "solution": false
        },
        "id": "CbNdTreZDudM"
      },
      "outputs": [],
      "source": [
        "g = Graph(vertices={'a', 'b', 'c', 'd', 'e', 'f', 'g'},\n",
        "          edges={('a', 'b'), ('a', 'c'), ('a', 'd'), ('b', 'd'),\n",
        "                 ('c', 'a'), ('c', 'e'), ('d', 'b'), ('d', 'c'),\n",
        "                 ('f', 'g'), ('g', 'f')})\n"
      ]
    },
    {
      "cell_type": "markdown",
      "metadata": {
        "deletable": false,
        "editable": false,
        "nbgrader": {
          "cell_type": "markdown",
          "checksum": "a48e354443a148ae6be316874b0cfd55",
          "grade": false,
          "grade_id": "cell-e84065ccd22b3d97",
          "locked": true,
          "schema_version": 3,
          "solution": false
        },
        "id": "Uyiv4deGDudM"
      },
      "source": [
        "Great, but, how do we display graphs?  And what can we do with them?  \n",
        "\n",
        "Let's first of all add a method .show() that will enable us to look at a graph; this uses the library [networkx](https://networkx.github.io/)."
      ]
    },
    {
      "cell_type": "code",
      "execution_count": null,
      "metadata": {
        "deletable": false,
        "editable": false,
        "nbgrader": {
          "cell_type": "code",
          "checksum": "eefeed28d3a95a2b2ee824710c0cd660",
          "grade": false,
          "grade_id": "cell-97d92f3d359b964d",
          "locked": true,
          "schema_version": 3,
          "solution": false
        },
        "id": "bkJDD-O1DudN"
      },
      "outputs": [],
      "source": [
        "import networkx as nx # Library for displaying graphs.\n",
        "\n",
        "class Graph(object):\n",
        "\n",
        "    def __init__(self, vertices=None, edges=None):\n",
        "        # We use set below, just in case somebody passes a list to the initializer.\n",
        "        self.vertices = set(vertices or [])\n",
        "        self.edges = set(edges or [])\n",
        "\n",
        "    def show(self):\n",
        "        g = nx.DiGraph()\n",
        "        g.add_nodes_from(self.vertices)\n",
        "        g.add_edges_from(self.edges)\n",
        "        nx.draw(g, with_labels=True)\n"
      ]
    },
    {
      "cell_type": "code",
      "execution_count": null,
      "metadata": {
        "deletable": false,
        "editable": false,
        "nbgrader": {
          "cell_type": "code",
          "checksum": "0695506cba2269aa2a14dfe9714a6716",
          "grade": false,
          "grade_id": "cell-e41d49ba7c0deab9",
          "locked": true,
          "schema_version": 3,
          "solution": false
        },
        "colab": {
          "base_uri": "https://localhost:8080/",
          "height": 319
        },
        "id": "WVZj5cPxDudO",
        "outputId": "6e4ed672-2989-4cf5-f045-a6a8efdbd80f"
      },
      "outputs": [
        {
          "output_type": "display_data",
          "data": {
            "text/plain": [
              "<Figure size 432x288 with 1 Axes>"
            ],
            "image/png": "[encoded data removed]"
          },
          "metadata": {}
        }
      ],
      "source": [
        "g = Graph(vertices={'a', 'b', 'c', 'd', 'e', 'f', 'g'},\n",
        "          edges={('a', 'b'), ('a', 'c'), ('a', 'd'), ('b', 'd'),\n",
        "                 ('c', 'a'), ('c', 'e'), ('d', 'b'), ('d', 'c'),\n",
        "                 ('f', 'g'), ('g', 'f')})\n",
        "g.show()\n"
      ]
    },
    {
      "cell_type": "markdown",
      "metadata": {
        "deletable": false,
        "editable": false,
        "nbgrader": {
          "cell_type": "markdown",
          "checksum": "ef18ee6be5024c2e3ff24542d2941e9b",
          "grade": false,
          "grade_id": "cell-6d16350bb8cedec8",
          "locked": true,
          "schema_version": 3,
          "solution": false
        },
        "id": "8w5qlJZODudO"
      },
      "source": [
        "Ok, this is not nearly as pretty as what we generated by hand, but it will have to do."
      ]
    },
    {
      "cell_type": "markdown",
      "metadata": {
        "deletable": false,
        "editable": false,
        "nbgrader": {
          "cell_type": "markdown",
          "checksum": "72675a43bbff15a32ae0f65f5217ab2d",
          "grade": false,
          "grade_id": "cell-2a74aca517016062",
          "locked": true,
          "schema_version": 3,
          "solution": false
        },
        "id": "iTt0bKMTDudP"
      },
      "source": [
        "## One-Step Reachability and Graph Representations\n",
        "\n",
        "What are conceivable operations on graphs?  There are some basic ones, such as adding a vertex and adding an edge.  These are easily taken care of."
      ]
    },
    {
      "cell_type": "code",
      "execution_count": null,
      "metadata": {
        "deletable": false,
        "editable": false,
        "nbgrader": {
          "cell_type": "code",
          "checksum": "192a5b57a3dbd43fd289ea0cfb6fefb2",
          "grade": false,
          "grade_id": "cell-b20c7d7ae9a0ca9a",
          "locked": true,
          "schema_version": 3,
          "solution": false
        },
        "id": "NVJGVAbZDudP"
      },
      "outputs": [],
      "source": [
        "import networkx as nx # Library for displaying graphs.\n",
        "\n",
        "class Graph(object):\n",
        "\n",
        "    def __init__(self, vertices=None, edges=None):\n",
        "        # We use set below, just in case somebody passes a list to the initializer.\n",
        "        self.vertices = set(vertices or [])\n",
        "        self.edges = set(edges or [])\n",
        "\n",
        "    def show(self):\n",
        "        g = nx.DiGraph()\n",
        "        g.add_nodes_from(self.vertices)\n",
        "        g.add_edges_from(self.edges)\n",
        "        nx.draw(g, with_labels=True)\n",
        "\n",
        "    def add_vertex(self, v):\n",
        "        self.vertices.add(v)\n",
        "\n",
        "    def add_edge(self, e):\n",
        "        self.edges.add(e)\n"
      ]
    },
    {
      "cell_type": "markdown",
      "metadata": {
        "deletable": false,
        "editable": false,
        "nbgrader": {
          "cell_type": "markdown",
          "checksum": "89c1fe692a23bcb246b776e6fb24e145",
          "grade": false,
          "grade_id": "cell-2b4148b4810d287",
          "locked": true,
          "schema_version": 3,
          "solution": false
        },
        "id": "wCwcQX6zDudP"
      },
      "source": [
        "Further, a graph represents a set of connections between vertices, so a very elementary question to ask is the following: if we are at vertex $v$, can we get to another vertex $u$ by following one or more edges?\n",
        "\n",
        "As a first step towards the solution, we want to compute the set of vertices reachable from $v$ in one step, by following one edge; we call these vertices the _successors_ of $v$.\n",
        "\n",
        "Writing a function g.successors(u) that returns the set of successors of $u$ is simple enough.  Note that the code directly mimicks the mathematical definition:\n",
        "\n",
        "$$\n",
        "\\mathit{Successors}(u) = \\{v \\in V \\mid (u, v) \\in E\\} \\; .\n",
        "$$"
      ]
    },
    {
      "cell_type": "code",
      "execution_count": null,
      "metadata": {
        "deletable": false,
        "editable": false,
        "nbgrader": {
          "cell_type": "code",
          "checksum": "2b3cffae423005cd305a0f33c5f8c4be",
          "grade": false,
          "grade_id": "cell-6986098ffe7df253",
          "locked": true,
          "schema_version": 3,
          "solution": false
        },
        "id": "sjyYeipNDudQ"
      },
      "outputs": [],
      "source": [
        "import networkx as nx # Library for displaying graphs.\n",
        "\n",
        "class Graph(object):\n",
        "\n",
        "    def __init__(self, vertices=None, edges=None):\n",
        "        # We use set below, just in case somebody passes a list to the initializer.\n",
        "        self.vertices = set(vertices or [])\n",
        "        self.edges = set(edges or [])\n",
        "\n",
        "    def show(self):\n",
        "        g = nx.DiGraph()\n",
        "        g.add_nodes_from(self.vertices)\n",
        "        g.add_edges_from(self.edges)\n",
        "        nx.draw(g, with_labels=True)\n",
        "\n",
        "    def add_vertex(self, v):\n",
        "        self.vertices.add(v)\n",
        "\n",
        "    def add_edge(self, e):\n",
        "        self.edges.add(e)\n",
        "\n",
        "    def successors(self, u):\n",
        "        \"\"\"Returns the set of successors of vertex u\"\"\"\n",
        "        return {v for v in self.vertices if (u, v) in self.edges}\n"
      ]
    },
    {
      "cell_type": "code",
      "execution_count": null,
      "metadata": {
        "deletable": false,
        "editable": false,
        "nbgrader": {
          "cell_type": "code",
          "checksum": "8a13a9462a6db4ba8b34a89333be3cf7",
          "grade": false,
          "grade_id": "cell-d227f69595863aaf",
          "locked": true,
          "schema_version": 3,
          "solution": false
        },
        "colab": {
          "base_uri": "https://localhost:8080/"
        },
        "id": "yFSf_komDudQ",
        "outputId": "c9cb6f6e-742d-4e4e-a7de-1f653565d0a2"
      },
      "outputs": [
        {
          "output_type": "execute_result",
          "data": {
            "text/plain": [
              "{'b', 'c', 'd'}"
            ]
          },
          "metadata": {},
          "execution_count": 39
        }
      ],
      "source": [
        "g = Graph(vertices={'a', 'b', 'c', 'd', 'e', 'f', 'g'},\n",
        "          edges={('a', 'b'), ('a', 'c'), ('a', 'd'), ('b', 'd'),\n",
        "                 ('c', 'a'), ('c', 'e'), ('d', 'b'), ('d', 'c'),\n",
        "                 ('f', 'g'), ('g', 'f')})\n",
        "g.successors('a')\n"
      ]
    },
    {
      "cell_type": "markdown",
      "metadata": {
        "deletable": false,
        "editable": false,
        "nbgrader": {
          "cell_type": "markdown",
          "checksum": "3ac284b46d8d283c4cd9274f295385df",
          "grade": false,
          "grade_id": "cell-ff058081bc70cc83",
          "locked": true,
          "schema_version": 3,
          "solution": false
        },
        "id": "TbWd4MVvDudQ"
      },
      "source": [
        "But there's a rub.  The method successors, as written, requires us to loop over the whole set of vertices.  Because self.edges is a set, represented as a hash table, once we have a pair (u, v), checking\n",
        "\n",
        "    (v, u) in self.edges\n",
        "    \n",
        "is efficient.  But typically, graphs have a locality structure, so that each node is connected only to a small subset of the total vertices; having to loop over all vertices to find the successors of a vertex is a great waste.\n",
        "It is as if I asked you to what places you can get from San Francisco with a direct flight, and to answer, you started to rattle off all of the world's cities, from Aachen, Aalborg, Aarhus, ..., all the way to Zürich, Zuwarah, Zwolle, and for each city you checked if there's a flight from San Francisco to that city!  Clearly not the best method.\n",
        "\n",
        "Given that our main use for graphs is to answer reachability-type questions, a better idea is to store the edges via a dictionary that associates with each vertex the set of successors of the vertex.  The vertices will simply be the keys of the dictionary.\n"
      ]
    },
    {
      "cell_type": "code",
      "execution_count": null,
      "metadata": {
        "deletable": false,
        "editable": false,
        "nbgrader": {
          "cell_type": "code",
          "checksum": "f2407e45af5027f11c02a520571b66ae",
          "grade": false,
          "grade_id": "cell-6d916c9df3c54dd9",
          "locked": true,
          "schema_version": 3,
          "solution": false
        },
        "id": "6yoOolaDDudR"
      },
      "outputs": [],
      "source": [
        "import networkx as nx # Library for displaying graphs.\n",
        "\n",
        "class Graph(object):\n",
        "\n",
        "    def __init__(self, vertices=None, edges=None):\n",
        "        self.s = {u: set() for u in vertices or []}\n",
        "        for u, v in (edges or []):\n",
        "            self.add_edge((u, v))\n",
        "\n",
        "    def show(self):\n",
        "        g = nx.DiGraph()\n",
        "        g.add_nodes_from(self.s.keys())\n",
        "        g.add_edges_from([(u, v) for u in self.s for v in self.s[u]])\n",
        "        nx.draw(g, with_labels=True)\n",
        "\n",
        "    def add_vertex(self, v):\n",
        "        if v not in self.s:\n",
        "            self.s[v] = set()\n",
        "\n",
        "    def add_edge(self, e):\n",
        "        u, v = e\n",
        "        self.add_vertex(u)\n",
        "        self.add_vertex(v)\n",
        "        self.s[u].add(v)\n",
        "\n",
        "    @property\n",
        "    def vertices(self):\n",
        "        return set(self.s.keys())\n",
        "\n",
        "    def successors(self, u):\n",
        "        \"\"\"Returns the set of successors of vertex u\"\"\"\n",
        "        return self.s[u]\n"
      ]
    },
    {
      "cell_type": "code",
      "execution_count": null,
      "metadata": {
        "deletable": false,
        "editable": false,
        "nbgrader": {
          "cell_type": "code",
          "checksum": "cf69ce3f7d36b27066bc85dacee0f089",
          "grade": false,
          "grade_id": "cell-f8f275aa2b1df47",
          "locked": true,
          "schema_version": 3,
          "solution": false
        },
        "colab": {
          "base_uri": "https://localhost:8080/",
          "height": 337
        },
        "id": "C0QzstmsDudR",
        "outputId": "b1311b91-fd15-45ec-9602-f3aef36797e1"
      },
      "outputs": [
        {
          "output_type": "stream",
          "name": "stdout",
          "text": [
            "{'d', 'c', 'b'}\n"
          ]
        },
        {
          "output_type": "display_data",
          "data": {
            "text/plain": [
              "<Figure size 432x288 with 1 Axes>"
            ],
            "image/png": "[encoded data removed]"
          },
          "metadata": {}
        }
      ],
      "source": [
        "g = Graph(vertices={'a', 'b', 'c', 'd', 'e', 'f', 'g'},\n",
        "          edges={('a', 'b'), ('a', 'c'), ('a', 'd'), ('b', 'd'),\n",
        "                 ('c', 'a'), ('c', 'e'), ('d', 'b'), ('d', 'c'),\n",
        "                 ('f', 'g'), ('g', 'f')})\n",
        "g.show()\n",
        "print(g.successors('a'))\n"
      ]
    },
    {
      "cell_type": "markdown",
      "metadata": {
        "deletable": false,
        "editable": false,
        "nbgrader": {
          "cell_type": "markdown",
          "checksum": "6bd7cc4f4f2f7e424ece9c624e49ecbe",
          "grade": false,
          "grade_id": "cell-3249b60f0d26c3f4",
          "locked": true,
          "schema_version": 3,
          "solution": false
        },
        "id": "JwJfhAC4DudS"
      },
      "source": [
        "## Graph Reachability"
      ]
    },
    {
      "cell_type": "markdown",
      "metadata": {
        "deletable": false,
        "editable": false,
        "nbgrader": {
          "cell_type": "markdown",
          "checksum": "ef47039d9f540754d85a66e9dc83d217",
          "grade": false,
          "grade_id": "cell-7adc9415fd6f7caf",
          "locked": true,
          "schema_version": 3,
          "solution": false
        },
        "id": "gBu33kSQDudS"
      },
      "source": [
        "We now come to one of the fundamental graph algorithms, in fact, perhaps _the_ most fundamental algorithm for graphs: computing the set of vertices reachable from a given starting vertex.  Exploring what is reachable from a graph vertex is a truly basic task, and variations on the algorithm can be used to answer related questions, such as whether a vertex is reachable from a given starting vertex.\n",
        "\n",
        "The algorithm keeps two sets of vertices:\n",
        "\n",
        "* The set of _open_ vertices: these are the vertices that are known to be reachable, and whose successors have not yet been explored.\n",
        "* The set of _closed_ vertices: these are the vertices that are known to be reachable, and whose successors we have already explored.\n",
        "\n",
        "Intially, the set of open vertices contains only the starting vertex, and the set of closed vertices is empty, as we have completed no exploration.\n",
        "Repeatedly, we pick an open vertex, we move it to the closed set, and we put all its successor vertices -- except those that are closed already -- in the open set.   The algorithm continues until there are no more open vertices; at that point, the set of reachable vertices is equal to the closed vertices.  \n",
        "\n",
        "If there is _one_ graph algorithm that you must learn by heart, and that you should be able to write even when you hang upside down from monkeybars, this is it.\n",
        "\n",
        "Let us write the algorithm as a function first.\n"
      ]
    },
    {
      "cell_type": "code",
      "execution_count": null,
      "metadata": {
        "deletable": false,
        "editable": false,
        "nbgrader": {
          "cell_type": "code",
          "checksum": "e676e7c63b74c415fc8c32b3b668dd3a",
          "grade": false,
          "grade_id": "cell-5bf89c5e41fcfc20",
          "locked": true,
          "schema_version": 3,
          "solution": false
        },
        "id": "WkrewskuDudS"
      },
      "outputs": [],
      "source": [
        "def reachable(g, v):\n",
        "    \"\"\"Given a graph g, and a starting vertex v, returns the set of states\n",
        "    reachable from v in g.\"\"\"\n",
        "    vopen = {v}\n",
        "    vclosed = set()\n",
        "    while len(vopen) > 0:\n",
        "        u = vopen.pop()\n",
        "        vclosed.add(u)\n",
        "        vopen.update(g.successors(u) - vclosed)\n",
        "    return vclosed\n"
      ]
    },
    {
      "cell_type": "code",
      "execution_count": null,
      "metadata": {
        "deletable": false,
        "editable": false,
        "nbgrader": {
          "cell_type": "code",
          "checksum": "e42e3f8cde57947afedc46e4a46fa265",
          "grade": false,
          "grade_id": "cell-b2346c1ba19ca30e",
          "locked": true,
          "schema_version": 3,
          "solution": false
        },
        "colab": {
          "base_uri": "https://localhost:8080/"
        },
        "id": "kMkc0Np4DudT",
        "outputId": "f10f3b2d-2976-410f-f768-51e58211976f"
      },
      "outputs": [
        {
          "output_type": "stream",
          "name": "stdout",
          "text": [
            "{'d', 'e', 'c', 'b', 'a'}\n",
            "{'f', 'g'}\n"
          ]
        }
      ],
      "source": [
        "print(reachable(g, 'a'))\n",
        "print(reachable(g, 'g'))\n"
      ]
    },
    {
      "cell_type": "markdown",
      "metadata": {
        "deletable": false,
        "editable": false,
        "nbgrader": {
          "cell_type": "markdown",
          "checksum": "e07c7710f819b36cc1adf659c20f43a8",
          "grade": false,
          "grade_id": "cell-b80edbd8ff4602c0",
          "locked": true,
          "schema_version": 3,
          "solution": false
        },
        "id": "zlMmv-_YDudT"
      },
      "source": [
        "To visualize the algorithm, let us write a version where at each iteration, open vertices are drawn in red and closed ones in green"
      ]
    },
    {
      "cell_type": "code",
      "execution_count": null,
      "metadata": {
        "deletable": false,
        "editable": false,
        "nbgrader": {
          "cell_type": "code",
          "checksum": "1a1752a1e6e382bb1d5994264611ca07",
          "grade": false,
          "grade_id": "cell-c238bcfc2f8bc6ec",
          "locked": true,
          "schema_version": 3,
          "solution": false
        },
        "id": "X85uvD9ADudT"
      },
      "outputs": [],
      "source": [
        "def reachable(g, v):\n",
        "    \"\"\"Given a graph g, and a starting vertex v, returns the set of states\n",
        "    reachable from v in g.\"\"\"\n",
        "    vopen = {v}\n",
        "    vclosed = set()\n",
        "    while len(vopen) > 0:\n",
        "        u = vopen.pop()\n",
        "        vclosed.add(u)\n",
        "        vopen.update(g.successors(u) - vclosed)\n",
        "    return vclosed\n"
      ]
    },
    {
      "cell_type": "code",
      "execution_count": null,
      "metadata": {
        "deletable": false,
        "editable": false,
        "nbgrader": {
          "cell_type": "code",
          "checksum": "b775f7e2b402366e388fd72db1cc0fd6",
          "grade": false,
          "grade_id": "cell-7f8660038d9dcdb6",
          "locked": true,
          "schema_version": 3,
          "solution": false
        },
        "colab": {
          "base_uri": "https://localhost:8080/"
        },
        "id": "pClgiw7TDudU",
        "outputId": "46f0f79a-27ee-4024-e19e-788e40e6b70b"
      },
      "outputs": [
        {
          "output_type": "execute_result",
          "data": {
            "text/plain": [
              "{'a', 'b', 'c', 'd', 'e'}"
            ]
          },
          "metadata": {},
          "execution_count": 45
        }
      ],
      "source": [
        "reachable(g, 'a')\n"
      ]
    },
    {
      "cell_type": "markdown",
      "metadata": {
        "deletable": false,
        "editable": false,
        "nbgrader": {
          "cell_type": "markdown",
          "checksum": "13db25facb4c0adb281202302e8347f5",
          "grade": false,
          "grade_id": "cell-3e7aa2a93f11304d",
          "locked": true,
          "schema_version": 3,
          "solution": false
        },
        "id": "HCeTzEMJDudU"
      },
      "source": [
        "## Breadth-First and Depth-First Search\n",
        "\n",
        "### Breadth First\n",
        "\n",
        "In **breadth-first** search, we explore in concentric circles emanating from the starting point: first all vertices at distance 1, then all vertices at distance 2, and so on.  In general, we explore all vertices at distance $\\leq n$ before we explore vertices at distances $>n$.\n",
        "\n",
        "To implement breadth-first search, we store the open vertices `vopen` as a list rather than a set.  We then explore vertices in the order they have been added to `vopen`: this ensures that vertices closer to the search origin are explored earlier than farther-away vertices.\n",
        "\n",
        "The difference in code between reachability search, and its specialized breadth-first version, is minimal.\n"
      ]
    },
    {
      "cell_type": "code",
      "execution_count": null,
      "metadata": {
        "deletable": false,
        "editable": false,
        "nbgrader": {
          "cell_type": "code",
          "checksum": "9dfb1d22f161939b7401226738c6c4b9",
          "grade": false,
          "grade_id": "cell-13911edf68fee28",
          "locked": true,
          "schema_version": 3,
          "solution": false
        },
        "id": "wKE7uY7sDudU"
      },
      "outputs": [],
      "source": [
        "def breath_first(g, v):\n",
        "    \"\"\"Given a graph g, and a starting vertex v, returns the set of states\n",
        "    reachable from v in g.\"\"\"\n",
        "    # vopen is a FIFO: first in, first out. Like a normal queue.\n",
        "    # we add elements from the end, and pop them from the beginning.\n",
        "    vopen = [v]\n",
        "    vclosed = set()\n",
        "    while len(vopen) > 0:\n",
        "        u = vopen.pop(0) # Pop from the beginning\n",
        "        vclosed.add(u)\n",
        "        # vopen.update(g.successors(u) - vclosed)\n",
        "        for w in g.successors(u) - vclosed:\n",
        "            if w not in vopen:\n",
        "                vopen.append(w) # Add to the end\n",
        "    return vclosed\n"
      ]
    },
    {
      "cell_type": "code",
      "execution_count": null,
      "metadata": {
        "deletable": false,
        "editable": false,
        "nbgrader": {
          "cell_type": "code",
          "checksum": "b2a3517ee2afec6c39947823f6bc02bb",
          "grade": false,
          "grade_id": "cell-30d6a6aa0771189b",
          "locked": true,
          "schema_version": 3,
          "solution": false
        },
        "id": "pGamGHwODudU"
      },
      "outputs": [],
      "source": [
        "gg = Graph(vertices={},\n",
        "           edges={('a', 'b'), ('b', 'c'), ('c', 'd'),\n",
        "                  ('a', 'u'), ('u', 'v'), ('v', 'w'), ('u', 'z')})\n"
      ]
    },
    {
      "cell_type": "code",
      "execution_count": null,
      "metadata": {
        "deletable": false,
        "editable": false,
        "nbgrader": {
          "cell_type": "code",
          "checksum": "c036a7994fefdf5fcdd5fe43de0f3407",
          "grade": false,
          "grade_id": "cell-cfe275c72395ca3e",
          "locked": true,
          "schema_version": 3,
          "solution": false
        },
        "colab": {
          "base_uri": "https://localhost:8080/"
        },
        "id": "m-b9KIq4DudV",
        "outputId": "4343ec52-6855-4e48-8292-41c3d27c24aa"
      },
      "outputs": [
        {
          "output_type": "execute_result",
          "data": {
            "text/plain": [
              "{'a', 'b', 'c', 'd', 'u', 'v', 'w', 'z'}"
            ]
          },
          "metadata": {},
          "execution_count": 48
        }
      ],
      "source": [
        "breath_first(gg, 'a')\n"
      ]
    },
    {
      "cell_type": "markdown",
      "metadata": {
        "deletable": false,
        "editable": false,
        "nbgrader": {
          "cell_type": "markdown",
          "checksum": "34f1b34b27dbdc9056463e9639a1860d",
          "grade": false,
          "grade_id": "cell-acf01937fc536a12",
          "locked": true,
          "schema_version": 3,
          "solution": false
        },
        "id": "gn4XfqavDudV"
      },
      "source": [
        "We see that we explore $b$ and $u$ before any of their successors are explored, and similarly, we explore $z$, $v$, and $c$ before $d$ or $w$."
      ]
    },
    {
      "cell_type": "markdown",
      "metadata": {
        "deletable": false,
        "editable": false,
        "nbgrader": {
          "cell_type": "markdown",
          "checksum": "b38a48fc4652c550f91d2226da39571a",
          "grade": false,
          "grade_id": "cell-c3b1571ef576e806",
          "locked": true,
          "schema_version": 3,
          "solution": false
        },
        "id": "mBVi12-bDudV"
      },
      "source": [
        "### Depth-First Search\n",
        "\n",
        "In **depth-first** search, we follow a path as long as possible, and only when we come to an end do we explore other nodes.  In depth-first search, the most recent visited vertex, the one added last to the list of open vertices, is the one that will be explored first.\n",
        "\n",
        "The difference in code from breadth-first search is minimal.  In breadth-first search, the vertex to be explored next is the _oldest_ among the open ones:\n",
        "\n",
        "        u = vopen.pop(0)\n",
        "\n",
        "In depth-first search, it will be the _newest_ among the open ones:\n",
        "\n",
        "        u = vopen.pop()\n",
        "\n",
        "That's the whole difference."
      ]
    },
    {
      "cell_type": "code",
      "execution_count": null,
      "metadata": {
        "deletable": false,
        "editable": false,
        "nbgrader": {
          "cell_type": "code",
          "checksum": "ca0fe692a6772a7130e37c523ecd0267",
          "grade": false,
          "grade_id": "cell-585e58383a1b73c0",
          "locked": true,
          "schema_version": 3,
          "solution": false
        },
        "id": "nwNkuwyfDudW"
      },
      "outputs": [],
      "source": [
        "def depth_first(g, v):\n",
        "    \"\"\"Given a graph g, and a starting vertex v, returns the set of states\n",
        "    reachable from v in g.\"\"\"\n",
        "    # vopen is a stack / LIFO: last in, first out. Like a stack.\n",
        "    # we add elements from the end, and pop them from the end.\n",
        "    vopen = [v]\n",
        "    vclosed = set()\n",
        "    while len(vopen) > 0:\n",
        "        u = vopen.pop() # THIS is the difference: there is no 0 in the parentheses.\n",
        "        vclosed.add(u)\n",
        "        # vopen.update(g.successors(u) - vclosed)\n",
        "        for w in g.successors(u) - vclosed:\n",
        "            if w not in vopen:\n",
        "                vopen.append(w)\n",
        "    return vclosed\n"
      ]
    },
    {
      "cell_type": "code",
      "execution_count": null,
      "metadata": {
        "deletable": false,
        "editable": false,
        "nbgrader": {
          "cell_type": "code",
          "checksum": "8b405ac12320de35e631f47c3bce2fde",
          "grade": false,
          "grade_id": "cell-8df19586c13a71de",
          "locked": true,
          "schema_version": 3,
          "solution": false
        },
        "colab": {
          "base_uri": "https://localhost:8080/"
        },
        "id": "--Ozx8wHDudW",
        "outputId": "3402b840-5b36-4fbe-e496-cfd64ba0b82f"
      },
      "outputs": [
        {
          "output_type": "execute_result",
          "data": {
            "text/plain": [
              "{'a', 'b', 'c', 'd', 'u', 'v', 'w', 'z'}"
            ]
          },
          "metadata": {},
          "execution_count": 50
        }
      ],
      "source": [
        "depth_first(gg, 'a')\n"
      ]
    },
    {
      "cell_type": "markdown",
      "metadata": {
        "deletable": false,
        "editable": false,
        "nbgrader": {
          "cell_type": "markdown",
          "checksum": "06dadfe2b7e0f75c0f9cf708b9d3b619",
          "grade": false,
          "grade_id": "cell-3602a8f19f3534db",
          "locked": true,
          "schema_version": 3,
          "solution": false
        },
        "id": "3dw812b7DudW"
      },
      "source": [
        "We see how in depth-first search we explore completely one side of the successors of $a$, consisting of $u, v, w, z$, before exploring the other side $b, c, d$."
      ]
    },
    {
      "cell_type": "markdown",
      "metadata": {
        "deletable": false,
        "editable": false,
        "nbgrader": {
          "cell_type": "markdown",
          "checksum": "5484143bd9ab5df6743024d25d6746f2",
          "grade": false,
          "grade_id": "cell-3e96545b35c1037c",
          "locked": true,
          "schema_version": 3,
          "solution": false
        },
        "id": "rWcbo0F1DudW"
      },
      "source": [
        "## Returning the edges\n",
        "\n",
        "In our latest implementation, we do not have direct access to the edges of the graph.  In other words, for a graph g, we cannot do:\n",
        "\n",
        "    for (u, v) in g.edges:\n",
        "        ...\n",
        "\n",
        "We ask you to write an iterator over edges, to make the above code work.  The iterator should yield the edges of the graph, one by one."
      ]
    },
    {
      "cell_type": "code",
      "execution_count": null,
      "metadata": {
        "deletable": false,
        "nbgrader": {
          "cell_type": "code",
          "checksum": "bc93f987b7b8f581cfa0d641d31f966c",
          "grade": false,
          "grade_id": "cell-2f22352a8724c77c",
          "locked": false,
          "schema_version": 3,
          "solution": true
        },
        "id": "hHe-5R9SDudX"
      },
      "outputs": [],
      "source": [
        "### An iterator for the set of edges\n",
        "\n",
        "def graph_edges(self):\n",
        "    \"\"\"Yields the edges of the graph, one by one.  Each edge is yielded as a\n",
        "    pair of vertices (source, destination). \"\"\"\n",
        "    for src in self.vertices:\n",
        "      v = set(self.s[src])\n",
        "      for dst in v:\n",
        "        yield(src, dst)\n",
        "\n",
        "\n",
        "\n",
        "Graph.edges = property(graph_edges)\n"
      ]
    },
    {
      "cell_type": "markdown",
      "metadata": {
        "deletable": false,
        "editable": false,
        "nbgrader": {
          "cell_type": "markdown",
          "checksum": "3d3ee7e32458d781554156ad253a1a0f",
          "grade": false,
          "grade_id": "cell-8c0f6bbf744dc547",
          "locked": true,
          "schema_version": 3,
          "solution": false
        },
        "id": "xOj7vGa-DudX"
      },
      "source": [
        "Here are some tests."
      ]
    },
    {
      "cell_type": "code",
      "execution_count": null,
      "metadata": {
        "deletable": false,
        "editable": false,
        "nbgrader": {
          "cell_type": "code",
          "checksum": "8db2e3a9bb293f662c601f92cc2c95be",
          "grade": false,
          "grade_id": "cell-e5393845c2516d4",
          "locked": true,
          "schema_version": 3,
          "solution": false
        },
        "id": "vqrzjQVPDudX"
      },
      "outputs": [],
      "source": [
        "### simple tests\n",
        "\n",
        "e = [(1, 2), (1, 3), (2, 3)]\n",
        "g = Graph(vertices=[1, 2, 3], edges=e)\n",
        "assert set(g.edges) == set(e)\n",
        "\n",
        "import types\n",
        "assert isinstance(g.edges, types.GeneratorType)\n"
      ]
    },
    {
      "cell_type": "markdown",
      "metadata": {
        "deletable": false,
        "editable": false,
        "nbgrader": {
          "cell_type": "markdown",
          "checksum": "83e238b0db9e72fed0531670f198b5fc",
          "grade": false,
          "grade_id": "cell-44545beb2688b3d6",
          "locked": true,
          "schema_version": 3,
          "solution": false
        },
        "id": "YfLjw5uiDudY"
      },
      "source": [
        "Here are some randomized test."
      ]
    },
    {
      "cell_type": "code",
      "execution_count": null,
      "metadata": {
        "deletable": false,
        "editable": false,
        "nbgrader": {
          "cell_type": "code",
          "checksum": "d73cb44f137fa97f35a2d5ba5c762018",
          "grade": true,
          "grade_id": "cell-dfab2d6021205946",
          "locked": true,
          "points": 10,
          "schema_version": 3,
          "solution": false
        },
        "id": "SLhF2QEMDudY"
      },
      "outputs": [],
      "source": [
        "### random tests\n",
        "\n",
        "import random\n",
        "\n",
        "for _ in range(10):\n",
        "    num_vertices = random.randint(4, 10)\n",
        "    num_edges = random.randint(1, num_vertices * num_vertices)\n",
        "    vertices = random.sample(range(0, 1000), num_vertices)\n",
        "    edges = {(random.choice(vertices), random.choice(vertices)) for _ in range(num_edges)}\n",
        "    g = Graph(vertices=vertices, edges=edges)\n",
        "    assert set(g.edges) == edges\n",
        "\n"
      ]
    },
    {
      "cell_type": "markdown",
      "metadata": {
        "deletable": false,
        "editable": false,
        "nbgrader": {
          "cell_type": "markdown",
          "checksum": "e3e1b07fc9593bc47bf736f3f284a2f6",
          "grade": false,
          "grade_id": "cell-b3bdea398be7375f",
          "locked": true,
          "schema_version": 3,
          "solution": false
        },
        "id": "j0jKZLG9DudY"
      },
      "source": [
        "## Is a graph a tree?\n",
        "\n",
        "A tree is a graph $(V, E)$ with two special properties:\n",
        "\n",
        "* Every vertex has at most one incoming edge.\n",
        "* Either there are no vertices, or there is a vertex with no incoming edges, called the _root_, from which all other vertices are reachable.\n",
        "\n",
        "If the second property does not hold, incidentally, the graph is called a _forest._\n",
        "\n",
        "Write an `is_tree` function such that `is_tree(g)` returns True if the graph `g` is a tree, False otherwise."
      ]
    },
    {
      "cell_type": "code",
      "execution_count": null,
      "metadata": {
        "deletable": false,
        "nbgrader": {
          "cell_type": "code",
          "checksum": "06d532f4a59fb2c6ee8a987b7663629c",
          "grade": false,
          "grade_id": "cell-ffcc75defed5b8f9",
          "locked": false,
          "schema_version": 3,
          "solution": true
        },
        "id": "4uGsUZygDudY"
      },
      "outputs": [],
      "source": [
        " ### Implementation of tree test\n",
        "\n",
        "def is_tree(g):\n",
        "    \"\"\"Returns True iff the graph is a tree.\"\"\"\n",
        "\n",
        "    setss = set()\n",
        "\n",
        "    for x,y in g.edges:\n",
        "      setss.add(x)\n",
        "    return False if len(setss) > 1 else True\n"
      ]
    },
    {
      "cell_type": "code",
      "execution_count": null,
      "metadata": {
        "deletable": false,
        "editable": false,
        "nbgrader": {
          "cell_type": "code",
          "checksum": "56f1db591b9041c0b98b409499f797af",
          "grade": true,
          "grade_id": "cell-1c20b9f5166ddd3b",
          "locked": true,
          "points": 10,
          "schema_version": 3,
          "solution": false
        },
        "id": "JPJe9x6BDudZ"
      },
      "outputs": [],
      "source": [
        " ### Tests for `is_tree`\n",
        "\n",
        "g = Graph(vertices=[1, 2, 3], edges=[(1, 2), (1, 3)])\n",
        "assert is_tree(g)\n",
        "g = Graph(vertices=[1, 2, 3], edges=[(1, 2), (2, 3), (1, 3)])\n",
        "assert not is_tree(g)\n",
        "g = Graph(vertices=[1, 2, 3], edges=[(1, 3), (2, 3)])\n",
        "assert not is_tree(g)\n",
        "\n"
      ]
    },
    {
      "cell_type": "code",
      "execution_count": null,
      "metadata": {
        "deletable": false,
        "editable": false,
        "nbgrader": {
          "cell_type": "code",
          "checksum": "493aa98e3d76319e7d332efc38a646a4",
          "grade": true,
          "grade_id": "cell-ce03cbd32f492fed",
          "locked": true,
          "points": 10,
          "schema_version": 3,
          "solution": false
        },
        "id": "edpeIYJADudZ"
      },
      "outputs": [],
      "source": [
        "### More tests for `is_tree`\n",
        "\n",
        "g = Graph()\n",
        "assert is_tree(g)\n",
        "\n"
      ]
    },
    {
      "cell_type": "markdown",
      "metadata": {
        "deletable": false,
        "editable": false,
        "nbgrader": {
          "cell_type": "markdown",
          "checksum": "611f2a00e1a5f5f90a8e4b5fef83ed7a",
          "grade": false,
          "grade_id": "cell-9316226028eae36c",
          "locked": true,
          "schema_version": 3,
          "solution": false
        },
        "id": "d1AFF4ZdDudZ"
      },
      "source": [
        "## Reachability using either of two graphs\n",
        "\n",
        "In this problem, you are given _two_ graphs `g1`, `g2`, that share the same set of vertices.\n",
        "You have to write a function `can_reach(v, g1, g2, w)`, which returns `True` iff you can go from vertex `v` to vertex `w` using either edges of `g1` or `g2`.\n",
        "Note that to go from `v` to `w`, you can use one or more edges from `g1` and one or more edges of `g2`, mixed in any way you like.  To solve the problem, you have to modify the reachability algorithms so that edges from either graph can be used.\n",
        "\n",
        "_Hint:_ Modify the reachability algorithm.\n"
      ]
    },
    {
      "cell_type": "code",
      "execution_count": null,
      "metadata": {
        "deletable": false,
        "nbgrader": {
          "cell_type": "code",
          "checksum": "26bc339dd08a1a08bcc1f5c6cb88d2c7",
          "grade": false,
          "grade_id": "cell-128e916d685efead",
          "locked": false,
          "schema_version": 3,
          "solution": true
        },
        "id": "SjyT7Lw3DudZ"
      },
      "outputs": [],
      "source": [
        "def can_reach(v, g1, g2, w):\n",
        "    \"\"\"Given two graphs g1, g2 that share the same vertices, and two verteces v, w,\n",
        "    returns True if you can go from v to w using edges of either g1 or g2 (mixed any\n",
        "    way you want) and False otherwise.\"\"\"\n",
        "    g1E = []\n",
        "    for e in g1.edges:\n",
        "      g1E.append(e)\n",
        "    g2E = []\n",
        "    for e in g2.edges:\n",
        "      g2E.append(e)\n",
        "    g = Graph(vertices = list(g1.vertices), edges =(list(set(g1E).union(set(g2E)))))\n",
        "    c = reachable(g,v)\n",
        "    return True if w in c else False\n",
        "\n",
        "\n"
      ]
    },
    {
      "cell_type": "code",
      "execution_count": null,
      "metadata": {
        "deletable": false,
        "editable": false,
        "nbgrader": {
          "cell_type": "code",
          "checksum": "5e3e56e2c71d70256457db8f2477e2a4",
          "grade": false,
          "grade_id": "cell-2f15bc490b79a47",
          "locked": true,
          "schema_version": 3,
          "solution": false
        },
        "id": "8KGu_x4EDuda"
      },
      "outputs": [],
      "source": [
        "### simple tests for can_reach\n",
        "\n",
        "vertices = {1, 2, 3, 4, 5, 6, 7}\n",
        "g1 = Graph(vertices=vertices, edges=[(1, 2), (3, 4)])\n",
        "g2 = Graph(vertices=vertices, edges=[(2, 3), (4, 5), (6, 7)])\n",
        "assert can_reach(1, g1, g2, 2)\n",
        "assert can_reach(1, g1, g2, 3)\n",
        "assert can_reach(1, g1, g2, 4)\n",
        "assert can_reach(1, g1, g2, 5)\n",
        "assert not can_reach(1, g1, g2, 6)\n",
        "assert not can_reach(1, g1, g2, 7)\n"
      ]
    },
    {
      "cell_type": "code",
      "execution_count": null,
      "metadata": {
        "deletable": false,
        "editable": false,
        "nbgrader": {
          "cell_type": "code",
          "checksum": "3d3f74054906066fb52ca68fc39f8af0",
          "grade": true,
          "grade_id": "cell-8bda94c33e066394",
          "locked": true,
          "points": 10,
          "schema_version": 3,
          "solution": false
        },
        "id": "cunUThPiDuda"
      },
      "outputs": [],
      "source": [
        "### more advanced tests for can_reach\n",
        "\n",
        "vertices = set(range(100))\n",
        "# g1 edges go from n to 2n, g2 edges go from n to 3n.\n",
        "g1 = Graph(vertices=vertices, edges=[(n, 2 * n) for n in range(100) if 2 * n < 100])\n",
        "g2 = Graph(vertices=vertices, edges=[(n, 3 * n) for n in range(100) if 3 * n < 100])\n",
        "assert can_reach(1, g1, g2, 6)\n",
        "assert can_reach(1, g1, g2, 24)\n",
        "assert can_reach(1, g1, g2, 32)\n",
        "assert can_reach(1, g1, g2, 9)\n",
        "assert not can_reach(1, g1, g2, 15)\n",
        "assert not can_reach(1, g1, g2, 60)\n",
        "assert can_reach(5, g1, g2, 15)\n",
        "assert can_reach(5, g1, g2, 30)\n",
        "\n"
      ]
    },
    {
      "cell_type": "code",
      "execution_count": null,
      "metadata": {
        "deletable": false,
        "editable": false,
        "nbgrader": {
          "cell_type": "code",
          "checksum": "a9e06187a2eae8c258d8ba5bf42f164d",
          "grade": false,
          "grade_id": "cell-d81a43f8f16a3b4b",
          "locked": true,
          "schema_version": 3,
          "solution": false
        },
        "id": "yEo55Q9IDuda"
      },
      "outputs": [],
      "source": []
    }
  ],
  "metadata": {
    "colab": {
      "provenance": []
    },
    "kernelspec": {
      "display_name": "Python 3",
      "language": "python",
      "name": "python3"
    },
    "language_info": {
      "codemirror_mode": {
        "name": "ipython",
        "version": 3
      },
      "file_extension": ".py",
      "mimetype": "text/x-python",
      "name": "python",
      "nbconvert_exporter": "python",
      "pygments_lexer": "ipython3",
      "version": "3.8.10"
    },
    "test_info": {
      "id": "a1e5ff072b903dd2203722c756f2a73ebd3a102b"
    }
  },
  "nbformat": 4,
  "nbformat_minor": 0
}