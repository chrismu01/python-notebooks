{
  "cells": [
    {
      "cell_type": "markdown",
      "metadata": {
        "deletable": false,
        "editable": false,
        "nbgrader": {
          "cell_type": "markdown",
          "checksum": "4b27fda3c5d646f32242df89d414780b",
          "grade": false,
          "grade_id": "cell-d707dd57ba9db72c",
          "locked": true,
          "schema_version": 3,
          "solution": false
        },
        "id": "7l5ULn2F103G"
      },
      "source": [
        "##A Sock Drawer\n",
        "\n",
        "Let us model a sock drawer.  How does a sock drawer work?  Well, when you do the washing, you end up with a bunch of socks, and you just put them in the drawer. So one operation is \"put sock in drawer\".  The other thing you typically do is look for two matching socks.  For simplicity, we will have only one attribute that we use to match socks: their color.  So the operations, in detail, are:\n",
        "\n",
        "* `add_sock`: adds a sock of a given color\n",
        "* `get_pair`: ask if there is a pair of a given color, and if so, remove it\n",
        "* `available_colors`: returns the set of colors for which there is at least a pair.\n",
        "  \n",
        "\n"
      ]
    },
    {
      "cell_type": "markdown",
      "metadata": {
        "deletable": false,
        "editable": false,
        "nbgrader": {
          "cell_type": "markdown",
          "checksum": "bca91036f222a9f98c37b6565025f675",
          "grade": false,
          "grade_id": "cell-9a573054bc43f6d7",
          "locked": true,
          "schema_version": 3,
          "solution": false
        },
        "id": "DaBucpHT103H"
      },
      "source": [
        "Here is how we plan to use the sock drawer:\n",
        "\n",
        "    # Creates a sock drawer and puts some socks in it.\n",
        "    sd = SockDrawer()\n",
        "    sd.add_sock(\"red\")\n",
        "    sd.add_sock(\"green\")\n",
        "    sd.add_sock(\"red\")\n",
        "    \n",
        "    # Gets the available colors\n",
        "    colors = sd.available_colors\n",
        "    \n",
        "    # Picks a possible color\n",
        "    import random\n",
        "    color = random.choice(list(colors))\n",
        "\n",
        "    # And a sock of that color.\n",
        "    sock = sd.get_pair(color)\n",
        "    print(\"gotten sock:\", sock, \"of color:\", color)"
      ]
    },
    {
      "cell_type": "markdown",
      "metadata": {
        "deletable": false,
        "editable": false,
        "nbgrader": {
          "cell_type": "markdown",
          "checksum": "adc54e1a245cd61480eb167d65e46cb0",
          "grade": false,
          "grade_id": "cell-7227b6a219d90e3e",
          "locked": true,
          "schema_version": 3,
          "solution": false
        },
        "id": "2YBo2fD2103I"
      },
      "source": [
        "An aside: why does `available_colors` return a set and not a list?\n",
        "For two reasons.  First, returning a set makes clear (and indeed, enforces) that every color should appear only once in the return result.\n",
        "Second, in sets, the order of elements is irrelevant.  If we used a list, rather than a set, in any unit test suite we would have to:\n",
        "\n",
        "* Check that every element appears only once in the list;\n",
        "* sort the list of results before comparing it with the expected results, to ensure that different orders of elements in the returned list do not cause the test to fail.\n",
        "\n",
        "In general, it is quite important to choose as types for variables or return values, a type that expresses as best as possible the intended properties of the value.\n",
        "\n",
        "Another thing: we want to define `available_colors` so that it is a _property_ rather than a method.  In this way, for a sock drawer `d`, we will be able to write `d.available_colors` rather than `d.available_colors()`.  It is a small difference, but in my opinion it does make the code look a little bit cleaner."
      ]
    },
    {
      "cell_type": "code",
      "execution_count": null,
      "metadata": {
        "deletable": false,
        "editable": false,
        "nbgrader": {
          "cell_type": "code",
          "checksum": "1f167198aa401a31eaa2c201fabd35ad",
          "grade": false,
          "grade_id": "cell-e971a3b7569e64cc",
          "locked": true,
          "schema_version": 3,
          "solution": false
        },
        "id": "T6IOnpXU103M"
      },
      "outputs": [],
      "source": [
        "class SockDrawer(object):\n",
        "\n",
        "    def __init__(self):\n",
        "        self.drawer = []\n",
        "\n",
        "    def add_sock(self, color):\n",
        "        \"\"\"Adds a sock of the given color to the drawer.\"\"\"\n",
        "        self.drawer.append(color)\n",
        "\n",
        "    def get_pair(self, color):\n",
        "        \"\"\"Returns False if there is no pair of the given color, and True\n",
        "        if there is.  In the latter case, it removes the pair from the drawer.\"\"\"\n",
        "        if self.drawer.count(color) >= 2:\n",
        "            self.drawer.remove(color)\n",
        "            self.drawer.remove(color)\n",
        "            return True\n",
        "        else:\n",
        "            return False\n",
        "\n",
        "    @property\n",
        "    def available_colors(self):\n",
        "        \"\"\"Lists the colors for which we have at least two socks available.\"\"\"\n",
        "        colors = set()\n",
        "        for el in self.drawer:\n",
        "            if self.drawer.count(el) >= 2:\n",
        "                colors.add(el)\n",
        "        return colors\n"
      ]
    },
    {
      "cell_type": "markdown",
      "metadata": {
        "deletable": false,
        "editable": false,
        "nbgrader": {
          "cell_type": "markdown",
          "checksum": "f191cc7b6ff9fa1b02d71481228f343e",
          "grade": false,
          "grade_id": "cell-ad436c436afeee06",
          "locked": true,
          "schema_version": 3,
          "solution": false
        },
        "id": "AySsdppe103O"
      },
      "source": [
        "Let us give this a spin, with our intended use:"
      ]
    },
    {
      "cell_type": "code",
      "execution_count": null,
      "metadata": {
        "deletable": false,
        "editable": false,
        "nbgrader": {
          "cell_type": "code",
          "checksum": "5535687732b86d4a7e7fc7a7c594d792",
          "grade": false,
          "grade_id": "cell-c1a828b5c9e62e76",
          "locked": true,
          "schema_version": 3,
          "solution": false
        },
        "id": "XQwrDOP4103O",
        "colab": {
          "base_uri": "https://localhost:8080/"
        },
        "outputId": "5dd355da-2783-4685-a830-5498ce7e34a2"
      },
      "outputs": [
        {
          "output_type": "stream",
          "name": "stdout",
          "text": [
            "gotten sock: True of color: red\n"
          ]
        }
      ],
      "source": [
        "# Creates a sock drawer and puts some socks in it.\n",
        "sd = SockDrawer()\n",
        "sd.add_sock(\"red\")\n",
        "sd.add_sock(\"green\")\n",
        "sd.add_sock(\"red\")\n",
        "\n",
        "# Gets the available colors\n",
        "colors = sd.available_colors\n",
        "\n",
        "# Picks a possible color\n",
        "import random\n",
        "color = random.choice(list(colors))\n",
        "\n",
        "# And a sock of that color.\n",
        "sock = sd.get_pair(color)\n",
        "print(\"gotten sock:\", sock, \"of color:\", color)\n"
      ]
    },
    {
      "cell_type": "markdown",
      "metadata": {
        "deletable": false,
        "editable": false,
        "nbgrader": {
          "cell_type": "markdown",
          "checksum": "3d3c9917c03e62cdafda8d776b32c956",
          "grade": false,
          "grade_id": "cell-1377fe62112eefb8",
          "locked": true,
          "schema_version": 3,
          "solution": false
        },
        "id": "klNw8VPj103P"
      },
      "source": [
        "There shouldn't be any more sock pairs available:"
      ]
    },
    {
      "cell_type": "code",
      "execution_count": null,
      "metadata": {
        "deletable": false,
        "editable": false,
        "nbgrader": {
          "cell_type": "code",
          "checksum": "19215cad9646b845dafdd54b5537361b",
          "grade": false,
          "grade_id": "cell-d5a2f4c333dfb501",
          "locked": true,
          "schema_version": 3,
          "solution": false
        },
        "id": "wZKgk8Dg103Q",
        "colab": {
          "base_uri": "https://localhost:8080/"
        },
        "outputId": "fbfa3a79-6263-41b6-8de1-e65689910ee2"
      },
      "outputs": [
        {
          "output_type": "execute_result",
          "data": {
            "text/plain": [
              "set()"
            ]
          },
          "metadata": {},
          "execution_count": 155
        }
      ],
      "source": [
        "sd.available_colors\n"
      ]
    },
    {
      "cell_type": "markdown",
      "metadata": {
        "deletable": false,
        "editable": false,
        "nbgrader": {
          "cell_type": "markdown",
          "checksum": "c4c7e65e13479eecbd87b02df536bd2b",
          "grade": false,
          "grade_id": "cell-9ba5d2fbd13a5cc9",
          "locked": true,
          "schema_version": 3,
          "solution": false
        },
        "id": "gFEjQXUh103Q"
      },
      "source": [
        "In the above implementation, `@property` is a [_decorator_](https://wiki.python.org/moin/PythonDecorators).  From the practical point of view, the [`@property` decorator](https://docs.python.org/3/library/functions.html#property) enables us to access the available colors of a sock drawer `sd` via `sd.available_colors` rather than `sd.available_colors()`: that is, it makes what is in truth a method call look like a variable access.  Big deal, you might say; all it does is it removes the need for parentheses!  True, but the eye also wants its part."
      ]
    },
    {
      "cell_type": "code",
      "execution_count": null,
      "metadata": {
        "deletable": false,
        "editable": false,
        "nbgrader": {
          "cell_type": "code",
          "checksum": "442ded1962c7a35cf09c8a40df460b00",
          "grade": false,
          "grade_id": "cell-79a0e3478fc5eab1",
          "locked": true,
          "schema_version": 3,
          "solution": false
        },
        "id": "vL_GoX_b103R"
      },
      "outputs": [],
      "source": [
        "#Let's define a testing helper.\n",
        "\n",
        "def check_equal(x, y, msg=None):\n",
        "    if x != y:\n",
        "        if msg is None:\n",
        "            print(\"Error:\")\n",
        "        else:\n",
        "            print(\"Error in\", msg, \":\")\n",
        "        print(\"    Your answer was:\", x)\n",
        "        print(\"    Correct answer: \", y)\n",
        "    assert x == y, \"%r and %r are different\" % (x, y)\n"
      ]
    },
    {
      "cell_type": "code",
      "execution_count": null,
      "metadata": {
        "deletable": false,
        "editable": false,
        "nbgrader": {
          "cell_type": "code",
          "checksum": "8d3ce986bb8861b914dce239229cbd38",
          "grade": false,
          "grade_id": "cell-1ff22eee2bb73556",
          "locked": true,
          "schema_version": 3,
          "solution": false
        },
        "id": "kvzLJWqg103S"
      },
      "outputs": [],
      "source": [
        "def test_drawer(c):\n",
        "    \"\"\"Tests a drawer class c.\"\"\"\n",
        "    d = c()\n",
        "    d.add_sock('red')\n",
        "    d.add_sock('red')\n",
        "    d.add_sock('red')\n",
        "    d.add_sock('green')\n",
        "    check_equal(d.available_colors, {'red'})\n",
        "    check_equal(d.get_pair('red'), True)\n",
        "    check_equal(d.get_pair('green'), False)\n",
        "    check_equal(d.get_pair('red'), False)\n",
        "    d.add_sock('blue')\n",
        "    d.add_sock('blue')\n",
        "    d.add_sock('blue')\n",
        "    d.add_sock('red')\n",
        "    check_equal(d.available_colors, {'red', 'blue'})\n"
      ]
    },
    {
      "cell_type": "code",
      "execution_count": null,
      "metadata": {
        "deletable": false,
        "editable": false,
        "nbgrader": {
          "cell_type": "code",
          "checksum": "0c8c182b42b3bd1b62cca58870e4c513",
          "grade": false,
          "grade_id": "cell-1affac80c0f882c2",
          "locked": true,
          "schema_version": 3,
          "solution": false
        },
        "id": "XMesn_zU103S"
      },
      "outputs": [],
      "source": [
        "test_drawer(SockDrawer)\n"
      ]
    },
    {
      "cell_type": "markdown",
      "metadata": {
        "deletable": false,
        "editable": false,
        "nbgrader": {
          "cell_type": "markdown",
          "checksum": "83cacb10da464988121985e9a9db3565",
          "grade": false,
          "grade_id": "cell-54145a8c0b3c8774",
          "locked": true,
          "schema_version": 3,
          "solution": false
        },
        "id": "VjJlR54N103S"
      },
      "source": [
        "I always find it a bit anticlimatic when all the tests pass, and all you get for this accomplishment is... nothing.  Yes, we could define a `PatOnTheBack` exception and raise it, but that will be for another time.\n",
        "\n",
        "Rather, let us discuss why the above implementation of a sock drawer is not great.\n",
        "A list keeps elements in a ... list.  So if you need to count the number of times in which an element occurs, you need to traverse the list.  The method count() is faster than the do-it-yourself solution `len([x for x in self.drawer if x == color])`,  as it is implemented natively, but it is still slow.  On top of that, once having counted the number of colors, if the chosen color appears more than once in `get_pair`, we call remove() _twice_ to remove it.  This is just esthetically terrible. We go over the list three times, each time unable to make use of the information we found the previous time.\n",
        "\n",
        "In the big scheme of things, the implementation might be fine.  \"Going over the list\" takes time proportional to the length of the list (it is a _linear-time_ operation), and unless a person has a very large number of socks, the performance may never become a bottleneck.  What is really disturbing, to me at least, is the ugliness of the code."
      ]
    },
    {
      "cell_type": "markdown",
      "metadata": {
        "deletable": false,
        "editable": false,
        "nbgrader": {
          "cell_type": "markdown",
          "checksum": "114b599d531e6320dad7e028787e1c06",
          "grade": false,
          "grade_id": "cell-48d9335d7d05f129",
          "locked": true,
          "schema_version": 3,
          "solution": false
        },
        "id": "apVEQboZ103T"
      },
      "source": [
        "## A Better Sock Drawer\n",
        "\n",
        "Let us aim at a better solution.  The problem with our list-based implementation, fundamentally, is that all our questions can be answered by knowing how many socks we have for each color, and the list implementation stores this information in unary format, and mixing all colors together.  A much more rational way of remembering the status of the drawer is to associate with each color the number of socks we have.  Thus, our main data structure will be a dictionary mapping colors to integers.\n",
        "\n",
        "A short aside. If `d` is a normal dictionary, and you want to add `quantity` to `color`, you end up writing code like this:"
      ]
    },
    {
      "cell_type": "code",
      "execution_count": null,
      "metadata": {
        "deletable": false,
        "editable": false,
        "nbgrader": {
          "cell_type": "code",
          "checksum": "66274cc52b6fa91e98cd4050d767e965",
          "grade": false,
          "grade_id": "cell-d332ffe4d4367d18",
          "locked": true,
          "schema_version": 3,
          "solution": false
        },
        "id": "sHAXrty8103T"
      },
      "outputs": [],
      "source": [
        "# Just to initialize\n",
        "d = {'green': 4}\n",
        "color = 'red'\n",
        "quantity = 2\n",
        "\n",
        "if color in d:\n",
        "    d[color] += quantity\n",
        "else:\n",
        "    d[color] = quantity\n"
      ]
    },
    {
      "cell_type": "markdown",
      "metadata": {
        "deletable": false,
        "editable": false,
        "nbgrader": {
          "cell_type": "markdown",
          "checksum": "35933df79b30ef7f602cafa4fcd5fbb8",
          "grade": false,
          "grade_id": "cell-1656ceca78969d87",
          "locked": true,
          "schema_version": 3,
          "solution": false
        },
        "id": "2Qu5v-w8103U"
      },
      "source": [
        "Yes, you can do a little better, as in:"
      ]
    },
    {
      "cell_type": "code",
      "execution_count": null,
      "metadata": {
        "deletable": false,
        "editable": false,
        "nbgrader": {
          "cell_type": "code",
          "checksum": "d1d7002270249c774b32b3ea1a5d0226",
          "grade": false,
          "grade_id": "cell-6746d229adee0ff6",
          "locked": true,
          "schema_version": 3,
          "solution": false
        },
        "id": "4DQtG1oi103U"
      },
      "outputs": [],
      "source": [
        "d[color] = d.get(color, 0) + quantity\n"
      ]
    },
    {
      "cell_type": "markdown",
      "metadata": {
        "deletable": false,
        "editable": false,
        "nbgrader": {
          "cell_type": "markdown",
          "checksum": "aa108f049ca435d3fd20d49671060f75",
          "grade": false,
          "grade_id": "cell-3148a8346b1fb1ac",
          "locked": true,
          "schema_version": 3,
          "solution": false
        },
        "id": "SM7ut426103U"
      },
      "source": [
        "but this is not nearly as elegant as being able to access a dictionary with square-bracket notation.  We would like some way of avoiding the test, or the concern, of whether a key is already in the dictionary.  \n",
        "\n"
      ]
    },
    {
      "cell_type": "markdown",
      "metadata": {
        "deletable": false,
        "editable": false,
        "nbgrader": {
          "cell_type": "markdown",
          "checksum": "d059af04fab1698d4c2980d89ada04c8",
          "grade": false,
          "grade_id": "cell-b627182ce96f0ce2",
          "locked": true,
          "schema_version": 3,
          "solution": false
        },
        "id": "HmcDrd9I103V"
      },
      "source": [
        "### defaultdicts\n",
        "\n",
        "The [`defaultdict` collection type](https://docs.python.org/3/library/collections.html#collections.defaultdict) does precisely this.  A defaultdict dictionary, when accessed, returns the value associated with the key, if any, and otherwise returns a default value.  You specify the default value when you create the defaultdict, by passing to its creator a _factory_ function.  The factory function is called any time a default value is needed, and should return the default value.\n",
        "\n",
        "In our case, we want a dictionary where the default value is 0; so we use the function `int` which, when called without arguments, returns 0.  Yes, it is a little confusing that `int` is both a type and a function..."
      ]
    },
    {
      "cell_type": "code",
      "execution_count": null,
      "metadata": {
        "deletable": false,
        "editable": false,
        "nbgrader": {
          "cell_type": "code",
          "checksum": "822f3512f17e4d2bf7e3ce8148ccefa0",
          "grade": false,
          "grade_id": "cell-1682d137d8c115fe",
          "locked": true,
          "schema_version": 3,
          "solution": false
        },
        "id": "2i_2sRDO103V",
        "colab": {
          "base_uri": "https://localhost:8080/"
        },
        "outputId": "4b7dcde1-b203-40f3-9cd1-5f0fab60b451"
      },
      "outputs": [
        {
          "output_type": "execute_result",
          "data": {
            "text/plain": [
              "0"
            ]
          },
          "metadata": {},
          "execution_count": 161
        }
      ],
      "source": [
        "int()\n"
      ]
    },
    {
      "cell_type": "markdown",
      "metadata": {
        "deletable": false,
        "editable": false,
        "nbgrader": {
          "cell_type": "markdown",
          "checksum": "887184c778918c74de23beb298a431f3",
          "grade": false,
          "grade_id": "cell-f70b8d3e850ca4df",
          "locked": true,
          "schema_version": 3,
          "solution": false
        },
        "id": "K7ZYyPGC103V"
      },
      "source": [
        "So we can create a dictionary with default value 0 as follows:"
      ]
    },
    {
      "cell_type": "code",
      "execution_count": null,
      "metadata": {
        "deletable": false,
        "editable": false,
        "nbgrader": {
          "cell_type": "code",
          "checksum": "4864a723c488cbd034d9a414d28e2443",
          "grade": false,
          "grade_id": "cell-73fadb3fcb9979f4",
          "locked": true,
          "schema_version": 3,
          "solution": false
        },
        "id": "KZLqytXd103W"
      },
      "outputs": [],
      "source": [
        "from collections import defaultdict\n",
        "d = defaultdict(int)\n"
      ]
    },
    {
      "cell_type": "code",
      "execution_count": null,
      "metadata": {
        "deletable": false,
        "editable": false,
        "nbgrader": {
          "cell_type": "code",
          "checksum": "e360516dcc642bdb24aa3c58195192d6",
          "grade": false,
          "grade_id": "cell-51dee40a2b3d4b21",
          "locked": true,
          "schema_version": 3,
          "solution": false
        },
        "id": "RIizwT7j103W",
        "colab": {
          "base_uri": "https://localhost:8080/"
        },
        "outputId": "15b9bce5-7d0a-4dde-dfc2-030167e77c0d"
      },
      "outputs": [
        {
          "output_type": "execute_result",
          "data": {
            "text/plain": [
              "defaultdict(int, {})"
            ]
          },
          "metadata": {},
          "execution_count": 163
        }
      ],
      "source": [
        "d\n"
      ]
    },
    {
      "cell_type": "markdown",
      "metadata": {
        "deletable": false,
        "editable": false,
        "nbgrader": {
          "cell_type": "markdown",
          "checksum": "9810a767fa7963e80edff1c69565f3a6",
          "grade": false,
          "grade_id": "cell-2c4cfc6b772ec7ac",
          "locked": true,
          "schema_version": 3,
          "solution": false
        },
        "id": "kOEL8Bsz103W"
      },
      "source": [
        "When an element is not found, rather than throwing an error, our defaultdict returns value 0:"
      ]
    },
    {
      "cell_type": "code",
      "execution_count": null,
      "metadata": {
        "deletable": false,
        "editable": false,
        "nbgrader": {
          "cell_type": "code",
          "checksum": "55da13d9c4d8106a9bdbebf7a563e46c",
          "grade": false,
          "grade_id": "cell-46f8ad317c58932",
          "locked": true,
          "schema_version": 3,
          "solution": false
        },
        "id": "OX6oXdWq103W",
        "colab": {
          "base_uri": "https://localhost:8080/"
        },
        "outputId": "1b6a7e1f-03af-4339-b731-b731232f19ec"
      },
      "outputs": [
        {
          "output_type": "execute_result",
          "data": {
            "text/plain": [
              "0"
            ]
          },
          "metadata": {},
          "execution_count": 164
        }
      ],
      "source": [
        "d['red']\n"
      ]
    },
    {
      "cell_type": "markdown",
      "metadata": {
        "deletable": false,
        "editable": false,
        "nbgrader": {
          "cell_type": "markdown",
          "checksum": "0ccc9e3c26a0388ecf5252055382c514",
          "grade": false,
          "grade_id": "cell-9b2aa5fbd897b74a",
          "locked": true,
          "schema_version": 3,
          "solution": false
        },
        "id": "3Z0oREyY103X"
      },
      "source": [
        "And we can write code like this:"
      ]
    },
    {
      "cell_type": "code",
      "execution_count": null,
      "metadata": {
        "deletable": false,
        "editable": false,
        "nbgrader": {
          "cell_type": "code",
          "checksum": "cbde7708f1b2aca75d4301da27cd74c6",
          "grade": false,
          "grade_id": "cell-3651df138b337b3c",
          "locked": true,
          "schema_version": 3,
          "solution": false
        },
        "id": "cTHKArMT103X",
        "colab": {
          "base_uri": "https://localhost:8080/"
        },
        "outputId": "9a055540-1b88-4f3e-a659-4b1e97b6904b"
      },
      "outputs": [
        {
          "output_type": "stream",
          "name": "stdout",
          "text": [
            "2\n",
            "0\n"
          ]
        }
      ],
      "source": [
        "d['red'] += 2\n",
        "print(d['red'])\n",
        "print(d['green'])\n"
      ]
    },
    {
      "cell_type": "markdown",
      "metadata": {
        "deletable": false,
        "editable": false,
        "nbgrader": {
          "cell_type": "markdown",
          "checksum": "c8b954398ff46d666d8a2ca741faea90",
          "grade": false,
          "grade_id": "cell-74bd6312bfdaa88d",
          "locked": true,
          "schema_version": 3,
          "solution": false
        },
        "id": "B2bHYVdG103X"
      },
      "source": [
        "With this we can define a better sock drawer:"
      ]
    },
    {
      "cell_type": "code",
      "execution_count": null,
      "metadata": {
        "deletable": false,
        "editable": false,
        "nbgrader": {
          "cell_type": "code",
          "checksum": "0e4655fd17596457d0057394f55be8ee",
          "grade": false,
          "grade_id": "cell-aaf26c348d1a3aa2",
          "locked": true,
          "schema_version": 3,
          "solution": false
        },
        "id": "xj5Iyjm1103X"
      },
      "outputs": [],
      "source": [
        "class SmartDrawer(object):\n",
        "\n",
        "    def __init__(self):\n",
        "        self.socks = defaultdict(int)\n",
        "\n",
        "    def add_sock(self, color):\n",
        "        self.socks[color] += 1\n",
        "\n",
        "    def get_pair(self, color):\n",
        "        if self.socks[color] > 1:\n",
        "            self.socks[color] -= 2\n",
        "            return True\n",
        "        else:\n",
        "            return False\n",
        "\n",
        "    @property\n",
        "    def available_colors(self):\n",
        "        return {c for c, n in self.socks.items() if n > 1}\n"
      ]
    },
    {
      "cell_type": "markdown",
      "metadata": {
        "deletable": false,
        "editable": false,
        "nbgrader": {
          "cell_type": "markdown",
          "checksum": "18fcff5fa8cfb301d73ebc76e1443d5f",
          "grade": false,
          "grade_id": "cell-a6c94c850283174a",
          "locked": true,
          "schema_version": 3,
          "solution": false
        },
        "id": "U0C4EnlJ103Y"
      },
      "source": [
        "Note how this code is not only more efficient than our previous attempt, but also more concise.  Let us test this class."
      ]
    },
    {
      "cell_type": "code",
      "execution_count": null,
      "metadata": {
        "deletable": false,
        "editable": false,
        "nbgrader": {
          "cell_type": "code",
          "checksum": "a8f9e607951f0bca92996060785ca388",
          "grade": false,
          "grade_id": "cell-ded883ed08748c79",
          "locked": true,
          "schema_version": 3,
          "solution": false
        },
        "id": "UlJrbhVZ103Y"
      },
      "outputs": [],
      "source": [
        "test_drawer(SmartDrawer)\n"
      ]
    },
    {
      "cell_type": "markdown",
      "metadata": {
        "deletable": false,
        "editable": false,
        "nbgrader": {
          "cell_type": "markdown",
          "checksum": "c3d563f456bde5bc35d78eeae1447747",
          "grade": false,
          "grade_id": "cell-64c1d01d327bf384",
          "locked": true,
          "schema_version": 3,
          "solution": false
        },
        "id": "w96FqcLb103Y"
      },
      "source": [
        "# Arithmetic Dictionaries\n",
        "\n",
        "At the core of our sock drawer implementation is a fundamental data structure which, for some reason, does not come standard in programming languages: a dictionary that has numerical values (and arbitrary keys).\n",
        "\n",
        "A number is a number.  An _arithmetic dictionary_ $d$ is a mapping from a set of keys $K$ to numbers (let's say, to $\\mathbf{R}$), that is,\n",
        "\n",
        "$$\n",
        "d: K \\mapsto \\mathbf{R} \\, .\n",
        "$$\n",
        "\n",
        "In other words, $d$ is a function from $K$ to $\\mathbf{R}$.\n",
        "\n",
        "Functions can be combined with arithmetic operators: if you have, for instance, $f_1(x) = x + 2$, and $f_2(x) = x^2$, you can compute $g = f_1 + f_2$, where $g(x) = x^2 + x + 2$.\n",
        "\n",
        "The same we can do with arithmetic dictionaries: if we have\n",
        "\n",
        "$$\n",
        "d_1: K \\mapsto \\mathbf{R} \\qquad d_2: K \\mapsto \\mathbf{R}\n",
        "$$\n",
        "\n",
        "we can add them as $d = d_1 + d_2$, where $d[k] = d_1[k] + d_2[k]$ for all $k \\in K$, and similarly for $-$, $/$, and $*$.\n",
        "\n",
        "In fact, it will be convenient to combine also dictionaries that have different sets of keys.  In that case, if a key $k$ is missing from a dictionary $d$, we will take for $d[k]$ a default value that corresponds to the [_neutral elements_](https://en.wikipedia.org/wiki/Identity_element) with respect to the operation used to combine dictionaries: 0 for $+$ and $-$, and 1 for $\\times$ and /.\n",
        "\n",
        "For example, if we have:\n",
        "\n",
        "    d1 = {'cat': 4, 'bird': 2}\n",
        "    d2 = {'cat': 5, 'dog': 3}\n",
        "\n",
        "and we compute `d = d1 + d2`, we will obtain\n",
        "\n",
        "    d = {'cat': 9, 'bird': 2, 'dog': 3}\n",
        "\n",
        "since the missing elements, such as `'bird'` in `d2`, will be assumed to have value 0.\n",
        "\n",
        "We note that Python includes, in the `collections` module, the [`Counter` class](https://docs.python.org/3.7/library/collections.html#collections.Counter), which supports addition.  Arithmetic dictionaries are a more general version of the `Counter` class."
      ]
    },
    {
      "cell_type": "code",
      "execution_count": null,
      "metadata": {
        "deletable": false,
        "editable": false,
        "nbgrader": {
          "cell_type": "code",
          "checksum": "069387db2eb011d4b46c1fc413a58131",
          "grade": false,
          "grade_id": "cell-14efcddd0b0001cf",
          "locked": true,
          "schema_version": 3,
          "solution": false
        },
        "id": "r7ogaZ57103Z"
      },
      "outputs": [],
      "source": [
        "class MehAD(dict):\n",
        "\n",
        "    def __add__(self, other):\n",
        "        d = MehAD()\n",
        "        other_keys = set(other.keys()) if isinstance(other, dict) else set()\n",
        "        for k in set(self.keys()) | other_keys:\n",
        "            d[k] = self.get(k, 0) + (other.get(k, 0) if isinstance(other, dict) else other)\n",
        "        return d\n"
      ]
    },
    {
      "cell_type": "code",
      "execution_count": null,
      "metadata": {
        "deletable": false,
        "editable": false,
        "nbgrader": {
          "cell_type": "code",
          "checksum": "5b5f1053e5ffee417c6c35caa2079154",
          "grade": false,
          "grade_id": "cell-fa0e66abc2a0150",
          "locked": true,
          "schema_version": 3,
          "solution": false
        },
        "id": "4jNM_m1b103Z",
        "colab": {
          "base_uri": "https://localhost:8080/"
        },
        "outputId": "20b3173e-fc96-4e37-8ce7-0cae7a02f382"
      },
      "outputs": [
        {
          "output_type": "execute_result",
          "data": {
            "text/plain": [
              "{'green': 3, 'red': 2}"
            ]
          },
          "metadata": {},
          "execution_count": 169
        }
      ],
      "source": [
        "d1 = MehAD()\n",
        "d2 = MehAD(red=2, green=3) # dict(red=2, green=3)\n",
        "d1 + d2\n"
      ]
    },
    {
      "cell_type": "code",
      "execution_count": null,
      "metadata": {
        "deletable": false,
        "editable": false,
        "nbgrader": {
          "cell_type": "code",
          "checksum": "216cb44800fe6beafdeebbd12c3f7198",
          "grade": false,
          "grade_id": "cell-c8468cc6899ecd66",
          "locked": true,
          "schema_version": 3,
          "solution": false
        },
        "id": "e7oIqUmi103Z",
        "colab": {
          "base_uri": "https://localhost:8080/"
        },
        "outputId": "5d605fdf-6ede-441b-b00e-ebc271b30c47"
      },
      "outputs": [
        {
          "output_type": "execute_result",
          "data": {
            "text/plain": [
              "{'green': 6, 'red': 5}"
            ]
          },
          "metadata": {},
          "execution_count": 170
        }
      ],
      "source": [
        "d2 + 3\n"
      ]
    },
    {
      "cell_type": "markdown",
      "metadata": {
        "deletable": false,
        "editable": false,
        "nbgrader": {
          "cell_type": "markdown",
          "checksum": "3fbcc69f5915c6896c6598671af4285f",
          "grade": false,
          "grade_id": "cell-53ad0fe09e8e35b1",
          "locked": true,
          "schema_version": 3,
          "solution": false
        },
        "id": "fKIo2oT2103a"
      },
      "source": [
        "This would work.  But then, when you set to implement `__sub__`, you would have to repeat more or less the same code, except for `-` instead of `+` in line 10.  And the code for `__mul__` and `__truediv__` would also be very similar.\n",
        "\n",
        "We want to teach you how to factor the common code.  The idea is to define a method `_binary_op` that takes as arguments the left operand, right operand, the function to be used to combine the operands (addition, subtraction, etc), and the element to be used when the key is not in the dictionary.  All the operands can then be defined in terms of `_binary_op`.  This factorization of common code has two benefits:\n",
        "\n",
        "* it makes the code more concise, and\n",
        "* it ensures that, if you find a bug and fix it, _all_ the operations will benefit from the fix.\n",
        "\n",
        "_Code factorization_ means gathering together the common code, eliminating repetitions; just as factoring $ab + ac$ into $a(b + c)$ removes the repetition of $a$.\n",
        "It turns out that the deep reason why code factorization is important is not conciseness: rather, it is the fact that once a bug is discovered in the factorized code, all uses of the code will benefit from it.\n",
        "\n",
        "The code is as follows:"
      ]
    },
    {
      "cell_type": "code",
      "execution_count": null,
      "metadata": {
        "deletable": false,
        "editable": false,
        "nbgrader": {
          "cell_type": "code",
          "checksum": "3bc014c8c8956ada92245cd099ec0f6d",
          "grade": false,
          "grade_id": "cell-61d1d55a965c26b",
          "locked": true,
          "schema_version": 3,
          "solution": false
        },
        "id": "fA62B0XE103a"
      },
      "outputs": [],
      "source": [
        "class AD(dict):\n",
        "\n",
        "    def __add__(self, other):\n",
        "        return AD._binary_op(self, other, lambda x, y: x + y, 0)\n",
        "\n",
        "    def __sub__(self, other):\n",
        "        return AD._binary_op(self, other, lambda x, y: x - y, 0)\n",
        "\n",
        "    @staticmethod\n",
        "    def _binary_op(left, right, op, neutral):\n",
        "        r = AD()\n",
        "        l_keys = set(left.keys()) if isinstance(left, dict) else set()\n",
        "        r_keys = set(right.keys()) if isinstance(right, dict) else set()\n",
        "        for k in l_keys | r_keys:\n",
        "            # If the right (or left) element is a dictionary (or an AD),\n",
        "            # we get the elements from the dictionary; else we use the right\n",
        "            # or left value itself.  This implements a sort of dictionary\n",
        "            # broadcasting.\n",
        "            l_val = left.get(k, neutral) if isinstance(left, dict) else left\n",
        "            r_val = right.get(k, neutral) if isinstance(right, dict) else right\n",
        "            r[k] = op(l_val, r_val)\n",
        "        return r\n"
      ]
    },
    {
      "cell_type": "markdown",
      "metadata": {
        "deletable": false,
        "editable": false,
        "nbgrader": {
          "cell_type": "markdown",
          "checksum": "b837dbf2e00c8d46c1329b0477ae2810",
          "grade": false,
          "grade_id": "cell-7d3cfae01901a1b9",
          "locked": true,
          "schema_version": 3,
          "solution": false
        },
        "id": "ocEksqTi103a"
      },
      "source": [
        "In the implementation above, we have factored together what would have been the common part of the implementation of $+$ and $-$ in the method `_binary_op`.  The `_binary_op` method is a [_static method:_](https://docs.python.org/3/library/functions.html#staticmethod) it does not refer to a specific object.  In this way, we can decide separately what to provide to it as the left and right hand sides; this will be useful later, as we shall see.  To call it, we have to refer to it via `AD._binary_op` rather than `self._binary_op`, as would be the case for a normal (object) method.  Furthermore, in the `_binary_op` method, we do not have access to `self`, since `self` refers to a specific object, while the method is generic, defined for the class.\n",
        "\n",
        "The `_binary_op` method combines values from its `left` and `right` operands using operator `op`, and the default `neutral` if a value is not found.  The two operands `left` and `right` are interpreted as dictionaries if they are a subclass of `dict`, and are interpreted as constants otherwise.\n",
        "\n",
        "We have defined our class AD as a _subclass_ of the dictionary class `dict`.  This enables us to apply to an AD all the [methods that are defined for a dictionary](https://docs.python.org/3/library/stdtypes.html#typesmapping), which is really quite handy."
      ]
    },
    {
      "cell_type": "code",
      "execution_count": null,
      "metadata": {
        "deletable": false,
        "editable": false,
        "nbgrader": {
          "cell_type": "code",
          "checksum": "c4484313006e3d6e4e145c84e958659f",
          "grade": false,
          "grade_id": "cell-7612b9c75f3a55da",
          "locked": true,
          "schema_version": 3,
          "solution": false
        },
        "id": "l508mZPd103a",
        "colab": {
          "base_uri": "https://localhost:8080/"
        },
        "outputId": "7c0def72-a349-450c-c8a2-e7468cff70a7"
      },
      "outputs": [
        {
          "output_type": "stream",
          "name": "stdout",
          "text": [
            "{'red': 2}\n",
            "{'blue': 4, 'green': 5}\n"
          ]
        }
      ],
      "source": [
        "d1 = AD()\n",
        "d1['red'] = 2\n",
        "print(d1)\n",
        "d2 = AD({'blue': 4, 'green': 5})\n",
        "print(d2)\n"
      ]
    },
    {
      "cell_type": "markdown",
      "metadata": {
        "deletable": false,
        "editable": false,
        "nbgrader": {
          "cell_type": "markdown",
          "checksum": "65c6ad4565e83ebe382eae589c4626af",
          "grade": false,
          "grade_id": "cell-4db8334209601c36",
          "locked": true,
          "schema_version": 3,
          "solution": false
        },
        "id": "BxdbxehU103b"
      },
      "source": [
        "In the code above, note how we can write `d1['red']`: our ability to access ADs via the square-bracket notation is due to the fact that ADs, like dictionaries, implement the [`__getitem__` method](https://docs.python.org/3/reference/datamodel.html#object.__getitem__).  Note also that AD inherits from `dict` even the initializer methods, so that we can pass to our dictionary another dictionary, and obtain an AD that contains a [_copy_ of that dictionary](https://docs.python.org/3/library/stdtypes.html#dict).\n",
        "\n",
        "We can see that addition and subtraction also work:"
      ]
    },
    {
      "cell_type": "code",
      "execution_count": null,
      "metadata": {
        "deletable": false,
        "editable": false,
        "nbgrader": {
          "cell_type": "code",
          "checksum": "969abfda6733a0872869b2ea93fc501e",
          "grade": false,
          "grade_id": "cell-91438bfe1ed11352",
          "locked": true,
          "schema_version": 3,
          "solution": false
        },
        "id": "AdONZb7S103b",
        "colab": {
          "base_uri": "https://localhost:8080/"
        },
        "outputId": "524fa1f6-0acf-4734-db2f-118c3fbf4db1"
      },
      "outputs": [
        {
          "output_type": "stream",
          "name": "stdout",
          "text": [
            "{'red': 3, 'blue': 4, 'green': 3}\n",
            "{'red': 1, 'blue': -4, 'green': 3}\n"
          ]
        }
      ],
      "source": [
        "print(AD(red=2, green=3) + AD(red=1, blue=4))\n",
        "print(AD(red=2, green=3) - AD(red=1, blue=4))\n"
      ]
    },
    {
      "cell_type": "markdown",
      "metadata": {
        "deletable": false,
        "editable": false,
        "nbgrader": {
          "cell_type": "markdown",
          "checksum": "34d8c67c9b4c4701af58d5126a48735f",
          "grade": false,
          "grade_id": "cell-879468e524bca8a5",
          "locked": true,
          "schema_version": 3,
          "solution": false
        },
        "id": "7hMJaXRs103b"
      },
      "source": [
        "We let multiplication and division to you to implement."
      ]
    },
    {
      "cell_type": "code",
      "execution_count": null,
      "metadata": {
        "deletable": false,
        "nbgrader": {
          "cell_type": "code",
          "checksum": "ea0ff7c24d361ca455b0e579666d0bf6",
          "grade": false,
          "grade_id": "cell-ff705313164f97cb",
          "locked": false,
          "schema_version": 3,
          "solution": true
        },
        "id": "NmRLiDGs103b"
      },
      "outputs": [],
      "source": [
        "### Implement multiplication and division\n",
        "\n",
        "def ad_mul(self, other):\n",
        "    return AD._binary_op(self, other, lambda x, y: x * y, 1)\n",
        "\n",
        "\n",
        "AD.__mul__ = ad_mul\n",
        "\n",
        "# below division, similarly.\n",
        "def ad_truediv(self, other):\n",
        "    return AD._binary_op(self, other, lambda x, y: x / y, 1)\n",
        "\n",
        "AD.__truediv__ = ad_truediv\n",
        "\n",
        "\n",
        "# And finally, define below INTEGER division.\n",
        "\n",
        "def ad_floordiv(self, other):\n",
        "    return AD._binary_op(self, other, lambda x, y: x // y, 1)\n",
        "\n",
        "AD.__floordiv__ = ad_floordiv\n"
      ]
    },
    {
      "cell_type": "code",
      "execution_count": null,
      "metadata": {
        "deletable": false,
        "editable": false,
        "nbgrader": {
          "cell_type": "code",
          "checksum": "abc64778fd7d5c85e1c36423c763c8e0",
          "grade": true,
          "grade_id": "cell-c6e82a48a78a028b",
          "locked": true,
          "points": 10,
          "schema_version": 3,
          "solution": false
        },
        "id": "n9Gg3kgh103c"
      },
      "outputs": [],
      "source": [
        "### Tests for multiplication\n",
        "\n",
        "# Note that the elements that are missing in the other dictionary\n",
        "# are assumed to be 1.\n",
        "d = AD(a=2, b=3) * AD(b=4, c=5)\n",
        "check_equal(d, AD(a=2, b=12, c=5))\n",
        "\n"
      ]
    },
    {
      "cell_type": "code",
      "execution_count": null,
      "metadata": {
        "deletable": false,
        "editable": false,
        "nbgrader": {
          "cell_type": "code",
          "checksum": "b802bebf8fc5484da6588d7095ef9cf1",
          "grade": true,
          "grade_id": "cell-b24a48aa111bb07c",
          "locked": true,
          "points": 10,
          "schema_version": 3,
          "solution": false
        },
        "id": "5MoEftdA103c"
      },
      "outputs": [],
      "source": [
        "### Tests for division\n",
        "\n",
        "d = AD(a=8, b=6) / AD(a=2, c=4)\n",
        "check_equal(d, AD(a=4, b=6, c=0.25))\n",
        "\n"
      ]
    },
    {
      "cell_type": "code",
      "execution_count": null,
      "metadata": {
        "deletable": false,
        "editable": false,
        "nbgrader": {
          "cell_type": "code",
          "checksum": "e2cc3674c65fdb3098518b9e9ef19b59",
          "grade": true,
          "grade_id": "cell-7473bc059365244a",
          "locked": true,
          "points": 10,
          "schema_version": 3,
          "solution": false
        },
        "id": "cDOcP_-4103c"
      },
      "outputs": [],
      "source": [
        "### Tests for integer division\n",
        "\n",
        "d = AD(a=8, b=6) // AD(a=2, b=4, c=4)\n",
        "check_equal(d, AD(a=4, b=1, c=0))\n",
        "\n"
      ]
    },
    {
      "cell_type": "markdown",
      "metadata": {
        "deletable": false,
        "editable": false,
        "nbgrader": {
          "cell_type": "markdown",
          "checksum": "74870b5f1539eda273a8b553a316f6c9",
          "grade": false,
          "grade_id": "cell-1b09899226dbbc32",
          "locked": true,
          "schema_version": 3,
          "solution": false
        },
        "id": "SX-8-o_e103c"
      },
      "source": [
        "We will let you also implement max_items and min_items properties.  The value of these properties should be a _pair_, consisting of the maximum/minimum value, and of the _set_ of keys that led to that value.  The latter needs to be a set, because there are multiple key, value pairs where the value is maximal or minimal. To avoid wasting your time, we will have you implement only the max_items property.  If the AD is empty, the property's value should be the pair `(None, set())`."
      ]
    },
    {
      "cell_type": "code",
      "execution_count": null,
      "metadata": {
        "deletable": false,
        "nbgrader": {
          "cell_type": "code",
          "checksum": "4f5d76bd0f13319114a9ff73baaf6332",
          "grade": false,
          "grade_id": "cell-933713f035c4e0d9",
          "locked": false,
          "schema_version": 3,
          "solution": true
        },
        "id": "sTAs-2IO103d"
      },
      "outputs": [],
      "source": [
        "### Implement `max_items`\n",
        "\n",
        "def ad_max_items(self):\n",
        "    \"\"\"Returns a pair consisting of the max value in the AD, and of the\n",
        "    set of keys that attain that value. \"\"\"\n",
        "    max = 0\n",
        "    setss = set()\n",
        "    for k, v in self.items():\n",
        "      if v > max:\n",
        "        setss = set()\n",
        "        setss.add(k)\n",
        "        max = v\n",
        "      elif v == max:\n",
        "        setss.add(k)\n",
        "\n",
        "    if max == 0:\n",
        "      return None, set()\n",
        "\n",
        "\n",
        "    return max, setss\n",
        "\n",
        "AD.max_items = property(ad_max_items)\n"
      ]
    },
    {
      "cell_type": "code",
      "execution_count": null,
      "metadata": {
        "deletable": false,
        "editable": false,
        "nbgrader": {
          "cell_type": "code",
          "checksum": "0e2a13e0281b661945c8e0c44d092ed0",
          "grade": true,
          "grade_id": "cell-38c3ab736804fa0e",
          "locked": true,
          "points": 10,
          "schema_version": 3,
          "solution": false
        },
        "id": "DhkY0Oz6103d"
      },
      "outputs": [],
      "source": [
        "### Tests for `max_items`\n",
        "\n",
        "# For empty ADs, it has to return None as value, and the empty set as key set.\n",
        "check_equal(AD().max_items, (None, set()))\n",
        "# Case of one maximum.\n",
        "check_equal(AD(red=2, green=3, blue=1).max_items, (3, {'green'}))\n",
        "# Case of multiple maxima.\n",
        "check_equal(AD(red=2, yellow=3, blue=3, violet=3, pink=1).max_items,\n",
        "             (3, {'yellow', 'blue', 'violet'}))\n"
      ]
    },
    {
      "cell_type": "markdown",
      "metadata": {
        "deletable": false,
        "editable": false,
        "nbgrader": {
          "cell_type": "markdown",
          "checksum": "390084e36df0fc4f77cee53fc354cc1b",
          "grade": false,
          "grade_id": "cell-8f3d6a44749356a1",
          "locked": true,
          "schema_version": 3,
          "solution": false
        },
        "id": "idxM0nHb103d"
      },
      "source": [
        "## Comparison and Logical Operators\n",
        "\n",
        "### Comparisons\n",
        "\n",
        "If `d` is an `AD`, what is the meaning of `d > 2`?\n",
        "\n",
        "In numpy, when we have an array `a`, and we write `a > 2`, we obtain the array consisting of boolean entries, indicating whether the elements of `a` are greater than two or not:\n"
      ]
    },
    {
      "cell_type": "code",
      "execution_count": null,
      "metadata": {
        "deletable": false,
        "editable": false,
        "nbgrader": {
          "cell_type": "code",
          "checksum": "1a2a60fa79cacd513377480f7fc77a47",
          "grade": false,
          "grade_id": "cell-946ecf497830d7b9",
          "locked": true,
          "schema_version": 3,
          "solution": false
        },
        "id": "s3qcVg3S103d",
        "colab": {
          "base_uri": "https://localhost:8080/"
        },
        "outputId": "735c634f-e93d-44b9-b6cb-76ad366c3a3b"
      },
      "outputs": [
        {
          "output_type": "execute_result",
          "data": {
            "text/plain": [
              "array([False,  True,  True, False, False])"
            ]
          },
          "metadata": {},
          "execution_count": 180
        }
      ],
      "source": [
        "import numpy as np\n",
        "\n",
        "a = np.array([2, 3, 4, 1, 2])\n",
        "a > 2\n"
      ]
    },
    {
      "cell_type": "markdown",
      "metadata": {
        "deletable": false,
        "editable": false,
        "nbgrader": {
          "cell_type": "markdown",
          "checksum": "7a297ff2d664cdde93a98ec9ba4c282e",
          "grade": false,
          "grade_id": "cell-f12fca634b0d6b31",
          "locked": true,
          "schema_version": 3,
          "solution": false
        },
        "id": "WGLoNnea103e"
      },
      "source": [
        "This suggests adopting a similar semantics for inequalities, defining the behavior of the [comparison operators](https://docs.python.org/3/reference/datamodel.html#object.__lt__):"
      ]
    },
    {
      "cell_type": "code",
      "execution_count": null,
      "metadata": {
        "deletable": false,
        "editable": false,
        "nbgrader": {
          "cell_type": "code",
          "checksum": "af1346fb263659370c0cfcdee075e861",
          "grade": false,
          "grade_id": "cell-c2c799dbbbb1c5bf",
          "locked": true,
          "schema_version": 3,
          "solution": false
        },
        "id": "Mi_-sPPd103e"
      },
      "outputs": [],
      "source": [
        "def ad_lt(self, other):\n",
        "    return AD._binary_op(self, other, lambda x, y: x < y, 0)\n",
        "\n",
        "AD.__lt__ = ad_lt\n"
      ]
    },
    {
      "cell_type": "code",
      "execution_count": null,
      "metadata": {
        "deletable": false,
        "editable": false,
        "nbgrader": {
          "cell_type": "code",
          "checksum": "b44ec0e8e6ed4ad7c0b12a08faead508",
          "grade": false,
          "grade_id": "cell-e417e70f9b089668",
          "locked": true,
          "schema_version": 3,
          "solution": false
        },
        "id": "Aud9LBtK103e"
      },
      "outputs": [],
      "source": [
        "AD.__lt__ = lambda l, r: AD._binary_op(l, r, lambda x, y: x < y, 0)\n",
        "AD.__gt__ = lambda l, r: AD._binary_op(l, r, lambda x, y: x > y, 0)\n",
        "AD.__le__ = lambda l, r: AD._binary_op(l, r, lambda x, y: x <= y, 0)\n",
        "AD.__ge__ = lambda l, r: AD._binary_op(l, r, lambda x, y: x >= y, 0)\n"
      ]
    },
    {
      "cell_type": "markdown",
      "metadata": {
        "deletable": false,
        "editable": false,
        "nbgrader": {
          "cell_type": "markdown",
          "checksum": "3a397fdeb80f99485b291fb4d6b5c7f2",
          "grade": false,
          "grade_id": "cell-ed626c2b00dc55ed",
          "locked": true,
          "schema_version": 3,
          "solution": false
        },
        "id": "bqAf4DTD103e"
      },
      "source": [
        "Let us see how this works:"
      ]
    },
    {
      "cell_type": "code",
      "execution_count": null,
      "metadata": {
        "deletable": false,
        "editable": false,
        "nbgrader": {
          "cell_type": "code",
          "checksum": "4f000e4f13cd5c113d3ad0c9a859a812",
          "grade": false,
          "grade_id": "cell-34c59227ec4c8b26",
          "locked": true,
          "schema_version": 3,
          "solution": false
        },
        "id": "8A0wIRFD103e",
        "colab": {
          "base_uri": "https://localhost:8080/"
        },
        "outputId": "297e599d-c821-42f1-d2a5-88d1493e36ac"
      },
      "outputs": [
        {
          "output_type": "execute_result",
          "data": {
            "text/plain": [
              "{'bird': False, 'cat': True}"
            ]
          },
          "metadata": {},
          "execution_count": 183
        }
      ],
      "source": [
        "AD(cat=4, bird=2) > 2\n"
      ]
    },
    {
      "cell_type": "markdown",
      "metadata": {
        "deletable": false,
        "editable": false,
        "nbgrader": {
          "cell_type": "markdown",
          "checksum": "b238d329ed7a0c635fb9d71ba44ec7f2",
          "grade": false,
          "grade_id": "cell-dfb89c32f017d842",
          "locked": true,
          "schema_version": 3,
          "solution": false
        },
        "id": "u-nK6ut3103f"
      },
      "source": [
        "Once we have a dictionary mapping from values to booleans, we need some way of testing whether all keys, or some keys, map to True. In Python, the `all()` function returns whether all elements in a boolean list are true:"
      ]
    },
    {
      "cell_type": "code",
      "execution_count": null,
      "metadata": {
        "deletable": false,
        "editable": false,
        "nbgrader": {
          "cell_type": "code",
          "checksum": "9e6ce8c22439025fb4365f72b1ead24d",
          "grade": false,
          "grade_id": "cell-3366c7a090b35fb9",
          "locked": true,
          "schema_version": 3,
          "solution": false
        },
        "id": "5TcZmOuX103f",
        "colab": {
          "base_uri": "https://localhost:8080/"
        },
        "outputId": "09056a76-7f14-40a1-de96-d12cebb8c53a"
      },
      "outputs": [
        {
          "output_type": "stream",
          "name": "stdout",
          "text": [
            "False\n",
            "True\n"
          ]
        }
      ],
      "source": [
        "print(all([True, False, True, True]))\n",
        "print(any([True, True, True, True]))\n"
      ]
    },
    {
      "cell_type": "markdown",
      "metadata": {
        "deletable": false,
        "editable": false,
        "nbgrader": {
          "cell_type": "markdown",
          "checksum": "cdf6eada5c3b37019b1352559b733341",
          "grade": false,
          "grade_id": "cell-e5190d2ce2e88cfd",
          "locked": true,
          "schema_version": 3,
          "solution": false
        },
        "id": "aH_qcakN103f"
      },
      "source": [
        "So we can define the `all` and `any` methods for an AD as follows:"
      ]
    },
    {
      "cell_type": "code",
      "execution_count": null,
      "metadata": {
        "deletable": false,
        "editable": false,
        "nbgrader": {
          "cell_type": "code",
          "checksum": "714cda44559e45d9a712ba5ace3e3583",
          "grade": false,
          "grade_id": "cell-78aa0774b9517922",
          "locked": true,
          "schema_version": 3,
          "solution": false
        },
        "id": "9nk-ysx4103f"
      },
      "outputs": [],
      "source": [
        "def ad_all(self):\n",
        "    return all(self.values)\n",
        "\n",
        "AD.all = ad_all\n"
      ]
    },
    {
      "cell_type": "code",
      "execution_count": null,
      "metadata": {
        "deletable": false,
        "editable": false,
        "nbgrader": {
          "cell_type": "code",
          "checksum": "4b57d64959f99d3a982ae9925e0f256b",
          "grade": false,
          "grade_id": "cell-ae0c7078e4275f2f",
          "locked": true,
          "schema_version": 3,
          "solution": false
        },
        "id": "Lj2mflG9103f"
      },
      "outputs": [],
      "source": [
        "AD.all = lambda self : all(self.values())\n",
        "AD.any = lambda self : any(self.values())\n"
      ]
    },
    {
      "cell_type": "markdown",
      "metadata": {
        "deletable": false,
        "editable": false,
        "nbgrader": {
          "cell_type": "markdown",
          "checksum": "f6d0e57327300687bf92146d53ea02f1",
          "grade": false,
          "grade_id": "cell-cd9e1927f5b950e2",
          "locked": true,
          "schema_version": 3,
          "solution": false
        },
        "id": "uM8TNLY8103f"
      },
      "source": [
        "We also add a method for filtering the elements that satisfy a condition.  If the condition is left unspecified, we use the truth-value of the elements themselves."
      ]
    },
    {
      "cell_type": "code",
      "execution_count": null,
      "metadata": {
        "deletable": false,
        "editable": false,
        "nbgrader": {
          "cell_type": "code",
          "checksum": "4a066060cbfc70d393dcb7af7610f719",
          "grade": false,
          "grade_id": "cell-9e47ee4e70846928",
          "locked": true,
          "schema_version": 3,
          "solution": false
        },
        "id": "GbkTIJlM103g"
      },
      "outputs": [],
      "source": [
        "def ad_filter(self, f=None):\n",
        "    return AD({k: v for k, v in self.items() if (f(v) if f is not None else v)})\n",
        "AD.filter = ad_filter\n"
      ]
    },
    {
      "cell_type": "markdown",
      "metadata": {
        "deletable": false,
        "editable": false,
        "nbgrader": {
          "cell_type": "markdown",
          "checksum": "fdf98fd2a8362d8ddfbc3774db8952c7",
          "grade": false,
          "grade_id": "cell-3c6aec45989d2858",
          "locked": true,
          "schema_version": 3,
          "solution": false
        },
        "id": "-tIl99vx103g"
      },
      "source": [
        "Let us try this out."
      ]
    },
    {
      "cell_type": "code",
      "execution_count": null,
      "metadata": {
        "deletable": false,
        "editable": false,
        "nbgrader": {
          "cell_type": "code",
          "checksum": "cbc0490529b7d110752920934f023631",
          "grade": false,
          "grade_id": "cell-d9b144add52495fe",
          "locked": true,
          "schema_version": 3,
          "solution": false
        },
        "id": "_n-k4-ts103g",
        "colab": {
          "base_uri": "https://localhost:8080/"
        },
        "outputId": "8152c109-0911-4ed5-d4b9-4cddfafe10ba"
      },
      "outputs": [
        {
          "output_type": "execute_result",
          "data": {
            "text/plain": [
              "{'blue': 2, 'green': 3}"
            ]
          },
          "metadata": {},
          "execution_count": 188
        }
      ],
      "source": [
        "d = AD(green=3, blue=2, red=1)\n",
        "d.filter(lambda x : x > 1)\n"
      ]
    },
    {
      "cell_type": "code",
      "execution_count": null,
      "metadata": {
        "deletable": false,
        "editable": false,
        "nbgrader": {
          "cell_type": "code",
          "checksum": "f5006b63fa313aedc01ea1f83c3b7b00",
          "grade": false,
          "grade_id": "cell-7cd929a781e75c8c",
          "locked": true,
          "schema_version": 3,
          "solution": false
        },
        "id": "29X_tmK7103g",
        "colab": {
          "base_uri": "https://localhost:8080/"
        },
        "outputId": "32c7c6f3-e5f9-4281-c8e3-fe0d0ce77850"
      },
      "outputs": [
        {
          "output_type": "execute_result",
          "data": {
            "text/plain": [
              "{'blue': True, 'green': True}"
            ]
          },
          "metadata": {},
          "execution_count": 189
        }
      ],
      "source": [
        "d = AD(green=3, blue=2, red=1)\n",
        "(d > 1).filter()\n"
      ]
    },
    {
      "cell_type": "code",
      "execution_count": null,
      "metadata": {
        "deletable": false,
        "editable": false,
        "nbgrader": {
          "cell_type": "code",
          "checksum": "c58954798248ecce2401518e33a997a0",
          "grade": false,
          "grade_id": "cell-6bcaf443008159d7",
          "locked": true,
          "schema_version": 3,
          "solution": false
        },
        "id": "rUN9ZHQi103g",
        "colab": {
          "base_uri": "https://localhost:8080/"
        },
        "outputId": "b40b8949-4b88-4884-d03c-817744d02870"
      },
      "outputs": [
        {
          "output_type": "execute_result",
          "data": {
            "text/plain": [
              "False"
            ]
          },
          "metadata": {},
          "execution_count": 190
        }
      ],
      "source": [
        "(d > 1).all()\n"
      ]
    },
    {
      "cell_type": "code",
      "execution_count": null,
      "metadata": {
        "deletable": false,
        "editable": false,
        "nbgrader": {
          "cell_type": "code",
          "checksum": "d18c220e3cf609282ecfb804fb9d1fe2",
          "grade": false,
          "grade_id": "cell-c1dab5d1ca618c44",
          "locked": true,
          "schema_version": 3,
          "solution": false
        },
        "id": "IIrChd11103h",
        "colab": {
          "base_uri": "https://localhost:8080/"
        },
        "outputId": "b77d1ae7-e605-4034-8016-da3e9ad5fcb7"
      },
      "outputs": [
        {
          "output_type": "execute_result",
          "data": {
            "text/plain": [
              "True"
            ]
          },
          "metadata": {},
          "execution_count": 191
        }
      ],
      "source": [
        "(d > 0).all()\n"
      ]
    },
    {
      "cell_type": "markdown",
      "metadata": {
        "deletable": false,
        "editable": false,
        "nbgrader": {
          "cell_type": "markdown",
          "checksum": "c71b584af08e77a3ce30862834f1df3b",
          "grade": false,
          "grade_id": "cell-d4cc01efe3587bf6",
          "locked": true,
          "schema_version": 3,
          "solution": false
        },
        "id": "BM0T3XyC103h"
      },
      "source": [
        "## Implementing the Sock Drawer In Terms of Arithmetic Dictionaries"
      ]
    },
    {
      "cell_type": "code",
      "execution_count": null,
      "metadata": {
        "deletable": false,
        "nbgrader": {
          "cell_type": "code",
          "checksum": "1b8db4fcd40a45eed8f0883037d014c7",
          "grade": false,
          "grade_id": "cell-6f03febe856118c8",
          "locked": false,
          "schema_version": 3,
          "solution": true
        },
        "id": "ej1kRJ1R103h"
      },
      "outputs": [],
      "source": [
        "### The sock drawer class using ADs\n",
        "\n",
        "class ADSockDrawer(object):\n",
        "\n",
        "    def __init__(self):\n",
        "        self.drawer = AD()\n",
        "\n",
        "    def add_sock(self, color):\n",
        "        \"\"\"Adds a sock of the given color to the drawer.\"\"\"\n",
        "        self.drawer[color] = self.drawer[color] + 1 if color in self.drawer else 1\n",
        "\n",
        "    def get_pair(self, color):\n",
        "        \"\"\"Returns False if there is no pair of the given color, and True\n",
        "        if there is.  In the latter case, it removes the pair from the drawer.\"\"\"\n",
        "        if self.drawer[color] > 1:\n",
        "          self.drawer[color] -= 2\n",
        "          return True\n",
        "        else:\n",
        "          return False\n",
        "\n",
        "    @property\n",
        "    def available_colors(self):\n",
        "        \"\"\"Lists the colors for which we have at least two socks available.\"\"\"\n",
        "        return {c for c, n in self.drawer.items() if n > 1}\n",
        "\n",
        "\n",
        "\n"
      ]
    },
    {
      "cell_type": "code",
      "execution_count": null,
      "metadata": {
        "deletable": false,
        "editable": false,
        "nbgrader": {
          "cell_type": "code",
          "checksum": "58d7835f2f951f3fd6af0925c1362278",
          "grade": false,
          "grade_id": "cell-75f3c2f96e331e5a",
          "locked": true,
          "schema_version": 3,
          "solution": false
        },
        "id": "xFZ2tzyE103h"
      },
      "outputs": [],
      "source": [
        "# Tests for Sock Drawer implementation based on ADs\n",
        "\n",
        "test_drawer(ADSockDrawer)\n",
        "\n"
      ]
    }
  ],
  "metadata": {
    "colab": {
      "provenance": []
    },
    "kernelspec": {
      "display_name": "Python 3",
      "language": "python",
      "name": "python3"
    },
    "language_info": {
      "codemirror_mode": {
        "name": "ipython",
        "version": 3
      },
      "file_extension": ".py",
      "mimetype": "text/x-python",
      "name": "python",
      "nbconvert_exporter": "python",
      "pygments_lexer": "ipython3",
      "version": "3.8.10"
    },
    "test_info": {
      "id": "a1e5ff072b903dd2203722c756f2a73ebd3a102b"
    }
  },
  "nbformat": 4,
  "nbformat_minor": 0
}