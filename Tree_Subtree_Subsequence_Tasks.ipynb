{
  "cells": [
    {
      "cell_type": "markdown",
      "metadata": {
        "deletable": false,
        "editable": false,
        "nbgrader": {
          "cell_type": "markdown",
          "checksum": "550f3f82346323117e9a38e874e61cee",
          "grade": false,
          "grade_id": "cell-dc5c9a288c96a6da",
          "locked": true,
          "schema_version": 3,
          "solution": false
        },
        "id": "ixkd5UjvbhDL"
      },
      "source": [
        "We will develop a data structure to represent arithmetic expressions containing variables, such as $3 + 4$ or $2 + x * (1 - y)$.  \n",
        "\n",
        "What is an expression?  An expression consists of one of these:\n",
        "\n",
        "\n",
        "1. A number\n",
        "2. A variable\n",
        "3. If $e_1$ and $e_2$ are expressions, then $e_1 + e_2$, $e_1 - e_2$, $e_1 * e_2$, and $e_1 / e_2$ are also expressions.\n",
        "\n",
        "Formally, the set of expressions is the _least_ set constructed according to the rules above.\n",
        "\n",
        "Thus, an expression can be either a constant, representing numbers and variables, or a composite expression, consisting of an operator, a left expression, and a right expression.  \n"
      ]
    },
    {
      "cell_type": "markdown",
      "metadata": {
        "deletable": false,
        "editable": false,
        "nbgrader": {
          "cell_type": "markdown",
          "checksum": "2879bfc917c75208ed15b6167e9c06b2",
          "grade": false,
          "grade_id": "cell-a4e5b58e4a4483ab",
          "locked": true,
          "schema_version": 3,
          "solution": false
        },
        "id": "0mTF7fc9bhDM"
      },
      "source": [
        "There are (at least) two ways of representing expressions. The simplest way is to represent expressions as trees, and define operations on them.\n",
        "The more sophisticated way consists in representing expressions via classes: there will be one class for variable and constants, and one class representing composite expressions; both of these classes will be subclasses of a generic \"expression\" class.\n",
        "\n",
        "In this chapter, we will represent expression as trees, to gain experience with writing recursive functions on trees; in the next chapter, we will show how to represent them more elegantly as classes."
      ]
    },
    {
      "cell_type": "markdown",
      "metadata": {
        "deletable": false,
        "editable": false,
        "nbgrader": {
          "cell_type": "markdown",
          "checksum": "1dd70a407e35c5b2034f4640b97a24fa",
          "grade": false,
          "grade_id": "cell-7cd6e40414676368",
          "locked": true,
          "schema_version": 3,
          "solution": false
        },
        "id": "bK4PLnwybhDN"
      },
      "source": [
        "We will represent expressions as trees.  A number will be represented via a number; a variable via a string, and the expression $e_1 \\odot e_2$ via the tuple $(\\odot, e_1, e_2)$, for $\\odot \\in \\{+, -, *, / \\}$.\n",
        "\n",
        "For example, we will represent $2 * (x + 1)$ via:\n",
        "\n",
        "    ('*', 2, ('+', 'x', 1))"
      ]
    },
    {
      "cell_type": "code",
      "execution_count": null,
      "metadata": {
        "deletable": false,
        "editable": false,
        "nbgrader": {
          "cell_type": "code",
          "checksum": "b10673327d549cafbc7e78bea2350335",
          "grade": false,
          "grade_id": "cell-5909ba0141835fdc",
          "locked": true,
          "schema_version": 3,
          "solution": false
        },
        "id": "x7BliSBZbhDN"
      },
      "outputs": [],
      "source": [
        "e = ('*', 2, ('+', 'x', 1))\n"
      ]
    },
    {
      "cell_type": "markdown",
      "metadata": {
        "deletable": false,
        "editable": false,
        "nbgrader": {
          "cell_type": "markdown",
          "checksum": "ff0326f6f6dcba13a812680de60b2586",
          "grade": false,
          "grade_id": "cell-87a3a580291578cc",
          "locked": true,
          "schema_version": 3,
          "solution": false
        },
        "id": "xrad15aJbhDO"
      },
      "source": [
        "In particular, we will consider expressions built out of the four arithmetic operators `\"+\"`, `\"-\"`, `\"*\"`, `\"/\"`."
      ]
    },
    {
      "cell_type": "markdown",
      "metadata": {
        "deletable": false,
        "editable": false,
        "nbgrader": {
          "cell_type": "markdown",
          "checksum": "3a13daca30cbfc328b512d93686d91b2",
          "grade": false,
          "grade_id": "cell-a5c6d27c50436625",
          "locked": true,
          "schema_version": 3,
          "solution": false
        },
        "id": "5R17hskcbhDP"
      },
      "source": [
        "### A compute function\n",
        "\n",
        "Let us define a function compute() that takes one such expression, and returns the expression obtained by performing all possible numerical computation.\n",
        "We consider first the simple case of an expression where the only operators that can appear are `+` and `-`, and where there are no variables.  "
      ]
    },
    {
      "cell_type": "markdown",
      "metadata": {
        "deletable": false,
        "editable": false,
        "nbgrader": {
          "cell_type": "markdown",
          "checksum": "1ce4cbef2f6aa042886728cf1c0cf92c",
          "grade": false,
          "grade_id": "cell-6198e65f30a11596",
          "locked": true,
          "schema_version": 3,
          "solution": false
        },
        "id": "WFuz9HjdbhDQ"
      },
      "source": [
        "Let us create an exception to raise when we cannot interpret an expression."
      ]
    },
    {
      "cell_type": "code",
      "execution_count": null,
      "metadata": {
        "deletable": false,
        "editable": false,
        "nbgrader": {
          "cell_type": "code",
          "checksum": "e010df2dffa8c73d70b74f8408e01fad",
          "grade": false,
          "grade_id": "cell-dccdfc25e989ac8",
          "locked": true,
          "schema_version": 3,
          "solution": false
        },
        "id": "NoJCzVBqbhDQ"
      },
      "outputs": [],
      "source": [
        "class IllegalOperator(Exception):\n",
        "    pass\n"
      ]
    },
    {
      "cell_type": "markdown",
      "metadata": {
        "deletable": false,
        "editable": false,
        "nbgrader": {
          "cell_type": "markdown",
          "checksum": "fc1aded645bf40ee09e63bf5c3a67e41",
          "grade": false,
          "grade_id": "cell-6ca894eb928040c1",
          "locked": true,
          "schema_version": 3,
          "solution": false
        },
        "id": "7lLQdjWAbhDR"
      },
      "source": [
        "Let us define a helper function `calc`, which takes as argument an operator and two numbers, and computes the required operation.  It will make it easier to write the rest of the code."
      ]
    },
    {
      "cell_type": "code",
      "execution_count": null,
      "metadata": {
        "deletable": false,
        "editable": false,
        "nbgrader": {
          "cell_type": "code",
          "checksum": "685d14920b871d0c2008dba710fdf806",
          "grade": false,
          "grade_id": "cell-eab822aeb8f5144c",
          "locked": true,
          "schema_version": 3,
          "solution": false
        },
        "id": "XGkJMo3hbhDR"
      },
      "outputs": [],
      "source": [
        "def calc(op, left, right):\n",
        "    if op == \"+\":\n",
        "        return left + right\n",
        "    elif op == \"-\":\n",
        "        return left - right\n",
        "    elif op == \"*\":\n",
        "        return left * right\n",
        "    elif op == \"/\":\n",
        "        return left / right\n",
        "    else:\n",
        "        raise IllegalOperator(op)\n"
      ]
    },
    {
      "cell_type": "markdown",
      "metadata": {
        "deletable": false,
        "editable": false,
        "nbgrader": {
          "cell_type": "markdown",
          "checksum": "df940c6090caa8825969ccff90bc9f86",
          "grade": false,
          "grade_id": "cell-9f782c9395fa8685",
          "locked": true,
          "schema_version": 3,
          "solution": false
        },
        "id": "p0yEhs4XbhDS"
      },
      "source": [
        "With this, we can write our compute method as follows."
      ]
    },
    {
      "cell_type": "code",
      "execution_count": null,
      "metadata": {
        "deletable": false,
        "editable": false,
        "nbgrader": {
          "cell_type": "code",
          "checksum": "640a4cb1579d29317b2525bba91d24f9",
          "grade": false,
          "grade_id": "cell-dbb2beb1cf2b93a0",
          "locked": true,
          "schema_version": 3,
          "solution": false
        },
        "id": "VT_8_nC6bhDS"
      },
      "outputs": [],
      "source": [
        "def compute(e):\n",
        "    if isinstance(e, tuple):\n",
        "        # We have an expression.\n",
        "        op, l, r = e\n",
        "        # We compute the subexpressions.\n",
        "        ll = compute(l)\n",
        "        rr = compute(r)\n",
        "        # And on the basis of those, the whole expression.\n",
        "        return calc(op, ll, rr)\n",
        "    else:\n",
        "        # base expression; just return the number.\n",
        "        return e\n"
      ]
    },
    {
      "cell_type": "code",
      "execution_count": null,
      "metadata": {
        "deletable": false,
        "editable": false,
        "nbgrader": {
          "cell_type": "code",
          "checksum": "79ac43157808970ed4ceb77c39134af8",
          "grade": false,
          "grade_id": "cell-88033380858ab07e",
          "locked": true,
          "schema_version": 3,
          "solution": false
        },
        "colab": {
          "base_uri": "https://localhost:8080/"
        },
        "id": "5gdQh9gQbhDS",
        "outputId": "7d155d76-417a-456a-d365-58786571e348"
      },
      "outputs": [
        {
          "output_type": "execute_result",
          "data": {
            "text/plain": [
              "9"
            ]
          },
          "metadata": {},
          "execution_count": 54
        }
      ],
      "source": [
        "compute((\"+\", 4, 5))\n"
      ]
    },
    {
      "cell_type": "code",
      "execution_count": null,
      "metadata": {
        "deletable": false,
        "editable": false,
        "nbgrader": {
          "cell_type": "code",
          "checksum": "4e7ec5a41c81c6ce7ed9e7f18ad3d17a",
          "grade": false,
          "grade_id": "cell-f1d009d47eade8e9",
          "locked": true,
          "schema_version": 3,
          "solution": false
        },
        "colab": {
          "base_uri": "https://localhost:8080/"
        },
        "id": "U76hcig-bhDT",
        "outputId": "659dfa1e-4e4d-4a73-edbf-96b625ecdd11"
      },
      "outputs": [
        {
          "output_type": "execute_result",
          "data": {
            "text/plain": [
              "15"
            ]
          },
          "metadata": {},
          "execution_count": 55
        }
      ],
      "source": [
        "compute((\"+\", (\"-\", 3, 1), (\"+\", 4, 9)))\n"
      ]
    },
    {
      "cell_type": "markdown",
      "metadata": {
        "deletable": false,
        "editable": false,
        "nbgrader": {
          "cell_type": "markdown",
          "checksum": "94e272f52e57b8c41b2dfb86b555e3d1",
          "grade": false,
          "grade_id": "cell-fd295727018b572e",
          "locked": true,
          "schema_version": 3,
          "solution": false
        },
        "id": "yWe9ME43bhDT"
      },
      "source": [
        "## Expressions with variables"
      ]
    },
    {
      "cell_type": "markdown",
      "metadata": {
        "deletable": false,
        "editable": false,
        "nbgrader": {
          "cell_type": "markdown",
          "checksum": "736f864993bf90d95aa68a7296088ab7",
          "grade": false,
          "grade_id": "cell-9afcd98699c87455",
          "locked": true,
          "schema_version": 3,
          "solution": false
        },
        "id": "vlzvw67BbhDT"
      },
      "source": [
        "If an expression can have variables, we can distinguish three types of expressions:\n",
        "\n",
        "* Numbers\n",
        "* Variables\n",
        "* Composite expressions.\n",
        "\n",
        "To facilitate writing code, let us define for you three helper functions that tell us the type of an expression."
      ]
    },
    {
      "cell_type": "code",
      "execution_count": null,
      "metadata": {
        "deletable": false,
        "editable": false,
        "nbgrader": {
          "cell_type": "code",
          "checksum": "b9f5c940dea05e69c902d2be98409590",
          "grade": false,
          "grade_id": "cell-3b409b28ca1b43af",
          "locked": true,
          "schema_version": 3,
          "solution": false
        },
        "id": "5ODvYFpobhDU"
      },
      "outputs": [],
      "source": [
        "from numbers import Number # The mother class of all numbers.\n",
        "\n",
        "def isnumber(e):\n",
        "    return isinstance(e, Number)\n",
        "\n",
        "def isvariable(e):\n",
        "    return isinstance(e, str)\n",
        "\n",
        "def iscomposite(e):\n",
        "    return isinstance(e, tuple)\n"
      ]
    },
    {
      "cell_type": "markdown",
      "metadata": {
        "deletable": false,
        "editable": false,
        "nbgrader": {
          "cell_type": "markdown",
          "checksum": "00ad43f9693e20ef718bf76c48f966d4",
          "grade": false,
          "grade_id": "cell-460a031861373b7b",
          "locked": true,
          "schema_version": 3,
          "solution": false
        },
        "id": "v1S25YuibhDU"
      },
      "source": [
        "The idea we use to simplify an expression is the following:\n",
        "\n",
        "* If the expression is a Number, you return a number: it's already simplified.\n",
        "* If the expression is a variable, you return the variable (that is, the expression unchanged); there is nothing to be done.\n",
        "* If the expression is an operation, such as \"+\", \"-\", ..., then you consider the right and left children, and you reason:\n",
        "    * If all the two children are numbers, then you can compute the operation and return the result.\n",
        "    * Otherwise, again, there is nothing that can be done, and you return the expression unchanged.\n"
      ]
    },
    {
      "cell_type": "code",
      "execution_count": null,
      "metadata": {
        "deletable": false,
        "editable": false,
        "nbgrader": {
          "cell_type": "code",
          "checksum": "eb65689ad65a64e2119acd3061f76018",
          "grade": false,
          "grade_id": "cell-cfa562aca99d4170",
          "locked": true,
          "schema_version": 3,
          "solution": false
        },
        "id": "8gQl6ey6bhDU"
      },
      "outputs": [],
      "source": [
        "def simplify(e):\n",
        "    if isinstance(e, tuple):\n",
        "        op, l, r = e\n",
        "        # We simplify the children expressions.\n",
        "        ll = simplify(l)\n",
        "        rr = simplify(r)\n",
        "        # We compute the expression if we can.\n",
        "        if isnumber(ll) and isnumber(rr):\n",
        "            return calc(op, ll, rr)\n",
        "        else:\n",
        "            return (op, ll, rr)\n",
        "    else:\n",
        "        # Leaf. No simplification is possible.\n",
        "        return e\n"
      ]
    },
    {
      "cell_type": "markdown",
      "metadata": {
        "deletable": false,
        "editable": false,
        "nbgrader": {
          "cell_type": "markdown",
          "checksum": "d32d259d6465d5894c245b4c183e6d7a",
          "grade": false,
          "grade_id": "cell-cd55db09a8ff1e53",
          "locked": true,
          "schema_version": 3,
          "solution": false
        },
        "id": "OG-5ZHT0bhDV"
      },
      "source": [
        "Let's see how this works."
      ]
    },
    {
      "cell_type": "code",
      "execution_count": null,
      "metadata": {
        "deletable": false,
        "editable": false,
        "nbgrader": {
          "cell_type": "code",
          "checksum": "7a36275486296d62991b4f8c596716b9",
          "grade": false,
          "grade_id": "cell-e8522c788f0c5e60",
          "locked": true,
          "schema_version": 3,
          "solution": false
        },
        "colab": {
          "base_uri": "https://localhost:8080/"
        },
        "id": "crlzyzOqbhDV",
        "outputId": "dfe66afc-7963-4e05-c4a6-cc950aea0bb6"
      },
      "outputs": [
        {
          "output_type": "execute_result",
          "data": {
            "text/plain": [
              "3"
            ]
          },
          "metadata": {},
          "execution_count": 58
        }
      ],
      "source": [
        "simplify(3)\n"
      ]
    },
    {
      "cell_type": "code",
      "execution_count": null,
      "metadata": {
        "deletable": false,
        "editable": false,
        "nbgrader": {
          "cell_type": "code",
          "checksum": "018f0d5b8dfc5a85e429b63930baa36b",
          "grade": false,
          "grade_id": "cell-98822b9498753e02",
          "locked": true,
          "schema_version": 3,
          "solution": false
        },
        "colab": {
          "base_uri": "https://localhost:8080/"
        },
        "id": "ZAmAHxXCbhDV",
        "outputId": "c0686aa9-324f-4e15-d2de-3de79abb030e"
      },
      "outputs": [
        {
          "output_type": "execute_result",
          "data": {
            "text/plain": [
              "('+', 'x', 1)"
            ]
          },
          "metadata": {},
          "execution_count": 59
        }
      ],
      "source": [
        "simplify((\"+\", \"x\", 1))\n"
      ]
    },
    {
      "cell_type": "markdown",
      "metadata": {
        "deletable": false,
        "editable": false,
        "nbgrader": {
          "cell_type": "markdown",
          "checksum": "43b3ce3739a937c9d02e4f6009b0bf36",
          "grade": false,
          "grade_id": "cell-c544acbeb8aa6f36",
          "locked": true,
          "schema_version": 3,
          "solution": false
        },
        "id": "2zLv2pehbhDW"
      },
      "source": [
        "Yes, there was nothing we could simplify.  Let's try now with something we can simplify:"
      ]
    },
    {
      "cell_type": "code",
      "execution_count": null,
      "metadata": {
        "deletable": false,
        "editable": false,
        "nbgrader": {
          "cell_type": "code",
          "checksum": "f1656bf29ae2aa399aab765e2d63c300",
          "grade": false,
          "grade_id": "cell-f55a552b330cdc9f",
          "locked": true,
          "schema_version": 3,
          "solution": false
        },
        "colab": {
          "base_uri": "https://localhost:8080/"
        },
        "id": "eQwTSwj8bhDW",
        "outputId": "e91d208b-7984-4971-b931-00ae73f23f93"
      },
      "outputs": [
        {
          "output_type": "execute_result",
          "data": {
            "text/plain": [
              "1"
            ]
          },
          "metadata": {},
          "execution_count": 60
        }
      ],
      "source": [
        "simplify(('-', 5, 4))\n"
      ]
    },
    {
      "cell_type": "markdown",
      "metadata": {
        "deletable": false,
        "editable": false,
        "nbgrader": {
          "cell_type": "markdown",
          "checksum": "84fcd4a44b828843d9db920d7965bbd7",
          "grade": false,
          "grade_id": "cell-e6a010f1b08dfdf7",
          "locked": true,
          "schema_version": 3,
          "solution": false
        },
        "id": "JEqH1Ca9bhDW"
      },
      "source": [
        "Can we simplify bigger expressions?"
      ]
    },
    {
      "cell_type": "code",
      "execution_count": null,
      "metadata": {
        "deletable": false,
        "editable": false,
        "nbgrader": {
          "cell_type": "code",
          "checksum": "422fcd02b8b3dfa2e8779c1452e49355",
          "grade": false,
          "grade_id": "cell-63172637bca8433b",
          "locked": true,
          "schema_version": 3,
          "solution": false
        },
        "colab": {
          "base_uri": "https://localhost:8080/"
        },
        "id": "k0z4eSGKbhDW",
        "outputId": "ba2c91e7-be5c-4bd5-8b72-6829984604b9"
      },
      "outputs": [
        {
          "output_type": "execute_result",
          "data": {
            "text/plain": [
              "11"
            ]
          },
          "metadata": {},
          "execution_count": 61
        }
      ],
      "source": [
        "simplify( ('+', 6, ('-', 7, 2)) )\n"
      ]
    },
    {
      "cell_type": "markdown",
      "metadata": {
        "deletable": false,
        "editable": false,
        "nbgrader": {
          "cell_type": "markdown",
          "checksum": "e9e341f6e5a5bb0e5d51bd6fe540b5e7",
          "grade": false,
          "grade_id": "cell-2611b0c99add8224",
          "locked": true,
          "schema_version": 3,
          "solution": false
        },
        "id": "JI4Q4b55bhDW"
      },
      "source": [
        "## Evaluating expressions with respect to a variable valuation.\n",
        "\n",
        "The function `simplify` above can perform all numerical computations, but stops whenever it encounters a variable. It cannot do any better, in fact, because it does not know the values of variables.\n",
        "\n",
        "If we specify values for variables, we can then use those values in the computation, replacing each variable whose value is specified with the value itself.\n",
        "\n",
        "A _variable valuation_ is a mapping from variables to their values; we can represent it simply as a dictionary associating to each variable a number:"
      ]
    },
    {
      "cell_type": "code",
      "execution_count": null,
      "metadata": {
        "deletable": false,
        "editable": false,
        "nbgrader": {
          "cell_type": "code",
          "checksum": "b72319962b055eaefe625748118a2e04",
          "grade": false,
          "grade_id": "cell-32b57072188d7461",
          "locked": true,
          "schema_version": 3,
          "solution": false
        },
        "id": "xzryoCQ0bhDX"
      },
      "outputs": [],
      "source": [
        "varval = {'x': 3, 'y': 8}\n"
      ]
    },
    {
      "cell_type": "markdown",
      "metadata": {
        "deletable": false,
        "editable": false,
        "nbgrader": {
          "cell_type": "markdown",
          "checksum": "efa3a0e35103994903c316fd579e32c8",
          "grade": false,
          "grade_id": "cell-d2271e99eb409b0e",
          "locked": true,
          "schema_version": 3,
          "solution": false
        },
        "id": "E1yZy94gbhDX"
      },
      "source": [
        "You can extend the evaluation function to take as input a variable valuation.  The idea is that, when you find a variable, you try to see whether its value is specified in the variable valuation.  If it is, you can replace the variable with the value, and carry on.  If it is not, you leave the variable as it is, since you cannot evaluate it.\n",
        "\n",
        "To check if a variable (a string) `s` is in a dictionary `d`, you can test\n",
        "\n",
        "    s in d\n",
        "\n",
        "and to get the value, in case it is present, you can just do `d[s]` of course.  We let you develop the code."
      ]
    },
    {
      "cell_type": "code",
      "execution_count": null,
      "metadata": {
        "deletable": false,
        "nbgrader": {
          "cell_type": "code",
          "checksum": "aad43557f2d73d4721c46dda24472a9c",
          "grade": false,
          "grade_id": "cell-7f8ac8b9ce675e0f",
          "locked": false,
          "schema_version": 3,
          "solution": true
        },
        "id": "xCX86OElbhDX"
      },
      "outputs": [],
      "source": [
        "### Evaluating an expression with respect to a variable evaluation\n",
        "\n",
        "def compute(e, varval={}):\n",
        "    if type(e) == tuple:\n",
        "      (p, l, r) = e\n",
        "      to_re = (p, compute(l, varval), compute(r, varval))\n",
        "      re1 = simplify(to_re)\n",
        "      return re1\n",
        "    elif e in varval:\n",
        "      return varval[e]\n",
        "    else:\n",
        "      return e\n",
        "\n",
        "\n",
        "\n"
      ]
    },
    {
      "cell_type": "markdown",
      "metadata": {
        "deletable": false,
        "editable": false,
        "nbgrader": {
          "cell_type": "markdown",
          "checksum": "7a4278cf7d62aa3a148ca5d59ad88270",
          "grade": false,
          "grade_id": "cell-4fb8f6d8e1e6bb48",
          "locked": true,
          "schema_version": 3,
          "solution": false
        },
        "id": "Cp3wxiMUbhDX"
      },
      "source": [
        "Let us play with this."
      ]
    },
    {
      "cell_type": "code",
      "execution_count": null,
      "metadata": {
        "deletable": false,
        "editable": false,
        "nbgrader": {
          "cell_type": "code",
          "checksum": "59cf8197ebd391ea05df2a3bf21fc374",
          "grade": false,
          "grade_id": "cell-1f682817f27e55ae",
          "locked": true,
          "schema_version": 3,
          "solution": false
        },
        "colab": {
          "base_uri": "https://localhost:8080/"
        },
        "id": "xkoJ68VNbhDY",
        "outputId": "681ff4aa-3961-42d5-a90c-07ff6d50ce70"
      },
      "outputs": [
        {
          "output_type": "stream",
          "name": "stdout",
          "text": [
            "('*', 2, ('+', 'x', 1))\n",
            "14\n"
          ]
        }
      ],
      "source": [
        "## You can modify this cell to test your code.\n",
        "\n",
        "e = ('*', 2, ('+', 'x', ('-', 3, 2)))\n",
        "print(compute(e))\n",
        "print(compute(e, varval={'x': 6}))\n"
      ]
    },
    {
      "cell_type": "markdown",
      "metadata": {
        "deletable": false,
        "editable": false,
        "nbgrader": {
          "cell_type": "markdown",
          "checksum": "6497fc14aee995d354ce1c8eab50d74d",
          "grade": false,
          "grade_id": "cell-8a9c17d91e585ec7",
          "locked": true,
          "schema_version": 3,
          "solution": false
        },
        "id": "uNF0_4fnbhDY"
      },
      "source": [
        "If we provide the values for only some of the variables, the compute function defined above, will plug in the values for those variables and perform all computations possible.  Of course, if the expression contains variables for which the valuation does not specify a value, the resulting expression will still contain those variables: it will not be simply a number.  In computer science, evaluating an expression as far as possible using the values for a subset of the variables is knwon as _partial evaluation_."
      ]
    },
    {
      "cell_type": "code",
      "execution_count": null,
      "metadata": {
        "deletable": false,
        "editable": false,
        "nbgrader": {
          "cell_type": "code",
          "checksum": "6a1cb0b6385220877cde9005051519e4",
          "grade": false,
          "grade_id": "cell-6c34eb6946ce6584",
          "locked": true,
          "schema_version": 3,
          "solution": false
        },
        "id": "2UNskkvrbhDY"
      },
      "outputs": [],
      "source": [
        "## Tests for compute\n",
        "\n",
        "e = 'x'\n",
        "assert compute(e) == 'x'\n",
        "assert compute(e, varval={'x': 3}) == 3\n",
        "\n",
        "e = ('*', 2, ('+', 'x', ('-', 3, 2)))\n",
        "assert compute(e) == ('*', 2, ('+', 'x', 1))\n",
        "assert compute(e, varval={'x': 6}) == 14\n",
        "assert compute(e, varval={'y': 10}) == ('*', 2, ('+', 'x', 1))\n",
        "\n",
        "e = ('+', ('-', 'yy', 3), ('*', 'x', 4))\n",
        "assert compute(e, varval={'x': 2}) == ('+', ('-', 'yy', 3), 8)\n",
        "assert compute(e, varval={'yy': 3}) == ('+', 0, ('*', 'x', 4))\n",
        "assert compute(e, varval={'x': 2, 'yy': 3}) == 8\n"
      ]
    },
    {
      "cell_type": "markdown",
      "metadata": {
        "deletable": false,
        "editable": false,
        "nbgrader": {
          "cell_type": "markdown",
          "checksum": "cc8dedacc07cc4117da0003bec1d97f8",
          "grade": false,
          "grade_id": "cell-30082fab7070b665",
          "locked": true,
          "schema_version": 3,
          "solution": false
        },
        "id": "25a4lI3PbhDZ"
      },
      "source": [
        "We now consider the following problem: given two expressions $e$ and $f$, how can we decide whether they are equal in value, that is, whether they yield always the same value for all values of the variables?\n",
        "\n",
        "This _\"value equality\"_ is a different notion from the structural equality we defined before.  For instance, the two expressions `(\"+\", \"x\", 1)` and `(\"-\", (*, 2, \"x\"), \"x\")` are not structurally equal, but they are equal in values.  \n",
        "\n",
        "How can we test for value equality of expressions?  There are two ways: the high road, and the pirate road. Of course, we take the pirate road.  \n",
        "\n",
        "The high-road approach consists in trying to demonstrate, in some way, that the two expressions are equal.  One way of doing so would be to define a set of [rewriting rules](https://en.wikipedia.org/wiki/Rewriting) for expressions, that try to transform one expression into the other; this would mimick the process often done by hand to show that two expressions are equal.  Another way would be to use theorem provers that can reason about expressions and real numbers, such as [PVS](https://pvs.csl.sri.com).  The problem is that these approaches are a lot of work.  Is there a way to be lazy, and still get the job done?\n",
        "\n",
        "There is, it turns out.  Suppose you have two expressions $f, g$ containing variable $x$ only.  The idea is that if $f$ and $g$ are built with the usual operators of algebra, it is exceedingly unlikely for $f$ and $g$ to give the same value  many values of $x$, and yet not be always equal.  This would not be true if our expressions could contain if-then-else statements, but for the operators we defined so far, it holds.  Indeed, one could be more precise, and try to come up with a theorem of the form:\n",
        "\n",
        "> If $f$ and $g$ have \"zerosity\" $n$, and are equal for $n+1$ values of $x$, then they are equal for all values of $x$.\n",
        "\n",
        "We could then try to define the \"zerosity\" of an expression to make this hold: for example, for two polynomials of degree at most $d$, once you show that they are equal for $d+1$ points, they must be equal everywhere ([why?](https://en.wikipedia.org/wiki/Fundamental_theorem_of_algebra)).  But this again would be a smart approach, and we are trying to see if we can solve the problem while being as stupid as possible.  So our idea will simply be: pick 1000 values of $x$ at random; if the two expressions are equal for all the values, then they must be equal everywhere.  This is a somewhat special case of a [Monte Carlo method](https://en.wikipedia.org/wiki/Monte_Carlo_method), a method used to estimate the probability of complex phenomena (where expression equality is our phenomenon).\n",
        "\n",
        "There are only two wrinkles with this.  The first is that an expression can contain many variables, and we have to try to value assignments for all of the variables.  This is easy to overcome; we just need some helper function that gives us the set of variables in a function.  The second wrinkle is: how do we generate the possible value assignments?  How big do these values need to be on average?  According to what probability distribution?  We could dive into a lot of theory and reasoning about how to compute appropriate probability distributions, but since our goal is to be stupid, we will use one of the simplest distributions with infinite domain: the Gaussian one."
      ]
    },
    {
      "cell_type": "markdown",
      "metadata": {
        "deletable": false,
        "editable": false,
        "nbgrader": {
          "cell_type": "markdown",
          "checksum": "92ee070f35e2890ebd807197e8be7b88",
          "grade": false,
          "grade_id": "cell-86759ff199da2d3",
          "locked": true,
          "schema_version": 3,
          "solution": false
        },
        "id": "---yTLHFbhDa"
      },
      "source": [
        "## Variable Occurrences\n",
        "\n",
        "Let us start by writing the function `variables` such that, if `e` is an expression, `variables(e)` is the set of variables that appear in it."
      ]
    },
    {
      "cell_type": "code",
      "execution_count": null,
      "metadata": {
        "deletable": false,
        "nbgrader": {
          "cell_type": "code",
          "checksum": "0941ca5bd5a9b6bf1f593e10faa1ab75",
          "grade": false,
          "grade_id": "cell-280d8cc43b7f69d3",
          "locked": false,
          "schema_version": 3,
          "solution": true
        },
        "id": "oyazCsX4bhDa"
      },
      "outputs": [],
      "source": [
        "### define `variables`\n",
        "def variables(e):\n",
        "  symbol = [\"+\", \"-\", \"*\", \"/\"]\n",
        "  v = set()\n",
        "  if iscomposite(e):\n",
        "    for i in e:\n",
        "      if isvariable(i):\n",
        "        if i not in symbol:\n",
        "          v.add(i)\n",
        "\n",
        "      if iscomposite(i):\n",
        "        p = variables(i)\n",
        "        v = p | v\n",
        "    return(v)\n",
        "  else:\n",
        "    return {e}"
      ]
    },
    {
      "cell_type": "code",
      "execution_count": null,
      "metadata": {
        "deletable": false,
        "editable": false,
        "nbgrader": {
          "cell_type": "code",
          "checksum": "6d232510770f79d99b51680f8496a793",
          "grade": true,
          "grade_id": "cell-7e07af9f24fb34ca",
          "locked": true,
          "points": 10,
          "schema_version": 3,
          "solution": false
        },
        "id": "jKSDYp6FbhDa"
      },
      "outputs": [],
      "source": [
        "### Tests for `Expr.variables`\n",
        "\n",
        "e = ('*', ('+', 'x', 2), ('/', 'x', 'yay'))\n",
        "assert variables(e) == {'x', 'yay'}\n",
        "\n"
      ]
    },
    {
      "cell_type": "markdown",
      "metadata": {
        "deletable": false,
        "editable": false,
        "nbgrader": {
          "cell_type": "markdown",
          "checksum": "43dda16ab0f46762f2c7bb7c289df91b",
          "grade": false,
          "grade_id": "cell-94c8dec62d336b34",
          "locked": true,
          "schema_version": 3,
          "solution": false
        },
        "id": "u2xeT4_AbhDb"
      },
      "source": [
        "## Value equality\n",
        "\n",
        "Now we let you write the `value_equality` method.  \n",
        "Given the two expressions $e$ and $f$, first compute the set of variables $V$ that appear in either $e$ or $f$.\n",
        "Then, the idea consists in performing `num_sample` times the following test for equality:\n",
        "\n",
        "* First, produce a variable assignment (a dictionary) mapping each variable in $V$ to a random value.  Choose these random values from the gaussian distribution centered around 0 and with standard deviation 10 (for instance; any continuous distribution with infinite domain would work).  You can obtain such numbers using [`random.gauss(0, 10)`](https://docs.python.org/3/library/random.html#random.gauss).\n",
        "* Then, compute the values of $e$ and $f$ with respect to that variable evaluation.  If the values are closer than a specified tolerance `tolerance`, you consider $e$ and $f$ equal (for that variable valuation).  Otherwise, you can stop and return that $e$ and $f$ are different.\n",
        "\n",
        "If you can repeat the process `num_sample` times, and $e$ and $f$ are considered equal every time, then you declare them equal."
      ]
    },
    {
      "cell_type": "code",
      "execution_count": null,
      "metadata": {
        "deletable": false,
        "nbgrader": {
          "cell_type": "code",
          "checksum": "5eaaf3aea66bb96d9d0778ffffd9aedb",
          "grade": false,
          "grade_id": "cell-5301b9c404ca51c7",
          "locked": false,
          "schema_version": 3,
          "solution": true
        },
        "id": "EY4o0x3EbhDb"
      },
      "outputs": [],
      "source": [
        "### implementation of value equality\n",
        "\n",
        "import random\n",
        "\n",
        "def value_equality(e, f, num_samples=1000, tolerance=1e-6):\n",
        "    \"\"\"Return True if the two expressions self and other are numerically\n",
        "    equivalent.  Equivalence is tested by generating\n",
        "    num_samples assignments, and checking that equality holds\n",
        "    for all of them.  Equality is checked up to tolerance, that is,\n",
        "    the values of the two expressions have to be closer than tolerance.\"\"\"\n",
        "\n",
        "    va = variables(e) | variables(f)\n",
        "    for i in range(num_samples):\n",
        "      dic_v = {}\n",
        "      for j in va:\n",
        "        dic_v[j] = random.gauss(0,10)\n",
        "      if abs(compute(e, dic_v)- compute(f, dic_v)) > tolerance:\n",
        "        return False\n",
        "    return True\n",
        "\n",
        "\n",
        "\n"
      ]
    },
    {
      "cell_type": "code",
      "execution_count": null,
      "metadata": {
        "deletable": false,
        "editable": false,
        "nbgrader": {
          "cell_type": "code",
          "checksum": "be3ff17a6a57c0f5b34da42962efe6a4",
          "grade": false,
          "grade_id": "cell-3b1f6290081ab547",
          "locked": true,
          "schema_version": 3,
          "solution": false
        },
        "id": "cRTf-K7ObhDb"
      },
      "outputs": [],
      "source": [
        "### Tests for value equality\n",
        "\n",
        "assert value_equality('x', 'x')\n",
        "assert value_equality(3, 3)\n",
        "assert not value_equality(3, 'x')\n",
        "\n",
        "e1 = ('+', ('*', 'x', 1), ('*', 'y', 0))\n",
        "e2 = 'x'\n",
        "assert value_equality(e1, e2)\n",
        "\n",
        "e3 = ('/', ('*', 'x', 'x'), ('*', 'x', 1))\n",
        "e3b = ('/', ('*', 'x', 'y'), ('*', 'x', 1))\n",
        "assert value_equality(e1, e3)\n",
        "assert not value_equality(e1, e3b)\n",
        "\n",
        "e4 = ('/', 'y', 2)\n",
        "assert not value_equality(e1, e4)\n",
        "assert not value_equality(e3, e4)\n",
        "\n",
        "e5 = (\"+\", \"cat\", (\"-\", \"dog\", \"dog\"))\n",
        "assert value_equality(e5, \"cat\")\n"
      ]
    },
    {
      "cell_type": "markdown",
      "metadata": {
        "deletable": false,
        "editable": false,
        "nbgrader": {
          "cell_type": "markdown",
          "checksum": "19977761346bd7a7ece59ce0876ccf9e",
          "grade": false,
          "grade_id": "cell-bff05ee5e5f2ff41",
          "locked": true,
          "schema_version": 3,
          "solution": false
        },
        "id": "WwAUFCDybhDc"
      },
      "source": [
        "## Symbolic Expressions\n",
        "\n",
        "The notation we developed enables the representation of _symbolic expressions:_ expressions in which not only numbers appear, but also symbols.  Accordingly, we can perform _symbolic_ operations on the expressions: operations that encode what you do with pencil and paper when you work on an expression.\n",
        "\n",
        "Our first symbolic operations will be the implementation of _derivatives._"
      ]
    },
    {
      "cell_type": "markdown",
      "metadata": {
        "deletable": false,
        "editable": false,
        "nbgrader": {
          "cell_type": "markdown",
          "checksum": "c6fc4b64317198da14f9c876e79552cc",
          "grade": false,
          "grade_id": "cell-4a61db7d3f33908a",
          "locked": true,
          "schema_version": 3,
          "solution": false
        },
        "id": "Q0uRf6BZbhDc"
      },
      "source": [
        "### Derivatives\n",
        "\n",
        "Given an expression $f$ and a variable $x$, we can compute symbolically the (partial) derivative\n",
        "\n",
        "$$\n",
        "\\frac{\\partial f}{\\partial x}\n",
        "$$\n",
        "\n",
        "of $f$ with respect to $x$.\n",
        "For instance:\n",
        "\n",
        "$$\n",
        "\\begin{align*}\n",
        "\\frac{\\partial}{\\partial x}(x^2 + 3y + 4) & = 2x \\\\[1ex]\n",
        "\\frac{\\partial}{\\partial x}(x^2y + xy^2 + z) & = 2yx + y^2 + z \\; .\n",
        "\\end{align*}\n",
        "$$\n",
        "\n",
        "Here, the \"partial\" in partial derivative simply means: if you need to take the derivative with respect to a specific variable, simply treat all other variables as constants.\n",
        "\n",
        "Computing symbolic derivatives seems complicated, but we can take it in steps.  Our expression trees have leaves, consisting of\n",
        "\n",
        "* numerical constants\n",
        "* variables\n",
        "\n",
        "and operators, corresponding to `+`, `-`, `*`, `/`.\n",
        "Therefore, we break down the task into the computation of the symbolic derivative for numerical constants, variables, and arithmetic operators.  The cases for the leaf nodes are:  \n",
        "\n",
        "* For a constant $c$, $\\partial c / \\partial x = 0$.\n",
        "* For a variable $y \\neq x$,  $\\partial y / \\partial x = 0$.\n",
        "* $\\partial x / \\partial x = 1$.\n",
        "\n",
        "For operators, we can use:\n",
        "\n",
        "$$\n",
        " \\begin{align*}\n",
        " \\frac{\\partial}{\\partial x}(f \\pm g) & = \\frac{\\partial f}{\\partial x} \\pm \\frac  {\\partial g}{\\partial x}, \\\\[1ex]\n",
        " \\frac{\\partial}{\\partial x}(f \\cdot g) & = \\frac{\\partial f}{\\partial x} \\cdot g + f \\cdot \\frac{\\partial g}{\\partial x}, \\\\[1ex]\n",
        " \\frac{\\partial}{\\partial x}\\left(\\frac{f}{g}\\right) & = \\frac{\\frac\n",
        "  {\\partial f}{\\partial x} \\cdot g - f \\cdot \\frac{\\partial g}{\\partial x}}{g^2}.\n",
        "\\end{align*}\n",
        "$$"
      ]
    },
    {
      "cell_type": "markdown",
      "metadata": {
        "deletable": false,
        "editable": false,
        "nbgrader": {
          "cell_type": "markdown",
          "checksum": "6de7271e721c15d6e218da2a6d8c8c9f",
          "grade": false,
          "grade_id": "cell-f805d64b2ee5310f",
          "locked": true,
          "schema_version": 3,
          "solution": false
        },
        "id": "wCrSjf_ObhDc"
      },
      "source": [
        "## Derivative of a leaf expression\n",
        "\n",
        "Let's start from a leaf expression.  The function `derivate_leaf` takes as argument an expression that is a leaf, and a variable, and returns the symbolic derivative of the leaf writh respect to the variable."
      ]
    },
    {
      "cell_type": "code",
      "execution_count": null,
      "metadata": {
        "deletable": false,
        "nbgrader": {
          "cell_type": "code",
          "checksum": "a862466c86d6d5ebe481eaa00be5f0e3",
          "grade": false,
          "grade_id": "cell-134110fad493b198",
          "locked": false,
          "schema_version": 3,
          "solution": true
        },
        "id": "0I7aV1wgbhDd"
      },
      "outputs": [],
      "source": [
        "### Derivation of a leaf expression\n",
        "\n",
        "def derivate_leaf(e, x):\n",
        "    \"\"\"This function takes as input an expression e and a variable x,\n",
        "    and returns the symbolic derivative of e wrt. x, as an expression.\"\"\"\n",
        "    if e == x:\n",
        "      return 1\n",
        "    else:\n",
        "      return 0\n"
      ]
    },
    {
      "cell_type": "markdown",
      "metadata": {
        "deletable": false,
        "editable": false,
        "nbgrader": {
          "cell_type": "markdown",
          "checksum": "fcec5a836a0dc47621ca2088346a5d54",
          "grade": false,
          "grade_id": "cell-e0b2c1dabd5cee16",
          "locked": true,
          "schema_version": 3,
          "solution": false
        },
        "id": "pIQ781UKbhDd"
      },
      "source": [
        "Here are some tests."
      ]
    },
    {
      "cell_type": "code",
      "execution_count": null,
      "metadata": {
        "deletable": false,
        "editable": false,
        "nbgrader": {
          "cell_type": "code",
          "checksum": "5647cc987ade463a62b0d513884f44ff",
          "grade": true,
          "grade_id": "cell-699beeb32b8c33e9",
          "locked": true,
          "points": 5,
          "schema_version": 3,
          "solution": false,
          "task": false
        },
        "id": "Eap2U-k2bhDd"
      },
      "outputs": [],
      "source": [
        "assert derivate_leaf(\"x\", \"x\") == 1\n",
        "assert derivate_leaf(\"x\", \"y\") == 0\n",
        "assert derivate_leaf(\"y\", \"z\") == 0\n",
        "assert derivate_leaf(4, \"x\") == 0\n"
      ]
    },
    {
      "cell_type": "markdown",
      "metadata": {
        "deletable": false,
        "editable": false,
        "nbgrader": {
          "cell_type": "markdown",
          "checksum": "d59be33092ed04b61c9ec7bf8c39ce11",
          "grade": false,
          "grade_id": "cell-c942c8b9aae37b01",
          "locked": true,
          "schema_version": 3,
          "solution": false
        },
        "id": "np6O71zUbhDe"
      },
      "source": [
        "## Derivative of an expression\n",
        "\n",
        "We now let you implement the derivative of a general expression.  The function is recursive: for instance, if the expression is (`*`, $f$, $g$), to compute its derivative with respect to a variable $x$, we use:\n",
        "\n",
        "$$\n",
        "\\frac{\\partial}{\\partial x}(f \\cdot g) = \\frac{\\partial f}{\\partial x} \\cdot g + f \\cdot \\frac{\\partial g}{\\partial x}\n",
        "$$\n",
        "\n",
        "and so we need to recursively call symbolic derivation on the $f$ and $g$ sub-expressions, to obtain $\\partial f / \\partial x$ and $\\partial g / \\partial x$, and then produce and return an expression representing the result.\n",
        "\n",
        "**Important:** The code for checking expression equality is _not_ able to cope with the commutativity of `+` and `*`.  So, in your solution, please use _exactly_ these forms:\n",
        "\n",
        "$$\n",
        " \\begin{align*}\n",
        " \\frac{\\partial}{\\partial x}(f \\pm g) & = \\frac{\\partial f}{\\partial x} \\pm \\frac  {\\partial g}{\\partial x}, \\\\[1ex]\n",
        " \\frac{\\partial}{\\partial x}(f \\cdot g) & = \\frac{\\partial f}{\\partial x} \\cdot g + f \\cdot \\frac{\\partial g}{\\partial x}, \\\\[1ex]\n",
        " \\frac{\\partial}{\\partial x}\\left(\\frac{f}{g}\\right) & = \\frac{\\frac\n",
        "  {\\partial f}{\\partial x} \\cdot g - f \\cdot \\frac{\\partial g}{\\partial x}}{g^2}.\n",
        "\\end{align*}\n",
        "$$\n",
        "\n",
        "and not, for instance, $\\frac{\\partial}{\\partial x}(f \\cdot g) = g \\cdot \\frac{\\partial f}{\\partial x} + f \\cdot \\frac{\\partial g}{\\partial x}$, which is mathematically equivalent, but would be considered different by the tests.\n",
        "\n",
        "\n",
        "\n"
      ]
    },
    {
      "cell_type": "code",
      "execution_count": null,
      "metadata": {
        "deletable": false,
        "nbgrader": {
          "cell_type": "code",
          "checksum": "7bcedd41721ae078f51c5fc083784cdd",
          "grade": false,
          "grade_id": "cell-e0d016665e5e18e3",
          "locked": false,
          "schema_version": 3,
          "solution": true
        },
        "id": "gRFv_TYmbhDe"
      },
      "outputs": [],
      "source": [
        "### Implement `derivate`\n",
        "\n",
        "def derivate(e, x):\n",
        "    \"\"\"Returns the derivative of e wrt x.\n",
        "    It can be done in less than 15 lines of code.\"\"\"\n",
        "    if type(e) == tuple:\n",
        "      (p, l, r) = e\n",
        "      l1 = derivate(l,x)\n",
        "      r1 = derivate(r,x)\n",
        "      if p == '+':\n",
        "        return(p,l1,r1)\n",
        "      if p == '-':\n",
        "        return(p,l1,r1)\n",
        "      if p == '*':\n",
        "        return ('+', ('*', l1, r), ('*', l,r1))\n",
        "      if p == \"/\":\n",
        "        return ('/', ('-', ('*',l1 ,r ), ('*',l , r1)), ('*',r ,r ))\n",
        "    else:\n",
        "      return derivate_leaf(e,x)\n",
        "\n"
      ]
    },
    {
      "cell_type": "code",
      "execution_count": null,
      "metadata": {
        "deletable": false,
        "editable": false,
        "nbgrader": {
          "cell_type": "code",
          "checksum": "d0215b10cd67d93308e8174c8adb2084",
          "grade": false,
          "grade_id": "cell-b6f2bea0c4f4843d",
          "locked": true,
          "schema_version": 3,
          "solution": false
        },
        "id": "JTqwWSQRbhDe"
      },
      "outputs": [],
      "source": [
        "### Tests for `derivate` for single-operator expressions\n",
        "\n",
        "assert derivate(('+', 'x', 'x'), 'x') == ('+', 1, 1)\n",
        "assert derivate(('-', 4, 'x'), 'x') == ('-', 0, 1)\n",
        "assert derivate(('*', 2, 'x'), 'x') == ('+', ('*', 0, 'x'), ('*', 2, 1))\n",
        "assert derivate(('/', 2, 'x'), 'x') == ('/', ('-', ('*', 0, 'x'), ('*', 2, 1)), ('*', 'x', 'x'))\n"
      ]
    },
    {
      "cell_type": "code",
      "execution_count": null,
      "metadata": {
        "deletable": false,
        "editable": false,
        "nbgrader": {
          "cell_type": "code",
          "checksum": "254da17f5b6dd3250337c21a0cccafe7",
          "grade": true,
          "grade_id": "cell-88ba047df3b17c26",
          "locked": true,
          "points": 10,
          "schema_version": 3,
          "solution": false
        },
        "id": "-wnz5PIybhDf"
      },
      "outputs": [],
      "source": [
        "### Tests for `derivate` for composite expressions\n",
        "\n",
        "e1 = ('*', 'x', 'x')\n",
        "e2 = ('*', 3, 'x')\n",
        "num = ('-', e1, e2)\n",
        "e3 = ('*', 'a', 'x')\n",
        "den = ('+', e1, e3)\n",
        "e = ('/', num, den)\n",
        "\n",
        "f = ('/',\n",
        " ('-',\n",
        "  ('*',\n",
        "   ('-',\n",
        "    ('+', ('*', 1, 'x'), ('*', 'x', 1)),\n",
        "    ('+', ('*', 0, 'x'), ('*', 3, 1))),\n",
        "   ('+', ('*', 'x', 'x'), ('*', 'a', 'x'))),\n",
        "  ('*',\n",
        "   ('-', ('*', 'x', 'x'), ('*', 3, 'x')),\n",
        "   ('+',\n",
        "    ('+', ('*', 1, 'x'), ('*', 'x', 1)),\n",
        "    ('+', ('*', 0, 'x'), ('*', 'a', 1))))),\n",
        " ('*',\n",
        "  ('+', ('*', 'x', 'x'), ('*', 'a', 'x')),\n",
        "  ('+', ('*', 'x', 'x'), ('*', 'a', 'x'))))\n",
        "\n",
        "assert derivate(e, 'x') == f\n",
        "\n"
      ]
    }
  ],
  "metadata": {
    "colab": {
      "provenance": []
    },
    "kernelspec": {
      "display_name": "Python 3",
      "language": "python",
      "name": "python3"
    },
    "language_info": {
      "codemirror_mode": {
        "name": "ipython",
        "version": 3
      },
      "file_extension": ".py",
      "mimetype": "text/x-python",
      "name": "python",
      "nbconvert_exporter": "python",
      "pygments_lexer": "ipython3",
      "version": "3.8.10"
    },
    "test_info": {
      "id": "a1e5ff072b903dd2203722c756f2a73ebd3a102b"
    }
  },
  "nbformat": 4,
  "nbformat_minor": 0
}