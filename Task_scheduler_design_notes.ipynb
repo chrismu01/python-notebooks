{
  "cells": [
    {
      "cell_type": "markdown",
      "metadata": {
        "deletable": false,
        "editable": false,
        "nbgrader": {
          "cell_type": "markdown",
          "checksum": "137bcccd039e077790a7fd5d250eaeee",
          "grade": false,
          "grade_id": "cell-76fe9106ca64a759",
          "locked": true,
          "schema_version": 3,
          "solution": false
        },
        "id": "lC75Ya_k5HHX"
      },
      "source": [
        "Assume you have to prepare Pasta Carbonara.   My version of the recipe goes like this:\n",
        "\n",
        "> Dice onions and pancetta, and fry in a mix of olive oil and butter, slowly.  Separately, put in a bowl as many eggs as there are dinner guests; you can either put in the bowls the yolks only, or you can add a few whites if you wish.  Beat the eggs.  \n",
        "> Bring water to a boil, and when it boils, salt it.  Put the pasta in (I like Penne Rigate).   When cooked, colander the water away, and quickly unite in the bowl the beaten eggs, the pasta, and the pancetta.  Mix well and serve immediately.\n",
        "\n",
        "If you have to invite people over, you could do this recipe sequentially, and first worry about cooking the pasta: warming the water, putting the pasta in, then colandering it.  Then you could worry about cooking the pancetta and onions.  When that's done, you can start to beat the eggs. Finally, you could unite everything.  Technically, that would work, but there would be two problems.  The first is that, of course, the pasta would be rather cold by the time it would be served, a capital sin (pasta must be served immediately after it is cooked).  Secondly, even if you rehash the order so that you first cook the pancetta, then beat the eggs, then cook the pasta, then technically this works -- but it would take you well over one hour to have everything ready.  You want to do things in parallel, cooking the pancetta while heating up the water for the pasta, and so forth.  You want to discover what are the things that need to be done one after the other, and what are the things that can be done in parallel, and in which order to do everything.  \n",
        "\n",
        "Great cooking, by the way, is much about the perfect timing, not only the perfect preparation.  You have to have the various preparations ready at the same time, to unite them just right.  We will worry about timing in the second part of this chapter; first, we worry about what we can do and in which order.\n",
        "\n",
        "As an aside for those of you who are more interested in compiling code than in cooking, the problem of how to compile C or C++ code is very similar.  A makefile defines dependencies between tasks: you have to have compiled pathlib.c before you can link the result together with something else.  The task of the make program is to figure out how to parallelize the compilation, so that independent tasks can happen in different processes (possibly on different CPU cores), while respecting the precedence constraints between tasks.  We will mention this application in some of the exercises of the chapter.\n",
        "\n",
        "\n",
        "\n"
      ]
    },
    {
      "cell_type": "markdown",
      "metadata": {
        "deletable": false,
        "editable": false,
        "nbgrader": {
          "cell_type": "markdown",
          "checksum": "93aedf6d2e47f9baabe4d264814b71de",
          "grade": false,
          "grade_id": "cell-ea419860c2baaaf3",
          "locked": true,
          "schema_version": 3,
          "solution": false
        },
        "id": "Ev3jbPGm5HHY"
      },
      "source": [
        "## Scheduling dependent tasks"
      ]
    },
    {
      "cell_type": "markdown",
      "metadata": {
        "deletable": false,
        "editable": false,
        "nbgrader": {
          "cell_type": "markdown",
          "checksum": "e5329f2af02aceabaa03cad9732dcb96",
          "grade": false,
          "grade_id": "cell-9f9ecb5ecbb6636e",
          "locked": true,
          "schema_version": 3,
          "solution": false
        },
        "id": "tKyh-A5d5HHY"
      },
      "source": [
        "We first disregard the problem of cooking (or compiling) time, and ask about the order in which we should be doing the tasks.  We want to create a _Scheduler_ object, that can tell us what to do at the same time.  What operations should this object support?\n",
        "\n",
        "* **add_task:** we should be able to add a task, along with the task dependencies.\n",
        "* **reset:** indicating that we are about to run the sequences of tasks again.\n",
        "* **available_tasks:** this property should return the set of things that we can do in parallel.\n",
        "* **mark_completed:** used to notify the scheduler that we have completed a task.  This should return the set of new tasks that we can do due to this task being completed; we can do these tasks in parallel alongside with the others that we are already doing.\n",
        "* **all_done:** returns True/False according to whether we have completed all tasks.\n",
        "\n",
        "Choosing these operations is perhaps the most important step in the design of the scheduler.  The operations need to have a simple, clear definition, and be useful in a concrete implementation of the service which will run the tasks.  Of the above operations, they are all uncontroversial, except for the choice of behavior of _completed_.  In theory, there is no need for _completed_ to return the set of _new_ tasks that can now be undertaken.  If one remembers the set of tasks $T_1$ one can a do before a task $t \\in T_1$ is completed, and marks $t$ as completed, one can simply ask the scheduler for the set of tasks $T_2$ that can now be done, and add those in $T_{21t} = T_2 \\setminus (\\{t\\} \\cup T_1)$ for execution.  However, we guess (as we have not yet written the task execution engine) that being told this set of tasks directly will simplify the design of the task execution engine."
      ]
    },
    {
      "cell_type": "markdown",
      "metadata": {
        "deletable": false,
        "editable": false,
        "nbgrader": {
          "cell_type": "markdown",
          "checksum": "c75add169369913fd9b8066b87a5f163",
          "grade": false,
          "grade_id": "cell-5e3add86dfbe432f",
          "locked": true,
          "schema_version": 3,
          "solution": false
        },
        "id": "3bNiYE_p5HHa"
      },
      "source": [
        "Our scheduler class will be implemented in similar fashion to our graph class, with tasks corresponding to graph vertices, and dependencies represented as edges.\n",
        "The difference is that here, given a vertex (that is, a task) $v$, it will be useful to be able to access both:\n",
        "\n",
        "* the _predecessors_ of $v$, that is, the tasks $u$ that are declared as prerequisites of $v$, and\n",
        "* the _successors_ of $v$, that is, the tasks $u$ such that $v$ was declared as a prerequisite for $u$.\n",
        "\n",
        "When we add a task, we would have to initialize its set of successors and predecessors to empty.  This is somewhat tedious, and so we resort to a defaultdict, which is a special type of dictionary such that, if the mapping for a key has not been defined, it returns a default value; in our case, an empty set.  [You can read more about defaultdict and related types here](https://docs.python.org/3.7/library/collections.html#collections.defaultdict).\n",
        "\n",
        "Our first implementation of the class is as follows.  We let you complete the `available_tasks` and `mark_completed` methods.\n"
      ]
    },
    {
      "cell_type": "code",
      "execution_count": null,
      "metadata": {
        "deletable": false,
        "editable": false,
        "nbgrader": {
          "cell_type": "code",
          "checksum": "73d99b5a164c93fe3c7562a520fe266b",
          "grade": false,
          "grade_id": "cell-ff6299a9f26893bb",
          "locked": true,
          "schema_version": 3,
          "solution": false
        },
        "id": "noJumXsp5HHb"
      },
      "outputs": [],
      "source": [
        "from collections import defaultdict\n",
        "import networkx as nx # Library for displaying graphs.\n",
        "import matplotlib.pyplot as plt\n",
        "\n",
        "class DependencyScheduler(object):\n",
        "\n",
        "    def __init__(self):\n",
        "        self.tasks = set()\n",
        "        # The successors of a task are the tasks that depend on it, and can\n",
        "        # only be done once the task is completed.\n",
        "        self.successors = defaultdict(set)\n",
        "        # The predecessors of a task have to be done before the task.\n",
        "        self.predecessors = defaultdict(set)\n",
        "        self.completed_tasks = set() # completed tasks\n",
        "\n",
        "    def add_task(self, t, dependencies):\n",
        "        \"\"\"Adds a task t with given dependencies.\"\"\"\n",
        "        # Makes sure we know about all tasks mentioned.\n",
        "        assert t not in self.tasks or len(self.predecessors[t]) == 0, \"The task was already present.\"\n",
        "        self.tasks.add(t)\n",
        "        self.tasks.update(dependencies)\n",
        "        # The predecessors are the tasks that need to be done before.\n",
        "        self.predecessors[t] = set(dependencies)\n",
        "        # The new task is a successor of its dependencies.\n",
        "        for u in dependencies:\n",
        "            self.successors[u].add(t)\n",
        "\n",
        "    def reset(self):\n",
        "        self.completed_tasks = set()\n",
        "\n",
        "    @property\n",
        "    def done(self):\n",
        "        return self.completed_tasks == self.tasks\n",
        "\n",
        "\n",
        "    def show(self):\n",
        "        \"\"\"We use the nx graph to display the graph.\"\"\"\n",
        "        g = nx.DiGraph()\n",
        "        g.add_nodes_from(self.tasks)\n",
        "        g.add_edges_from([(u, v) for u in self.tasks for v in self.successors[u]])\n",
        "        node_colors = ''.join([('g' if v in self.completed_tasks else 'r')\n",
        "                           for v in self.tasks])\n",
        "        nx.draw(g, with_labels=True, node_color=node_colors)\n",
        "        plt.show()\n",
        "\n",
        "    @property\n",
        "    def uncompleted(self):\n",
        "        \"\"\"Returns the tasks that have not been completed.\n",
        "        This is a property, so you can say scheduler.uncompleted rather than\n",
        "        scheduler.uncompleted()\"\"\"\n",
        "        return self.tasks - self.completed_tasks\n",
        "\n",
        "    def _check(self):\n",
        "        \"\"\"We check that if t is a successor of u, then u is a predecessor\n",
        "        of t.\"\"\"\n",
        "        for u in self.tasks:\n",
        "            for t in self.successors[u]:\n",
        "                assert u in self.predecessors[t]\n"
      ]
    },
    {
      "cell_type": "markdown",
      "metadata": {
        "deletable": false,
        "editable": false,
        "nbgrader": {
          "cell_type": "markdown",
          "checksum": "d612e3b26270f6989aa95877f42974d0",
          "grade": false,
          "grade_id": "cell-6f49817189a200d2",
          "locked": true,
          "schema_version": 3,
          "solution": false
        },
        "id": "br34Qv735HHc"
      },
      "source": [
        "## Implement `available_tasks` and `mark_completed`."
      ]
    },
    {
      "cell_type": "code",
      "execution_count": null,
      "metadata": {
        "deletable": false,
        "nbgrader": {
          "cell_type": "code",
          "checksum": "280422b9fafd9f65ed770f68849b2663",
          "grade": false,
          "grade_id": "cell-a923f93b73ae761d",
          "locked": false,
          "schema_version": 3,
          "solution": true
        },
        "id": "WqR9yPL95HHd"
      },
      "outputs": [],
      "source": [
        "def scheduler_available_tasks(self):\n",
        "    \"\"\"Returns the set of tasks that can be done in parallel.\n",
        "    A task can be done if all its predecessors have been completed.\n",
        "    And of course, we don't return any task that has already been\n",
        "    completed.\"\"\"\n",
        "\n",
        "    setss = set()\n",
        "    for i in self.uncompleted:\n",
        "      if self.predecessors[i].issubset(self.completed_tasks):\n",
        "        setss.add(i)\n",
        "    return setss\n",
        "\n",
        "def scheduler_mark_completed(self, t):\n",
        "    \"\"\"Marks the task t as completed, and returns the additional\n",
        "    set of tasks that can be done (and that could not be\n",
        "    previously done) once t is completed.\"\"\"\n",
        "\n",
        "    setss1 = set()\n",
        "    self.completed_tasks.add(t)\n",
        "    for j in self.successors[t]:\n",
        "      if self.predecessors[j].issubset(self.completed_tasks):\n",
        "        setss1.add(j)\n",
        "    return setss1\n",
        "\n",
        "DependencyScheduler.available_tasks = property(scheduler_available_tasks)\n",
        "DependencyScheduler.mark_completed = scheduler_mark_completed\n"
      ]
    },
    {
      "cell_type": "markdown",
      "metadata": {
        "deletable": false,
        "editable": false,
        "nbgrader": {
          "cell_type": "markdown",
          "checksum": "56a5ebaf32326eccff347d74a4e54454",
          "grade": false,
          "grade_id": "cell-cc520906d0f5434",
          "locked": true,
          "schema_version": 3,
          "solution": false
        },
        "id": "rRyBJ8gJ5HHe"
      },
      "source": [
        "Let us check if this works."
      ]
    },
    {
      "cell_type": "code",
      "execution_count": null,
      "metadata": {
        "deletable": false,
        "editable": false,
        "nbgrader": {
          "cell_type": "code",
          "checksum": "14b40df9b7bdc97095664f2ac59d279b",
          "grade": false,
          "grade_id": "cell-9f2f3a0ef9b203b3",
          "locked": true,
          "schema_version": 3,
          "solution": false
        },
        "id": "tEYDtCfI5HHe",
        "colab": {
          "base_uri": "https://localhost:8080/",
          "height": 354
        },
        "outputId": "3c76000b-0a29-43dd-c45b-29d3c30930b9"
      },
      "outputs": [
        {
          "output_type": "stream",
          "name": "stderr",
          "text": [
            "/usr/local/lib/python3.7/dist-packages/networkx/drawing/nx_pylab.py:474: MatplotlibDeprecationWarning: Using a string of single character colors as a color sequence is deprecated. Use an explicit list instead.\n",
            "  label=label,\n"
          ]
        },
        {
          "output_type": "display_data",
          "data": {
            "text/plain": [
              "<Figure size 432x288 with 1 Axes>"
            ],
            "image/png": "[encoded data removed]"
          },
          "metadata": {}
        }
      ],
      "source": [
        "s = DependencyScheduler()\n",
        "s.add_task('a', ['b', 'c'])\n",
        "s.add_task('b', ['c', 'e'])\n",
        "s._check()\n",
        "s.show()\n"
      ]
    },
    {
      "cell_type": "markdown",
      "metadata": {
        "deletable": false,
        "editable": false,
        "nbgrader": {
          "cell_type": "markdown",
          "checksum": "f8cb13c830d2d25e51eddab67686ec04",
          "grade": false,
          "grade_id": "cell-746aca6ee7ca31be",
          "locked": true,
          "schema_version": 3,
          "solution": false
        },
        "id": "VrCwhJAF5HHf"
      },
      "source": [
        "We note that in the above drawing, the edges denote temporal succession, that is, an edge from $c$ to $a$ means that $c$ must happen before $a$.\n",
        "Let us execute the schedule manually."
      ]
    },
    {
      "cell_type": "markdown",
      "metadata": {
        "deletable": false,
        "editable": false,
        "nbgrader": {
          "cell_type": "markdown",
          "checksum": "46687de644db6003778be15feeec875b",
          "grade": false,
          "grade_id": "cell-62adafbcc35e288a",
          "locked": true,
          "schema_version": 3,
          "solution": false
        },
        "id": "KE9DyDQt5HHf"
      },
      "source": [
        "Here are some tests for `available_tasks` and `mark_completed`."
      ]
    },
    {
      "cell_type": "code",
      "execution_count": null,
      "metadata": {
        "deletable": false,
        "editable": false,
        "nbgrader": {
          "cell_type": "code",
          "checksum": "f0567b3ae4e66cee68e19edf0fa0eda5",
          "grade": false,
          "grade_id": "cell-8c3e67874b9f4fb3",
          "locked": true,
          "schema_version": 3,
          "solution": false
        },
        "id": "ZAMBbbh75HHg"
      },
      "outputs": [],
      "source": [
        "### Simple tests.\n",
        "\n",
        "s = DependencyScheduler()\n",
        "s.add_task('a', [])\n",
        "assert s.available_tasks == {'a'}\n",
        "\n",
        "s = DependencyScheduler()\n",
        "assert s.available_tasks == set()\n"
      ]
    },
    {
      "cell_type": "code",
      "execution_count": null,
      "metadata": {
        "deletable": false,
        "editable": false,
        "nbgrader": {
          "cell_type": "code",
          "checksum": "c02fd828f5557804d1abcfc665c9c5f9",
          "grade": false,
          "grade_id": "cell-2d1db67afbfcfb74",
          "locked": true,
          "schema_version": 3,
          "solution": false
        },
        "id": "wRZibPDe5HHg"
      },
      "outputs": [],
      "source": [
        "### Slightly more complicated.\n",
        "\n",
        "s = DependencyScheduler()\n",
        "s.add_task('a', ['b', 'c'])\n",
        "s.add_task('b', ['c', 'e'])\n",
        "assert s.available_tasks == {'e', 'c'}\n",
        "\n",
        "s = DependencyScheduler()\n",
        "s.add_task('a', ['b'])\n",
        "s.add_task('b', ['a'])\n",
        "assert s.available_tasks == set()\n"
      ]
    },
    {
      "cell_type": "code",
      "execution_count": null,
      "metadata": {
        "deletable": false,
        "editable": false,
        "nbgrader": {
          "cell_type": "code",
          "checksum": "4d6a64bca39fa6584e901d4304211c73",
          "grade": false,
          "grade_id": "cell-8f0d6b45139339ce",
          "locked": true,
          "schema_version": 3,
          "solution": false
        },
        "id": "mzm1JjL65HHh"
      },
      "outputs": [],
      "source": [
        "### Now, let's test `mark_completed`.  Simple tests first.\n",
        "\n",
        "s = DependencyScheduler()\n",
        "s.add_task('a', [])\n",
        "assert s.available_tasks, {'a'}\n",
        "r = s.mark_completed('a')\n",
        "assert r == set()\n",
        "\n",
        "s = DependencyScheduler()\n",
        "s.add_task('a', ['b'])\n",
        "assert s.available_tasks == {'b'}\n",
        "r = s.mark_completed('b')\n",
        "assert r == {'a'}\n"
      ]
    },
    {
      "cell_type": "code",
      "execution_count": null,
      "metadata": {
        "deletable": false,
        "editable": false,
        "nbgrader": {
          "cell_type": "code",
          "checksum": "8dbc41b31719e182e42079b2413ec547",
          "grade": false,
          "grade_id": "cell-633c49578580f57",
          "locked": true,
          "schema_version": 3,
          "solution": false
        },
        "id": "XJRtb4yl5HHi"
      },
      "outputs": [],
      "source": [
        "### Slightly more complicated.\n",
        "\n",
        "def assert_equal(a, b):\n",
        "    assert a == b\n",
        "\n",
        "s = DependencyScheduler()\n",
        "s.add_task('a', ['b', 'c'])\n",
        "assert_equal(s.available_tasks, {'b', 'c'})\n",
        "r = s.mark_completed('b')\n",
        "assert_equal(r, set())\n",
        "assert_equal(s.available_tasks, {'c'})\n",
        "r = s.mark_completed('c')\n",
        "assert_equal(r, {'a'})\n",
        "\n",
        "s = DependencyScheduler()\n",
        "s.add_task('a', ['b', 'c'])\n",
        "s.add_task('b', ['c', 'e'])\n",
        "s.add_task('c', [])\n",
        "assert_equal(s.available_tasks, {'c', 'e'})\n",
        "r = s.mark_completed('e')\n",
        "assert_equal(r, set())\n",
        "r = s.mark_completed('c')\n",
        "assert_equal(r, {'b'})\n",
        "r = s.mark_completed('b')\n",
        "assert_equal(r, {'a'})\n",
        "r = s.mark_completed('a')\n",
        "assert_equal(r, set())\n",
        "assert_equal(s.available_tasks, set())\n",
        "\n"
      ]
    },
    {
      "cell_type": "markdown",
      "metadata": {
        "deletable": false,
        "editable": false,
        "nbgrader": {
          "cell_type": "markdown",
          "checksum": "a88d28ff8c46f629e702ce26bdb19089",
          "grade": false,
          "grade_id": "cell-40009841d0800a39",
          "locked": true,
          "schema_version": 3,
          "solution": false
        },
        "id": "ipTJQ_UG5HHj"
      },
      "source": [
        "## Executing the tasks\n",
        "\n",
        "Here is an execution engine for our tasks with dependencies."
      ]
    },
    {
      "cell_type": "code",
      "execution_count": null,
      "metadata": {
        "deletable": false,
        "editable": false,
        "nbgrader": {
          "cell_type": "code",
          "checksum": "d32b85578d5e0410827bc0d0076d1a65",
          "grade": false,
          "grade_id": "cell-3d2065cf133d47a0",
          "locked": true,
          "schema_version": 3,
          "solution": false
        },
        "id": "bRoUSJn25HHj"
      },
      "outputs": [],
      "source": [
        "import random\n",
        "\n",
        "def execute_schedule(s, show=False):\n",
        "    s.reset()\n",
        "    in_process = s.available_tasks\n",
        "    print(\"Starting by doing:\", in_process)\n",
        "    while len(in_process) > 0:\n",
        "        # Picks one random task to be the first to be completed.\n",
        "        t = random.choice(list(in_process))\n",
        "        print(\"Completed:\", t)\n",
        "        in_process = in_process - {t} | s.mark_completed(t)\n",
        "        print(\"Now doing:\", in_process)\n",
        "        if show:\n",
        "            s.show()\n",
        "    # Have we done all?\n",
        "    if not s.done:\n",
        "        print(\"Error, there are tasks that could not be completed:\", s.uncompleted)\n"
      ]
    },
    {
      "cell_type": "markdown",
      "metadata": {
        "deletable": false,
        "editable": false,
        "nbgrader": {
          "cell_type": "markdown",
          "checksum": "bd83d16ae41cc263e308f0d331d0f91e",
          "grade": false,
          "grade_id": "cell-654c2385d250894e",
          "locked": true,
          "schema_version": 3,
          "solution": false
        },
        "id": "aqS3S2825HHj"
      },
      "source": [
        "Let's try it on our old schedule:"
      ]
    },
    {
      "cell_type": "code",
      "execution_count": null,
      "metadata": {
        "deletable": false,
        "editable": false,
        "nbgrader": {
          "cell_type": "code",
          "checksum": "6f1629ce556ad015b22a345a99efc070",
          "grade": false,
          "grade_id": "cell-7fab79839e9683b2",
          "locked": true,
          "schema_version": 3,
          "solution": false
        },
        "id": "VVlnn13k5HHj",
        "colab": {
          "base_uri": "https://localhost:8080/",
          "height": 354
        },
        "outputId": "8038f25f-9dca-4955-e1bb-f69c93294dbf"
      },
      "outputs": [
        {
          "output_type": "stream",
          "name": "stderr",
          "text": [
            "/usr/local/lib/python3.7/dist-packages/networkx/drawing/nx_pylab.py:474: MatplotlibDeprecationWarning: Using a string of single character colors as a color sequence is deprecated. Use an explicit list instead.\n",
            "  label=label,\n"
          ]
        },
        {
          "output_type": "display_data",
          "data": {
            "text/plain": [
              "<Figure size 432x288 with 1 Axes>"
            ],
            "image/png": "[encoded data removed]"
          },
          "metadata": {}
        }
      ],
      "source": [
        "s = DependencyScheduler()\n",
        "s.add_task('a', ['b', 'c'])\n",
        "s.add_task('b', ['c', 'e'])\n",
        "s._check()\n",
        "s.show()\n"
      ]
    },
    {
      "cell_type": "code",
      "execution_count": null,
      "metadata": {
        "deletable": false,
        "editable": false,
        "nbgrader": {
          "cell_type": "code",
          "checksum": "25b23ffa99e1f75d783b312a72971c7e",
          "grade": false,
          "grade_id": "cell-65d7395f15bff25d",
          "locked": true,
          "schema_version": 3,
          "solution": false
        },
        "id": "FH3rwaDw5HHj",
        "colab": {
          "base_uri": "https://localhost:8080/",
          "height": 1000
        },
        "outputId": "883b2768-d29c-4363-a403-ebec31d09a35"
      },
      "outputs": [
        {
          "output_type": "stream",
          "name": "stdout",
          "text": [
            "Starting by doing: {'e', 'c'}\n",
            "Completed: c\n",
            "Now doing: {'e'}\n"
          ]
        },
        {
          "output_type": "stream",
          "name": "stderr",
          "text": [
            "/usr/local/lib/python3.7/dist-packages/networkx/drawing/nx_pylab.py:474: MatplotlibDeprecationWarning: Using a string of single character colors as a color sequence is deprecated. Use an explicit list instead.\n",
            "  label=label,\n"
          ]
        },
        {
          "output_type": "display_data",
          "data": {
            "text/plain": [
              "<Figure size 432x288 with 1 Axes>"
            ],
            "image/png": "[encoded data removed]"
          },
          "metadata": {}
        },
        {
          "output_type": "stream",
          "name": "stdout",
          "text": [
            "Completed: e\n",
            "Now doing: {'b'}\n"
          ]
        },
        {
          "output_type": "display_data",
          "data": {
            "text/plain": [
              "<Figure size 432x288 with 1 Axes>"
            ],
            "image/png": "[encoded data removed]"
          },
          "metadata": {}
        },
        {
          "output_type": "stream",
          "name": "stdout",
          "text": [
            "Completed: b\n",
            "Now doing: {'a'}\n"
          ]
        },
        {
          "output_type": "display_data",
          "data": {
            "text/plain": [
              "<Figure size 432x288 with 1 Axes>"
            ],
            "image/png": "[encoded data removed]"
          },
          "metadata": {}
        },
        {
          "output_type": "stream",
          "name": "stdout",
          "text": [
            "Completed: a\n",
            "Now doing: set()\n"
          ]
        },
        {
          "output_type": "display_data",
          "data": {
            "text/plain": [
              "<Figure size 432x288 with 1 Axes>"
            ],
            "image/png": "[encoded data removed]"
          },
          "metadata": {}
        }
      ],
      "source": [
        "execute_schedule(s, show=True)\n"
      ]
    },
    {
      "cell_type": "markdown",
      "metadata": {
        "deletable": false,
        "editable": false,
        "nbgrader": {
          "cell_type": "markdown",
          "checksum": "839b538780e7e992ac03186ce1749e75",
          "grade": false,
          "grade_id": "cell-f3f1cfbdb6c635f0",
          "locked": true,
          "schema_version": 3,
          "solution": false
        },
        "id": "Dzg6vl9Z5HHk"
      },
      "source": [
        "What happens if there is a loop?"
      ]
    },
    {
      "cell_type": "code",
      "execution_count": null,
      "metadata": {
        "deletable": false,
        "editable": false,
        "nbgrader": {
          "cell_type": "code",
          "checksum": "8696b6c4374e04fa84e4840ac77a11ab",
          "grade": false,
          "grade_id": "cell-9606400aad406f3d",
          "locked": true,
          "schema_version": 3,
          "solution": false
        },
        "id": "kRzck60Q5HHk",
        "colab": {
          "base_uri": "https://localhost:8080/"
        },
        "outputId": "db1a13f5-508f-4bc0-cdbd-0688970fe137"
      },
      "outputs": [
        {
          "output_type": "stream",
          "name": "stdout",
          "text": [
            "Starting by doing: set()\n",
            "Error, there are tasks that could not be completed: {'c', 'b', 'a'}\n"
          ]
        }
      ],
      "source": [
        "s = DependencyScheduler()\n",
        "s.add_task('a', ['b'])\n",
        "s.add_task('b', ['a'])\n",
        "s.add_task('c', ['a'])\n",
        "execute_schedule(s)\n"
      ]
    },
    {
      "cell_type": "markdown",
      "metadata": {
        "deletable": false,
        "editable": false,
        "nbgrader": {
          "cell_type": "markdown",
          "checksum": "aea76bd6be01cfa61ed1a71cba2e6c9f",
          "grade": false,
          "grade_id": "cell-172179c8f0ed7afe",
          "locked": true,
          "schema_version": 3,
          "solution": false
        },
        "id": "n0gXXcW75HHk"
      },
      "source": [
        "Ok, this is reasonable!  Let us now encode our Carbonara pasta recipe."
      ]
    },
    {
      "cell_type": "code",
      "execution_count": null,
      "metadata": {
        "deletable": false,
        "editable": false,
        "nbgrader": {
          "cell_type": "code",
          "checksum": "592603b85592373287a3e53c61ec0ca3",
          "grade": false,
          "grade_id": "cell-b9a3a27f218d4837",
          "locked": true,
          "schema_version": 3,
          "solution": false
        },
        "id": "ThyvPm4O5HHk",
        "colab": {
          "base_uri": "https://localhost:8080/",
          "height": 354
        },
        "outputId": "37e41a54-ee40-4679-ae31-2d76e4aff974"
      },
      "outputs": [
        {
          "output_type": "stream",
          "name": "stderr",
          "text": [
            "/usr/local/lib/python3.7/dist-packages/networkx/drawing/nx_pylab.py:474: MatplotlibDeprecationWarning: Using a string of single character colors as a color sequence is deprecated. Use an explicit list instead.\n",
            "  label=label,\n"
          ]
        },
        {
          "output_type": "display_data",
          "data": {
            "text/plain": [
              "<Figure size 432x288 with 1 Axes>"
            ],
            "image/png": "[encoded data removed]"
          },
          "metadata": {}
        }
      ],
      "source": [
        "carbonara = DependencyScheduler()\n",
        "\n",
        "# First, the part about cooking the pancetta.\n",
        "carbonara.add_task('dice onions', [])\n",
        "carbonara.add_task('dice pancetta', [])\n",
        "carbonara.add_task('put oil and butter in pan', [])\n",
        "carbonara.add_task('put pancetta in pan', ['dice pancetta'])\n",
        "carbonara.add_task('put onions in pan', ['dice onions'])\n",
        "carbonara.add_task('cook pancetta', ['put oil and butter in pan',\n",
        "                                     'put pancetta in pan',\n",
        "                                     'put onions in pan'])\n",
        "\n",
        "# Second, the part about beating the eggs.\n",
        "carbonara.add_task('put eggs in bowl', [])\n",
        "carbonara.add_task('beat eggs', ['put eggs in bowl'])\n",
        "\n",
        "# Third, cooking the pasta.\n",
        "carbonara.add_task('fill pot with water', [])\n",
        "carbonara.add_task('bring pot of water to a boil', ['fill pot with water'])\n",
        "carbonara.add_task('add salt to water', ['bring pot of water to a boil'])\n",
        "carbonara.add_task('put pasta in water', ['bring pot of water to a boil',\n",
        "                                         'add salt to water'])\n",
        "carbonara.add_task('colander pasta', ['put pasta in water'])\n",
        "\n",
        "# And finally, we can put everything together.\n",
        "carbonara.add_task('serve', ['beat eggs', 'cook pancetta', 'colander pasta'])\n",
        "\n",
        "# Let's look at our schedule!\n",
        "carbonara.show()\n"
      ]
    },
    {
      "cell_type": "code",
      "execution_count": null,
      "metadata": {
        "deletable": false,
        "editable": false,
        "nbgrader": {
          "cell_type": "code",
          "checksum": "1514cb56e6925ce60505ea8e3f1f8fa2",
          "grade": false,
          "grade_id": "cell-179dddfdf48bebfd",
          "locked": true,
          "schema_version": 3,
          "solution": false
        },
        "id": "CDbWCaY05HHl",
        "colab": {
          "base_uri": "https://localhost:8080/"
        },
        "outputId": "269ebf58-372a-4776-cce2-63938ce5d010"
      },
      "outputs": [
        {
          "output_type": "stream",
          "name": "stdout",
          "text": [
            "Starting by doing: {'fill pot with water', 'dice onions', 'put oil and butter in pan', 'put eggs in bowl', 'dice pancetta'}\n",
            "Completed: put oil and butter in pan\n",
            "Now doing: {'dice onions', 'put eggs in bowl', 'dice pancetta', 'fill pot with water'}\n",
            "Completed: dice pancetta\n",
            "Now doing: {'fill pot with water', 'dice onions', 'put pancetta in pan', 'put eggs in bowl'}\n",
            "Completed: dice onions\n",
            "Now doing: {'put pancetta in pan', 'put eggs in bowl', 'put onions in pan', 'fill pot with water'}\n",
            "Completed: fill pot with water\n",
            "Now doing: {'put pancetta in pan', 'put onions in pan', 'bring pot of water to a boil', 'put eggs in bowl'}\n",
            "Completed: bring pot of water to a boil\n",
            "Now doing: {'put pancetta in pan', 'put eggs in bowl', 'add salt to water', 'put onions in pan'}\n",
            "Completed: put onions in pan\n",
            "Now doing: {'put pancetta in pan', 'add salt to water', 'put eggs in bowl'}\n",
            "Completed: put eggs in bowl\n",
            "Now doing: {'put pancetta in pan', 'add salt to water', 'beat eggs'}\n",
            "Completed: put pancetta in pan\n",
            "Now doing: {'cook pancetta', 'add salt to water', 'beat eggs'}\n",
            "Completed: cook pancetta\n",
            "Now doing: {'add salt to water', 'beat eggs'}\n",
            "Completed: add salt to water\n",
            "Now doing: {'beat eggs', 'put pasta in water'}\n",
            "Completed: put pasta in water\n",
            "Now doing: {'beat eggs', 'colander pasta'}\n",
            "Completed: colander pasta\n",
            "Now doing: {'beat eggs'}\n",
            "Completed: beat eggs\n",
            "Now doing: {'serve'}\n",
            "Completed: serve\n",
            "Now doing: set()\n"
          ]
        }
      ],
      "source": [
        "# And let's finally prepare carbonara!\n",
        "execute_schedule(carbonara)\n"
      ]
    },
    {
      "cell_type": "markdown",
      "metadata": {
        "deletable": false,
        "editable": false,
        "nbgrader": {
          "cell_type": "markdown",
          "checksum": "3a9d1c0e1b9e1250cb26c3d574f36263",
          "grade": false,
          "grade_id": "cell-132336eb88325fb5",
          "locked": true,
          "schema_version": 3,
          "solution": false
        },
        "id": "jPnnUJYV5HHl"
      },
      "source": [
        "This is not necessarily the best order of actions to prepare pasta carbonara, but it definitely works as a schedule."
      ]
    },
    {
      "cell_type": "markdown",
      "metadata": {
        "deletable": false,
        "editable": false,
        "nbgrader": {
          "cell_type": "markdown",
          "checksum": "3298657b00e62d546bdc3574e8c2427a",
          "grade": false,
          "grade_id": "cell-519529111c1cb6d6",
          "locked": true,
          "schema_version": 3,
          "solution": false
        },
        "id": "gzSkwwI25HHl"
      },
      "source": [
        "## Building a Better Execution Engine"
      ]
    },
    {
      "cell_type": "markdown",
      "metadata": {
        "deletable": false,
        "editable": false,
        "nbgrader": {
          "cell_type": "markdown",
          "checksum": "9364723aa858c4c2aac9ca42be980f3c",
          "grade": false,
          "grade_id": "cell-f4603a173139acc6",
          "locked": true,
          "schema_version": 3,
          "solution": false
        },
        "id": "pLdTJGzJ5HHl"
      },
      "source": [
        "Let us build a better execution engine for our schedules.  Right now, we have a function:"
      ]
    },
    {
      "cell_type": "code",
      "execution_count": null,
      "metadata": {
        "deletable": false,
        "editable": false,
        "nbgrader": {
          "cell_type": "code",
          "checksum": "de76d3e6321172fa0a31b9b1c822573d",
          "grade": false,
          "grade_id": "cell-f0c5f480fe5c6c9",
          "locked": true,
          "schema_version": 3,
          "solution": false
        },
        "id": "-76Px2cB5HHl"
      },
      "outputs": [],
      "source": [
        "def execute_schedule(s, show=False):\n",
        "    s.reset()\n",
        "    in_process = s.available_tasks\n",
        "    print(\"Starting by doing:\", in_process)\n",
        "    while len(in_process) > 0:\n",
        "        # Picks one random task to be the first to be completed.\n",
        "        t = random.choice(list(in_process))\n",
        "        print(\"Completed:\", t)\n",
        "        in_process = in_process - {t} | s.mark_completed(t)\n",
        "        print(\"Now doing:\", in_process)\n",
        "        if show:\n",
        "            s.show()\n",
        "    # Have we done all?\n",
        "    if not s.done:\n",
        "        print(\"Error, there are tasks that could not be completed:\", s.uncompleted)\n"
      ]
    },
    {
      "cell_type": "markdown",
      "metadata": {
        "deletable": false,
        "editable": false,
        "nbgrader": {
          "cell_type": "markdown",
          "checksum": "3b7c49189dc116071357e09af5d5df04",
          "grade": false,
          "grade_id": "cell-a60b9166ddebccd8",
          "locked": true,
          "schema_version": 3,
          "solution": false
        },
        "id": "WinvErNp5HHm"
      },
      "source": [
        "We want to wrap these methods into a class, RunSchedule.  This will allow us more flexibility in executing a schedule, as we will be able to specify parameters that guide the execution policy, interrupt and resume the execution, and so on.  \n",
        "An object of class RunSchedule is initialized with a DependencyScheduler.  It then has the following methods:\n",
        "\n",
        "* **reset:** mark all tasks as not completed.\n",
        "* **step:** perform one step in the schedule, completing a single task.\n",
        "* **run:** performs all steps in the schedule, until completion.\n",
        "* **done:** indicates that all tasks have been done.\n",
        "\n",
        "What should these methods return?  _step_ will return the task executed, while _run_ will return the whole list of tasks, in the order in which they were done."
      ]
    },
    {
      "cell_type": "code",
      "execution_count": null,
      "metadata": {
        "deletable": false,
        "editable": false,
        "nbgrader": {
          "cell_type": "code",
          "checksum": "3e037b14272b96b6de35075b255042e8",
          "grade": false,
          "grade_id": "cell-b41ae70d45a7aae1",
          "locked": true,
          "schema_version": 3,
          "solution": false
        },
        "id": "26GOg2zs5HHm"
      },
      "outputs": [],
      "source": [
        "class RunSchedule(object):\n",
        "\n",
        "    def __init__(self, scheduler):\n",
        "        self.scheduler = scheduler\n",
        "        self.in_process = None # Indicating, we don't know yet.\n",
        "\n",
        "    def reset(self):\n",
        "        self.scheduler.reset()\n",
        "        self.in_process = None\n",
        "\n",
        "    def step(self):\n",
        "        \"\"\"Performs a step, returning the task, if any, or None,\n",
        "        if there is no step that can be done.\"\"\"\n",
        "        # If we don't know what steps are in process, we get them.\n",
        "        if self.in_process is None:\n",
        "            self.in_process = self.scheduler.available_tasks\n",
        "        if len(self.in_process) == 0:\n",
        "            return None\n",
        "        t = random.choice(list(self.in_process))\n",
        "        self.in_process = self.in_process - {t} | self.scheduler.mark_completed(t)\n",
        "        return t\n",
        "\n",
        "    @property\n",
        "    def done(self):\n",
        "        return self.scheduler.done\n",
        "\n",
        "    def run(self):\n",
        "        \"\"\"Runs the scheduler from the current configuration to completion.\n",
        "        You must call reset() first, if you want to run the whole schedule.\"\"\"\n",
        "        tasks = []\n",
        "        while not self.done:\n",
        "            t = self.step()\n",
        "            if t is not None:\n",
        "                tasks.append(t)\n",
        "        return tasks\n"
      ]
    },
    {
      "cell_type": "markdown",
      "metadata": {
        "deletable": false,
        "editable": false,
        "nbgrader": {
          "cell_type": "markdown",
          "checksum": "edfd2b1f8d71098640f9ffce1021a5f5",
          "grade": false,
          "grade_id": "cell-eed6910af04bdd36",
          "locked": true,
          "schema_version": 3,
          "solution": false
        },
        "id": "ANnAvEZC5HHm"
      },
      "source": [
        "We can run our pasta carbonara with this RunSchedule class:"
      ]
    },
    {
      "cell_type": "code",
      "execution_count": null,
      "metadata": {
        "deletable": false,
        "editable": false,
        "nbgrader": {
          "cell_type": "code",
          "checksum": "5402b88da29d33ac86693ad6c1d3744f",
          "grade": false,
          "grade_id": "cell-55c0c8f25df2494e",
          "locked": true,
          "schema_version": 3,
          "solution": false
        },
        "id": "xGvQJq0E5HHm",
        "colab": {
          "base_uri": "https://localhost:8080/"
        },
        "outputId": "77151bdd-db9e-4f72-995b-b32844f0fba2"
      },
      "outputs": [
        {
          "output_type": "execute_result",
          "data": {
            "text/plain": [
              "['put eggs in bowl',\n",
              " 'fill pot with water',\n",
              " 'beat eggs',\n",
              " 'bring pot of water to a boil',\n",
              " 'dice pancetta',\n",
              " 'add salt to water',\n",
              " 'put pancetta in pan',\n",
              " 'put oil and butter in pan',\n",
              " 'dice onions',\n",
              " 'put pasta in water',\n",
              " 'colander pasta',\n",
              " 'put onions in pan',\n",
              " 'cook pancetta',\n",
              " 'serve']"
            ]
          },
          "metadata": {},
          "execution_count": 173
        }
      ],
      "source": [
        "runner = RunSchedule(carbonara)\n",
        "runner.reset()\n",
        "runner.run()\n"
      ]
    },
    {
      "cell_type": "markdown",
      "metadata": {
        "deletable": false,
        "editable": false,
        "nbgrader": {
          "cell_type": "markdown",
          "checksum": "4d64b10388004d75daf9bfc866ad5145",
          "grade": false,
          "grade_id": "cell-10aa59ab0c77890",
          "locked": true,
          "schema_version": 3,
          "solution": false
        },
        "id": "E4a0fhjX5HHn"
      },
      "source": [
        "Let us pause for a moment and ask: did we really need to create a new class? Could we not have done the above in the scheduler class?\n",
        "\n",
        "This is debatable.  The idea in keeping the two classes separate is clarity of goals:\n",
        "\n",
        "* The scheduler is concerned with what _can_ be done next.\n",
        "* The runner is concerned with any practical constraint to the execution, and with the choice of _what_, among the possible, is actually done.\n",
        "\n",
        "We will have occasion below to rely on this division of concerns."
      ]
    },
    {
      "cell_type": "markdown",
      "metadata": {
        "deletable": false,
        "editable": false,
        "nbgrader": {
          "cell_type": "markdown",
          "checksum": "8135e6c3fc349e9001ca7b1e4d10fab7",
          "grade": false,
          "grade_id": "cell-8128a653d7a7d5b8",
          "locked": true,
          "schema_version": 3,
          "solution": false
        },
        "id": "ADN07Djc5HHn"
      },
      "source": [
        "### Code changes and rotten eggs"
      ]
    },
    {
      "cell_type": "markdown",
      "metadata": {
        "deletable": false,
        "editable": false,
        "nbgrader": {
          "cell_type": "markdown",
          "checksum": "f35a8cb8bf14ad593fd8f24427a2fad5",
          "grade": false,
          "grade_id": "cell-8b03abdea8e03091",
          "locked": true,
          "schema_version": 3,
          "solution": false
        },
        "id": "jEIexPnN5HHn"
      },
      "source": [
        "#### Code changes\n",
        "\n",
        "Imagine that you need to compile three programs, `a`, `b`, `c`, and then link together the results into `f.out`.   Once this is done, you compile `d` and `e`, and link into `g.out`.  As the last step, you link the two libraries `g.out` and `f.out` together, and produce `h`. You do it once.  Great.  But now you realize that you need to change `b`.  Do you have to start from scratch?\n",
        "\n",
        "You may think, who cares, it's the CPU doing the work, not me.  Fair enough, but there are some large systems that take minutes, dozen of minutes, to compile.  If you are compiling the linux kernel on a low power CPU, it might take hours.  Surely you don't want to redo everything from scratch!  \n",
        "\n",
        "So imagine you have the tasks in an intermediate state, with some being completed (possibly all of them), and some not.  You can now mark one of the tasks as incomplete, to signal you need to do it again.  What is the set of tasks that as a consequence should also be marked incomplete?\n",
        "If you have two tasks $x$ and $y$, with $y$ being a successor to $x$, if $x$ is marked as \"undone\" as it needs to be redone, then also $y$ will need to be redone, as it might use the results of $x$.\n",
        "\n",
        "To implement this, we will perform two modifications.  First, we will endow our scheduler with a _redo_ method, which marks a task and all its successors (and the successors of the successors, and so forth) to be redone -- that is, it _unmarks_ them as done.  We let you implement this; you have already seen how to compute reachability in the graph chapter.\n"
      ]
    },
    {
      "cell_type": "markdown",
      "metadata": {
        "deletable": false,
        "editable": false,
        "nbgrader": {
          "cell_type": "markdown",
          "checksum": "8e0ad68687cc9ba4d0691d0b8b7cd571",
          "grade": false,
          "grade_id": "cell-db9505f16769da2d",
          "locked": true,
          "schema_version": 3,
          "solution": false
        },
        "id": "L795hG6e5HHn"
      },
      "source": [
        "## redo for code"
      ]
    },
    {
      "cell_type": "code",
      "execution_count": null,
      "metadata": {
        "deletable": false,
        "nbgrader": {
          "cell_type": "code",
          "checksum": "806920f609668e0bdf15fe4267874f8f",
          "grade": false,
          "grade_id": "cell-6c5116394474290d",
          "locked": false,
          "schema_version": 3,
          "solution": true
        },
        "id": "X7o7ITOD5HHn"
      },
      "outputs": [],
      "source": [
        "### Implementation of `redo`\n",
        "\n",
        "def dependency_scheduler_redo(self, t):\n",
        "    \"\"\"Mark the task t, and all its successors, as undone.\n",
        "    Returns the set of successor tasks of t, with t included.\"\"\"\n",
        "\n",
        "    sets0 = set()\n",
        "    sets0.add(t)\n",
        "    self.completed_tasks -= sets0\n",
        "    sets1 = set(self.successors[t])\n",
        "    for i in self.successors[t]:\n",
        "      sets1.update(self.redo(i))\n",
        "    return sets1\n",
        "\n",
        "DependencyScheduler.redo = dependency_scheduler_redo\n"
      ]
    },
    {
      "cell_type": "markdown",
      "metadata": {
        "deletable": false,
        "editable": false,
        "nbgrader": {
          "cell_type": "markdown",
          "checksum": "e9c8ba72522299090e55d1102b590214",
          "grade": false,
          "grade_id": "cell-3a60ee07b8295fab",
          "locked": true,
          "schema_version": 3,
          "solution": false
        },
        "id": "MK45RKC55HHo"
      },
      "source": [
        "Let us test the implementation."
      ]
    },
    {
      "cell_type": "code",
      "execution_count": null,
      "metadata": {
        "deletable": false,
        "editable": false,
        "nbgrader": {
          "cell_type": "code",
          "checksum": "bafef921ab4b0cc945986d2ca827eb5b",
          "grade": false,
          "grade_id": "cell-679f2801a7b9c93c",
          "locked": true,
          "schema_version": 3,
          "solution": false
        },
        "id": "HVGF_CIZ5HHo"
      },
      "outputs": [],
      "source": [
        "### Tests for `redo` for code.\n",
        "\n",
        "def assert_equal(a, b):\n",
        "    assert a == b\n",
        "\n",
        "s = DependencyScheduler()\n",
        "s.add_task('a', [])\n",
        "s.add_task('b', ['a'])\n",
        "s.add_task('c', ['a'])\n",
        "s.add_task('d', ['b', 'c'])\n",
        "s.add_task('e', ['a', 'd'])\n",
        "\n",
        "s.mark_completed('a')\n",
        "s.mark_completed('b')\n",
        "s.mark_completed('c')\n",
        "assert_equal(s.available_tasks, {'d'})\n",
        "s.redo('b')\n",
        "assert_equal(s.available_tasks, {'b'})\n",
        "\n",
        "# Additional test\n",
        "s = DependencyScheduler()\n",
        "s.add_task('a', [])\n",
        "s.add_task('b', ['a'])\n",
        "s.add_task('c', ['a'])\n",
        "s.add_task('d', ['b', 'c'])\n",
        "s.add_task('e', ['a', 'd'])\n",
        "\n",
        "s.mark_completed('a')\n",
        "s.mark_completed('b')\n",
        "s.mark_completed('c')\n",
        "s.mark_completed('d')\n",
        "s.redo('a')\n",
        "assert_equal(s.available_tasks, {'a'})\n",
        "\n",
        "s = DependencyScheduler()\n",
        "s.add_task('a', [])\n",
        "s.add_task('b', ['a'])\n",
        "s.add_task('c', ['a'])\n",
        "s.add_task('d', ['b', 'c'])\n",
        "s.add_task('e', ['a', 'd'])\n",
        "s.mark_completed('a')\n",
        "s.mark_completed('b')\n",
        "s.mark_completed('c')\n",
        "assert_equal(s.available_tasks, {'d'})\n",
        "s.mark_completed('d')\n",
        "s.mark_completed('e')\n",
        "s.redo('e')\n",
        "assert_equal(s.available_tasks, {'e'})\n"
      ]
    },
    {
      "cell_type": "markdown",
      "metadata": {
        "deletable": false,
        "editable": false,
        "nbgrader": {
          "cell_type": "markdown",
          "checksum": "08baeec5209da01147233594e00cd80b",
          "grade": false,
          "grade_id": "cell-5931082e547dafee",
          "locked": true,
          "schema_version": 3,
          "solution": false
        },
        "id": "rkfLJJ9X5HHp"
      },
      "source": [
        "Next, we implement a runner that has an additional operation _redo(t)_ for a task t."
      ]
    },
    {
      "cell_type": "code",
      "execution_count": null,
      "metadata": {
        "deletable": false,
        "editable": false,
        "nbgrader": {
          "cell_type": "code",
          "checksum": "8bdc1b186036c537a1383efa59306c64",
          "grade": false,
          "grade_id": "cell-bf01ab631ee8aabe",
          "locked": true,
          "schema_version": 3,
          "solution": false
        },
        "id": "reDNpBRs5HHp"
      },
      "outputs": [],
      "source": [
        "def run_schedule_redo(self, t):\n",
        "    \"\"\"Marks t as to be redone.\"\"\"\n",
        "    # We drop everything that was in progress.\n",
        "    # This also forces us to ask the scheduler for what to redo.\n",
        "    self.in_process = None\n",
        "    return self.scheduler.redo(t)\n",
        "\n",
        "RunSchedule.redo = run_schedule_redo\n"
      ]
    },
    {
      "cell_type": "markdown",
      "metadata": {
        "deletable": false,
        "editable": false,
        "nbgrader": {
          "cell_type": "markdown",
          "checksum": "18ed6d1c447afb67a49c2b117427dd30",
          "grade": false,
          "grade_id": "cell-9244090dea47a770",
          "locked": true,
          "schema_version": 3,
          "solution": false
        },
        "id": "LRrFUmMI5HHp"
      },
      "source": [
        "We can now play with it."
      ]
    },
    {
      "cell_type": "code",
      "execution_count": null,
      "metadata": {
        "deletable": false,
        "editable": false,
        "nbgrader": {
          "cell_type": "code",
          "checksum": "7980382362b032f20abc8b7f46577044",
          "grade": false,
          "grade_id": "cell-e236b111804dc4e",
          "locked": true,
          "schema_version": 3,
          "solution": false
        },
        "id": "KjjZJ02a5HHp",
        "colab": {
          "base_uri": "https://localhost:8080/"
        },
        "outputId": "cccbb5e2-b174-4c2c-e933-e84eb3ff4c82"
      },
      "outputs": [
        {
          "output_type": "stream",
          "name": "stdout",
          "text": [
            "dice pancetta\n",
            "fill pot with water\n",
            "put pancetta in pan\n",
            "dice onions\n",
            "put oil and butter in pan\n",
            "bring pot of water to a boil\n",
            "put onions in pan\n",
            "put eggs in bowl\n",
            "beat eggs\n",
            "add salt to water\n",
            "---> readd salt\n",
            "marking undone: {'serve', 'colander pasta', 'put pasta in water'}\n",
            "completed: {'put pancetta in pan', 'dice onions', 'beat eggs', 'put oil and butter in pan', 'put eggs in bowl', 'bring pot of water to a boil', 'fill pot with water', 'dice pancetta', 'put onions in pan'}\n",
            "cook pancetta\n",
            "add salt to water\n",
            "put pasta in water\n",
            "colander pasta\n",
            "serve\n",
            "None\n",
            "None\n",
            "None\n",
            "None\n",
            "None\n",
            "--->redo dice pancetta\n",
            "marking undone: {'put pancetta in pan', 'cook pancetta', 'serve'}\n",
            "completed: {'dice onions', 'beat eggs', 'colander pasta', 'put oil and butter in pan', 'put eggs in bowl', 'put pasta in water', 'bring pot of water to a boil', 'fill pot with water', 'put onions in pan', 'add salt to water'}\n",
            "dice pancetta\n",
            "put pancetta in pan\n",
            "cook pancetta\n",
            "serve\n"
          ]
        }
      ],
      "source": [
        "runner = RunSchedule(carbonara)\n",
        "runner.reset()\n",
        "for _ in range(10):\n",
        "    print(runner.step())\n",
        "print(\"---> readd salt\")\n",
        "print(\"marking undone:\", runner.redo(\"add salt to water\"))\n",
        "print(\"completed:\", runner.scheduler.completed_tasks)\n",
        "for _ in range(10):\n",
        "    print(runner.step())\n",
        "print(\"--->redo dice pancetta\")\n",
        "print(\"marking undone:\", runner.redo(\"dice pancetta\"))\n",
        "print(\"completed:\", runner.scheduler.completed_tasks)\n",
        "for t in runner.run():\n",
        "    print(t)\n"
      ]
    },
    {
      "cell_type": "markdown",
      "metadata": {
        "deletable": false,
        "editable": false,
        "nbgrader": {
          "cell_type": "markdown",
          "checksum": "e232cd8c99ffe77670c6b8703c350924",
          "grade": false,
          "grade_id": "cell-49953e46b6380d22",
          "locked": true,
          "schema_version": 3,
          "solution": false
        },
        "id": "sa649fGz5HHq"
      },
      "source": [
        "You have learned to sequence the order in which to do tasks so as to respect their dependencies.  In the next chapter, we will learn how to also take into account the time it takes for us to do the tasks.  In the meantime, bon appetit, or rather, guten appetit, or rather, buon appetito!"
      ]
    },
    {
      "cell_type": "markdown",
      "metadata": {
        "deletable": false,
        "editable": false,
        "nbgrader": {
          "cell_type": "markdown",
          "checksum": "5bb642e8b2730d7ded961a21a3813067",
          "grade": false,
          "grade_id": "cell-6d1b14fa2f2aed2a",
          "locked": true,
          "schema_version": 3,
          "solution": false
        },
        "id": "jrY-xPYG5HHq"
      },
      "source": [
        "#### Redoing in cooking\n",
        "\n",
        "The act of redoing a cooking step is somewhat different than the act of redoing something in code.  Suppose you cook pasta, unite with it the fried bacon and onions, and then -- terrible mishap -- you unite with it the beaten egg yolks in which one of the eggs is rotten.\n",
        "\n",
        "In code, when one file changes, you only need to redo the things that _depend_ on that file.  In cooking, it is different: even if nothing changed in the bacon, onions, and cooked pasta, once you add to it rotten eggs you have to redo the pasta, bacon, onions, etc, as well, as they have now been contaminated.  The root of the problem is that in a makefile, when you combine two files to compute a result, you do not destroy the original files, whereas in cooking, once you combine foods, you don't have the original foods any longer.  Cooking is like a makefile in which, once you combine files, you immediately delete them.\n",
        "\n",
        "So let us come up with a precise definition of what needs to be redone in cooking, when one of the steps goes bad (the eggs are rotten, you burn the food on the stove, and so on).\n",
        "\n",
        "Initially, we label _redo_ the task that needs redoing.  We then propagate the label according to these two phases:\n",
        "\n",
        "**Phase 1: Forward**\n",
        "Apply the following rule as long as it can be applied:\n",
        "\n",
        "* Consider a task $v$ labeled _redo_. If $u$ is a successor of $v$ and $u$ is completed, then $u$ is also labeled _redo_.\n",
        "\n",
        "**Phase 2: Backward**\n",
        "Apply the following rule as long as it can be applied:\n",
        "\n",
        "* Consider a task $v$ labeled _redo_. If $u$ is a predecessor of $v$, then $u$ is also labeled _redo_ (note that in this case, we are guaranteed that $u$ is completed).\n",
        "\n",
        "The first rule corresponds to a _forward_ pass in the dependency garph; the second rule corresponds to a _backward_ pass in the dependency relation.\n",
        "Once the _redo_ label is propagated, all tasks that are marked _redo_ are changed from completed, to uncompleted.\n",
        "\n",
        "Note that you have to implement _once_ the forward phase, followed by _once_ the backward phase.  Example: you press some lemons, and you use a bit of the juice to make a mayonnaise, and another part to marinate shrimp.  If it turns out that the egg yolk used for the mayonnaise was rotten, you need to press a bit of lemon again, but you do not need to marinate the shrimp once more.\n",
        "\n",
        "We ask you to implement this in code."
      ]
    },
    {
      "cell_type": "markdown",
      "metadata": {
        "deletable": false,
        "editable": false,
        "nbgrader": {
          "cell_type": "markdown",
          "checksum": "32388cbc549118f703aabfd30c4bbc80",
          "grade": false,
          "grade_id": "cell-92a953316819f425",
          "locked": true,
          "schema_version": 3,
          "solution": false
        },
        "id": "Qg2iB2Nm5HHq"
      },
      "source": [
        "## redo for recipes"
      ]
    },
    {
      "cell_type": "code",
      "execution_count": null,
      "metadata": {
        "deletable": false,
        "nbgrader": {
          "cell_type": "code",
          "checksum": "bd4ea1417e5fe80323e49f64f424d792",
          "grade": false,
          "grade_id": "cell-cc1bb6023ca9b910",
          "locked": false,
          "schema_version": 3,
          "solution": true
        },
        "id": "LfMGIF905HHq"
      },
      "outputs": [],
      "source": [
        "### Implementation of `cooking_redo`\n",
        "\n",
        "def dependency_scheduler_cooking_redo(self, v):\n",
        "    \"\"\"Indicates that the task v needs to be redone, as something went bad.\n",
        "    This is the \"cooking\" version of the redo, in which the redo propagates\n",
        "    to both successors (as for code) and predecessors.\"\"\"\n",
        "\n",
        "    sets0 = set()\n",
        "    sets0.add(v)\n",
        "    self.completed_tasks -= sets0\n",
        "    sets1 = set(self.predecessors[v])\n",
        "    for i in self.predecessors[v]:\n",
        "      sets1.update(self.cooking_redo(i))\n",
        "    return sets1.union(self.redo(v))\n",
        "\n",
        "\n",
        "DependencyScheduler.cooking_redo = dependency_scheduler_cooking_redo\n"
      ]
    },
    {
      "cell_type": "markdown",
      "metadata": {
        "deletable": false,
        "editable": false,
        "nbgrader": {
          "cell_type": "markdown",
          "checksum": "ea35fc2c547e845576d527d0749d333f",
          "grade": false,
          "grade_id": "cell-42edee78e90a8f5a",
          "locked": true,
          "schema_version": 3,
          "solution": false
        },
        "id": "wpklW2aO5HHr"
      },
      "source": [
        "Let us check that the code works.  First, a simple example."
      ]
    },
    {
      "cell_type": "code",
      "execution_count": null,
      "metadata": {
        "deletable": false,
        "editable": false,
        "nbgrader": {
          "cell_type": "code",
          "checksum": "ba66225bbbc6061dd3cb3b411a127a1b",
          "grade": false,
          "grade_id": "cell-e41a5158c99d0852",
          "locked": true,
          "schema_version": 3,
          "solution": false
        },
        "id": "1g1YfeXy5HHr"
      },
      "outputs": [],
      "source": [
        "### Basic tests for `cooking_redo`.\n",
        "\n",
        "def assert_equal(a, b):\n",
        "    assert a == b\n",
        "\n",
        "s = DependencyScheduler()\n",
        "s.add_task('a', [])\n",
        "s.add_task('b', [])\n",
        "s.add_task('c', ['a', 'b'])\n",
        "s.add_task('e', [])\n",
        "s.add_task('f', ['e'])\n",
        "s.add_task('g', ['f', 'd'])\n",
        "s.add_task('d', ['c'])\n",
        "\n",
        "s.mark_completed('a')\n",
        "s.mark_completed('b')\n",
        "s.mark_completed('c')\n",
        "s.mark_completed('d')\n",
        "assert_equal(s.available_tasks, {'e'})\n",
        "s.cooking_redo('c')\n",
        "# When we redo c, both its successor d, and predecessors a, b have to be redone.\n",
        "assert_equal(s.available_tasks, {'a', 'b', 'e'})\n",
        "assert_equal(s.completed_tasks, set())\n"
      ]
    },
    {
      "cell_type": "markdown",
      "metadata": {
        "deletable": false,
        "editable": false,
        "nbgrader": {
          "cell_type": "markdown",
          "checksum": "5e7d460cc8b4d165284276626870ac31",
          "grade": false,
          "grade_id": "cell-60c8fbcf5c1165c1",
          "locked": true,
          "schema_version": 3,
          "solution": false
        },
        "id": "pSkBSc0W5HHr"
      },
      "source": [
        "And now, some slightly more sophisticated tests."
      ]
    },
    {
      "cell_type": "code",
      "execution_count": null,
      "metadata": {
        "deletable": false,
        "editable": false,
        "nbgrader": {
          "cell_type": "code",
          "checksum": "b13641b05a7d8f28a1fbd7dec5da2f4b",
          "grade": false,
          "grade_id": "cell-b381715fdc7beaca",
          "locked": true,
          "schema_version": 3,
          "solution": false
        },
        "id": "yNV5YHxD5HHr"
      },
      "outputs": [],
      "source": [
        "### Advanced tests for `cooking_redo`.\n",
        "\n",
        "def assert_equal(a, b):\n",
        "    assert a == b\n",
        "\n",
        "s = DependencyScheduler()\n",
        "s.add_task('a', [])\n",
        "s.add_task('b', [])\n",
        "s.add_task('c', ['a', 'b'])\n",
        "s.add_task('d', ['c'])\n",
        "s.add_task('e', [])\n",
        "s.add_task('f', ['e'])\n",
        "s.add_task('g', ['f', 'd'])\n",
        "\n",
        "s.mark_completed('a')\n",
        "s.mark_completed('b')\n",
        "s.mark_completed('c')\n",
        "s.mark_completed('d')\n",
        "s.mark_completed('e')\n",
        "assert_equal(s.available_tasks, {'f'})\n",
        "s.cooking_redo('c')\n",
        "# When we redo c, both its successor d, and predecessors a, b have to be redone.\n",
        "assert_equal(s.available_tasks, {'a', 'b', 'f'})\n",
        "assert_equal(s.completed_tasks, {'e'})\n",
        "\n",
        "s = DependencyScheduler()\n",
        "s.add_task('mayo', ['lemon juice', 'egg yolks', 'oil'])\n",
        "s.add_task('marinated shrimp', ['shrimp', 'lemon juice'])\n",
        "s.add_task('crevettes', ['marinated shrimp', 'mayo'])\n",
        "s.mark_completed('lemon juice')\n",
        "s.mark_completed('egg yolks')\n",
        "s.mark_completed('oil')\n",
        "s.mark_completed('shrimp')\n",
        "s.mark_completed('marinated shrimp')\n",
        "s.mark_completed('mayo')\n",
        "assert s.available_tasks == {'crevettes'}\n",
        "s.cooking_redo('egg yolks')\n",
        "assert 'mayo' not in s.completed_tasks\n",
        "assert 'marinated shrimp' in s.completed_tasks\n",
        "assert 'egg yolks' not in s.completed_tasks\n"
      ]
    },
    {
      "cell_type": "markdown",
      "metadata": {
        "deletable": false,
        "editable": false,
        "nbgrader": {
          "cell_type": "markdown",
          "checksum": "fa851484e76a0fd58bdc6f91cc33cdc0",
          "grade": false,
          "grade_id": "cell-3108b9ac8509079b",
          "locked": true,
          "schema_version": 3,
          "solution": false
        },
        "id": "DqGn-YqZ5HHs"
      },
      "source": [
        "## Implement And-Or Schedules\n",
        "\n",
        "In the schedules we have seen so far, the dependencies are in _and_ one with the other: if a task $a$ depends on $b, c$, then _both_ $b$ _and $c$ need to be completed before $a$ can be started.\n",
        "It is possible to consider also cases where dependencies are in an _or_ relation: if $a$ depends on $b, c$ in an _or_ way, then it suffices to complete one of $b$ _or_ $c$ before starting $a$.\n",
        "For instance, in our Carbonara Pasta example, it is possible (even though not necessarily advisable) to use shallots in place of onions.\n",
        "In that case, instead of\n",
        "\n",
        "    carbonara.add_task('put onions in pan', ['dice onions'])\n",
        "\n",
        "we could have:\n",
        "\n",
        "    carbonara.add_or_task('put onions in pan', ['dice onions', 'dice shallots'])\n",
        "\n",
        "so that before putting the (now generally named) onions in a pan, we could choose to dice either shallots or onions.\n",
        "\n",
        "Formally, the idea is to endow the Scheduler class with _two_ methods:\n",
        "\n",
        "* `add_and_task(self, t, dependencies)` adds a task `t` with list of dependencies `dependencies`, so that `t` can be done when _all_ of the dependencies are done.  The task `t` is called an AND node in the dependency graph.\n",
        "\n",
        "* `add_or_task(self, t, dependencies)` adds a task `t` with list of dependencies `dependencies`, so that `t` can be done when _at least one_ of the dependencies is done.  The task `t` is called an OR node in the dependency graph.\n",
        "\n",
        "You need to find a way to remember which dependency graph nodes are AND or OR nodes, and you need to implement the properties `done`, `available_tasks`, `uncompleted`, and the method `mark_completed`, to make this class work.\n",
        "Implementing the `show` method is optional; do it if it helps you debug your code."
      ]
    },
    {
      "cell_type": "code",
      "execution_count": null,
      "metadata": {
        "deletable": false,
        "nbgrader": {
          "cell_type": "code",
          "checksum": "ad62c91a1c54be8c5990881bbd239575",
          "grade": false,
          "grade_id": "cell-9565d98fa616a08f",
          "locked": false,
          "schema_version": 3,
          "solution": true
        },
        "id": "u8xHCsWh5HHs"
      },
      "outputs": [],
      "source": [
        "### `AND_OR_Scheduler` implementation\n",
        "\n",
        "class AND_OR_Scheduler(object):\n",
        "\n",
        "    def __init__(self):\n",
        "        # It is up to you to implement the initialization.\n",
        "\n",
        "        self.tasks = set()\n",
        "        self.and_tasks = set()\n",
        "        self.or_tasks = set()\n",
        "        self.completed_tasks = set()\n",
        "        self.successors = defaultdict(set)\n",
        "        self.predecessors = defaultdict(set)\n",
        "\n",
        "    def add_and_task(self, t, dependencies):\n",
        "        \"\"\"Adds an AND task t with given dependencies.\"\"\"\n",
        "\n",
        "        self.tasks.update(dependencies)\n",
        "        self.tasks.add(t)\n",
        "        self.and_tasks.add(t)\n",
        "        self.predecessors[t] = set(dependencies)\n",
        "        for i in dependencies:\n",
        "          self.successors[i].add(t)\n",
        "\n",
        "    def add_or_task(self, t, dependencies):\n",
        "        \"\"\"Adds an OR task t with given dependencies.\"\"\"\n",
        "\n",
        "        self.tasks.update(dependencies)\n",
        "        self.tasks.add(t)\n",
        "        self.or_tasks.add(t)\n",
        "        self.predecessors[t] = set(dependencies)\n",
        "        for i in dependencies:\n",
        "          self.successors[i].add(t)\n",
        "\n",
        "    @property\n",
        "    def done(self):\n",
        "\n",
        "        if self.completed_tasks == self.tasks:\n",
        "          return True\n",
        "        else:\n",
        "          return False\n",
        "\n",
        "    @property\n",
        "    def available_tasks(self):\n",
        "        \"\"\"Returns the set of tasks that can be done in parallel.\n",
        "        A task can be done if:\n",
        "        - It is an AND task, and all its predecessors have been completed, or\n",
        "        - It is an OR task, and at least one of its predecessors has been completed.\n",
        "        And of course, we don't return any task that has already been\n",
        "        completed.\"\"\"\n",
        "\n",
        "        sets0 = set()\n",
        "        for i in self.tasks:\n",
        "          if i not in self.completed_tasks:\n",
        "            if len(self.predecessors[i]) == 0:\n",
        "              sets0.add(i)\n",
        "            else:\n",
        "              if (i in self.and_tasks):\n",
        "                if self.predecessors[i].issubset(self.completed_tasks):\n",
        "                  sets0.add(i)\n",
        "              else:\n",
        "                for x in self.predecessors[i]:\n",
        "                  if x in self.completed_tasks:\n",
        "                    sets0.add(i)\n",
        "        return(sets0)\n",
        "\n",
        "\n",
        "    def mark_completed(self, t):\n",
        "        \"\"\"Marks the task t as completed, and returns the additional\n",
        "        set of tasks that can be done (and that could not be\n",
        "        previously done) once t is completed.\"\"\"\n",
        "\n",
        "        old = self.available_tasks\n",
        "        self.completed_tasks.add(t)\n",
        "        new = self.available_tasks\n",
        "        return new - old\n",
        "\n",
        "    def show(self):\n",
        "        \"\"\"You can use the nx graph to display the graph.  You may want to ensure\n",
        "        that you display AND and OR nodes differently.\"\"\"\n",
        "\n"
      ]
    },
    {
      "cell_type": "markdown",
      "metadata": {
        "deletable": false,
        "editable": false,
        "nbgrader": {
          "cell_type": "markdown",
          "checksum": "90f59497fb74b57a9d39e683e3389f7b",
          "grade": false,
          "grade_id": "cell-18c44f6e73899bba",
          "locked": true,
          "schema_version": 3,
          "solution": false
        },
        "id": "j5CItb5u5HHt"
      },
      "source": [
        "Let us do some simple tests.  First, for good old AND nodes."
      ]
    },
    {
      "cell_type": "code",
      "execution_count": null,
      "metadata": {
        "deletable": false,
        "editable": false,
        "nbgrader": {
          "cell_type": "code",
          "checksum": "cb8d6a0f5dfe8c6152fd161c9bff5506",
          "grade": false,
          "grade_id": "cell-e836b09c047b9f5",
          "locked": true,
          "schema_version": 3,
          "solution": false
        },
        "id": "NiEGjvx95HHt"
      },
      "outputs": [],
      "source": [
        "### Simple tests for AND nodes.\n",
        "\n",
        "def assert_equal(a, b):\n",
        "    assert a == b\n",
        "\n",
        "s = AND_OR_Scheduler()\n",
        "s.add_and_task('a', ['b', 'c'])\n",
        "assert_equal(s.available_tasks, {'b', 'c'})\n",
        "r = s.mark_completed('b')\n",
        "assert_equal(r, set())\n",
        "assert_equal(s.available_tasks, {'c'})\n",
        "r = s.mark_completed('c')\n",
        "assert_equal(r, {'a'})\n",
        "assert_equal(s.available_tasks, {'a'})\n",
        "r = s.mark_completed('a')\n",
        "assert_equal(r, set())\n",
        "assert_equal(s.available_tasks, set())\n",
        "\n"
      ]
    },
    {
      "cell_type": "markdown",
      "metadata": {
        "deletable": false,
        "editable": false,
        "nbgrader": {
          "cell_type": "markdown",
          "checksum": "192280b603d546238e5abe482b8c3492",
          "grade": false,
          "grade_id": "cell-94b63e35f3654e78",
          "locked": true,
          "schema_version": 3,
          "solution": false
        },
        "id": "dUZ4PFNj5HHu"
      },
      "source": [
        "Then, some simple tests for OR nodes."
      ]
    },
    {
      "cell_type": "code",
      "execution_count": null,
      "metadata": {
        "deletable": false,
        "editable": false,
        "nbgrader": {
          "cell_type": "code",
          "checksum": "4c20f65a2303e769957738c608a12500",
          "grade": false,
          "grade_id": "cell-3965186a773d8d38",
          "locked": true,
          "schema_version": 3,
          "solution": false
        },
        "id": "xO0NMhJU5HHu"
      },
      "outputs": [],
      "source": [
        "### Simple tests for OR nodes.\n",
        "\n",
        "def assert_equal(a, b):\n",
        "    assert a == b\n",
        "\n",
        "s = AND_OR_Scheduler()\n",
        "s.add_or_task('a', ['b', 'c'])\n",
        "assert_equal(s.available_tasks, {'b', 'c'})\n",
        "r = s.mark_completed('b')\n",
        "# Now 'a' becomes available.\n",
        "assert_equal(r, {'a'})\n",
        "# But note that 'c' is also available, even if useless.\n",
        "assert_equal(s.available_tasks, {'a', 'c'})\n",
        "r = s.mark_completed('a')\n",
        "assert_equal(r, set())\n",
        "assert_equal(s.available_tasks, {'c'})\n",
        "r = s.mark_completed('c')\n",
        "assert_equal(r, set())\n",
        "assert_equal(s.available_tasks, set())\n"
      ]
    },
    {
      "cell_type": "markdown",
      "metadata": {
        "deletable": false,
        "editable": false,
        "nbgrader": {
          "cell_type": "markdown",
          "checksum": "82e7596cf8c732f501662225f89b4ec4",
          "grade": false,
          "grade_id": "cell-37d36099069f56c9",
          "locked": true,
          "schema_version": 3,
          "solution": false
        },
        "id": "iDBHkYyV5HHu"
      },
      "source": [
        "Note that a drawback of this simple solution, as illustrated by the above test case, is that we do not distinguish between the tasks that are useful to do the root task, and the tasks that are useless, that is, not part of a minimal solution.  We simply call them available, as they can be done, even though there is no advantage in doing them."
      ]
    },
    {
      "cell_type": "code",
      "execution_count": null,
      "metadata": {
        "deletable": false,
        "editable": false,
        "nbgrader": {
          "cell_type": "code",
          "checksum": "70c49dd67a9ed26c19bfd244a22d2184",
          "grade": false,
          "grade_id": "cell-340b4651bd24a774",
          "locked": true,
          "schema_version": 3,
          "solution": false
        },
        "id": "KuYCD4125HHu"
      },
      "outputs": [],
      "source": [
        "### Tests with both AND and OR nodes.\n",
        "\n",
        "def assert_equal(a, b):\n",
        "    assert a == b\n",
        "\n",
        "\n",
        "s = AND_OR_Scheduler()\n",
        "s.add_and_task('a', ['b', 'c'])\n",
        "s.add_or_task('b', ['b1', 'b2'])\n",
        "s.add_or_task('c', ['c1', 'c2'])\n",
        "r = s.mark_completed('b1')\n",
        "assert_equal(s.available_tasks, {'b', 'b2', 'c1', 'c2'})\n",
        "r = s.mark_completed('b')\n",
        "assert 'a' not in s.available_tasks\n",
        "r = s.mark_completed('c1')\n",
        "assert 'a' not in s.available_tasks\n",
        "r = s.mark_completed('c')\n",
        "assert 'a' in s.available_tasks\n",
        "\n",
        "s = AND_OR_Scheduler()\n",
        "s.add_or_task('a', ['b', 'c'])\n",
        "s.add_and_task('b', ['b1', 'b2'])\n",
        "s.add_and_task('c', ['c1', 'c2'])\n",
        "r = s.mark_completed('b1')\n",
        "assert_equal(s.available_tasks, {'b2', 'c1', 'c2'})\n",
        "r = s.mark_completed('c1')\n",
        "assert_equal(s.available_tasks, {'b2', 'c2'})\n",
        "r = s.mark_completed('c2')\n",
        "assert_equal(s.available_tasks, {'b2', 'c'})\n",
        "r = s.mark_completed('c')\n",
        "assert 'a' in s.available_tasks\n"
      ]
    }
  ],
  "metadata": {
    "colab": {
      "provenance": []
    },
    "kernelspec": {
      "display_name": "Python 3",
      "language": "python",
      "name": "python3"
    },
    "language_info": {
      "codemirror_mode": {
        "name": "ipython",
        "version": 3
      },
      "file_extension": ".py",
      "mimetype": "text/x-python",
      "name": "python",
      "nbconvert_exporter": "python",
      "pygments_lexer": "ipython3",
      "version": "3.8.10"
    },
    "test_info": {
      "id": "a1e5ff072b903dd2203722c756f2a73ebd3a102b"
    }
  },
  "nbformat": 4,
  "nbformat_minor": 0
}
