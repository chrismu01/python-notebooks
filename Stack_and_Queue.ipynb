{
  "cells": [
    {
      "cell_type": "markdown",
      "metadata": {
        "deletable": false,
        "editable": false,
        "nbgrader": {
          "cell_type": "markdown",
          "checksum": "aab65d593a762ba6a1799e2b198655db",
          "grade": false,
          "grade_id": "cell-4c1b7dd7101b43f2",
          "locked": true,
          "schema_version": 3,
          "solution": false
        },
        "id": "OV6x1bFeiyaa"
      },
      "source": [
        "## Stacks, Queues, and Their Counting Versions\n",
        "\n",
        "A stack is a data structure with two operations: push, and pop.  Picture it as a pile of dishes sitting on a counter.  A push operation places a dish on top of the pile.  A pop operation returns the dish on top of the pile, or None if the pile is empty, that is, contains no dishes.  A \"dish\" can be any Python object.\n",
        "\n",
        "A queue is a data structure with two operations: put, and get.  Imagine it as a stack of books horizontally on a shelf.  A put operation adds the book to the left end of the books on the shelf; a get operation gets the book from the right end of the shelf.  \n",
        "\n",
        "Thus, the difference between a stack and a queue is that the stack is FILO (First In, Last Out), whereas the queue is FIFO (First In, First Out).  Elements in a stack are retrieved newest first.\n",
        "Elements in a queue are retrieved in the order they were put in, oldest first.\n",
        "\n",
        "We will implement here these data structures, with a small twist: we will also introduce _counting_ versions of them, which avoid keeping multiple identical copies of objects in a row.\n",
        "\n"
      ]
    },
    {
      "cell_type": "markdown",
      "metadata": {
        "deletable": false,
        "editable": false,
        "nbgrader": {
          "cell_type": "markdown",
          "checksum": "2c35fc0c0101d2f82d6e46e040f2eb5a",
          "grade": false,
          "grade_id": "cell-868484c0fbe28711",
          "locked": true,
          "schema_version": 3,
          "solution": false
        },
        "id": "3U6CSYz9iyab"
      },
      "source": [
        "Let us begin by implementing a plain vanilla stack."
      ]
    },
    {
      "cell_type": "code",
      "execution_count": null,
      "metadata": {
        "deletable": false,
        "editable": false,
        "nbgrader": {
          "cell_type": "code",
          "checksum": "d11e6ce4d0ced9e241230b6c7abb3121",
          "grade": false,
          "grade_id": "cell-f16c82af4881c860",
          "locked": true,
          "schema_version": 3,
          "solution": false
        },
        "id": "cnLfymOkiyab"
      },
      "outputs": [],
      "source": [
        "class Stack(object):\n",
        "\n",
        "    def __init__(self):\n",
        "        self.stack = []\n",
        "\n",
        "    def __repr__(self):\n",
        "        \"\"\"Defining a __repr__ function will enable us to print the\n",
        "        stack contents, and facilitate debugging.\"\"\"\n",
        "        return repr(self.stack) # Good enough.\n",
        "\n",
        "    def push(self, x):\n",
        "        \"\"\"The \"top\" of the stack is the end of the list.\"\"\"\n",
        "        self.stack.append(x)\n",
        "\n",
        "    def pop(self):\n",
        "        return self.stack.pop() if len(self.stack) > 0 else None\n",
        "\n",
        "    def isempty(self):\n",
        "        return len(self.stack) == 0\n",
        "\n",
        "    def __len__(self):\n",
        "        return len(self.stack)\n",
        "\n",
        "    def __iter__(self):\n",
        "        for el in self.stack:\n",
        "            yield el\n",
        "\n",
        "    def __getitem__(self, i):\n",
        "        return self.stack[i]\n",
        "\n",
        "    def __contains__(self, x):\n",
        "        return x in self.stack\n",
        "\n"
      ]
    },
    {
      "cell_type": "markdown",
      "metadata": {
        "deletable": false,
        "editable": false,
        "nbgrader": {
          "cell_type": "markdown",
          "checksum": "4a3d064411d1ae57565a057799998880",
          "grade": false,
          "grade_id": "cell-bfbbdf58de903e0d",
          "locked": true,
          "schema_version": 3,
          "solution": false
        },
        "id": "VwiUz6kOiyac"
      },
      "source": [
        "Let's see how this works."
      ]
    },
    {
      "cell_type": "code",
      "execution_count": null,
      "metadata": {
        "deletable": false,
        "editable": false,
        "nbgrader": {
          "cell_type": "code",
          "checksum": "dd303ff65947b605f1f5fef02acad988",
          "grade": false,
          "grade_id": "cell-e8a1876a85f046d8",
          "locked": true,
          "schema_version": 3,
          "solution": false
        },
        "colab": {
          "base_uri": "https://localhost:8080/"
        },
        "id": "167mdt1ziyad",
        "outputId": "e997aba0-37c1-492c-cd85-dbc67ddb3127"
      },
      "outputs": [
        {
          "output_type": "stream",
          "name": "stdout",
          "text": [
            "None\n",
            "b\n",
            "a\n",
            "None\n"
          ]
        }
      ],
      "source": [
        "s = Stack()\n",
        "print(s.pop())\n",
        "s.push('a')\n",
        "s.push('b')\n",
        "print(s.pop())\n",
        "print(s.pop())\n",
        "print(s.pop())\n"
      ]
    },
    {
      "cell_type": "markdown",
      "metadata": {
        "deletable": false,
        "editable": false,
        "nbgrader": {
          "cell_type": "markdown",
          "checksum": "9105cea62bd4455bd68fdb8ac846164c",
          "grade": false,
          "grade_id": "cell-98354b44f6e9e1f2",
          "locked": true,
          "schema_version": 3,
          "solution": false
        },
        "id": "BHqxnCcPiyae"
      },
      "source": [
        "Ok!  The definition of a queue is similar."
      ]
    },
    {
      "cell_type": "code",
      "execution_count": null,
      "metadata": {
        "deletable": false,
        "editable": false,
        "nbgrader": {
          "cell_type": "code",
          "checksum": "f10360976227221a47f96524a2bd4193",
          "grade": false,
          "grade_id": "cell-a2d923f1ab20491c",
          "locked": true,
          "schema_version": 3,
          "solution": false
        },
        "id": "y7utGVLCiyae"
      },
      "outputs": [],
      "source": [
        "class Queue(object):\n",
        "\n",
        "    def __init__(self):\n",
        "        self.queue = []\n",
        "\n",
        "    def __repr__(self):\n",
        "        \"\"\"Defining a __repr__ function will enable us to print the\n",
        "        queue contents, and facilitate debugging.\"\"\"\n",
        "        return repr(self.queue) # Good enough.\n",
        "\n",
        "    def add(self, x):\n",
        "        self.queue.append(x)\n",
        "\n",
        "    def get(self):\n",
        "        # This is the only difference compared to the stack above.\n",
        "        return self.queue.pop(0) if len(self.queue) > 0 else None\n",
        "\n",
        "    def isempty(self):\n",
        "        return len(self.queue) == 0\n",
        "\n",
        "    def __len__(self):\n",
        "        return len(self.queue)\n",
        "\n",
        "    def __iter__(self):\n",
        "        for el in self.queue:\n",
        "            yield el\n",
        "\n",
        "    def __getitem__(self, i):\n",
        "        return self.queue[i]\n",
        "\n",
        "    def __contains__(self, x):\n",
        "        return x in self.queue\n"
      ]
    },
    {
      "cell_type": "markdown",
      "metadata": {
        "deletable": false,
        "editable": false,
        "nbgrader": {
          "cell_type": "markdown",
          "checksum": "b15001f213a473801be3f2f964785d60",
          "grade": false,
          "grade_id": "cell-ad791f8e395af443",
          "locked": true,
          "schema_version": 3,
          "solution": false
        },
        "id": "O_cgTJZHiyaf"
      },
      "source": [
        "Let's see how it works."
      ]
    },
    {
      "cell_type": "code",
      "execution_count": null,
      "metadata": {
        "deletable": false,
        "editable": false,
        "nbgrader": {
          "cell_type": "code",
          "checksum": "1312c34b4b4b36546ec4ff873846fefc",
          "grade": false,
          "grade_id": "cell-5f6828c8063b93fd",
          "locked": true,
          "schema_version": 3,
          "solution": false
        },
        "colab": {
          "base_uri": "https://localhost:8080/"
        },
        "id": "O9mwlqFMiyaf",
        "outputId": "b9748c75-2c4c-435f-8298-302c7ad394f9"
      },
      "outputs": [
        {
          "output_type": "stream",
          "name": "stdout",
          "text": [
            "None\n",
            "a\n",
            "b\n",
            "None\n"
          ]
        }
      ],
      "source": [
        "s = Queue()\n",
        "print(s.get())\n",
        "s.add('a')\n",
        "s.add('b')\n",
        "print(s.get())\n",
        "print(s.get())\n",
        "print(s.get())\n"
      ]
    },
    {
      "cell_type": "markdown",
      "metadata": {
        "deletable": false,
        "editable": false,
        "nbgrader": {
          "cell_type": "markdown",
          "checksum": "7e5021c019116e562a21d675de52f78d",
          "grade": false,
          "grade_id": "cell-8d1602d04a73b2c0",
          "locked": true,
          "schema_version": 3,
          "solution": false
        },
        "id": "oc2jgYSTiyag"
      },
      "source": [
        "As you see, in a queue, the elements are retrieved in the same order in which they were added."
      ]
    },
    {
      "cell_type": "markdown",
      "metadata": {
        "deletable": false,
        "editable": false,
        "nbgrader": {
          "cell_type": "markdown",
          "checksum": "6b18f08512f5fb97a368b1dc057ec786",
          "grade": false,
          "grade_id": "cell-6a3150a7e55fb3a7",
          "locked": true,
          "schema_version": 3,
          "solution": false
        },
        "id": "W-mES0tuiyag"
      },
      "source": [
        "Python experts might note that, for a queue, we would do better by using the [`collections.deque` class](https://docs.python.org/3.7/library/collections.html#collections.deque), rather than the list class, to make the `pop(0)` operation more efficient; in lists, it takes time proportional to the length of the list; in deques, it takes constant time.  For small lists, however, the difference is negligible.\n"
      ]
    },
    {
      "cell_type": "markdown",
      "metadata": {
        "deletable": false,
        "editable": false,
        "nbgrader": {
          "cell_type": "markdown",
          "checksum": "a26fc7a3d0227ae7ea154c6a2eb72fab",
          "grade": false,
          "grade_id": "cell-cef17b92cfc00ae1",
          "locked": true,
          "schema_version": 3,
          "solution": false
        },
        "id": "BcxyLgB9iyah"
      },
      "source": [
        "We now consider a use case in which we may need to put in the queue or stack many repeated copies of the same object.  For instance, assume that the queue is used to store events, and assume that some event may end up being repeated many times in a row.  As an example, the events can be \"s\", for the tick of a second, \"m\", when the minute advances, and \"h\", when the hour advances.  There will be 60 consecutive \"s\" events between any two \"m\" events, and it seems a waste to store so many consecutive identical events.  Storing many identical things in a row is akin to counting in unary notation, after all.  We would be better off storing the repeated elements only once, along with a count of the number of times they occur.  Let's develop a queue using this idea (a stack can be done similarly)."
      ]
    },
    {
      "cell_type": "code",
      "execution_count": null,
      "metadata": {
        "deletable": false,
        "editable": false,
        "nbgrader": {
          "cell_type": "code",
          "checksum": "a17e4bf0df4e1ab7fdf8bfaad34538d7",
          "grade": false,
          "grade_id": "cell-ca9ab1ca205306e9",
          "locked": true,
          "schema_version": 3,
          "solution": false
        },
        "id": "6WY6HNw7iyah"
      },
      "outputs": [],
      "source": [
        "class CountingQueue(object):\n",
        "\n",
        "    def __init__(self):\n",
        "        self.queue = []\n",
        "\n",
        "    def __repr__(self):\n",
        "        return repr(self.queue)\n",
        "\n",
        "    def add(self, x, count=1):\n",
        "        # If the element is the same as the last element, we simply\n",
        "        # increment the count.  This assumes we can test equality of\n",
        "        # elements.\n",
        "        if len(self.queue) > 0:\n",
        "            xx, cc = self.queue[-1]\n",
        "            if xx == x:\n",
        "                self.queue[-1] = (xx, cc + count)\n",
        "            else:\n",
        "                self.queue.append((x, count))\n",
        "        else:\n",
        "            self.queue = [(x, count)]\n",
        "\n",
        "    def get(self):\n",
        "        if len(self.queue) == 0:\n",
        "            return None\n",
        "        x, c = self.queue[0]\n",
        "        if c == 1:\n",
        "            self.queue.pop(0)\n",
        "            return x\n",
        "        else:\n",
        "            self.queue[0] = (x, c - 1)\n",
        "            return x\n",
        "\n",
        "    def isempty(self):\n",
        "        # Since the count of an element is never 0, we can just check\n",
        "        # whether the queue is empty.\n",
        "        return len(self.queue) == 0\n"
      ]
    },
    {
      "cell_type": "markdown",
      "metadata": {
        "deletable": false,
        "editable": false,
        "nbgrader": {
          "cell_type": "markdown",
          "checksum": "5e92743e6f934c503a710615856ff028",
          "grade": false,
          "grade_id": "cell-f4e382a53beba84",
          "locked": true,
          "schema_version": 3,
          "solution": false
        },
        "id": "aMaSKoz3iyai"
      },
      "source": [
        "Let's put this to the same test as before, printing the queue contents at each step to see what is going on."
      ]
    },
    {
      "cell_type": "code",
      "execution_count": null,
      "metadata": {
        "deletable": false,
        "editable": false,
        "nbgrader": {
          "cell_type": "code",
          "checksum": "144f4b58fdf74f1dd762d0ff1dfdac67",
          "grade": false,
          "grade_id": "cell-25c42980a1d5cecd",
          "locked": true,
          "schema_version": 3,
          "solution": false
        },
        "colab": {
          "base_uri": "https://localhost:8080/"
        },
        "id": "h_qq8ayJiyai",
        "outputId": "b310a94e-8834-4737-dddd-683008d1c5f6"
      },
      "outputs": [
        {
          "output_type": "stream",
          "name": "stdout",
          "text": [
            "[('a', 1)]\n",
            "[('a', 1), ('b', 5)]\n",
            "[('a', 1), ('b', 5), ('c', 2)]\n",
            "a\n",
            "[('b', 5), ('c', 2)]\n",
            "b\n",
            "[('b', 4), ('c', 2)]\n",
            "b\n",
            "[('b', 3), ('c', 2)]\n",
            "b\n",
            "[('b', 2), ('c', 2)]\n",
            "b\n",
            "[('b', 1), ('c', 2)]\n",
            "b\n",
            "[('c', 2)]\n",
            "c\n",
            "[('c', 1)]\n",
            "c\n",
            "[]\n"
          ]
        }
      ],
      "source": [
        "q = CountingQueue()\n",
        "q.add('a')\n",
        "print(q)\n",
        "q.add('b', count=5)\n",
        "print(q)\n",
        "q.add('c', count=2)\n",
        "print(q)\n",
        "while not q.isempty():\n",
        "    print(q.get())\n",
        "    print(q)\n"
      ]
    },
    {
      "cell_type": "markdown",
      "metadata": {
        "deletable": false,
        "editable": false,
        "nbgrader": {
          "cell_type": "markdown",
          "checksum": "bad3305fae785ae56f7151bd4337a5dc",
          "grade": false,
          "grade_id": "cell-5219bdfbf31b972f",
          "locked": true,
          "schema_version": 3,
          "solution": false
        },
        "id": "yFVDuRNBiyai"
      },
      "source": [
        "It works!  And notice that it works even if we add elements one by one."
      ]
    },
    {
      "cell_type": "code",
      "execution_count": null,
      "metadata": {
        "deletable": false,
        "editable": false,
        "nbgrader": {
          "cell_type": "code",
          "checksum": "224c853295555fa6a96fb83afccb3a55",
          "grade": false,
          "grade_id": "cell-227123e097714c77",
          "locked": true,
          "schema_version": 3,
          "solution": false
        },
        "colab": {
          "base_uri": "https://localhost:8080/"
        },
        "id": "3bHDvV2uiyaj",
        "outputId": "cf2e91f1-10cf-4c81-dadc-6e07d9668bd8"
      },
      "outputs": [
        {
          "output_type": "stream",
          "name": "stdout",
          "text": [
            "[('a', 10), ('b', 1), ('c', 6)]\n"
          ]
        }
      ],
      "source": [
        "q = CountingQueue()\n",
        "for i in range(10):\n",
        "    q.add('a')\n",
        "q.add('b')\n",
        "for i in range(3):\n",
        "    q.add('c', count=2)\n",
        "print(q)\n"
      ]
    },
    {
      "cell_type": "markdown",
      "metadata": {
        "deletable": false,
        "editable": false,
        "nbgrader": {
          "cell_type": "markdown",
          "checksum": "23e70fe5dae71412ad1a060701dc3856",
          "grade": false,
          "grade_id": "cell-fb8d012634f22e79",
          "locked": true,
          "schema_version": 3,
          "solution": false
        },
        "id": "b2vgPjXbiyaj"
      },
      "source": [
        "## CountingQueue\n",
        "\n",
        "I will now implement the following methods for `CountingQueue`:\n",
        "\n",
        "* `__len__`\n",
        "* `__iter__`\n",
        "* `__in__`\n",
        "* `__getitem__`\n",
        "\n",
        "My goal is to have `CountingQueue` behave exactly like `Queue` to an outside user: the objects have to be different only due to their internal implementation.  So for instance, `__len__` must return the number of elements, including repetitions; not the number of (element, count) pairs in `self.queue`.\n"
      ]
    },
    {
      "cell_type": "code",
      "execution_count": null,
      "metadata": {
        "deletable": false,
        "editable": false,
        "nbgrader": {
          "cell_type": "code",
          "checksum": "99d7d48f0c117db75f686c4fac4ac686",
          "grade": false,
          "grade_id": "cell-831059b9e5b12fac",
          "locked": true,
          "schema_version": 3,
          "solution": false
        },
        "id": "zt7faVoIiyaj"
      },
      "outputs": [],
      "source": [
        "def counting_queue_peek(self):\n",
        "    if len(self.queue) == 0:\n",
        "        return None\n",
        "    el, _ = self.queue[0]\n",
        "    return el\n",
        "\n",
        "CountingQueue.peek = counting_queue_peek\n"
      ]
    },
    {
      "cell_type": "markdown",
      "metadata": {
        "deletable": false,
        "editable": false,
        "nbgrader": {
          "cell_type": "markdown",
          "checksum": "843de006eaffb5f6f0cd5134a4a8b886",
          "grade": false,
          "grade_id": "cell-d097f16bd3b97759",
          "locked": true,
          "schema_version": 3,
          "solution": false
        },
        "id": "YpnrRoYbiyak"
      },
      "source": [
        "In other words, we first create a function (in this case `counting_queue_peek`) and then we assign it to the method `peek` of `CountingQueue`.  It's a bit unusual, but it works, and it relieves us from the task of redefining the class each time we need a new method."
      ]
    },
    {
      "cell_type": "code",
      "execution_count": null,
      "metadata": {
        "deletable": false,
        "editable": false,
        "nbgrader": {
          "cell_type": "code",
          "checksum": "4f5b91c0a8c95cbf0e8af9e68d42f71c",
          "grade": false,
          "grade_id": "cell-6b7937068e3dab96",
          "locked": true,
          "schema_version": 3,
          "solution": false
        },
        "colab": {
          "base_uri": "https://localhost:8080/",
          "height": 35
        },
        "id": "RQOJRWTviyak",
        "outputId": "b80917e9-b91a-4d76-a280-ec3465f3a343"
      },
      "outputs": [
        {
          "output_type": "execute_result",
          "data": {
            "text/plain": [
              "'cat'"
            ],
            "application/vnd.google.colaboratory.intrinsic+json": {
              "type": "string"
            }
          },
          "metadata": {},
          "execution_count": 120
        }
      ],
      "source": [
        "q = CountingQueue()\n",
        "q.add(\"cat\")\n",
        "q.add(\"dog\")\n",
        "q.peek()\n"
      ]
    },
    {
      "cell_type": "markdown",
      "metadata": {
        "deletable": false,
        "editable": false,
        "nbgrader": {
          "cell_type": "markdown",
          "checksum": "5d0c5f107ca2d541aed057dbfa337309",
          "grade": false,
          "grade_id": "cell-61e1f36df52c4096",
          "locked": true,
          "schema_version": 3,
          "solution": false
        },
        "id": "AtyDCVMmiyak"
      },
      "source": [
        "### `__len__`"
      ]
    },
    {
      "cell_type": "code",
      "execution_count": null,
      "metadata": {
        "deletable": false,
        "nbgrader": {
          "cell_type": "code",
          "checksum": "3b62bc981fe09198ac1915d672b1b9db",
          "grade": false,
          "grade_id": "cell-6fabfacc4647b44f",
          "locked": false,
          "schema_version": 3,
          "solution": true
        },
        "id": "OkQk99Yqiyak"
      },
      "outputs": [],
      "source": [
        "def counting_queue_len(self):\n",
        "    l = 0\n",
        "    if len(self.queue) == 0:\n",
        "      return 0\n",
        "\n",
        "    else:\n",
        "      for x,y in self.queue:\n",
        "        l = l + y\n",
        "    return l\n",
        "\n",
        "\n",
        "\n",
        "\n",
        "CountingQueue.__len__ = counting_queue_len\n",
        "\n"
      ]
    },
    {
      "cell_type": "code",
      "execution_count": null,
      "metadata": {
        "deletable": false,
        "editable": false,
        "nbgrader": {
          "cell_type": "code",
          "checksum": "36a0dc8723cc071d51d6ef77f6bfd456",
          "grade": false,
          "grade_id": "cell-aa2b71690c707ef",
          "locked": true,
          "schema_version": 3,
          "solution": false
        },
        "id": "1wC5j-Exiyal",
        "colab": {
          "base_uri": "https://localhost:8080/"
        },
        "outputId": "5de73349-a0c3-444a-fd94-755e3bb849c4"
      },
      "outputs": [
        {
          "output_type": "stream",
          "name": "stdout",
          "text": [
            "[('cat', 1), ('dog', 1)]\n",
            "[('cat', 1), ('dog', 1)]\n"
          ]
        }
      ],
      "source": [
        "# Simple tests\n",
        "\n",
        "q = CountingQueue()\n",
        "assert len(q) == 0\n",
        "q.add(\"cat\")\n",
        "q.add(\"dog\")\n",
        "assert len(q) == 2\n",
        "\n",
        "print(q)\n",
        "print(q.queue)"
      ]
    },
    {
      "cell_type": "code",
      "execution_count": null,
      "metadata": {
        "deletable": false,
        "editable": false,
        "nbgrader": {
          "cell_type": "code",
          "checksum": "527cd5092e8dcbefd7bc3ead90654eb7",
          "grade": true,
          "grade_id": "cell-1ec447dc2a0cf8b",
          "locked": true,
          "points": 5,
          "schema_version": 3,
          "solution": false,
          "task": false
        },
        "id": "y_Lc1S7hiyal"
      },
      "outputs": [],
      "source": [
        "# More complicated tests.\n",
        "\n",
        "q = CountingQueue()\n",
        "assert len(q) == 0\n",
        "q.add(\"cat\")\n",
        "q.add(\"cat\")\n",
        "assert len(q.queue) == 1\n",
        "assert len(q) == 2\n",
        "q.add(\"dog\")\n",
        "assert len(q) == 3\n",
        "assert len(q.queue) == 2\n",
        "q.add(\"dog\")\n",
        "assert len(q) == 4\n",
        "assert len(q) == 4 # Hey, just in case you went for the quantum-mechanical solution ;-)\n",
        "assert len(q) == 4\n",
        "assert len(q.queue) == 2"
      ]
    },
    {
      "cell_type": "code",
      "execution_count": null,
      "metadata": {
        "deletable": false,
        "editable": false,
        "nbgrader": {
          "cell_type": "code",
          "checksum": "fc8b118c8694fa1fe561cb8bcb93e9ae",
          "grade": true,
          "grade_id": "cell-9f4c9bd0588035d5",
          "locked": true,
          "points": 5,
          "schema_version": 3,
          "solution": false,
          "task": false
        },
        "id": "GBnVPBuBiyal"
      },
      "outputs": [],
      "source": [
        "# Works same as Queue.\n",
        "\n",
        "import random\n",
        "\n",
        "for k in range(100):\n",
        "    q0 = Queue()\n",
        "    q1 = CountingQueue()\n",
        "    for _ in range(100):\n",
        "        el = random.choice([\"a\", \"b\", \"c\"])\n",
        "        q0.add(el)\n",
        "        q1.add(el)\n",
        "        assert len(q0) == len(q1)\n",
        "        assert len(q0.queue) >= len(q1.queue)\n"
      ]
    },
    {
      "cell_type": "markdown",
      "metadata": {
        "deletable": false,
        "editable": false,
        "nbgrader": {
          "cell_type": "markdown",
          "checksum": "10a3075eb18f30682711e544bce4fc55",
          "grade": false,
          "grade_id": "cell-21ced1b955af3345",
          "locked": true,
          "schema_version": 3,
          "solution": false
        },
        "id": "_U_Y1cxmiyal"
      },
      "source": [
        "### `__iter__`"
      ]
    },
    {
      "cell_type": "code",
      "execution_count": null,
      "metadata": {
        "deletable": false,
        "nbgrader": {
          "cell_type": "code",
          "checksum": "80d21fd64c901fadc8c853ccfb2d837b",
          "grade": false,
          "grade_id": "cell-d6db04c8257ccd76",
          "locked": false,
          "schema_version": 3,
          "solution": true
        },
        "id": "WJfl-e3Ziyal"
      },
      "outputs": [],
      "source": [
        "def counting_queue_iter(self):\n",
        "  len_queue = len(self.queue)\n",
        "  for i in range(len_queue):\n",
        "    numb_iters = self.queue[i][1]\n",
        "    for iters in range(numb_iters):\n",
        "      name = self.queue[i][0]\n",
        "      yield name\n",
        "\n",
        "\n",
        "\n",
        "\n",
        "CountingQueue.__iter__ = counting_queue_iter\n"
      ]
    },
    {
      "cell_type": "code",
      "execution_count": null,
      "metadata": {
        "deletable": false,
        "editable": false,
        "nbgrader": {
          "cell_type": "code",
          "checksum": "20bf6bb46b20ce71a24980d67883e43f",
          "grade": true,
          "grade_id": "cell-2573ce8e15eb2b62",
          "locked": true,
          "points": 5,
          "schema_version": 3,
          "solution": false,
          "task": false
        },
        "id": "Q2kheG1hiyam"
      },
      "outputs": [],
      "source": [
        "# Simple tests.\n",
        "\n",
        "q = CountingQueue()\n",
        "q.add(\"cat\", count=2)\n",
        "q.add(\"dog\", count=3)\n",
        "assert [x for x in q] == [\"cat\"] * 2 + [\"dog\"] * 3\n"
      ]
    },
    {
      "cell_type": "code",
      "execution_count": null,
      "metadata": {
        "deletable": false,
        "editable": false,
        "nbgrader": {
          "cell_type": "code",
          "checksum": "f551fc92f751c43378b009b5115cf9cf",
          "grade": true,
          "grade_id": "cell-8730baa8d2f71439",
          "locked": true,
          "points": 5,
          "schema_version": 3,
          "solution": false,
          "task": false
        },
        "id": "Cnf7ZV-Jiyam"
      },
      "outputs": [],
      "source": [
        "# Works the same as queue.\n",
        "\n",
        "for k in range(100):\n",
        "    q0 = Queue()\n",
        "    q1 = CountingQueue()\n",
        "    for _ in range(100):\n",
        "        el = random.choice([\"a\", \"b\", \"c\"])\n",
        "        q0.add(el)\n",
        "        q1.add(el)\n",
        "        assert [x for x in q0] == [x for x in q1]\n"
      ]
    },
    {
      "cell_type": "markdown",
      "metadata": {
        "deletable": false,
        "editable": false,
        "nbgrader": {
          "cell_type": "markdown",
          "checksum": "6f2081c046bcce16a54b83a2d828da2d",
          "grade": false,
          "grade_id": "cell-271baccde1d7083d",
          "locked": true,
          "schema_version": 3,
          "solution": false
        },
        "id": "McXRRNfAiyam"
      },
      "source": [
        "### `__in__`"
      ]
    },
    {
      "cell_type": "code",
      "execution_count": null,
      "metadata": {
        "deletable": false,
        "nbgrader": {
          "cell_type": "code",
          "checksum": "4bee779afd375b89c07055e2d491b1b2",
          "grade": false,
          "grade_id": "cell-8049486205ec67b3",
          "locked": false,
          "schema_version": 3,
          "solution": true
        },
        "id": "hhcOo13Diyan"
      },
      "outputs": [],
      "source": [
        "def counting_queue_in(self, el):\n",
        "  for x,y in self.queue:\n",
        "    if el == x:\n",
        "      if y > 0:\n",
        "        return True\n",
        "    else:\n",
        "      return False\n",
        "\n",
        "\n",
        "CountingQueue.__in__ = counting_queue_in\n"
      ]
    },
    {
      "cell_type": "code",
      "execution_count": null,
      "metadata": {
        "deletable": false,
        "editable": false,
        "nbgrader": {
          "cell_type": "code",
          "checksum": "d4b30010d4d1a8827652a1b681e193fd",
          "grade": false,
          "grade_id": "cell-d86da0fb106b437",
          "locked": true,
          "schema_version": 3,
          "solution": false
        },
        "id": "ud9RtdF_iyan"
      },
      "outputs": [],
      "source": [
        "# Simple cases.\n",
        "\n",
        "q = CountingQueue()\n",
        "assert \"cat\" not in q\n",
        "q.add(\"cat\", count=2)\n",
        "assert \"cat\" in q\n",
        "assert \"dog\" not in q\n",
        "q.add(\"dog\")\n",
        "assert \"cat\" in q\n",
        "assert \"dog\" in q\n",
        "q.get()\n",
        "assert \"cat\" in q\n",
        "assert \"dog\" in q\n",
        "q.get()\n",
        "assert \"cat\" not in q\n",
        "assert \"dog\" in q\n",
        "q.get()\n",
        "assert \"cat\" not in q\n",
        "assert \"dog\" not in q\n"
      ]
    },
    {
      "cell_type": "code",
      "execution_count": null,
      "metadata": {
        "deletable": false,
        "editable": false,
        "nbgrader": {
          "cell_type": "code",
          "checksum": "4a9eb222488e8a0335b1a7e76f353d4e",
          "grade": false,
          "grade_id": "cell-c772e6bd67719908",
          "locked": true,
          "schema_version": 3,
          "solution": false
        },
        "id": "GSowkVuOiyan"
      },
      "outputs": [],
      "source": [
        "# Behaves the same as Queue.\n",
        "\n",
        "elements = range(5)\n",
        "for k in range(100):\n",
        "    q0 = Queue()\n",
        "    q1 = CountingQueue()\n",
        "    for _ in range(20):\n",
        "        el = random.choice(elements)\n",
        "        q0.add(el)\n",
        "        q1.add(el)\n",
        "        for x in elements:\n",
        "            assert (x in q0) == (x in q1)\n"
      ]
    },
    {
      "cell_type": "markdown",
      "metadata": {
        "deletable": false,
        "editable": false,
        "nbgrader": {
          "cell_type": "markdown",
          "checksum": "3f6e65ae13172ab60ffd7d22f115bb9c",
          "grade": false,
          "grade_id": "cell-3a85c188bace884f",
          "locked": true,
          "schema_version": 3,
          "solution": false
        },
        "id": "-717abnCiyan"
      },
      "source": [
        "### `__getitem__`"
      ]
    },
    {
      "cell_type": "code",
      "execution_count": null,
      "metadata": {
        "deletable": false,
        "nbgrader": {
          "cell_type": "code",
          "checksum": "c0d9c92951bbeb273846ce08bcac8c7f",
          "grade": false,
          "grade_id": "cell-407f2f27970adace",
          "locked": false,
          "schema_version": 3,
          "solution": true
        },
        "id": "kAzk-nVZiyan"
      },
      "outputs": [],
      "source": [
        "def counting_queue_getitem(self, n):\n",
        "    lis = []\n",
        "    for x,y in self.queue:\n",
        "      count = 0\n",
        "      while count != y:\n",
        "        lis.append(x)\n",
        "        count = count + 1\n",
        "    return lis[n]\n",
        "\n",
        "CountingQueue.__getitem__ = counting_queue_getitem\n"
      ]
    },
    {
      "cell_type": "code",
      "execution_count": null,
      "metadata": {
        "deletable": false,
        "editable": false,
        "nbgrader": {
          "cell_type": "code",
          "checksum": "225cfdba714ce1ac324d349f73b77e06",
          "grade": true,
          "grade_id": "cell-6e1029cf13341b52",
          "locked": true,
          "points": 5,
          "schema_version": 3,
          "solution": false,
          "task": false
        },
        "id": "lXAwOcLbiyar"
      },
      "outputs": [],
      "source": [
        "# simple tests.\n",
        "\n",
        "q = CountingQueue()\n",
        "q.add(\"cat\", count=2)\n",
        "q.add(\"dog\", count=3)\n",
        "q.add(\"bird\", count=4)\n",
        "els = [q[i] for i in range(9)]\n",
        "assert els == ['cat'] * 2 + ['dog'] * 3 + ['bird'] * 4\n",
        "# Let's do it again.\n",
        "els = [q[i] for i in range(9)]\n",
        "assert els == ['cat'] * 2 + ['dog'] * 3 + ['bird'] * 4\n"
      ]
    },
    {
      "cell_type": "code",
      "execution_count": null,
      "metadata": {
        "deletable": false,
        "editable": false,
        "nbgrader": {
          "cell_type": "code",
          "checksum": "90939e30c14549108cb95ab07e3ff1ad",
          "grade": true,
          "grade_id": "cell-4de5186524753876",
          "locked": true,
          "points": 10,
          "schema_version": 3,
          "solution": false
        },
        "id": "iRxjUCIKiyar"
      },
      "outputs": [],
      "source": [
        "# raise IndexError when accessing elements out of bounds.\n",
        "\n",
        "q = CountingQueue()\n",
        "q.add(\"cat\", count=2)\n",
        "q.add(\"dog\", count=3)\n",
        "\n",
        "# Raise IndexError when it's too high...\n",
        "try:\n",
        "    q[5]\n",
        "    assert False, \"Failed to raise IndexError\"\n",
        "except IndexError:\n",
        "    pass\n",
        "assert q[4] == \"dog\"\n",
        "try:\n",
        "    q[5]\n",
        "    assert False, \"Failed to raise IndexError\"\n",
        "except IndexError:\n",
        "    pass\n",
        "\n",
        "# And also when it's too low.\n",
        "try:\n",
        "    q[-10]\n",
        "    assert False, \"Failed to raise IndexError\"\n",
        "except IndexError:\n",
        "    pass\n",
        "\n",
        "# or too large:\n",
        "try:\n",
        "    q[10]\n",
        "    assert False, \"Failed to raise IndexError\"\n",
        "except IndexError:\n",
        "    pass\n",
        "\n",
        "# And raise TypeError if you try to index with a non-integer.\n",
        "try:\n",
        "    q[\"hello\"]\n",
        "    assert False, \"Failed to raise TypeError\"\n",
        "except TypeError:\n",
        "    pass\n",
        "\n"
      ]
    },
    {
      "cell_type": "code",
      "execution_count": null,
      "metadata": {
        "deletable": false,
        "editable": false,
        "nbgrader": {
          "cell_type": "code",
          "checksum": "1b4ee6d38a7509f189e031b2e05c5253",
          "grade": false,
          "grade_id": "cell-3c1254659deefae2",
          "locked": true,
          "schema_version": 3,
          "solution": false
        },
        "id": "abBDMP0Kiyas"
      },
      "outputs": [],
      "source": [
        "# Behaves the same as Queue.\n",
        "\n",
        "elements = range(3)\n",
        "for k in range(100):\n",
        "    q0 = Queue()\n",
        "    q1 = CountingQueue()\n",
        "    for m in range(40):\n",
        "        el = random.choice(elements)\n",
        "        q0.add(el)\n",
        "        q1.add(el)\n",
        "        for i in range(m):\n",
        "            assert q0[i] == q1[i]\n"
      ]
    }
  ],
  "metadata": {
    "colab": {
      "provenance": []
    },
    "kernelspec": {
      "display_name": "Python 3",
      "language": "python",
      "name": "python3"
    },
    "language_info": {
      "codemirror_mode": {
        "name": "ipython",
        "version": 3
      },
      "file_extension": ".py",
      "mimetype": "text/x-python",
      "name": "python",
      "nbconvert_exporter": "python",
      "pygments_lexer": "ipython3",
      "version": "3.8.10"
    },
    "test_info": {
      "id": "a1e5ff072b903dd2203722c756f2a73ebd3a102b"
    }
  },
  "nbformat": 4,
  "nbformat_minor": 0
}