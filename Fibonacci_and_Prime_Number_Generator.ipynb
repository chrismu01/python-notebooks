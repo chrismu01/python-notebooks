{
  "cells": [
    {
      "cell_type": "markdown",
      "id": "00e81e1a",
      "metadata": {
        "deletable": false,
        "editable": false,
        "nbgrader": {
          "cell_type": "markdown",
          "checksum": "bebdcd190a9758f637162dd06bd230df",
          "grade": false,
          "grade_id": "cell-af595900ce4fa445",
          "locked": true,
          "schema_version": 3,
          "solution": false
        },
        "id": "00e81e1a"
      },
      "source": [
        "## Fibonacci Number Generator\n",
        "\n",
        "A generator that returns the [Fibonacci numbers](https://en.wikipedia.org/wiki/Fibonacci_number): 0, 1, 1, 2, 3, 5, and so on."
      ]
    },
    {
      "cell_type": "code",
      "execution_count": null,
      "id": "87bbfcd7",
      "metadata": {
        "deletable": false,
        "nbgrader": {
          "cell_type": "code",
          "checksum": "bccacd51dd3715c08ef96f58f3b6ff3e",
          "grade": false,
          "grade_id": "cell-f2339931ffc47c3e",
          "locked": false,
          "schema_version": 3,
          "solution": true
        },
        "id": "87bbfcd7"
      },
      "outputs": [],
      "source": [
        "def fibonacci_generator():\n",
        "    \"\"\"Generates all Fibonacci numbers.\"\"\"\n",
        "    yield 0\n",
        "    yield 1\n",
        "    before1 = 0\n",
        "    before2 = 1\n",
        "    add_togeth = 1\n",
        "    while True:\n",
        "      add_togeth = before1 + before2\n",
        "      before1 = before2\n",
        "      before2 = add_togeth\n",
        "      yield add_togeth\n",
        "\n",
        "\n",
        "\n"
      ]
    },
    {
      "cell_type": "code",
      "execution_count": null,
      "id": "db282255",
      "metadata": {
        "deletable": false,
        "editable": false,
        "nbgrader": {
          "cell_type": "code",
          "checksum": "6f81789095396b248729ce97a374d57d",
          "grade": false,
          "grade_id": "cell-ab564a9255baa09d",
          "locked": true,
          "schema_version": 3,
          "solution": false
        },
        "id": "db282255"
      },
      "outputs": [],
      "source": [
        "r = []\n",
        "for n in fibonacci_generator():\n",
        "    r.append(n)\n",
        "    if n > 100:\n",
        "        break\n",
        "assert r == [0, 1, 1, 2, 3, 5, 8, 13, 21, 34, 55, 89, 144]\n"
      ]
    },
    {
      "cell_type": "markdown",
      "id": "a48903bf",
      "metadata": {
        "deletable": false,
        "editable": false,
        "nbgrader": {
          "cell_type": "markdown",
          "checksum": "9e20ee60bab238d600bc10db09f46af9",
          "grade": false,
          "grade_id": "cell-7fc3f40698ed75a2",
          "locked": true,
          "schema_version": 3,
          "solution": false
        },
        "id": "a48903bf"
      },
      "source": [
        "## Prime Number Generator\n",
        "\n",
        "A generator that returns all the prime numbers.  The idea is to loop over all positive integers, test each one to see if it is prime, and if it is, `yield` it."
      ]
    },
    {
      "cell_type": "code",
      "execution_count": null,
      "id": "06d7847b",
      "metadata": {
        "deletable": false,
        "nbgrader": {
          "cell_type": "code",
          "checksum": "d9043f7193fec128e645e57ba1feefde",
          "grade": false,
          "grade_id": "cell-4644591f6609c59d",
          "locked": false,
          "schema_version": 3,
          "solution": true
        },
        "id": "06d7847b"
      },
      "outputs": [],
      "source": [
        "def prime_number_generator():\n",
        "    \"\"\"This generator returns all prime numbers.\"\"\"\n",
        "    count = 2\n",
        "    primenum = True\n",
        "    for i in range(2,10):\n",
        "      if count % i == 0:\n",
        "        primenum = False\n",
        "        break\n",
        "    if primenum == True:\n",
        "      yield count\n",
        "    count += 1\n"
      ]
    },
    {
      "cell_type": "code",
      "execution_count": null,
      "id": "015a9dfd",
      "metadata": {
        "deletable": false,
        "editable": false,
        "nbgrader": {
          "cell_type": "code",
          "checksum": "a22578cc56b0eb3aaed99e1602fe8521",
          "grade": false,
          "grade_id": "cell-df48b93dd1adb80c",
          "locked": true,
          "schema_version": 3,
          "solution": false
        },
        "id": "015a9dfd"
      },
      "outputs": [],
      "source": [
        "initial_primes = [2, 3, 5, 7, 11, 13, 17, 19, 23]\n",
        "\n",
        "idx = 0\n",
        "for p in prime_number_generator():\n",
        "    assert p == initial_primes[idx]\n",
        "    idx += 1\n",
        "    if idx == len(initial_primes):\n",
        "        break\n"
      ]
    }
  ],
  "metadata": {
    "kernelspec": {
      "display_name": "Python 3",
      "language": "python",
      "name": "python3"
    },
    "language_info": {
      "codemirror_mode": {
        "name": "ipython",
        "version": 3
      },
      "file_extension": ".py",
      "mimetype": "text/x-python",
      "name": "python",
      "nbconvert_exporter": "python",
      "pygments_lexer": "ipython3",
      "version": "3.8.10"
    },
    "test_info": {
      "id": "a1e5ff072b903dd2203722c756f2a73ebd3a102b"
    },
    "colab": {
      "provenance": []
    }
  },
  "nbformat": 4,
  "nbformat_minor": 5
}